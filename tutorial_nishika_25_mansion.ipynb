{
  "nbformat": 4,
  "nbformat_minor": 0,
  "metadata": {
    "language_info": {
      "codemirror_mode": {
        "name": "ipython",
        "version": 3
      },
      "file_extension": ".py",
      "mimetype": "text/x-python",
      "name": "python",
      "nbconvert_exporter": "python",
      "pygments_lexer": "ipython3",
      "version": "3.7.7-final"
    },
    "orig_nbformat": 2,
    "kernelspec": {
      "name": "python3",
      "display_name": "Python 3",
      "language": "python"
    },
    "colab": {
      "name": "tutorial_nishika_25_mansion.ipynb",
      "provenance": [],
      "collapsed_sections": [],
      "include_colab_link": true
    }
  },
  "cells": [
    {
      "cell_type": "markdown",
      "metadata": {
        "id": "view-in-github",
        "colab_type": "text"
      },
      "source": [
        "<a href=\"https://colab.research.google.com/github/ymkge/competiton/blob/main/tutorial_nishika_25_mansion.ipynb\" target=\"_parent\"><img src=\"https://colab.research.google.com/assets/colab-badge.svg\" alt=\"Open In Colab\"/></a>"
      ]
    },
    {
      "cell_type": "markdown",
      "metadata": {
        "id": "Jvzp1lvQpRgU"
      },
      "source": [
        "不動産価格予測"
      ]
    },
    {
      "cell_type": "code",
      "metadata": {
        "colab": {
          "base_uri": "https://localhost:8080/"
        },
        "id": "mTfOenlQpgwk",
        "outputId": "a2044bc1-da5a-4b4d-a218-7e37acd7880e"
      },
      "source": [
        "from google.colab import drive\n",
        "drive.mount('/content/drive')"
      ],
      "execution_count": null,
      "outputs": [
        {
          "output_type": "stream",
          "name": "stdout",
          "text": [
            "Mounted at /content/drive\n"
          ]
        }
      ]
    },
    {
      "cell_type": "code",
      "metadata": {
        "id": "iOCruR1kmgaW"
      },
      "source": [
        "# ご自身のパスを設定\n",
        "YOUR_PATH = \"\""
      ],
      "execution_count": null,
      "outputs": []
    },
    {
      "cell_type": "code",
      "metadata": {
        "id": "ocj0d3_WpgXk",
        "colab": {
          "base_uri": "https://localhost:8080/"
        },
        "outputId": "729e1045-ff41-40f7-9012-84255571dd05"
      },
      "source": [
        "cd {YOUR_PATH}"
      ],
      "execution_count": null,
      "outputs": [
        {
          "output_type": "stream",
          "name": "stdout",
          "text": [
            "/content/drive/MyDrive/Colab Notebooks/cpt-house\n"
          ]
        }
      ]
    },
    {
      "cell_type": "code",
      "metadata": {
        "id": "Xe_H3u1RpW0O"
      },
      "source": [
        "!pip install optuna xfeat japanize-matplotlib >> /dev/null"
      ],
      "execution_count": null,
      "outputs": []
    },
    {
      "cell_type": "code",
      "metadata": {
        "id": "v1RMD76PpRgZ"
      },
      "source": [
        "import re\n",
        "\n",
        "import japanize_matplotlib\n",
        "import lightgbm as lgb\n",
        "import matplotlib.pyplot as plt\n",
        "import numpy as np\n",
        "import optuna\n",
        "import pandas as pd\n",
        "import seaborn as sns\n",
        "sns.set(font=\"IPAexGothic\")\n",
        "\n",
        "from glob import glob\n",
        "from functools import partial\n",
        "from sklearn.metrics import mean_absolute_error\n",
        "from sklearn.model_selection import KFold\n",
        "from xfeat import SelectCategorical, LabelEncoder, LambdaEncoder, Pipeline, ConcatCombination, SelectNumerical, \\\n",
        "    ArithmeticCombinations, TargetEncoder, aggregation, GBDTFeatureSelector, GBDTFeatureExplorer"
      ],
      "execution_count": null,
      "outputs": []
    },
    {
      "cell_type": "code",
      "metadata": {
        "id": "444i0jHmpRgb"
      },
      "source": [
        "def normalize_moyori(moyori):\n",
        "    if moyori == moyori:\n",
        "        if moyori == '30分?60分':\n",
        "            moyori = 45\n",
        "        elif moyori == '1H?1H30':\n",
        "            moyori = 75\n",
        "        elif moyori == '1H30?2H':\n",
        "            moyori = 105\n",
        "        elif moyori == '2H?':\n",
        "            moyori = 120\n",
        "        moyori = int(float(moyori))\n",
        "    return moyori"
      ],
      "execution_count": null,
      "outputs": []
    },
    {
      "cell_type": "code",
      "metadata": {
        "id": "HOI6X5MjpRgb"
      },
      "source": [
        "def normalize_area(area):\n",
        "    if area == area:\n",
        "        area = int(re.sub('m\\^2未満|㎡以上', '', str(area)))\n",
        "    return area"
      ],
      "execution_count": null,
      "outputs": []
    },
    {
      "cell_type": "code",
      "metadata": {
        "id": "B6UWeBQqpRgb"
      },
      "source": [
        "def convert_wareki_to_seireki(wareki):\n",
        "    if wareki == wareki:\n",
        "        if wareki == '戦前':\n",
        "            wareki = '昭和20年'\n",
        "        value = wareki[2:-1]\n",
        "        if value == '元':\n",
        "            value = 1\n",
        "        else:\n",
        "            value = int(value)\n",
        "        if '昭和' in wareki:\n",
        "            seireki = 1925+value\n",
        "        elif '平成' in wareki:\n",
        "            seireki = 1988+value\n",
        "        elif '令和' in wareki:\n",
        "            seireki = 2018+value\n",
        "    else:\n",
        "        seireki = wareki\n",
        "    return seireki"
      ],
      "execution_count": null,
      "outputs": []
    },
    {
      "cell_type": "markdown",
      "metadata": {
        "id": "R_iHYSIypRgb"
      },
      "source": [
        "コンペデータ作成（利用カラム、目的変数など決める）"
      ]
    },
    {
      "cell_type": "markdown",
      "metadata": {
        "id": "8EwCrA9KDrOS"
      },
      "source": [
        "dataディレクトリ配下に以下のようにデータを格納しているとする\n",
        "\n",
        "├─ input<br>\n",
        "│   ├─ data_explanation.xlsx<br>\n",
        "│   ├─ sample_submission.csv<br>\n",
        "│   ├─ test.csv<br>\n",
        "│   └─ train<br>\n",
        "│       &nbsp;&nbsp;&nbsp;&nbsp;&nbsp;&nbsp;&nbsp;&nbsp;├─ 01.csv<br>\n",
        "│       &nbsp;&nbsp;&nbsp;&nbsp;&nbsp;&nbsp;&nbsp;&nbsp;├─ 02.csv<br>\n",
        "│       &nbsp;&nbsp;&nbsp;&nbsp;&nbsp;&nbsp;&nbsp;&nbsp;├─ 03.csv<br>\n",
        "│       &nbsp;&nbsp;&nbsp;&nbsp;&nbsp;&nbsp;&nbsp;&nbsp;├─ ...<br>\n",
        "│       &nbsp;&nbsp;&nbsp;&nbsp;&nbsp;&nbsp;&nbsp;&nbsp;└─ 47.csv<br>\n",
        "└─ output\n"
      ]
    },
    {
      "cell_type": "code",
      "metadata": {
        "id": "JnKbke99pRgc"
      },
      "source": [
        "BASE_PATH = './data/'"
      ],
      "execution_count": null,
      "outputs": []
    },
    {
      "cell_type": "code",
      "metadata": {
        "id": "dlvuK497pRgc",
        "colab": {
          "base_uri": "https://localhost:8080/"
        },
        "outputId": "0a263d22-a659-4cc9-dc1a-29750949fe68"
      },
      "source": [
        "paths = glob(BASE_PATH + 'input/train/*')\n",
        "train_dfs = []\n",
        "for path in paths:\n",
        "    train_df = pd.read_csv(path)\n",
        "    train_dfs.append(train_df)\n",
        "train_df = pd.concat(train_dfs)\n",
        "train_df.reset_index(drop=True, inplace=True)\n",
        "test_df = pd.read_csv(BASE_PATH + 'input/test.csv')"
      ],
      "execution_count": null,
      "outputs": [
        {
          "output_type": "stream",
          "name": "stderr",
          "text": [
            "/usr/local/lib/python3.7/dist-packages/IPython/core/interactiveshell.py:2718: DtypeWarning:\n",
            "\n",
            "Columns (10) have mixed types.Specify dtype option on import or set low_memory=False.\n",
            "\n"
          ]
        }
      ]
    },
    {
      "cell_type": "code",
      "metadata": {
        "id": "evmYy0RDpRgc",
        "colab": {
          "base_uri": "https://localhost:8080/"
        },
        "outputId": "d20557c4-cc6a-457e-d4d1-46a0d3ff2b37"
      },
      "source": [
        "train_df.isnull().sum()"
      ],
      "execution_count": null,
      "outputs": [
        {
          "output_type": "execute_result",
          "data": {
            "text/plain": [
              "ID                   0\n",
              "種類                   0\n",
              "地域              692882\n",
              "市区町村コード              0\n",
              "都道府県名                0\n",
              "市区町村名                0\n",
              "地区名                661\n",
              "最寄駅：名称            2695\n",
              "最寄駅：距離（分）        23121\n",
              "間取り              24432\n",
              "面積（㎡）                0\n",
              "土地の形状           692882\n",
              "間口              692882\n",
              "延床面積（㎡）         692882\n",
              "建築年              20074\n",
              "建物の構造            17386\n",
              "用途               62613\n",
              "今後の利用目的         364738\n",
              "前面道路：方位         692882\n",
              "前面道路：種類         692882\n",
              "前面道路：幅員（ｍ）      692882\n",
              "都市計画             19425\n",
              "建ぺい率（％）          23625\n",
              "容積率（％）           23625\n",
              "取引時点                 0\n",
              "改装               64026\n",
              "取引の事情等          674203\n",
              "取引価格（総額）_log         0\n",
              "dtype: int64"
            ]
          },
          "metadata": {},
          "execution_count": 47
        }
      ]
    },
    {
      "cell_type": "code",
      "metadata": {
        "id": "SehETeyUpRgd"
      },
      "source": [
        "sub_df = pd.read_csv(BASE_PATH + 'input/sample_submission.csv')"
      ],
      "execution_count": null,
      "outputs": []
    },
    {
      "cell_type": "code",
      "metadata": {
        "id": "udqHdH9MpRgd"
      },
      "source": [
        "ID = 'ID'\n",
        "TARGET = '取引価格（総額）_log'\n",
        "rm_cols = []"
      ],
      "execution_count": null,
      "outputs": []
    },
    {
      "cell_type": "code",
      "metadata": {
        "id": "8FoGfIwxpRge",
        "colab": {
          "base_uri": "https://localhost:8080/"
        },
        "outputId": "c20dfba3-1c16-4f16-da93-0d6e1a53e0f2"
      },
      "source": [
        "df = pd.concat([train_df, test_df])\n",
        "\n",
        "rm_cols += ['市区町村コード']\n",
        "for i,v in df.nunique().iteritems():\n",
        "    if v <= 1:\n",
        "        rm_cols.append(i)\n",
        "\n",
        "rm_cols"
      ],
      "execution_count": null,
      "outputs": [
        {
          "output_type": "execute_result",
          "data": {
            "text/plain": [
              "['市区町村コード',\n",
              " '種類',\n",
              " '地域',\n",
              " '土地の形状',\n",
              " '間口',\n",
              " '延床面積（㎡）',\n",
              " '前面道路：方位',\n",
              " '前面道路：種類',\n",
              " '前面道路：幅員（ｍ）']"
            ]
          },
          "metadata": {},
          "execution_count": 50
        }
      ]
    },
    {
      "cell_type": "code",
      "metadata": {
        "id": "j1LZb8qMpRge",
        "colab": {
          "base_uri": "https://localhost:8080/"
        },
        "outputId": "19c11ddf-9354-4f5b-c8cd-bb5e3a93593d"
      },
      "source": [
        "test_df[TARGET] = np.nan\n",
        "train_df.drop(rm_cols, axis=1, inplace=True)\n",
        "test_df.drop(rm_cols, axis=1, inplace=True)\n",
        "df = pd.concat([train_df, test_df])\n",
        "df.sort_values('取引時点', inplace=True)\n",
        "df.reset_index(drop=True, inplace=True)\n",
        "df.shape"
      ],
      "execution_count": null,
      "outputs": [
        {
          "output_type": "execute_result",
          "data": {
            "text/plain": [
              "(715277, 19)"
            ]
          },
          "metadata": {},
          "execution_count": 51
        }
      ]
    },
    {
      "cell_type": "code",
      "metadata": {
        "colab": {
          "base_uri": "https://localhost:8080/"
        },
        "id": "6oqA6qIynMO2",
        "outputId": "f9716008-dd6b-4514-a4e1-7e7e8aa83b9c"
      },
      "source": [
        "df['取引時点'].unique()"
      ],
      "execution_count": null,
      "outputs": [
        {
          "output_type": "execute_result",
          "data": {
            "text/plain": [
              "array(['2005年第3四半期', '2005年第4四半期', '2006年第1四半期', '2006年第2四半期',\n",
              "       '2006年第3四半期', '2006年第4四半期', '2007年第1四半期', '2007年第2四半期',\n",
              "       '2007年第3四半期', '2007年第4四半期', '2008年第1四半期', '2008年第2四半期',\n",
              "       '2008年第3四半期', '2008年第4四半期', '2009年第1四半期', '2009年第2四半期',\n",
              "       '2009年第3四半期', '2009年第4四半期', '2010年第1四半期', '2010年第2四半期',\n",
              "       '2010年第3四半期', '2010年第4四半期', '2011年第1四半期', '2011年第2四半期',\n",
              "       '2011年第3四半期', '2011年第4四半期', '2012年第1四半期', '2012年第2四半期',\n",
              "       '2012年第3四半期', '2012年第4四半期', '2013年第1四半期', '2013年第2四半期',\n",
              "       '2013年第3四半期', '2013年第4四半期', '2014年第1四半期', '2014年第2四半期',\n",
              "       '2014年第3四半期', '2014年第4四半期', '2015年第1四半期', '2015年第2四半期',\n",
              "       '2015年第3四半期', '2015年第4四半期', '2016年第1四半期', '2016年第2四半期',\n",
              "       '2016年第3四半期', '2016年第4四半期', '2017年第1四半期', '2017年第2四半期',\n",
              "       '2017年第3四半期', '2017年第4四半期', '2018年第1四半期', '2018年第2四半期',\n",
              "       '2018年第3四半期', '2018年第4四半期', '2019年第1四半期', '2019年第2四半期',\n",
              "       '2019年第3四半期', '2019年第4四半期', '2020年第1四半期', '2020年第2四半期',\n",
              "       '2020年第3四半期', '2020年第4四半期', '2021年第1四半期', '2021年第2四半期'],\n",
              "      dtype=object)"
            ]
          },
          "metadata": {},
          "execution_count": 52
        }
      ]
    },
    {
      "cell_type": "code",
      "metadata": {
        "colab": {
          "base_uri": "https://localhost:8080/"
        },
        "id": "yJl_gacnvmCY",
        "outputId": "0cfb393b-8705-4ad6-e275-a042e3ca30ad"
      },
      "source": [
        "val_min_idx = min(df[df['取引時点'].str.contains('2020年第3四半期|2020年第4四半期', regex=True)].index)\n",
        "test_min_idx = min(df[df['取引時点'].str.contains('2021年第1四半期|2021年第2四半期', regex=True)].index)\n",
        "val_min_idx, test_min_idx"
      ],
      "execution_count": null,
      "outputs": [
        {
          "output_type": "execute_result",
          "data": {
            "text/plain": [
              "(663186, 692882)"
            ]
          },
          "metadata": {},
          "execution_count": 53
        }
      ]
    },
    {
      "cell_type": "code",
      "metadata": {
        "colab": {
          "base_uri": "https://localhost:8080/"
        },
        "id": "za_6BA5X-A_X",
        "outputId": "b029337e-9c48-49e7-970d-8b7306704eda"
      },
      "source": [
        "set(df.iloc[val_min_idx:test_min_idx, :]['取引時点'].values)"
      ],
      "execution_count": null,
      "outputs": [
        {
          "output_type": "execute_result",
          "data": {
            "text/plain": [
              "{'2020年第3四半期', '2020年第4四半期'}"
            ]
          },
          "metadata": {},
          "execution_count": 54
        }
      ]
    },
    {
      "cell_type": "markdown",
      "metadata": {
        "id": "74WQqMxKpRge"
      },
      "source": [
        "特徴量生成"
      ]
    },
    {
      "cell_type": "code",
      "metadata": {
        "id": "U1-jbdrKpRgf"
      },
      "source": [
        "enc_dic = {}\n",
        "for i, e in enumerate(sorted(list(set(df['取引時点'].values)))):\n",
        "    enc_dic[e] = i\n",
        "df['取引時点_enc'] = df['取引時点'].map(enc_dic)"
      ],
      "execution_count": null,
      "outputs": []
    },
    {
      "cell_type": "code",
      "metadata": {
        "id": "Pp70asTFpRgf",
        "colab": {
          "base_uri": "https://localhost:8080/"
        },
        "outputId": "72edb955-3e9d-49a7-cbd6-fbd0565d23c5"
      },
      "source": [
        "te_dic = {}\n",
        "time_col = '取引時点_enc'\n",
        "group_col = '都道府県名'\n",
        "\n",
        "for i in set(df[time_col].values):\n",
        "    tmp_df = df[df[time_col] < i]\n",
        "    te_dic[i] = tmp_df.groupby(group_col)[TARGET].agg('mean').to_dict()\n",
        "\n",
        "te_dic[50]"
      ],
      "execution_count": null,
      "outputs": [
        {
          "output_type": "execute_result",
          "data": {
            "text/plain": [
              "{'三重県': 7.099989772836444,\n",
              " '京都府': 7.15593584855536,\n",
              " '佐賀県': 7.009937258263498,\n",
              " '兵庫県': 7.157742870483322,\n",
              " '北海道': 6.965967793677895,\n",
              " '千葉県': 7.155825324965053,\n",
              " '和歌山県': 7.022690210815755,\n",
              " '埼玉県': 7.169744271396767,\n",
              " '大分県': 6.911537826573121,\n",
              " '大阪府': 7.158352973821431,\n",
              " '奈良県': 7.0568846102347,\n",
              " '宮城県': 7.039544253805044,\n",
              " '宮崎県': 6.958678653711218,\n",
              " '富山県': 7.046920071387,\n",
              " '山口県': 7.045342730349814,\n",
              " '山形県': 7.087990602814883,\n",
              " '山梨県': 6.848839888686703,\n",
              " '岐阜県': 7.078095913486437,\n",
              " '岡山県': 7.038090734927503,\n",
              " '岩手県': 6.925002679060582,\n",
              " '島根県': 7.16537621470031,\n",
              " '広島県': 7.09344902165506,\n",
              " '徳島県': 6.912051981629737,\n",
              " '愛媛県': 6.966433011596664,\n",
              " '愛知県': 7.107301969238667,\n",
              " '新潟県': 6.913835156235096,\n",
              " '東京都': 7.377929204637795,\n",
              " '栃木県': 6.950636958071021,\n",
              " '沖縄県': 7.160046604428345,\n",
              " '滋賀県': 7.166026958168423,\n",
              " '熊本県': 6.97018225184329,\n",
              " '石川県': 6.929363348877182,\n",
              " '神奈川県': 7.258118267209648,\n",
              " '福井県': 6.9795758158401915,\n",
              " '福岡県': 6.992264905042257,\n",
              " '福島県': 6.97438057914018,\n",
              " '秋田県': 6.9413137471126225,\n",
              " '群馬県': 6.928069391036609,\n",
              " '茨城県': 7.075528163782861,\n",
              " '長崎県': 7.1507849960011125,\n",
              " '長野県': 7.063121700154449,\n",
              " '青森県': 6.955610753980602,\n",
              " '静岡県': 7.0170037911973635,\n",
              " '香川県': 6.903679020975986,\n",
              " '高知県': 6.985958259050057,\n",
              " '鳥取県': 6.940192902720595,\n",
              " '鹿児島県': 7.095567581694429}"
            ]
          },
          "metadata": {},
          "execution_count": 56
        }
      ]
    },
    {
      "cell_type": "code",
      "metadata": {
        "id": "rArMjGd7pRgf",
        "colab": {
          "base_uri": "https://localhost:8080/",
          "height": 208
        },
        "outputId": "7cd16ce1-961a-4396-8c6a-5fcc6d7a2e28"
      },
      "source": [
        "def calc_te(row):\n",
        "    if row[time_col] in te_dic and row[group_col] in te_dic[row[time_col]]:\n",
        "        return te_dic[row[time_col]][row[group_col]]\n",
        "    else:\n",
        "        return 0\n",
        "\n",
        "df[group_col+'_te'] = df.apply(calc_te, axis=1)\n",
        "df.head(2)"
      ],
      "execution_count": null,
      "outputs": [
        {
          "output_type": "execute_result",
          "data": {
            "text/html": [
              "\n",
              "  <div id=\"df-435da479-1c06-4948-9271-ad5d43b94cef\">\n",
              "    <div class=\"colab-df-container\">\n",
              "      <div>\n",
              "<style scoped>\n",
              "    .dataframe tbody tr th:only-of-type {\n",
              "        vertical-align: middle;\n",
              "    }\n",
              "\n",
              "    .dataframe tbody tr th {\n",
              "        vertical-align: top;\n",
              "    }\n",
              "\n",
              "    .dataframe thead th {\n",
              "        text-align: right;\n",
              "    }\n",
              "</style>\n",
              "<table border=\"1\" class=\"dataframe\">\n",
              "  <thead>\n",
              "    <tr style=\"text-align: right;\">\n",
              "      <th></th>\n",
              "      <th>ID</th>\n",
              "      <th>都道府県名</th>\n",
              "      <th>市区町村名</th>\n",
              "      <th>地区名</th>\n",
              "      <th>最寄駅：名称</th>\n",
              "      <th>最寄駅：距離（分）</th>\n",
              "      <th>間取り</th>\n",
              "      <th>面積（㎡）</th>\n",
              "      <th>建築年</th>\n",
              "      <th>建物の構造</th>\n",
              "      <th>用途</th>\n",
              "      <th>今後の利用目的</th>\n",
              "      <th>都市計画</th>\n",
              "      <th>建ぺい率（％）</th>\n",
              "      <th>容積率（％）</th>\n",
              "      <th>取引時点</th>\n",
              "      <th>改装</th>\n",
              "      <th>取引の事情等</th>\n",
              "      <th>取引価格（総額）_log</th>\n",
              "      <th>取引時点_enc</th>\n",
              "      <th>都道府県名_te</th>\n",
              "    </tr>\n",
              "  </thead>\n",
              "  <tbody>\n",
              "    <tr>\n",
              "      <th>0</th>\n",
              "      <td>14283299</td>\n",
              "      <td>神奈川県</td>\n",
              "      <td>横浜市都筑区</td>\n",
              "      <td>中川</td>\n",
              "      <td>中川(神奈川)</td>\n",
              "      <td>1</td>\n",
              "      <td>３ＬＤＫ</td>\n",
              "      <td>80</td>\n",
              "      <td>平成2年</td>\n",
              "      <td>ＳＲＣ</td>\n",
              "      <td>住宅</td>\n",
              "      <td>NaN</td>\n",
              "      <td>第１種住居地域</td>\n",
              "      <td>60.0</td>\n",
              "      <td>200.0</td>\n",
              "      <td>2005年第3四半期</td>\n",
              "      <td>改装済</td>\n",
              "      <td>NaN</td>\n",
              "      <td>7.531479</td>\n",
              "      <td>0</td>\n",
              "      <td>0.0</td>\n",
              "    </tr>\n",
              "    <tr>\n",
              "      <th>1</th>\n",
              "      <td>23206159</td>\n",
              "      <td>愛知県</td>\n",
              "      <td>名古屋市熱田区</td>\n",
              "      <td>六野</td>\n",
              "      <td>西高蔵</td>\n",
              "      <td>10</td>\n",
              "      <td>３ＬＤＫ</td>\n",
              "      <td>75</td>\n",
              "      <td>平成14年</td>\n",
              "      <td>ＳＲＣ</td>\n",
              "      <td>住宅</td>\n",
              "      <td>NaN</td>\n",
              "      <td>工業地域</td>\n",
              "      <td>60.0</td>\n",
              "      <td>200.0</td>\n",
              "      <td>2005年第3四半期</td>\n",
              "      <td>未改装</td>\n",
              "      <td>NaN</td>\n",
              "      <td>7.414973</td>\n",
              "      <td>0</td>\n",
              "      <td>0.0</td>\n",
              "    </tr>\n",
              "  </tbody>\n",
              "</table>\n",
              "</div>\n",
              "      <button class=\"colab-df-convert\" onclick=\"convertToInteractive('df-435da479-1c06-4948-9271-ad5d43b94cef')\"\n",
              "              title=\"Convert this dataframe to an interactive table.\"\n",
              "              style=\"display:none;\">\n",
              "        \n",
              "  <svg xmlns=\"http://www.w3.org/2000/svg\" height=\"24px\"viewBox=\"0 0 24 24\"\n",
              "       width=\"24px\">\n",
              "    <path d=\"M0 0h24v24H0V0z\" fill=\"none\"/>\n",
              "    <path d=\"M18.56 5.44l.94 2.06.94-2.06 2.06-.94-2.06-.94-.94-2.06-.94 2.06-2.06.94zm-11 1L8.5 8.5l.94-2.06 2.06-.94-2.06-.94L8.5 2.5l-.94 2.06-2.06.94zm10 10l.94 2.06.94-2.06 2.06-.94-2.06-.94-.94-2.06-.94 2.06-2.06.94z\"/><path d=\"M17.41 7.96l-1.37-1.37c-.4-.4-.92-.59-1.43-.59-.52 0-1.04.2-1.43.59L10.3 9.45l-7.72 7.72c-.78.78-.78 2.05 0 2.83L4 21.41c.39.39.9.59 1.41.59.51 0 1.02-.2 1.41-.59l7.78-7.78 2.81-2.81c.8-.78.8-2.07 0-2.86zM5.41 20L4 18.59l7.72-7.72 1.47 1.35L5.41 20z\"/>\n",
              "  </svg>\n",
              "      </button>\n",
              "      \n",
              "  <style>\n",
              "    .colab-df-container {\n",
              "      display:flex;\n",
              "      flex-wrap:wrap;\n",
              "      gap: 12px;\n",
              "    }\n",
              "\n",
              "    .colab-df-convert {\n",
              "      background-color: #E8F0FE;\n",
              "      border: none;\n",
              "      border-radius: 50%;\n",
              "      cursor: pointer;\n",
              "      display: none;\n",
              "      fill: #1967D2;\n",
              "      height: 32px;\n",
              "      padding: 0 0 0 0;\n",
              "      width: 32px;\n",
              "    }\n",
              "\n",
              "    .colab-df-convert:hover {\n",
              "      background-color: #E2EBFA;\n",
              "      box-shadow: 0px 1px 2px rgba(60, 64, 67, 0.3), 0px 1px 3px 1px rgba(60, 64, 67, 0.15);\n",
              "      fill: #174EA6;\n",
              "    }\n",
              "\n",
              "    [theme=dark] .colab-df-convert {\n",
              "      background-color: #3B4455;\n",
              "      fill: #D2E3FC;\n",
              "    }\n",
              "\n",
              "    [theme=dark] .colab-df-convert:hover {\n",
              "      background-color: #434B5C;\n",
              "      box-shadow: 0px 1px 3px 1px rgba(0, 0, 0, 0.15);\n",
              "      filter: drop-shadow(0px 1px 2px rgba(0, 0, 0, 0.3));\n",
              "      fill: #FFFFFF;\n",
              "    }\n",
              "  </style>\n",
              "\n",
              "      <script>\n",
              "        const buttonEl =\n",
              "          document.querySelector('#df-435da479-1c06-4948-9271-ad5d43b94cef button.colab-df-convert');\n",
              "        buttonEl.style.display =\n",
              "          google.colab.kernel.accessAllowed ? 'block' : 'none';\n",
              "\n",
              "        async function convertToInteractive(key) {\n",
              "          const element = document.querySelector('#df-435da479-1c06-4948-9271-ad5d43b94cef');\n",
              "          const dataTable =\n",
              "            await google.colab.kernel.invokeFunction('convertToInteractive',\n",
              "                                                     [key], {});\n",
              "          if (!dataTable) return;\n",
              "\n",
              "          const docLinkHtml = 'Like what you see? Visit the ' +\n",
              "            '<a target=\"_blank\" href=https://colab.research.google.com/notebooks/data_table.ipynb>data table notebook</a>'\n",
              "            + ' to learn more about interactive tables.';\n",
              "          element.innerHTML = '';\n",
              "          dataTable['output_type'] = 'display_data';\n",
              "          await google.colab.output.renderOutput(dataTable, element);\n",
              "          const docLink = document.createElement('div');\n",
              "          docLink.innerHTML = docLinkHtml;\n",
              "          element.appendChild(docLink);\n",
              "        }\n",
              "      </script>\n",
              "    </div>\n",
              "  </div>\n",
              "  "
            ],
            "text/plain": [
              "         ID 都道府県名    市区町村名 地区名  ... 取引の事情等 取引価格（総額）_log 取引時点_enc 都道府県名_te\n",
              "0  14283299  神奈川県   横浜市都筑区  中川  ...    NaN     7.531479        0      0.0\n",
              "1  23206159   愛知県  名古屋市熱田区  六野  ...    NaN     7.414973        0      0.0\n",
              "\n",
              "[2 rows x 21 columns]"
            ]
          },
          "metadata": {},
          "execution_count": 57
        }
      ]
    },
    {
      "cell_type": "code",
      "metadata": {
        "id": "BTrJ3EC_pRgf"
      },
      "source": [
        "df['取引時点_何年前'] = df['取引時点'].apply(lambda x: 2021-int(x[:4]))\n",
        "df.drop(['取引時点'], axis=1, inplace=True)\n",
        "df['建築年'] = df['建築年'].apply(lambda x: convert_wareki_to_seireki(x))\n",
        "df['面積（㎡）'] = df['面積（㎡）'].apply(lambda x: normalize_area(x))\n",
        "df['最寄駅：距離（分）'] = df['最寄駅：距離（分）'].apply(lambda x: normalize_moyori(x))"
      ],
      "execution_count": null,
      "outputs": []
    },
    {
      "cell_type": "code",
      "metadata": {
        "id": "QYR7Sd8QpRgg",
        "colab": {
          "base_uri": "https://localhost:8080/",
          "height": 112
        },
        "outputId": "5683fd3f-a4b2-4e6e-b059-301e228ae9b1"
      },
      "source": [
        "num_df = SelectNumerical().fit_transform(df)\n",
        "num_df.head(2)"
      ],
      "execution_count": null,
      "outputs": [
        {
          "output_type": "execute_result",
          "data": {
            "text/html": [
              "\n",
              "  <div id=\"df-e6f341f9-564c-4f78-bc2b-f5073d9d664b\">\n",
              "    <div class=\"colab-df-container\">\n",
              "      <div>\n",
              "<style scoped>\n",
              "    .dataframe tbody tr th:only-of-type {\n",
              "        vertical-align: middle;\n",
              "    }\n",
              "\n",
              "    .dataframe tbody tr th {\n",
              "        vertical-align: top;\n",
              "    }\n",
              "\n",
              "    .dataframe thead th {\n",
              "        text-align: right;\n",
              "    }\n",
              "</style>\n",
              "<table border=\"1\" class=\"dataframe\">\n",
              "  <thead>\n",
              "    <tr style=\"text-align: right;\">\n",
              "      <th></th>\n",
              "      <th>ID</th>\n",
              "      <th>最寄駅：距離（分）</th>\n",
              "      <th>面積（㎡）</th>\n",
              "      <th>建築年</th>\n",
              "      <th>建ぺい率（％）</th>\n",
              "      <th>容積率（％）</th>\n",
              "      <th>取引価格（総額）_log</th>\n",
              "      <th>取引時点_enc</th>\n",
              "      <th>都道府県名_te</th>\n",
              "      <th>取引時点_何年前</th>\n",
              "    </tr>\n",
              "  </thead>\n",
              "  <tbody>\n",
              "    <tr>\n",
              "      <th>0</th>\n",
              "      <td>14283299</td>\n",
              "      <td>1.0</td>\n",
              "      <td>80</td>\n",
              "      <td>1990.0</td>\n",
              "      <td>60.0</td>\n",
              "      <td>200.0</td>\n",
              "      <td>7.531479</td>\n",
              "      <td>0</td>\n",
              "      <td>0.0</td>\n",
              "      <td>16</td>\n",
              "    </tr>\n",
              "    <tr>\n",
              "      <th>1</th>\n",
              "      <td>23206159</td>\n",
              "      <td>10.0</td>\n",
              "      <td>75</td>\n",
              "      <td>2002.0</td>\n",
              "      <td>60.0</td>\n",
              "      <td>200.0</td>\n",
              "      <td>7.414973</td>\n",
              "      <td>0</td>\n",
              "      <td>0.0</td>\n",
              "      <td>16</td>\n",
              "    </tr>\n",
              "  </tbody>\n",
              "</table>\n",
              "</div>\n",
              "      <button class=\"colab-df-convert\" onclick=\"convertToInteractive('df-e6f341f9-564c-4f78-bc2b-f5073d9d664b')\"\n",
              "              title=\"Convert this dataframe to an interactive table.\"\n",
              "              style=\"display:none;\">\n",
              "        \n",
              "  <svg xmlns=\"http://www.w3.org/2000/svg\" height=\"24px\"viewBox=\"0 0 24 24\"\n",
              "       width=\"24px\">\n",
              "    <path d=\"M0 0h24v24H0V0z\" fill=\"none\"/>\n",
              "    <path d=\"M18.56 5.44l.94 2.06.94-2.06 2.06-.94-2.06-.94-.94-2.06-.94 2.06-2.06.94zm-11 1L8.5 8.5l.94-2.06 2.06-.94-2.06-.94L8.5 2.5l-.94 2.06-2.06.94zm10 10l.94 2.06.94-2.06 2.06-.94-2.06-.94-.94-2.06-.94 2.06-2.06.94z\"/><path d=\"M17.41 7.96l-1.37-1.37c-.4-.4-.92-.59-1.43-.59-.52 0-1.04.2-1.43.59L10.3 9.45l-7.72 7.72c-.78.78-.78 2.05 0 2.83L4 21.41c.39.39.9.59 1.41.59.51 0 1.02-.2 1.41-.59l7.78-7.78 2.81-2.81c.8-.78.8-2.07 0-2.86zM5.41 20L4 18.59l7.72-7.72 1.47 1.35L5.41 20z\"/>\n",
              "  </svg>\n",
              "      </button>\n",
              "      \n",
              "  <style>\n",
              "    .colab-df-container {\n",
              "      display:flex;\n",
              "      flex-wrap:wrap;\n",
              "      gap: 12px;\n",
              "    }\n",
              "\n",
              "    .colab-df-convert {\n",
              "      background-color: #E8F0FE;\n",
              "      border: none;\n",
              "      border-radius: 50%;\n",
              "      cursor: pointer;\n",
              "      display: none;\n",
              "      fill: #1967D2;\n",
              "      height: 32px;\n",
              "      padding: 0 0 0 0;\n",
              "      width: 32px;\n",
              "    }\n",
              "\n",
              "    .colab-df-convert:hover {\n",
              "      background-color: #E2EBFA;\n",
              "      box-shadow: 0px 1px 2px rgba(60, 64, 67, 0.3), 0px 1px 3px 1px rgba(60, 64, 67, 0.15);\n",
              "      fill: #174EA6;\n",
              "    }\n",
              "\n",
              "    [theme=dark] .colab-df-convert {\n",
              "      background-color: #3B4455;\n",
              "      fill: #D2E3FC;\n",
              "    }\n",
              "\n",
              "    [theme=dark] .colab-df-convert:hover {\n",
              "      background-color: #434B5C;\n",
              "      box-shadow: 0px 1px 3px 1px rgba(0, 0, 0, 0.15);\n",
              "      filter: drop-shadow(0px 1px 2px rgba(0, 0, 0, 0.3));\n",
              "      fill: #FFFFFF;\n",
              "    }\n",
              "  </style>\n",
              "\n",
              "      <script>\n",
              "        const buttonEl =\n",
              "          document.querySelector('#df-e6f341f9-564c-4f78-bc2b-f5073d9d664b button.colab-df-convert');\n",
              "        buttonEl.style.display =\n",
              "          google.colab.kernel.accessAllowed ? 'block' : 'none';\n",
              "\n",
              "        async function convertToInteractive(key) {\n",
              "          const element = document.querySelector('#df-e6f341f9-564c-4f78-bc2b-f5073d9d664b');\n",
              "          const dataTable =\n",
              "            await google.colab.kernel.invokeFunction('convertToInteractive',\n",
              "                                                     [key], {});\n",
              "          if (!dataTable) return;\n",
              "\n",
              "          const docLinkHtml = 'Like what you see? Visit the ' +\n",
              "            '<a target=\"_blank\" href=https://colab.research.google.com/notebooks/data_table.ipynb>data table notebook</a>'\n",
              "            + ' to learn more about interactive tables.';\n",
              "          element.innerHTML = '';\n",
              "          dataTable['output_type'] = 'display_data';\n",
              "          await google.colab.output.renderOutput(dataTable, element);\n",
              "          const docLink = document.createElement('div');\n",
              "          docLink.innerHTML = docLinkHtml;\n",
              "          element.appendChild(docLink);\n",
              "        }\n",
              "      </script>\n",
              "    </div>\n",
              "  </div>\n",
              "  "
            ],
            "text/plain": [
              "         ID  最寄駅：距離（分）  面積（㎡）  ...  取引時点_enc  都道府県名_te  取引時点_何年前\n",
              "0  14283299        1.0     80  ...         0       0.0        16\n",
              "1  23206159       10.0     75  ...         0       0.0        16\n",
              "\n",
              "[2 rows x 10 columns]"
            ]
          },
          "metadata": {},
          "execution_count": 59
        }
      ]
    },
    {
      "cell_type": "code",
      "metadata": {
        "id": "Bp_KYSA0pRgg",
        "colab": {
          "base_uri": "https://localhost:8080/",
          "height": 112
        },
        "outputId": "37888910-f082-46e1-d914-8c0a1658e513"
      },
      "source": [
        "encoder = Pipeline([\n",
        "    SelectCategorical(),\n",
        "    LabelEncoder(output_suffix=\"\"),\n",
        "])\n",
        "\n",
        "le_df = encoder.fit_transform(df)\n",
        "le_df.head(2)"
      ],
      "execution_count": null,
      "outputs": [
        {
          "output_type": "execute_result",
          "data": {
            "text/html": [
              "\n",
              "  <div id=\"df-550a38cd-b85b-489e-a06c-5043bd00b40f\">\n",
              "    <div class=\"colab-df-container\">\n",
              "      <div>\n",
              "<style scoped>\n",
              "    .dataframe tbody tr th:only-of-type {\n",
              "        vertical-align: middle;\n",
              "    }\n",
              "\n",
              "    .dataframe tbody tr th {\n",
              "        vertical-align: top;\n",
              "    }\n",
              "\n",
              "    .dataframe thead th {\n",
              "        text-align: right;\n",
              "    }\n",
              "</style>\n",
              "<table border=\"1\" class=\"dataframe\">\n",
              "  <thead>\n",
              "    <tr style=\"text-align: right;\">\n",
              "      <th></th>\n",
              "      <th>都道府県名</th>\n",
              "      <th>市区町村名</th>\n",
              "      <th>地区名</th>\n",
              "      <th>最寄駅：名称</th>\n",
              "      <th>間取り</th>\n",
              "      <th>建物の構造</th>\n",
              "      <th>用途</th>\n",
              "      <th>今後の利用目的</th>\n",
              "      <th>都市計画</th>\n",
              "      <th>改装</th>\n",
              "      <th>取引の事情等</th>\n",
              "    </tr>\n",
              "  </thead>\n",
              "  <tbody>\n",
              "    <tr>\n",
              "      <th>0</th>\n",
              "      <td>0</td>\n",
              "      <td>0</td>\n",
              "      <td>0</td>\n",
              "      <td>0</td>\n",
              "      <td>0</td>\n",
              "      <td>0</td>\n",
              "      <td>0</td>\n",
              "      <td>-1</td>\n",
              "      <td>0</td>\n",
              "      <td>0</td>\n",
              "      <td>-1</td>\n",
              "    </tr>\n",
              "    <tr>\n",
              "      <th>1</th>\n",
              "      <td>1</td>\n",
              "      <td>1</td>\n",
              "      <td>1</td>\n",
              "      <td>1</td>\n",
              "      <td>0</td>\n",
              "      <td>0</td>\n",
              "      <td>0</td>\n",
              "      <td>-1</td>\n",
              "      <td>1</td>\n",
              "      <td>1</td>\n",
              "      <td>-1</td>\n",
              "    </tr>\n",
              "  </tbody>\n",
              "</table>\n",
              "</div>\n",
              "      <button class=\"colab-df-convert\" onclick=\"convertToInteractive('df-550a38cd-b85b-489e-a06c-5043bd00b40f')\"\n",
              "              title=\"Convert this dataframe to an interactive table.\"\n",
              "              style=\"display:none;\">\n",
              "        \n",
              "  <svg xmlns=\"http://www.w3.org/2000/svg\" height=\"24px\"viewBox=\"0 0 24 24\"\n",
              "       width=\"24px\">\n",
              "    <path d=\"M0 0h24v24H0V0z\" fill=\"none\"/>\n",
              "    <path d=\"M18.56 5.44l.94 2.06.94-2.06 2.06-.94-2.06-.94-.94-2.06-.94 2.06-2.06.94zm-11 1L8.5 8.5l.94-2.06 2.06-.94-2.06-.94L8.5 2.5l-.94 2.06-2.06.94zm10 10l.94 2.06.94-2.06 2.06-.94-2.06-.94-.94-2.06-.94 2.06-2.06.94z\"/><path d=\"M17.41 7.96l-1.37-1.37c-.4-.4-.92-.59-1.43-.59-.52 0-1.04.2-1.43.59L10.3 9.45l-7.72 7.72c-.78.78-.78 2.05 0 2.83L4 21.41c.39.39.9.59 1.41.59.51 0 1.02-.2 1.41-.59l7.78-7.78 2.81-2.81c.8-.78.8-2.07 0-2.86zM5.41 20L4 18.59l7.72-7.72 1.47 1.35L5.41 20z\"/>\n",
              "  </svg>\n",
              "      </button>\n",
              "      \n",
              "  <style>\n",
              "    .colab-df-container {\n",
              "      display:flex;\n",
              "      flex-wrap:wrap;\n",
              "      gap: 12px;\n",
              "    }\n",
              "\n",
              "    .colab-df-convert {\n",
              "      background-color: #E8F0FE;\n",
              "      border: none;\n",
              "      border-radius: 50%;\n",
              "      cursor: pointer;\n",
              "      display: none;\n",
              "      fill: #1967D2;\n",
              "      height: 32px;\n",
              "      padding: 0 0 0 0;\n",
              "      width: 32px;\n",
              "    }\n",
              "\n",
              "    .colab-df-convert:hover {\n",
              "      background-color: #E2EBFA;\n",
              "      box-shadow: 0px 1px 2px rgba(60, 64, 67, 0.3), 0px 1px 3px 1px rgba(60, 64, 67, 0.15);\n",
              "      fill: #174EA6;\n",
              "    }\n",
              "\n",
              "    [theme=dark] .colab-df-convert {\n",
              "      background-color: #3B4455;\n",
              "      fill: #D2E3FC;\n",
              "    }\n",
              "\n",
              "    [theme=dark] .colab-df-convert:hover {\n",
              "      background-color: #434B5C;\n",
              "      box-shadow: 0px 1px 3px 1px rgba(0, 0, 0, 0.15);\n",
              "      filter: drop-shadow(0px 1px 2px rgba(0, 0, 0, 0.3));\n",
              "      fill: #FFFFFF;\n",
              "    }\n",
              "  </style>\n",
              "\n",
              "      <script>\n",
              "        const buttonEl =\n",
              "          document.querySelector('#df-550a38cd-b85b-489e-a06c-5043bd00b40f button.colab-df-convert');\n",
              "        buttonEl.style.display =\n",
              "          google.colab.kernel.accessAllowed ? 'block' : 'none';\n",
              "\n",
              "        async function convertToInteractive(key) {\n",
              "          const element = document.querySelector('#df-550a38cd-b85b-489e-a06c-5043bd00b40f');\n",
              "          const dataTable =\n",
              "            await google.colab.kernel.invokeFunction('convertToInteractive',\n",
              "                                                     [key], {});\n",
              "          if (!dataTable) return;\n",
              "\n",
              "          const docLinkHtml = 'Like what you see? Visit the ' +\n",
              "            '<a target=\"_blank\" href=https://colab.research.google.com/notebooks/data_table.ipynb>data table notebook</a>'\n",
              "            + ' to learn more about interactive tables.';\n",
              "          element.innerHTML = '';\n",
              "          dataTable['output_type'] = 'display_data';\n",
              "          await google.colab.output.renderOutput(dataTable, element);\n",
              "          const docLink = document.createElement('div');\n",
              "          docLink.innerHTML = docLinkHtml;\n",
              "          element.appendChild(docLink);\n",
              "        }\n",
              "      </script>\n",
              "    </div>\n",
              "  </div>\n",
              "  "
            ],
            "text/plain": [
              "   都道府県名  市区町村名  地区名  最寄駅：名称  間取り  建物の構造  用途  今後の利用目的  都市計画  改装  取引の事情等\n",
              "0      0      0    0       0    0      0   0       -1     0   0      -1\n",
              "1      1      1    1       1    0      0   0       -1     1   1      -1"
            ]
          },
          "metadata": {},
          "execution_count": 60
        }
      ]
    },
    {
      "cell_type": "code",
      "metadata": {
        "id": "AuySwDN1pRgg",
        "colab": {
          "base_uri": "https://localhost:8080/",
          "height": 112
        },
        "outputId": "59ae3d1e-a557-43ab-e47d-146c636c6828"
      },
      "source": [
        "encoder = Pipeline(\n",
        "    [\n",
        "        SelectNumerical(),\n",
        "        ArithmeticCombinations(\n",
        "            input_cols=[\"面積（㎡）\", \"容積率（％）\"], \n",
        "            drop_origin=True, \n",
        "            operator=\"*\", \n",
        "            r=2,\n",
        "        ),\n",
        "    ]\n",
        ")\n",
        "\n",
        "num_comb_df = encoder.fit_transform(df)/100\n",
        "num_comb_df.head(2)"
      ],
      "execution_count": null,
      "outputs": [
        {
          "output_type": "execute_result",
          "data": {
            "text/html": [
              "\n",
              "  <div id=\"df-9ff2e38b-9c33-4241-b29f-c9da638703d9\">\n",
              "    <div class=\"colab-df-container\">\n",
              "      <div>\n",
              "<style scoped>\n",
              "    .dataframe tbody tr th:only-of-type {\n",
              "        vertical-align: middle;\n",
              "    }\n",
              "\n",
              "    .dataframe tbody tr th {\n",
              "        vertical-align: top;\n",
              "    }\n",
              "\n",
              "    .dataframe thead th {\n",
              "        text-align: right;\n",
              "    }\n",
              "</style>\n",
              "<table border=\"1\" class=\"dataframe\">\n",
              "  <thead>\n",
              "    <tr style=\"text-align: right;\">\n",
              "      <th></th>\n",
              "      <th>面積（㎡）容積率（％）_combi</th>\n",
              "    </tr>\n",
              "  </thead>\n",
              "  <tbody>\n",
              "    <tr>\n",
              "      <th>0</th>\n",
              "      <td>160.0</td>\n",
              "    </tr>\n",
              "    <tr>\n",
              "      <th>1</th>\n",
              "      <td>150.0</td>\n",
              "    </tr>\n",
              "  </tbody>\n",
              "</table>\n",
              "</div>\n",
              "      <button class=\"colab-df-convert\" onclick=\"convertToInteractive('df-9ff2e38b-9c33-4241-b29f-c9da638703d9')\"\n",
              "              title=\"Convert this dataframe to an interactive table.\"\n",
              "              style=\"display:none;\">\n",
              "        \n",
              "  <svg xmlns=\"http://www.w3.org/2000/svg\" height=\"24px\"viewBox=\"0 0 24 24\"\n",
              "       width=\"24px\">\n",
              "    <path d=\"M0 0h24v24H0V0z\" fill=\"none\"/>\n",
              "    <path d=\"M18.56 5.44l.94 2.06.94-2.06 2.06-.94-2.06-.94-.94-2.06-.94 2.06-2.06.94zm-11 1L8.5 8.5l.94-2.06 2.06-.94-2.06-.94L8.5 2.5l-.94 2.06-2.06.94zm10 10l.94 2.06.94-2.06 2.06-.94-2.06-.94-.94-2.06-.94 2.06-2.06.94z\"/><path d=\"M17.41 7.96l-1.37-1.37c-.4-.4-.92-.59-1.43-.59-.52 0-1.04.2-1.43.59L10.3 9.45l-7.72 7.72c-.78.78-.78 2.05 0 2.83L4 21.41c.39.39.9.59 1.41.59.51 0 1.02-.2 1.41-.59l7.78-7.78 2.81-2.81c.8-.78.8-2.07 0-2.86zM5.41 20L4 18.59l7.72-7.72 1.47 1.35L5.41 20z\"/>\n",
              "  </svg>\n",
              "      </button>\n",
              "      \n",
              "  <style>\n",
              "    .colab-df-container {\n",
              "      display:flex;\n",
              "      flex-wrap:wrap;\n",
              "      gap: 12px;\n",
              "    }\n",
              "\n",
              "    .colab-df-convert {\n",
              "      background-color: #E8F0FE;\n",
              "      border: none;\n",
              "      border-radius: 50%;\n",
              "      cursor: pointer;\n",
              "      display: none;\n",
              "      fill: #1967D2;\n",
              "      height: 32px;\n",
              "      padding: 0 0 0 0;\n",
              "      width: 32px;\n",
              "    }\n",
              "\n",
              "    .colab-df-convert:hover {\n",
              "      background-color: #E2EBFA;\n",
              "      box-shadow: 0px 1px 2px rgba(60, 64, 67, 0.3), 0px 1px 3px 1px rgba(60, 64, 67, 0.15);\n",
              "      fill: #174EA6;\n",
              "    }\n",
              "\n",
              "    [theme=dark] .colab-df-convert {\n",
              "      background-color: #3B4455;\n",
              "      fill: #D2E3FC;\n",
              "    }\n",
              "\n",
              "    [theme=dark] .colab-df-convert:hover {\n",
              "      background-color: #434B5C;\n",
              "      box-shadow: 0px 1px 3px 1px rgba(0, 0, 0, 0.15);\n",
              "      filter: drop-shadow(0px 1px 2px rgba(0, 0, 0, 0.3));\n",
              "      fill: #FFFFFF;\n",
              "    }\n",
              "  </style>\n",
              "\n",
              "      <script>\n",
              "        const buttonEl =\n",
              "          document.querySelector('#df-9ff2e38b-9c33-4241-b29f-c9da638703d9 button.colab-df-convert');\n",
              "        buttonEl.style.display =\n",
              "          google.colab.kernel.accessAllowed ? 'block' : 'none';\n",
              "\n",
              "        async function convertToInteractive(key) {\n",
              "          const element = document.querySelector('#df-9ff2e38b-9c33-4241-b29f-c9da638703d9');\n",
              "          const dataTable =\n",
              "            await google.colab.kernel.invokeFunction('convertToInteractive',\n",
              "                                                     [key], {});\n",
              "          if (!dataTable) return;\n",
              "\n",
              "          const docLinkHtml = 'Like what you see? Visit the ' +\n",
              "            '<a target=\"_blank\" href=https://colab.research.google.com/notebooks/data_table.ipynb>data table notebook</a>'\n",
              "            + ' to learn more about interactive tables.';\n",
              "          element.innerHTML = '';\n",
              "          dataTable['output_type'] = 'display_data';\n",
              "          await google.colab.output.renderOutput(dataTable, element);\n",
              "          const docLink = document.createElement('div');\n",
              "          docLink.innerHTML = docLinkHtml;\n",
              "          element.appendChild(docLink);\n",
              "        }\n",
              "      </script>\n",
              "    </div>\n",
              "  </div>\n",
              "  "
            ],
            "text/plain": [
              "   面積（㎡）容積率（％）_combi\n",
              "0              160.0\n",
              "1              150.0"
            ]
          },
          "metadata": {},
          "execution_count": 61
        }
      ]
    },
    {
      "cell_type": "code",
      "metadata": {
        "id": "L5GKKJT-pRgg",
        "colab": {
          "base_uri": "https://localhost:8080/",
          "height": 208
        },
        "outputId": "689980e2-7819-4bf2-e70d-f8bad5ae5d84"
      },
      "source": [
        "agg_dfs = []\n",
        "\n",
        "def get_agg_df(df, group_col):\n",
        "\n",
        "    agg_df, agg_cols = aggregation(df,\n",
        "                        group_key=group_col,\n",
        "                        group_values=['最寄駅：距離（分）', '面積（㎡）', '建ぺい率（％）', '容積率（％）'],\n",
        "                        agg_methods=['count', 'mean', 'min', 'max'],\n",
        "                        )\n",
        "\n",
        "    return agg_df[agg_cols]\n",
        "\n",
        "group_col = '市区町村名'\n",
        "agg_dfs.append(get_agg_df(df, group_col))\n",
        "agg_dfs[0].head(2)"
      ],
      "execution_count": null,
      "outputs": [
        {
          "output_type": "execute_result",
          "data": {
            "text/html": [
              "\n",
              "  <div id=\"df-71c2ccca-d845-4310-b6ca-7347cff2dd95\">\n",
              "    <div class=\"colab-df-container\">\n",
              "      <div>\n",
              "<style scoped>\n",
              "    .dataframe tbody tr th:only-of-type {\n",
              "        vertical-align: middle;\n",
              "    }\n",
              "\n",
              "    .dataframe tbody tr th {\n",
              "        vertical-align: top;\n",
              "    }\n",
              "\n",
              "    .dataframe thead th {\n",
              "        text-align: right;\n",
              "    }\n",
              "</style>\n",
              "<table border=\"1\" class=\"dataframe\">\n",
              "  <thead>\n",
              "    <tr style=\"text-align: right;\">\n",
              "      <th></th>\n",
              "      <th>agg_count_最寄駅：距離（分）_grpby_市区町村名</th>\n",
              "      <th>agg_count_面積（㎡）_grpby_市区町村名</th>\n",
              "      <th>agg_count_建ぺい率（％）_grpby_市区町村名</th>\n",
              "      <th>agg_count_容積率（％）_grpby_市区町村名</th>\n",
              "      <th>agg_mean_最寄駅：距離（分）_grpby_市区町村名</th>\n",
              "      <th>agg_mean_面積（㎡）_grpby_市区町村名</th>\n",
              "      <th>agg_mean_建ぺい率（％）_grpby_市区町村名</th>\n",
              "      <th>agg_mean_容積率（％）_grpby_市区町村名</th>\n",
              "      <th>agg_min_最寄駅：距離（分）_grpby_市区町村名</th>\n",
              "      <th>agg_min_面積（㎡）_grpby_市区町村名</th>\n",
              "      <th>agg_min_建ぺい率（％）_grpby_市区町村名</th>\n",
              "      <th>agg_min_容積率（％）_grpby_市区町村名</th>\n",
              "      <th>agg_max_最寄駅：距離（分）_grpby_市区町村名</th>\n",
              "      <th>agg_max_面積（㎡）_grpby_市区町村名</th>\n",
              "      <th>agg_max_建ぺい率（％）_grpby_市区町村名</th>\n",
              "      <th>agg_max_容積率（％）_grpby_市区町村名</th>\n",
              "    </tr>\n",
              "  </thead>\n",
              "  <tbody>\n",
              "    <tr>\n",
              "      <th>0</th>\n",
              "      <td>2570</td>\n",
              "      <td>2639</td>\n",
              "      <td>2456</td>\n",
              "      <td>2456</td>\n",
              "      <td>11.199222</td>\n",
              "      <td>76.085638</td>\n",
              "      <td>61.783388</td>\n",
              "      <td>210.663681</td>\n",
              "      <td>0.0</td>\n",
              "      <td>20</td>\n",
              "      <td>40.0</td>\n",
              "      <td>80.0</td>\n",
              "      <td>75.0</td>\n",
              "      <td>200</td>\n",
              "      <td>80.0</td>\n",
              "      <td>900.0</td>\n",
              "    </tr>\n",
              "    <tr>\n",
              "      <th>1</th>\n",
              "      <td>664</td>\n",
              "      <td>675</td>\n",
              "      <td>673</td>\n",
              "      <td>673</td>\n",
              "      <td>6.566265</td>\n",
              "      <td>69.533333</td>\n",
              "      <td>70.193165</td>\n",
              "      <td>284.323923</td>\n",
              "      <td>0.0</td>\n",
              "      <td>15</td>\n",
              "      <td>60.0</td>\n",
              "      <td>150.0</td>\n",
              "      <td>18.0</td>\n",
              "      <td>790</td>\n",
              "      <td>80.0</td>\n",
              "      <td>800.0</td>\n",
              "    </tr>\n",
              "  </tbody>\n",
              "</table>\n",
              "</div>\n",
              "      <button class=\"colab-df-convert\" onclick=\"convertToInteractive('df-71c2ccca-d845-4310-b6ca-7347cff2dd95')\"\n",
              "              title=\"Convert this dataframe to an interactive table.\"\n",
              "              style=\"display:none;\">\n",
              "        \n",
              "  <svg xmlns=\"http://www.w3.org/2000/svg\" height=\"24px\"viewBox=\"0 0 24 24\"\n",
              "       width=\"24px\">\n",
              "    <path d=\"M0 0h24v24H0V0z\" fill=\"none\"/>\n",
              "    <path d=\"M18.56 5.44l.94 2.06.94-2.06 2.06-.94-2.06-.94-.94-2.06-.94 2.06-2.06.94zm-11 1L8.5 8.5l.94-2.06 2.06-.94-2.06-.94L8.5 2.5l-.94 2.06-2.06.94zm10 10l.94 2.06.94-2.06 2.06-.94-2.06-.94-.94-2.06-.94 2.06-2.06.94z\"/><path d=\"M17.41 7.96l-1.37-1.37c-.4-.4-.92-.59-1.43-.59-.52 0-1.04.2-1.43.59L10.3 9.45l-7.72 7.72c-.78.78-.78 2.05 0 2.83L4 21.41c.39.39.9.59 1.41.59.51 0 1.02-.2 1.41-.59l7.78-7.78 2.81-2.81c.8-.78.8-2.07 0-2.86zM5.41 20L4 18.59l7.72-7.72 1.47 1.35L5.41 20z\"/>\n",
              "  </svg>\n",
              "      </button>\n",
              "      \n",
              "  <style>\n",
              "    .colab-df-container {\n",
              "      display:flex;\n",
              "      flex-wrap:wrap;\n",
              "      gap: 12px;\n",
              "    }\n",
              "\n",
              "    .colab-df-convert {\n",
              "      background-color: #E8F0FE;\n",
              "      border: none;\n",
              "      border-radius: 50%;\n",
              "      cursor: pointer;\n",
              "      display: none;\n",
              "      fill: #1967D2;\n",
              "      height: 32px;\n",
              "      padding: 0 0 0 0;\n",
              "      width: 32px;\n",
              "    }\n",
              "\n",
              "    .colab-df-convert:hover {\n",
              "      background-color: #E2EBFA;\n",
              "      box-shadow: 0px 1px 2px rgba(60, 64, 67, 0.3), 0px 1px 3px 1px rgba(60, 64, 67, 0.15);\n",
              "      fill: #174EA6;\n",
              "    }\n",
              "\n",
              "    [theme=dark] .colab-df-convert {\n",
              "      background-color: #3B4455;\n",
              "      fill: #D2E3FC;\n",
              "    }\n",
              "\n",
              "    [theme=dark] .colab-df-convert:hover {\n",
              "      background-color: #434B5C;\n",
              "      box-shadow: 0px 1px 3px 1px rgba(0, 0, 0, 0.15);\n",
              "      filter: drop-shadow(0px 1px 2px rgba(0, 0, 0, 0.3));\n",
              "      fill: #FFFFFF;\n",
              "    }\n",
              "  </style>\n",
              "\n",
              "      <script>\n",
              "        const buttonEl =\n",
              "          document.querySelector('#df-71c2ccca-d845-4310-b6ca-7347cff2dd95 button.colab-df-convert');\n",
              "        buttonEl.style.display =\n",
              "          google.colab.kernel.accessAllowed ? 'block' : 'none';\n",
              "\n",
              "        async function convertToInteractive(key) {\n",
              "          const element = document.querySelector('#df-71c2ccca-d845-4310-b6ca-7347cff2dd95');\n",
              "          const dataTable =\n",
              "            await google.colab.kernel.invokeFunction('convertToInteractive',\n",
              "                                                     [key], {});\n",
              "          if (!dataTable) return;\n",
              "\n",
              "          const docLinkHtml = 'Like what you see? Visit the ' +\n",
              "            '<a target=\"_blank\" href=https://colab.research.google.com/notebooks/data_table.ipynb>data table notebook</a>'\n",
              "            + ' to learn more about interactive tables.';\n",
              "          element.innerHTML = '';\n",
              "          dataTable['output_type'] = 'display_data';\n",
              "          await google.colab.output.renderOutput(dataTable, element);\n",
              "          const docLink = document.createElement('div');\n",
              "          docLink.innerHTML = docLinkHtml;\n",
              "          element.appendChild(docLink);\n",
              "        }\n",
              "      </script>\n",
              "    </div>\n",
              "  </div>\n",
              "  "
            ],
            "text/plain": [
              "   agg_count_最寄駅：距離（分）_grpby_市区町村名  ...  agg_max_容積率（％）_grpby_市区町村名\n",
              "0                             2570  ...                       900.0\n",
              "1                              664  ...                       800.0\n",
              "\n",
              "[2 rows x 16 columns]"
            ]
          },
          "metadata": {},
          "execution_count": 62
        }
      ]
    },
    {
      "cell_type": "code",
      "metadata": {
        "id": "SyT-F_j9pRgh",
        "colab": {
          "base_uri": "https://localhost:8080/"
        },
        "outputId": "ef5ae5df-20d6-4296-b84c-59f88f0f8295"
      },
      "source": [
        "feat_df = pd.concat([num_df,le_df,num_comb_df]+agg_dfs, axis=1)\n",
        "print(feat_df.shape)"
      ],
      "execution_count": null,
      "outputs": [
        {
          "output_type": "stream",
          "name": "stdout",
          "text": [
            "(715277, 38)\n"
          ]
        }
      ]
    },
    {
      "cell_type": "code",
      "metadata": {
        "id": "PBZeWFmVpRgh",
        "colab": {
          "base_uri": "https://localhost:8080/"
        },
        "outputId": "23017be6-bac0-4b2d-e831-ecef19918e36"
      },
      "source": [
        "feat_df.dtypes"
      ],
      "execution_count": null,
      "outputs": [
        {
          "output_type": "execute_result",
          "data": {
            "text/plain": [
              "ID                                   int64\n",
              "最寄駅：距離（分）                          float64\n",
              "面積（㎡）                                int64\n",
              "建築年                                float64\n",
              "建ぺい率（％）                            float64\n",
              "容積率（％）                             float64\n",
              "取引価格（総額）_log                       float64\n",
              "取引時点_enc                             int64\n",
              "都道府県名_te                           float64\n",
              "取引時点_何年前                             int64\n",
              "都道府県名                                int64\n",
              "市区町村名                                int64\n",
              "地区名                                  int64\n",
              "最寄駅：名称                               int64\n",
              "間取り                                  int64\n",
              "建物の構造                                int64\n",
              "用途                                   int64\n",
              "今後の利用目的                              int64\n",
              "都市計画                                 int64\n",
              "改装                                   int64\n",
              "取引の事情等                               int64\n",
              "面積（㎡）容積率（％）_combi                  float64\n",
              "agg_count_最寄駅：距離（分）_grpby_市区町村名      int64\n",
              "agg_count_面積（㎡）_grpby_市区町村名          int64\n",
              "agg_count_建ぺい率（％）_grpby_市区町村名        int64\n",
              "agg_count_容積率（％）_grpby_市区町村名         int64\n",
              "agg_mean_最寄駅：距離（分）_grpby_市区町村名     float64\n",
              "agg_mean_面積（㎡）_grpby_市区町村名         float64\n",
              "agg_mean_建ぺい率（％）_grpby_市区町村名       float64\n",
              "agg_mean_容積率（％）_grpby_市区町村名        float64\n",
              "agg_min_最寄駅：距離（分）_grpby_市区町村名      float64\n",
              "agg_min_面積（㎡）_grpby_市区町村名            int64\n",
              "agg_min_建ぺい率（％）_grpby_市区町村名        float64\n",
              "agg_min_容積率（％）_grpby_市区町村名         float64\n",
              "agg_max_最寄駅：距離（分）_grpby_市区町村名      float64\n",
              "agg_max_面積（㎡）_grpby_市区町村名            int64\n",
              "agg_max_建ぺい率（％）_grpby_市区町村名        float64\n",
              "agg_max_容積率（％）_grpby_市区町村名         float64\n",
              "dtype: object"
            ]
          },
          "metadata": {},
          "execution_count": 64
        }
      ]
    },
    {
      "cell_type": "markdown",
      "metadata": {
        "id": "gxbamqpbpRgh"
      },
      "source": [
        "モデル構築"
      ]
    },
    {
      "cell_type": "code",
      "metadata": {
        "id": "ivwB08IrpRgh",
        "colab": {
          "base_uri": "https://localhost:8080/"
        },
        "outputId": "dc01c041-ac10-40ee-e69b-36c31bf96db4"
      },
      "source": [
        "train_df = feat_df.iloc[:val_min_idx, :]\n",
        "val_df = feat_df.iloc[val_min_idx:test_min_idx, :]\n",
        "test_df = feat_df.iloc[test_min_idx:, :]\n",
        "print(train_df.shape, val_df.shape, test_df.shape)"
      ],
      "execution_count": null,
      "outputs": [
        {
          "output_type": "stream",
          "name": "stdout",
          "text": [
            "(663186, 38) (29696, 38) (22395, 38)\n"
          ]
        }
      ]
    },
    {
      "cell_type": "code",
      "metadata": {
        "id": "QAQjmbAypRgi"
      },
      "source": [
        "feat_cols = [col for col in train_df.columns if col not in rm_cols+[ID, TARGET]]"
      ],
      "execution_count": null,
      "outputs": []
    },
    {
      "cell_type": "code",
      "metadata": {
        "id": "7j7QCTotpRgi",
        "colab": {
          "base_uri": "https://localhost:8080/"
        },
        "outputId": "433d82ae-524d-4fcd-e74b-c9d9704753d4"
      },
      "source": [
        "cat_cols = list(le_df.columns) + ['取引時点_enc']\n",
        "cat_cols"
      ],
      "execution_count": null,
      "outputs": [
        {
          "output_type": "execute_result",
          "data": {
            "text/plain": [
              "['都道府県名',\n",
              " '市区町村名',\n",
              " '地区名',\n",
              " '最寄駅：名称',\n",
              " '間取り',\n",
              " '建物の構造',\n",
              " '用途',\n",
              " '今後の利用目的',\n",
              " '都市計画',\n",
              " '改装',\n",
              " '取引の事情等',\n",
              " '取引時点_enc']"
            ]
          },
          "metadata": {},
          "execution_count": 67
        }
      ]
    },
    {
      "cell_type": "code",
      "metadata": {
        "id": "IRMpya2wpRgi"
      },
      "source": [
        "train_x = train_df[feat_cols]\n",
        "train_y = train_df[TARGET]\n",
        "val_x = val_df[feat_cols]\n",
        "val_y = val_df[TARGET]\n",
        "test_x = test_df[feat_cols]\n",
        "test_y = test_df[TARGET]"
      ],
      "execution_count": null,
      "outputs": []
    },
    {
      "cell_type": "code",
      "metadata": {
        "id": "4Y5EH9v3pRgi",
        "colab": {
          "base_uri": "https://localhost:8080/"
        },
        "outputId": "769926ab-583d-45e5-a1ca-f341e8ac2e17"
      },
      "source": [
        "SEED = 0\n",
        "\n",
        "params = {\n",
        "    'objective': 'regression',\n",
        "    'metric': 'mae',\n",
        "    'num_leaves': 42,\n",
        "    'max_depth': 7,\n",
        "    \"feature_fraction\": 0.8,\n",
        "    'subsample_freq': 1,\n",
        "    \"bagging_fraction\": 0.95,\n",
        "    'min_data_in_leaf': 2,\n",
        "    'learning_rate': 0.1,\n",
        "    \"boosting\": \"gbdt\",\n",
        "    \"lambda_l1\": 0.1,\n",
        "    \"lambda_l2\": 10,\n",
        "    \"verbosity\": -1,\n",
        "    \"random_state\": 42,\n",
        "    \"num_boost_round\": 50000,\n",
        "    \"early_stopping_rounds\": 100\n",
        "}\n",
        "\n",
        "train_data = lgb.Dataset(train_x, label=train_y)\n",
        "val_data = lgb.Dataset(val_x, label=val_y)\n",
        "\n",
        "model = lgb.train(\n",
        "    params,\n",
        "    train_data, \n",
        "    categorical_feature = cat_cols,\n",
        "    valid_names = ['train', 'valid'],\n",
        "    valid_sets =[train_data, val_data], \n",
        "    verbose_eval = 100,\n",
        ")\n",
        "\n",
        "val_pred = model.predict(val_x, num_iteration=model.best_iteration)\n",
        "score = mean_absolute_error(val_y, val_pred)\n",
        "\n",
        "pred_df = pd.DataFrame(sorted(zip(val_x.index, val_pred, val_y)), columns=['index', 'predict', 'actual'])\n",
        "\n",
        "feature_imp = pd.DataFrame(sorted(zip(model.feature_importance(), train_x.columns)), columns=['importance', 'feature'])\n",
        "\n",
        "print(f'score: {score:.4f}')"
      ],
      "execution_count": null,
      "outputs": [
        {
          "output_type": "stream",
          "name": "stderr",
          "text": [
            "/usr/local/lib/python3.7/dist-packages/lightgbm/engine.py:118: UserWarning:\n",
            "\n",
            "Found `num_boost_round` in params. Will use it instead of argument\n",
            "\n",
            "/usr/local/lib/python3.7/dist-packages/lightgbm/engine.py:123: UserWarning:\n",
            "\n",
            "Found `early_stopping_rounds` in params. Will use it instead of argument\n",
            "\n",
            "/usr/local/lib/python3.7/dist-packages/lightgbm/basic.py:1209: UserWarning:\n",
            "\n",
            "categorical_feature in Dataset is overridden.\n",
            "New categorical_feature is ['今後の利用目的', '取引の事情等', '取引時点_enc', '地区名', '市区町村名', '建物の構造', '改装', '最寄駅：名称', '用途', '都市計画', '都道府県名', '間取り']\n",
            "\n",
            "/usr/local/lib/python3.7/dist-packages/lightgbm/basic.py:762: UserWarning:\n",
            "\n",
            "categorical_feature in param dict is overridden.\n",
            "\n"
          ]
        },
        {
          "output_type": "stream",
          "name": "stdout",
          "text": [
            "Training until validation scores don't improve for 100 rounds.\n",
            "[100]\ttrain's l1: 0.0807301\tvalid's l1: 0.0966969\n",
            "[200]\ttrain's l1: 0.0762669\tvalid's l1: 0.0928772\n",
            "[300]\ttrain's l1: 0.0740557\tvalid's l1: 0.0912554\n",
            "[400]\ttrain's l1: 0.0727316\tvalid's l1: 0.0905812\n",
            "[500]\ttrain's l1: 0.0716507\tvalid's l1: 0.0898871\n",
            "[600]\ttrain's l1: 0.070892\tvalid's l1: 0.0895448\n",
            "[700]\ttrain's l1: 0.0701991\tvalid's l1: 0.0893124\n",
            "[800]\ttrain's l1: 0.0696293\tvalid's l1: 0.0891491\n",
            "[900]\ttrain's l1: 0.0690775\tvalid's l1: 0.0889771\n",
            "[1000]\ttrain's l1: 0.0685964\tvalid's l1: 0.0889209\n",
            "[1100]\ttrain's l1: 0.0681322\tvalid's l1: 0.0887976\n",
            "[1200]\ttrain's l1: 0.0677527\tvalid's l1: 0.0886364\n",
            "[1300]\ttrain's l1: 0.0673888\tvalid's l1: 0.0885025\n",
            "[1400]\ttrain's l1: 0.0670236\tvalid's l1: 0.0885007\n",
            "[1500]\ttrain's l1: 0.0666843\tvalid's l1: 0.0884276\n",
            "[1600]\ttrain's l1: 0.066375\tvalid's l1: 0.0884069\n",
            "Early stopping, best iteration is:\n",
            "[1513]\ttrain's l1: 0.0666444\tvalid's l1: 0.0884013\n",
            "score: 0.0881\n"
          ]
        }
      ]
    },
    {
      "cell_type": "code",
      "metadata": {
        "id": "kTPeagN2pRgi",
        "colab": {
          "base_uri": "https://localhost:8080/",
          "height": 581
        },
        "outputId": "b94fd950-3470-4cf6-98cc-46a109693cdf"
      },
      "source": [
        "lgb.plot_importance(model, figsize=(12,8), max_num_features=50, importance_type='gain')\n",
        "plt.tight_layout()\n",
        "plt.savefig(BASE_PATH + 'output/feature_importance.png')\n",
        "plt.show()\n",
        "plt.close()"
      ],
      "execution_count": null,
      "outputs": [
        {
          "output_type": "display_data",
          "data": {
            "image/png": "[encoded data removed]",
            "text/plain": [
              "<Figure size 864x576 with 1 Axes>"
            ]
          },
          "metadata": {}
        }
      ]
    },
    {
      "cell_type": "code",
      "metadata": {
        "id": "fGbXh6MLpRgj"
      },
      "source": [
        "test_pred = model.predict(test_x, num_iteration=model.best_iteration)"
      ],
      "execution_count": null,
      "outputs": []
    },
    {
      "cell_type": "code",
      "metadata": {
        "id": "NLU97x851i2R",
        "colab": {
          "base_uri": "https://localhost:8080/"
        },
        "outputId": "b3a03943-20f7-466f-c2b9-3d7cdd36d0f8"
      },
      "source": [
        "test_df[TARGET] = test_pred"
      ],
      "execution_count": null,
      "outputs": [
        {
          "output_type": "stream",
          "name": "stderr",
          "text": [
            "/usr/local/lib/python3.7/dist-packages/ipykernel_launcher.py:1: SettingWithCopyWarning:\n",
            "\n",
            "\n",
            "A value is trying to be set on a copy of a slice from a DataFrame.\n",
            "Try using .loc[row_indexer,col_indexer] = value instead\n",
            "\n",
            "See the caveats in the documentation: https://pandas.pydata.org/pandas-docs/stable/user_guide/indexing.html#returning-a-view-versus-a-copy\n",
            "\n"
          ]
        }
      ]
    },
    {
      "cell_type": "code",
      "metadata": {
        "id": "1Uda2xkDpRgj"
      },
      "source": [
        "sub_df = pd.merge(sub_df[['ID']], test_df[['ID', TARGET]], on='ID')\n",
        "sub_df.to_csv(BASE_PATH + 'output/test_submission.csv', index=False)"
      ],
      "execution_count": null,
      "outputs": []
    },
    {
      "cell_type": "code",
      "metadata": {
        "id": "EZmWl0a4nqx1"
      },
      "source": [
        ""
      ],
      "execution_count": null,
      "outputs": []
    }
  ]
}