{
  "nbformat": 4,
  "nbformat_minor": 0,
  "metadata": {
    "language_info": {
      "codemirror_mode": {
        "name": "ipython",
        "version": 3
      },
      "file_extension": ".py",
      "mimetype": "text/x-python",
      "name": "python",
      "nbconvert_exporter": "python",
      "pygments_lexer": "ipython3",
      "version": "3.7.7-final"
    },
    "orig_nbformat": 2,
    "kernelspec": {
      "name": "python3",
      "display_name": "Python 3",
      "language": "python"
    },
    "colab": {
      "name": "tutorial_nishika_25_mansion.ipynb",
      "provenance": [],
      "collapsed_sections": [],
      "toc_visible": true,
      "include_colab_link": true
    }
  },
  "cells": [
    {
      "cell_type": "markdown",
      "metadata": {
        "id": "view-in-github",
        "colab_type": "text"
      },
      "source": [
        "<a href=\"https://colab.research.google.com/github/ymkge/competiton/blob/main/tutorial_nishika_25_mansion.ipynb\" target=\"_parent\"><img src=\"https://colab.research.google.com/assets/colab-badge.svg\" alt=\"Open In Colab\"/></a>"
      ]
    },
    {
      "cell_type": "markdown",
      "metadata": {
        "id": "Jvzp1lvQpRgU"
      },
      "source": [
        "# 不動産価格予測 2022冬の部"
      ]
    },
    {
      "cell_type": "markdown",
      "source": [
        "## googleドライブへのマウント"
      ],
      "metadata": {
        "id": "zeAjvMjL01yZ"
      }
    },
    {
      "cell_type": "code",
      "metadata": {
        "colab": {
          "base_uri": "https://localhost:8080/"
        },
        "id": "mTfOenlQpgwk",
        "outputId": "d47112d1-7624-4093-d764-30b56905f6f2"
      },
      "source": [
        "from google.colab import drive\n",
        "drive.mount('/content/drive')"
      ],
      "execution_count": 1,
      "outputs": [
        {
          "output_type": "stream",
          "name": "stdout",
          "text": [
            "Mounted at /content/drive\n"
          ]
        }
      ]
    },
    {
      "cell_type": "code",
      "metadata": {
        "id": "iOCruR1kmgaW"
      },
      "source": [
        "# googleドライブの作業用ディレクトリを設定\n",
        "YOUR_PATH = \"/content/drive/MyDrive/Notebooks/competition/used_condominium\""
      ],
      "execution_count": 23,
      "outputs": []
    },
    {
      "cell_type": "code",
      "metadata": {
        "id": "ocj0d3_WpgXk",
        "colab": {
          "base_uri": "https://localhost:8080/"
        },
        "outputId": "6ad062ff-10e7-443f-ee2b-45887565d370"
      },
      "source": [
        "cd {YOUR_PATH}"
      ],
      "execution_count": 24,
      "outputs": [
        {
          "output_type": "stream",
          "name": "stdout",
          "text": [
            "/content/drive/MyDrive/Notebooks/competition/used_condominium\n"
          ]
        }
      ]
    },
    {
      "cell_type": "markdown",
      "source": [
        "## 必要なライブラリのインストール(xfeatと日本語版matplotlib)"
      ],
      "metadata": {
        "id": "ATWQ8RDy1Kas"
      }
    },
    {
      "cell_type": "code",
      "metadata": {
        "id": "Xe_H3u1RpW0O"
      },
      "source": [
        "!pip install optuna xfeat japanize-matplotlib >> /dev/null"
      ],
      "execution_count": 17,
      "outputs": []
    },
    {
      "cell_type": "markdown",
      "source": [
        "## 必要なライブラリの読み出し"
      ],
      "metadata": {
        "id": "Ei4kXt9E1SQe"
      }
    },
    {
      "cell_type": "code",
      "metadata": {
        "id": "v1RMD76PpRgZ"
      },
      "source": [
        "import re\n",
        "\n",
        "import japanize_matplotlib\n",
        "import lightgbm as lgb\n",
        "import matplotlib.pyplot as plt\n",
        "import numpy as np\n",
        "import optuna\n",
        "import pandas as pd\n",
        "import seaborn as sns\n",
        "sns.set(font=\"IPAexGothic\")\n",
        "\n",
        "from glob import glob\n",
        "from functools import partial\n",
        "from sklearn.metrics import mean_absolute_error\n",
        "from sklearn.model_selection import KFold\n",
        "from xfeat import SelectCategorical, LabelEncoder, LambdaEncoder, Pipeline, ConcatCombination, SelectNumerical, \\\n",
        "    ArithmeticCombinations, TargetEncoder, aggregation, GBDTFeatureSelector, GBDTFeatureExplorer"
      ],
      "execution_count": 18,
      "outputs": []
    },
    {
      "cell_type": "markdown",
      "source": [
        "## モデル入力用データの整形処理の準備"
      ],
      "metadata": {
        "id": "9HUS6_E61Z3f"
      }
    },
    {
      "cell_type": "code",
      "metadata": {
        "id": "444i0jHmpRgb"
      },
      "source": [
        "def normalize_moyori(moyori):\n",
        "    if moyori == moyori:\n",
        "        if moyori == '30分?60分':\n",
        "            moyori = 45\n",
        "        elif moyori == '1H?1H30':\n",
        "            moyori = 75\n",
        "        elif moyori == '1H30?2H':\n",
        "            moyori = 105\n",
        "        elif moyori == '2H?':\n",
        "            moyori = 120\n",
        "        moyori = int(float(moyori))\n",
        "    return moyori"
      ],
      "execution_count": 19,
      "outputs": []
    },
    {
      "cell_type": "code",
      "metadata": {
        "id": "HOI6X5MjpRgb"
      },
      "source": [
        "def normalize_area(area):\n",
        "    if area == area:\n",
        "        area = int(re.sub('m\\^2未満|㎡以上', '', str(area)))\n",
        "    return area"
      ],
      "execution_count": 20,
      "outputs": []
    },
    {
      "cell_type": "code",
      "metadata": {
        "id": "B6UWeBQqpRgb"
      },
      "source": [
        "def convert_wareki_to_seireki(wareki):\n",
        "    if wareki == wareki:\n",
        "        if wareki == '戦前':\n",
        "            wareki = '昭和20年'\n",
        "        value = wareki[2:-1]\n",
        "        if value == '元':\n",
        "            value = 1\n",
        "        else:\n",
        "            value = int(value)\n",
        "        if '昭和' in wareki:\n",
        "            seireki = 1925+value\n",
        "        elif '平成' in wareki:\n",
        "            seireki = 1988+value\n",
        "        elif '令和' in wareki:\n",
        "            seireki = 2018+value\n",
        "    else:\n",
        "        seireki = wareki\n",
        "    return seireki"
      ],
      "execution_count": 21,
      "outputs": []
    },
    {
      "cell_type": "code",
      "source": [
        "!ls"
      ],
      "metadata": {
        "id": "GFHRREy1x5ez",
        "outputId": "4f5f49f4-b697-4fa1-d1d7-65056c2ef6de",
        "colab": {
          "base_uri": "https://localhost:8080/"
        }
      },
      "execution_count": 25,
      "outputs": [
        {
          "output_type": "stream",
          "name": "stdout",
          "text": [
            "data\n"
          ]
        }
      ]
    },
    {
      "cell_type": "markdown",
      "source": [
        "## コンペ用データをgoogleドライブへ以下のように設定する"
      ],
      "metadata": {
        "id": "mZveKlLM10hK"
      }
    },
    {
      "cell_type": "markdown",
      "metadata": {
        "id": "R_iHYSIypRgb"
      },
      "source": [
        "コンペデータ作成（利用カラム、目的変数など決める）"
      ]
    },
    {
      "cell_type": "markdown",
      "metadata": {
        "id": "8EwCrA9KDrOS"
      },
      "source": [
        "dataディレクトリ配下に以下のようにデータを格納しているとする\n",
        "\n",
        "├─ input<br>\n",
        "│   ├─ data_explanation.xlsx<br>\n",
        "│   ├─ sample_submission.csv<br>\n",
        "│   ├─ test.csv<br>\n",
        "│   └─ train<br>\n",
        "│       &nbsp;&nbsp;&nbsp;&nbsp;&nbsp;&nbsp;&nbsp;&nbsp;├─ 01.csv<br>\n",
        "│       &nbsp;&nbsp;&nbsp;&nbsp;&nbsp;&nbsp;&nbsp;&nbsp;├─ 02.csv<br>\n",
        "│       &nbsp;&nbsp;&nbsp;&nbsp;&nbsp;&nbsp;&nbsp;&nbsp;├─ 03.csv<br>\n",
        "│       &nbsp;&nbsp;&nbsp;&nbsp;&nbsp;&nbsp;&nbsp;&nbsp;├─ ...<br>\n",
        "│       &nbsp;&nbsp;&nbsp;&nbsp;&nbsp;&nbsp;&nbsp;&nbsp;└─ 47.csv<br>\n",
        "└─ output\n"
      ]
    },
    {
      "cell_type": "code",
      "metadata": {
        "id": "JnKbke99pRgc"
      },
      "source": [
        "BASE_PATH = './data/'"
      ],
      "execution_count": 26,
      "outputs": []
    },
    {
      "cell_type": "markdown",
      "source": [
        "## 学習用データの取り込み"
      ],
      "metadata": {
        "id": "ulFurPUN2F8h"
      }
    },
    {
      "cell_type": "code",
      "metadata": {
        "id": "dlvuK497pRgc",
        "colab": {
          "base_uri": "https://localhost:8080/"
        },
        "outputId": "4015fb88-1350-406e-e107-53e4af4f00e4"
      },
      "source": [
        "paths = glob(BASE_PATH + 'input/train/*')\n",
        "train_dfs = []\n",
        "for path in paths:\n",
        "    train_df = pd.read_csv(path)\n",
        "    train_dfs.append(train_df)\n",
        "train_df = pd.concat(train_dfs)\n",
        "train_df.reset_index(drop=True, inplace=True)\n",
        "test_df = pd.read_csv(BASE_PATH + 'input/test.csv')"
      ],
      "execution_count": 27,
      "outputs": [
        {
          "output_type": "stream",
          "name": "stderr",
          "text": [
            "/usr/local/lib/python3.7/dist-packages/IPython/core/interactiveshell.py:2882: DtypeWarning: Columns (10) have mixed types.Specify dtype option on import or set low_memory=False.\n",
            "  exec(code_obj, self.user_global_ns, self.user_ns)\n"
          ]
        }
      ]
    },
    {
      "cell_type": "code",
      "source": [
        "train_df.head()"
      ],
      "metadata": {
        "id": "IlMJXDoT2AhY",
        "outputId": "55f288b6-cd09-43e4-b40d-63fd964f1f19",
        "colab": {
          "base_uri": "https://localhost:8080/",
          "height": 392
        }
      },
      "execution_count": 57,
      "outputs": [
        {
          "output_type": "execute_result",
          "data": {
            "text/html": [
              "\n",
              "  <div id=\"df-7edf092b-961c-4f37-ac94-3d1da4a8af4f\">\n",
              "    <div class=\"colab-df-container\">\n",
              "      <div>\n",
              "<style scoped>\n",
              "    .dataframe tbody tr th:only-of-type {\n",
              "        vertical-align: middle;\n",
              "    }\n",
              "\n",
              "    .dataframe tbody tr th {\n",
              "        vertical-align: top;\n",
              "    }\n",
              "\n",
              "    .dataframe thead th {\n",
              "        text-align: right;\n",
              "    }\n",
              "</style>\n",
              "<table border=\"1\" class=\"dataframe\">\n",
              "  <thead>\n",
              "    <tr style=\"text-align: right;\">\n",
              "      <th></th>\n",
              "      <th>ID</th>\n",
              "      <th>最寄駅：距離（分）</th>\n",
              "      <th>面積（㎡）</th>\n",
              "      <th>建築年</th>\n",
              "      <th>建ぺい率（％）</th>\n",
              "      <th>容積率（％）</th>\n",
              "      <th>取引価格（総額）_log</th>\n",
              "      <th>取引時点_enc</th>\n",
              "      <th>都道府県名_te</th>\n",
              "      <th>取引時点_何年前</th>\n",
              "      <th>都道府県名</th>\n",
              "      <th>市区町村名</th>\n",
              "      <th>地区名</th>\n",
              "      <th>最寄駅：名称</th>\n",
              "      <th>間取り</th>\n",
              "      <th>建物の構造</th>\n",
              "      <th>用途</th>\n",
              "      <th>今後の利用目的</th>\n",
              "      <th>都市計画</th>\n",
              "      <th>改装</th>\n",
              "      <th>取引の事情等</th>\n",
              "      <th>面積（㎡）容積率（％）_combi</th>\n",
              "      <th>agg_count_最寄駅：距離（分）_grpby_市区町村名</th>\n",
              "      <th>agg_count_面積（㎡）_grpby_市区町村名</th>\n",
              "      <th>agg_count_建ぺい率（％）_grpby_市区町村名</th>\n",
              "      <th>agg_count_容積率（％）_grpby_市区町村名</th>\n",
              "      <th>agg_mean_最寄駅：距離（分）_grpby_市区町村名</th>\n",
              "      <th>agg_mean_面積（㎡）_grpby_市区町村名</th>\n",
              "      <th>agg_mean_建ぺい率（％）_grpby_市区町村名</th>\n",
              "      <th>agg_mean_容積率（％）_grpby_市区町村名</th>\n",
              "      <th>agg_min_最寄駅：距離（分）_grpby_市区町村名</th>\n",
              "      <th>agg_min_面積（㎡）_grpby_市区町村名</th>\n",
              "      <th>agg_min_建ぺい率（％）_grpby_市区町村名</th>\n",
              "      <th>agg_min_容積率（％）_grpby_市区町村名</th>\n",
              "      <th>agg_max_最寄駅：距離（分）_grpby_市区町村名</th>\n",
              "      <th>agg_max_面積（㎡）_grpby_市区町村名</th>\n",
              "      <th>agg_max_建ぺい率（％）_grpby_市区町村名</th>\n",
              "      <th>agg_max_容積率（％）_grpby_市区町村名</th>\n",
              "    </tr>\n",
              "  </thead>\n",
              "  <tbody>\n",
              "    <tr>\n",
              "      <th>0</th>\n",
              "      <td>23197559</td>\n",
              "      <td>NaN</td>\n",
              "      <td>65</td>\n",
              "      <td>1990.0</td>\n",
              "      <td>60.0</td>\n",
              "      <td>200.0</td>\n",
              "      <td>7.113943</td>\n",
              "      <td>0</td>\n",
              "      <td>0.0</td>\n",
              "      <td>16</td>\n",
              "      <td>0</td>\n",
              "      <td>0</td>\n",
              "      <td>0</td>\n",
              "      <td>0</td>\n",
              "      <td>0</td>\n",
              "      <td>0</td>\n",
              "      <td>0</td>\n",
              "      <td>-1</td>\n",
              "      <td>0</td>\n",
              "      <td>0</td>\n",
              "      <td>-1</td>\n",
              "      <td>130.0</td>\n",
              "      <td>1007</td>\n",
              "      <td>1069</td>\n",
              "      <td>1068</td>\n",
              "      <td>1068</td>\n",
              "      <td>11.051639</td>\n",
              "      <td>72.427502</td>\n",
              "      <td>66.292135</td>\n",
              "      <td>263.623596</td>\n",
              "      <td>1.0</td>\n",
              "      <td>20</td>\n",
              "      <td>60.0</td>\n",
              "      <td>150.0</td>\n",
              "      <td>45.0</td>\n",
              "      <td>165</td>\n",
              "      <td>80.0</td>\n",
              "      <td>600.0</td>\n",
              "    </tr>\n",
              "    <tr>\n",
              "      <th>1</th>\n",
              "      <td>13338234</td>\n",
              "      <td>3.0</td>\n",
              "      <td>20</td>\n",
              "      <td>2005.0</td>\n",
              "      <td>60.0</td>\n",
              "      <td>200.0</td>\n",
              "      <td>7.322219</td>\n",
              "      <td>0</td>\n",
              "      <td>0.0</td>\n",
              "      <td>16</td>\n",
              "      <td>1</td>\n",
              "      <td>1</td>\n",
              "      <td>1</td>\n",
              "      <td>1</td>\n",
              "      <td>1</td>\n",
              "      <td>0</td>\n",
              "      <td>0</td>\n",
              "      <td>-1</td>\n",
              "      <td>1</td>\n",
              "      <td>1</td>\n",
              "      <td>-1</td>\n",
              "      <td>40.0</td>\n",
              "      <td>7705</td>\n",
              "      <td>7946</td>\n",
              "      <td>7895</td>\n",
              "      <td>7895</td>\n",
              "      <td>7.127190</td>\n",
              "      <td>40.997357</td>\n",
              "      <td>69.022166</td>\n",
              "      <td>283.806206</td>\n",
              "      <td>0.0</td>\n",
              "      <td>10</td>\n",
              "      <td>30.0</td>\n",
              "      <td>60.0</td>\n",
              "      <td>120.0</td>\n",
              "      <td>470</td>\n",
              "      <td>80.0</td>\n",
              "      <td>600.0</td>\n",
              "    </tr>\n",
              "    <tr>\n",
              "      <th>2</th>\n",
              "      <td>14195846</td>\n",
              "      <td>NaN</td>\n",
              "      <td>85</td>\n",
              "      <td>1992.0</td>\n",
              "      <td>NaN</td>\n",
              "      <td>NaN</td>\n",
              "      <td>7.556303</td>\n",
              "      <td>0</td>\n",
              "      <td>0.0</td>\n",
              "      <td>16</td>\n",
              "      <td>2</td>\n",
              "      <td>2</td>\n",
              "      <td>2</td>\n",
              "      <td>2</td>\n",
              "      <td>2</td>\n",
              "      <td>1</td>\n",
              "      <td>0</td>\n",
              "      <td>-1</td>\n",
              "      <td>-1</td>\n",
              "      <td>0</td>\n",
              "      <td>-1</td>\n",
              "      <td>NaN</td>\n",
              "      <td>4725</td>\n",
              "      <td>5013</td>\n",
              "      <td>4702</td>\n",
              "      <td>4702</td>\n",
              "      <td>7.624974</td>\n",
              "      <td>45.796928</td>\n",
              "      <td>75.257337</td>\n",
              "      <td>463.717567</td>\n",
              "      <td>0.0</td>\n",
              "      <td>10</td>\n",
              "      <td>40.0</td>\n",
              "      <td>60.0</td>\n",
              "      <td>45.0</td>\n",
              "      <td>960</td>\n",
              "      <td>80.0</td>\n",
              "      <td>1200.0</td>\n",
              "    </tr>\n",
              "    <tr>\n",
              "      <th>3</th>\n",
              "      <td>14254201</td>\n",
              "      <td>6.0</td>\n",
              "      <td>45</td>\n",
              "      <td>NaN</td>\n",
              "      <td>NaN</td>\n",
              "      <td>NaN</td>\n",
              "      <td>6.863323</td>\n",
              "      <td>0</td>\n",
              "      <td>0.0</td>\n",
              "      <td>16</td>\n",
              "      <td>2</td>\n",
              "      <td>3</td>\n",
              "      <td>3</td>\n",
              "      <td>3</td>\n",
              "      <td>3</td>\n",
              "      <td>2</td>\n",
              "      <td>0</td>\n",
              "      <td>-1</td>\n",
              "      <td>-1</td>\n",
              "      <td>1</td>\n",
              "      <td>-1</td>\n",
              "      <td>NaN</td>\n",
              "      <td>2103</td>\n",
              "      <td>2159</td>\n",
              "      <td>2018</td>\n",
              "      <td>2018</td>\n",
              "      <td>23.269615</td>\n",
              "      <td>61.350162</td>\n",
              "      <td>59.405352</td>\n",
              "      <td>168.830525</td>\n",
              "      <td>0.0</td>\n",
              "      <td>15</td>\n",
              "      <td>40.0</td>\n",
              "      <td>80.0</td>\n",
              "      <td>120.0</td>\n",
              "      <td>1000</td>\n",
              "      <td>80.0</td>\n",
              "      <td>500.0</td>\n",
              "    </tr>\n",
              "    <tr>\n",
              "      <th>4</th>\n",
              "      <td>14279983</td>\n",
              "      <td>4.0</td>\n",
              "      <td>50</td>\n",
              "      <td>1974.0</td>\n",
              "      <td>NaN</td>\n",
              "      <td>NaN</td>\n",
              "      <td>7.079181</td>\n",
              "      <td>0</td>\n",
              "      <td>0.0</td>\n",
              "      <td>16</td>\n",
              "      <td>2</td>\n",
              "      <td>4</td>\n",
              "      <td>4</td>\n",
              "      <td>4</td>\n",
              "      <td>4</td>\n",
              "      <td>0</td>\n",
              "      <td>0</td>\n",
              "      <td>-1</td>\n",
              "      <td>-1</td>\n",
              "      <td>0</td>\n",
              "      <td>-1</td>\n",
              "      <td>NaN</td>\n",
              "      <td>3542</td>\n",
              "      <td>3752</td>\n",
              "      <td>3448</td>\n",
              "      <td>3448</td>\n",
              "      <td>13.905138</td>\n",
              "      <td>67.306770</td>\n",
              "      <td>59.477958</td>\n",
              "      <td>170.887471</td>\n",
              "      <td>0.0</td>\n",
              "      <td>15</td>\n",
              "      <td>30.0</td>\n",
              "      <td>60.0</td>\n",
              "      <td>120.0</td>\n",
              "      <td>210</td>\n",
              "      <td>80.0</td>\n",
              "      <td>500.0</td>\n",
              "    </tr>\n",
              "  </tbody>\n",
              "</table>\n",
              "</div>\n",
              "      <button class=\"colab-df-convert\" onclick=\"convertToInteractive('df-7edf092b-961c-4f37-ac94-3d1da4a8af4f')\"\n",
              "              title=\"Convert this dataframe to an interactive table.\"\n",
              "              style=\"display:none;\">\n",
              "        \n",
              "  <svg xmlns=\"http://www.w3.org/2000/svg\" height=\"24px\"viewBox=\"0 0 24 24\"\n",
              "       width=\"24px\">\n",
              "    <path d=\"M0 0h24v24H0V0z\" fill=\"none\"/>\n",
              "    <path d=\"M18.56 5.44l.94 2.06.94-2.06 2.06-.94-2.06-.94-.94-2.06-.94 2.06-2.06.94zm-11 1L8.5 8.5l.94-2.06 2.06-.94-2.06-.94L8.5 2.5l-.94 2.06-2.06.94zm10 10l.94 2.06.94-2.06 2.06-.94-2.06-.94-.94-2.06-.94 2.06-2.06.94z\"/><path d=\"M17.41 7.96l-1.37-1.37c-.4-.4-.92-.59-1.43-.59-.52 0-1.04.2-1.43.59L10.3 9.45l-7.72 7.72c-.78.78-.78 2.05 0 2.83L4 21.41c.39.39.9.59 1.41.59.51 0 1.02-.2 1.41-.59l7.78-7.78 2.81-2.81c.8-.78.8-2.07 0-2.86zM5.41 20L4 18.59l7.72-7.72 1.47 1.35L5.41 20z\"/>\n",
              "  </svg>\n",
              "      </button>\n",
              "      \n",
              "  <style>\n",
              "    .colab-df-container {\n",
              "      display:flex;\n",
              "      flex-wrap:wrap;\n",
              "      gap: 12px;\n",
              "    }\n",
              "\n",
              "    .colab-df-convert {\n",
              "      background-color: #E8F0FE;\n",
              "      border: none;\n",
              "      border-radius: 50%;\n",
              "      cursor: pointer;\n",
              "      display: none;\n",
              "      fill: #1967D2;\n",
              "      height: 32px;\n",
              "      padding: 0 0 0 0;\n",
              "      width: 32px;\n",
              "    }\n",
              "\n",
              "    .colab-df-convert:hover {\n",
              "      background-color: #E2EBFA;\n",
              "      box-shadow: 0px 1px 2px rgba(60, 64, 67, 0.3), 0px 1px 3px 1px rgba(60, 64, 67, 0.15);\n",
              "      fill: #174EA6;\n",
              "    }\n",
              "\n",
              "    [theme=dark] .colab-df-convert {\n",
              "      background-color: #3B4455;\n",
              "      fill: #D2E3FC;\n",
              "    }\n",
              "\n",
              "    [theme=dark] .colab-df-convert:hover {\n",
              "      background-color: #434B5C;\n",
              "      box-shadow: 0px 1px 3px 1px rgba(0, 0, 0, 0.15);\n",
              "      filter: drop-shadow(0px 1px 2px rgba(0, 0, 0, 0.3));\n",
              "      fill: #FFFFFF;\n",
              "    }\n",
              "  </style>\n",
              "\n",
              "      <script>\n",
              "        const buttonEl =\n",
              "          document.querySelector('#df-7edf092b-961c-4f37-ac94-3d1da4a8af4f button.colab-df-convert');\n",
              "        buttonEl.style.display =\n",
              "          google.colab.kernel.accessAllowed ? 'block' : 'none';\n",
              "\n",
              "        async function convertToInteractive(key) {\n",
              "          const element = document.querySelector('#df-7edf092b-961c-4f37-ac94-3d1da4a8af4f');\n",
              "          const dataTable =\n",
              "            await google.colab.kernel.invokeFunction('convertToInteractive',\n",
              "                                                     [key], {});\n",
              "          if (!dataTable) return;\n",
              "\n",
              "          const docLinkHtml = 'Like what you see? Visit the ' +\n",
              "            '<a target=\"_blank\" href=https://colab.research.google.com/notebooks/data_table.ipynb>data table notebook</a>'\n",
              "            + ' to learn more about interactive tables.';\n",
              "          element.innerHTML = '';\n",
              "          dataTable['output_type'] = 'display_data';\n",
              "          await google.colab.output.renderOutput(dataTable, element);\n",
              "          const docLink = document.createElement('div');\n",
              "          docLink.innerHTML = docLinkHtml;\n",
              "          element.appendChild(docLink);\n",
              "        }\n",
              "      </script>\n",
              "    </div>\n",
              "  </div>\n",
              "  "
            ],
            "text/plain": [
              "         ID  最寄駅：距離（分）  ...  agg_max_建ぺい率（％）_grpby_市区町村名  agg_max_容積率（％）_grpby_市区町村名\n",
              "0  23197559        NaN  ...                         80.0                       600.0\n",
              "1  13338234        3.0  ...                         80.0                       600.0\n",
              "2  14195846        NaN  ...                         80.0                      1200.0\n",
              "3  14254201        6.0  ...                         80.0                       500.0\n",
              "4  14279983        4.0  ...                         80.0                       500.0\n",
              "\n",
              "[5 rows x 38 columns]"
            ]
          },
          "metadata": {},
          "execution_count": 57
        }
      ]
    },
    {
      "cell_type": "code",
      "source": [
        "test_df.head()"
      ],
      "metadata": {
        "id": "ZeGSevd_2Aja",
        "outputId": "76bc3e63-6015-4057-ce9d-3c51476a664c",
        "colab": {
          "base_uri": "https://localhost:8080/",
          "height": 392
        }
      },
      "execution_count": 58,
      "outputs": [
        {
          "output_type": "execute_result",
          "data": {
            "text/html": [
              "\n",
              "  <div id=\"df-5375893d-55d8-458c-8c29-6f1e1105524f\">\n",
              "    <div class=\"colab-df-container\">\n",
              "      <div>\n",
              "<style scoped>\n",
              "    .dataframe tbody tr th:only-of-type {\n",
              "        vertical-align: middle;\n",
              "    }\n",
              "\n",
              "    .dataframe tbody tr th {\n",
              "        vertical-align: top;\n",
              "    }\n",
              "\n",
              "    .dataframe thead th {\n",
              "        text-align: right;\n",
              "    }\n",
              "</style>\n",
              "<table border=\"1\" class=\"dataframe\">\n",
              "  <thead>\n",
              "    <tr style=\"text-align: right;\">\n",
              "      <th></th>\n",
              "      <th>ID</th>\n",
              "      <th>最寄駅：距離（分）</th>\n",
              "      <th>面積（㎡）</th>\n",
              "      <th>建築年</th>\n",
              "      <th>建ぺい率（％）</th>\n",
              "      <th>容積率（％）</th>\n",
              "      <th>取引価格（総額）_log</th>\n",
              "      <th>取引時点_enc</th>\n",
              "      <th>都道府県名_te</th>\n",
              "      <th>取引時点_何年前</th>\n",
              "      <th>都道府県名</th>\n",
              "      <th>市区町村名</th>\n",
              "      <th>地区名</th>\n",
              "      <th>最寄駅：名称</th>\n",
              "      <th>間取り</th>\n",
              "      <th>建物の構造</th>\n",
              "      <th>用途</th>\n",
              "      <th>今後の利用目的</th>\n",
              "      <th>都市計画</th>\n",
              "      <th>改装</th>\n",
              "      <th>取引の事情等</th>\n",
              "      <th>面積（㎡）容積率（％）_combi</th>\n",
              "      <th>agg_count_最寄駅：距離（分）_grpby_市区町村名</th>\n",
              "      <th>agg_count_面積（㎡）_grpby_市区町村名</th>\n",
              "      <th>agg_count_建ぺい率（％）_grpby_市区町村名</th>\n",
              "      <th>agg_count_容積率（％）_grpby_市区町村名</th>\n",
              "      <th>agg_mean_最寄駅：距離（分）_grpby_市区町村名</th>\n",
              "      <th>agg_mean_面積（㎡）_grpby_市区町村名</th>\n",
              "      <th>agg_mean_建ぺい率（％）_grpby_市区町村名</th>\n",
              "      <th>agg_mean_容積率（％）_grpby_市区町村名</th>\n",
              "      <th>agg_min_最寄駅：距離（分）_grpby_市区町村名</th>\n",
              "      <th>agg_min_面積（㎡）_grpby_市区町村名</th>\n",
              "      <th>agg_min_建ぺい率（％）_grpby_市区町村名</th>\n",
              "      <th>agg_min_容積率（％）_grpby_市区町村名</th>\n",
              "      <th>agg_max_最寄駅：距離（分）_grpby_市区町村名</th>\n",
              "      <th>agg_max_面積（㎡）_grpby_市区町村名</th>\n",
              "      <th>agg_max_建ぺい率（％）_grpby_市区町村名</th>\n",
              "      <th>agg_max_容積率（％）_grpby_市区町村名</th>\n",
              "    </tr>\n",
              "  </thead>\n",
              "  <tbody>\n",
              "    <tr>\n",
              "      <th>692882</th>\n",
              "      <td>14066782</td>\n",
              "      <td>9.0</td>\n",
              "      <td>70</td>\n",
              "      <td>2006.0</td>\n",
              "      <td>60.0</td>\n",
              "      <td>200.0</td>\n",
              "      <td>7.499662</td>\n",
              "      <td>62</td>\n",
              "      <td>7.269257</td>\n",
              "      <td>0</td>\n",
              "      <td>2</td>\n",
              "      <td>59</td>\n",
              "      <td>843</td>\n",
              "      <td>869</td>\n",
              "      <td>0</td>\n",
              "      <td>0</td>\n",
              "      <td>0</td>\n",
              "      <td>0</td>\n",
              "      <td>5</td>\n",
              "      <td>1</td>\n",
              "      <td>-1</td>\n",
              "      <td>140.0</td>\n",
              "      <td>1856</td>\n",
              "      <td>1970</td>\n",
              "      <td>1758</td>\n",
              "      <td>1758</td>\n",
              "      <td>10.186961</td>\n",
              "      <td>58.42132</td>\n",
              "      <td>60.011377</td>\n",
              "      <td>193.498294</td>\n",
              "      <td>1.0</td>\n",
              "      <td>10</td>\n",
              "      <td>40.0</td>\n",
              "      <td>80.0</td>\n",
              "      <td>45.0</td>\n",
              "      <td>480</td>\n",
              "      <td>80.0</td>\n",
              "      <td>500.0</td>\n",
              "    </tr>\n",
              "    <tr>\n",
              "      <th>692883</th>\n",
              "      <td>14068138</td>\n",
              "      <td>3.0</td>\n",
              "      <td>65</td>\n",
              "      <td>1983.0</td>\n",
              "      <td>60.0</td>\n",
              "      <td>200.0</td>\n",
              "      <td>7.339282</td>\n",
              "      <td>62</td>\n",
              "      <td>7.269257</td>\n",
              "      <td>0</td>\n",
              "      <td>2</td>\n",
              "      <td>59</td>\n",
              "      <td>213</td>\n",
              "      <td>253</td>\n",
              "      <td>0</td>\n",
              "      <td>0</td>\n",
              "      <td>0</td>\n",
              "      <td>0</td>\n",
              "      <td>0</td>\n",
              "      <td>1</td>\n",
              "      <td>-1</td>\n",
              "      <td>130.0</td>\n",
              "      <td>1856</td>\n",
              "      <td>1970</td>\n",
              "      <td>1758</td>\n",
              "      <td>1758</td>\n",
              "      <td>10.186961</td>\n",
              "      <td>58.42132</td>\n",
              "      <td>60.011377</td>\n",
              "      <td>193.498294</td>\n",
              "      <td>1.0</td>\n",
              "      <td>10</td>\n",
              "      <td>40.0</td>\n",
              "      <td>80.0</td>\n",
              "      <td>45.0</td>\n",
              "      <td>480</td>\n",
              "      <td>80.0</td>\n",
              "      <td>500.0</td>\n",
              "    </tr>\n",
              "    <tr>\n",
              "      <th>692884</th>\n",
              "      <td>14066817</td>\n",
              "      <td>14.0</td>\n",
              "      <td>70</td>\n",
              "      <td>1987.0</td>\n",
              "      <td>60.0</td>\n",
              "      <td>200.0</td>\n",
              "      <td>7.388534</td>\n",
              "      <td>62</td>\n",
              "      <td>7.269257</td>\n",
              "      <td>0</td>\n",
              "      <td>2</td>\n",
              "      <td>59</td>\n",
              "      <td>843</td>\n",
              "      <td>124</td>\n",
              "      <td>0</td>\n",
              "      <td>0</td>\n",
              "      <td>0</td>\n",
              "      <td>0</td>\n",
              "      <td>8</td>\n",
              "      <td>0</td>\n",
              "      <td>-1</td>\n",
              "      <td>140.0</td>\n",
              "      <td>1856</td>\n",
              "      <td>1970</td>\n",
              "      <td>1758</td>\n",
              "      <td>1758</td>\n",
              "      <td>10.186961</td>\n",
              "      <td>58.42132</td>\n",
              "      <td>60.011377</td>\n",
              "      <td>193.498294</td>\n",
              "      <td>1.0</td>\n",
              "      <td>10</td>\n",
              "      <td>40.0</td>\n",
              "      <td>80.0</td>\n",
              "      <td>45.0</td>\n",
              "      <td>480</td>\n",
              "      <td>80.0</td>\n",
              "      <td>500.0</td>\n",
              "    </tr>\n",
              "    <tr>\n",
              "      <th>692885</th>\n",
              "      <td>14067326</td>\n",
              "      <td>12.0</td>\n",
              "      <td>65</td>\n",
              "      <td>1986.0</td>\n",
              "      <td>60.0</td>\n",
              "      <td>200.0</td>\n",
              "      <td>7.350723</td>\n",
              "      <td>62</td>\n",
              "      <td>7.269257</td>\n",
              "      <td>0</td>\n",
              "      <td>2</td>\n",
              "      <td>59</td>\n",
              "      <td>1982</td>\n",
              "      <td>763</td>\n",
              "      <td>0</td>\n",
              "      <td>0</td>\n",
              "      <td>0</td>\n",
              "      <td>0</td>\n",
              "      <td>0</td>\n",
              "      <td>0</td>\n",
              "      <td>-1</td>\n",
              "      <td>130.0</td>\n",
              "      <td>1856</td>\n",
              "      <td>1970</td>\n",
              "      <td>1758</td>\n",
              "      <td>1758</td>\n",
              "      <td>10.186961</td>\n",
              "      <td>58.42132</td>\n",
              "      <td>60.011377</td>\n",
              "      <td>193.498294</td>\n",
              "      <td>1.0</td>\n",
              "      <td>10</td>\n",
              "      <td>40.0</td>\n",
              "      <td>80.0</td>\n",
              "      <td>45.0</td>\n",
              "      <td>480</td>\n",
              "      <td>80.0</td>\n",
              "      <td>500.0</td>\n",
              "    </tr>\n",
              "    <tr>\n",
              "      <th>692886</th>\n",
              "      <td>14067555</td>\n",
              "      <td>7.0</td>\n",
              "      <td>20</td>\n",
              "      <td>1987.0</td>\n",
              "      <td>60.0</td>\n",
              "      <td>200.0</td>\n",
              "      <td>6.742733</td>\n",
              "      <td>62</td>\n",
              "      <td>7.269257</td>\n",
              "      <td>0</td>\n",
              "      <td>2</td>\n",
              "      <td>59</td>\n",
              "      <td>178</td>\n",
              "      <td>161</td>\n",
              "      <td>-1</td>\n",
              "      <td>0</td>\n",
              "      <td>0</td>\n",
              "      <td>0</td>\n",
              "      <td>8</td>\n",
              "      <td>1</td>\n",
              "      <td>-1</td>\n",
              "      <td>40.0</td>\n",
              "      <td>1856</td>\n",
              "      <td>1970</td>\n",
              "      <td>1758</td>\n",
              "      <td>1758</td>\n",
              "      <td>10.186961</td>\n",
              "      <td>58.42132</td>\n",
              "      <td>60.011377</td>\n",
              "      <td>193.498294</td>\n",
              "      <td>1.0</td>\n",
              "      <td>10</td>\n",
              "      <td>40.0</td>\n",
              "      <td>80.0</td>\n",
              "      <td>45.0</td>\n",
              "      <td>480</td>\n",
              "      <td>80.0</td>\n",
              "      <td>500.0</td>\n",
              "    </tr>\n",
              "  </tbody>\n",
              "</table>\n",
              "</div>\n",
              "      <button class=\"colab-df-convert\" onclick=\"convertToInteractive('df-5375893d-55d8-458c-8c29-6f1e1105524f')\"\n",
              "              title=\"Convert this dataframe to an interactive table.\"\n",
              "              style=\"display:none;\">\n",
              "        \n",
              "  <svg xmlns=\"http://www.w3.org/2000/svg\" height=\"24px\"viewBox=\"0 0 24 24\"\n",
              "       width=\"24px\">\n",
              "    <path d=\"M0 0h24v24H0V0z\" fill=\"none\"/>\n",
              "    <path d=\"M18.56 5.44l.94 2.06.94-2.06 2.06-.94-2.06-.94-.94-2.06-.94 2.06-2.06.94zm-11 1L8.5 8.5l.94-2.06 2.06-.94-2.06-.94L8.5 2.5l-.94 2.06-2.06.94zm10 10l.94 2.06.94-2.06 2.06-.94-2.06-.94-.94-2.06-.94 2.06-2.06.94z\"/><path d=\"M17.41 7.96l-1.37-1.37c-.4-.4-.92-.59-1.43-.59-.52 0-1.04.2-1.43.59L10.3 9.45l-7.72 7.72c-.78.78-.78 2.05 0 2.83L4 21.41c.39.39.9.59 1.41.59.51 0 1.02-.2 1.41-.59l7.78-7.78 2.81-2.81c.8-.78.8-2.07 0-2.86zM5.41 20L4 18.59l7.72-7.72 1.47 1.35L5.41 20z\"/>\n",
              "  </svg>\n",
              "      </button>\n",
              "      \n",
              "  <style>\n",
              "    .colab-df-container {\n",
              "      display:flex;\n",
              "      flex-wrap:wrap;\n",
              "      gap: 12px;\n",
              "    }\n",
              "\n",
              "    .colab-df-convert {\n",
              "      background-color: #E8F0FE;\n",
              "      border: none;\n",
              "      border-radius: 50%;\n",
              "      cursor: pointer;\n",
              "      display: none;\n",
              "      fill: #1967D2;\n",
              "      height: 32px;\n",
              "      padding: 0 0 0 0;\n",
              "      width: 32px;\n",
              "    }\n",
              "\n",
              "    .colab-df-convert:hover {\n",
              "      background-color: #E2EBFA;\n",
              "      box-shadow: 0px 1px 2px rgba(60, 64, 67, 0.3), 0px 1px 3px 1px rgba(60, 64, 67, 0.15);\n",
              "      fill: #174EA6;\n",
              "    }\n",
              "\n",
              "    [theme=dark] .colab-df-convert {\n",
              "      background-color: #3B4455;\n",
              "      fill: #D2E3FC;\n",
              "    }\n",
              "\n",
              "    [theme=dark] .colab-df-convert:hover {\n",
              "      background-color: #434B5C;\n",
              "      box-shadow: 0px 1px 3px 1px rgba(0, 0, 0, 0.15);\n",
              "      filter: drop-shadow(0px 1px 2px rgba(0, 0, 0, 0.3));\n",
              "      fill: #FFFFFF;\n",
              "    }\n",
              "  </style>\n",
              "\n",
              "      <script>\n",
              "        const buttonEl =\n",
              "          document.querySelector('#df-5375893d-55d8-458c-8c29-6f1e1105524f button.colab-df-convert');\n",
              "        buttonEl.style.display =\n",
              "          google.colab.kernel.accessAllowed ? 'block' : 'none';\n",
              "\n",
              "        async function convertToInteractive(key) {\n",
              "          const element = document.querySelector('#df-5375893d-55d8-458c-8c29-6f1e1105524f');\n",
              "          const dataTable =\n",
              "            await google.colab.kernel.invokeFunction('convertToInteractive',\n",
              "                                                     [key], {});\n",
              "          if (!dataTable) return;\n",
              "\n",
              "          const docLinkHtml = 'Like what you see? Visit the ' +\n",
              "            '<a target=\"_blank\" href=https://colab.research.google.com/notebooks/data_table.ipynb>data table notebook</a>'\n",
              "            + ' to learn more about interactive tables.';\n",
              "          element.innerHTML = '';\n",
              "          dataTable['output_type'] = 'display_data';\n",
              "          await google.colab.output.renderOutput(dataTable, element);\n",
              "          const docLink = document.createElement('div');\n",
              "          docLink.innerHTML = docLinkHtml;\n",
              "          element.appendChild(docLink);\n",
              "        }\n",
              "      </script>\n",
              "    </div>\n",
              "  </div>\n",
              "  "
            ],
            "text/plain": [
              "              ID  ...  agg_max_容積率（％）_grpby_市区町村名\n",
              "692882  14066782  ...                       500.0\n",
              "692883  14068138  ...                       500.0\n",
              "692884  14066817  ...                       500.0\n",
              "692885  14067326  ...                       500.0\n",
              "692886  14067555  ...                       500.0\n",
              "\n",
              "[5 rows x 38 columns]"
            ]
          },
          "metadata": {},
          "execution_count": 58
        }
      ]
    },
    {
      "cell_type": "markdown",
      "source": [
        "## NULLのある項目を確認"
      ],
      "metadata": {
        "id": "rmB4cSmQ2YHk"
      }
    },
    {
      "cell_type": "code",
      "metadata": {
        "id": "evmYy0RDpRgc",
        "colab": {
          "base_uri": "https://localhost:8080/"
        },
        "outputId": "c8a983a4-76e5-477a-e142-8de2500f65fc"
      },
      "source": [
        "train_df.isnull().sum()"
      ],
      "execution_count": 28,
      "outputs": [
        {
          "output_type": "execute_result",
          "data": {
            "text/plain": [
              "ID                   0\n",
              "種類                   0\n",
              "地域              692882\n",
              "市区町村コード              0\n",
              "都道府県名                0\n",
              "市区町村名                0\n",
              "地区名                661\n",
              "最寄駅：名称            2695\n",
              "最寄駅：距離（分）        23121\n",
              "間取り              24432\n",
              "面積（㎡）                0\n",
              "土地の形状           692882\n",
              "間口              692882\n",
              "延床面積（㎡）         692882\n",
              "建築年              20074\n",
              "建物の構造            17386\n",
              "用途               62613\n",
              "今後の利用目的         364738\n",
              "前面道路：方位         692882\n",
              "前面道路：種類         692882\n",
              "前面道路：幅員（ｍ）      692882\n",
              "都市計画             19425\n",
              "建ぺい率（％）          23625\n",
              "容積率（％）           23625\n",
              "取引時点                 0\n",
              "改装               64026\n",
              "取引の事情等          674203\n",
              "取引価格（総額）_log         0\n",
              "dtype: int64"
            ]
          },
          "metadata": {},
          "execution_count": 28
        }
      ]
    },
    {
      "cell_type": "code",
      "metadata": {
        "id": "SehETeyUpRgd"
      },
      "source": [
        "sub_df = pd.read_csv(BASE_PATH + 'input/sample_submission.csv')"
      ],
      "execution_count": 29,
      "outputs": []
    },
    {
      "cell_type": "code",
      "source": [
        "sub_df"
      ],
      "metadata": {
        "id": "SEyOd5Y-2f7z",
        "outputId": "87a0f65e-8f62-41d1-d736-3286c8320ff2",
        "colab": {
          "base_uri": "https://localhost:8080/",
          "height": 424
        }
      },
      "execution_count": 59,
      "outputs": [
        {
          "output_type": "execute_result",
          "data": {
            "text/html": [
              "\n",
              "  <div id=\"df-3c3bc910-90eb-4570-b66a-76bd84ce1bf8\">\n",
              "    <div class=\"colab-df-container\">\n",
              "      <div>\n",
              "<style scoped>\n",
              "    .dataframe tbody tr th:only-of-type {\n",
              "        vertical-align: middle;\n",
              "    }\n",
              "\n",
              "    .dataframe tbody tr th {\n",
              "        vertical-align: top;\n",
              "    }\n",
              "\n",
              "    .dataframe thead th {\n",
              "        text-align: right;\n",
              "    }\n",
              "</style>\n",
              "<table border=\"1\" class=\"dataframe\">\n",
              "  <thead>\n",
              "    <tr style=\"text-align: right;\">\n",
              "      <th></th>\n",
              "      <th>ID</th>\n",
              "      <th>取引価格（総額）_log</th>\n",
              "    </tr>\n",
              "  </thead>\n",
              "  <tbody>\n",
              "    <tr>\n",
              "      <th>0</th>\n",
              "      <td>1000001</td>\n",
              "      <td>7.067838</td>\n",
              "    </tr>\n",
              "    <tr>\n",
              "      <th>1</th>\n",
              "      <td>1000002</td>\n",
              "      <td>7.320210</td>\n",
              "    </tr>\n",
              "    <tr>\n",
              "      <th>2</th>\n",
              "      <td>1000066</td>\n",
              "      <td>7.460405</td>\n",
              "    </tr>\n",
              "    <tr>\n",
              "      <th>3</th>\n",
              "      <td>1000119</td>\n",
              "      <td>6.931960</td>\n",
              "    </tr>\n",
              "    <tr>\n",
              "      <th>4</th>\n",
              "      <td>1000120</td>\n",
              "      <td>6.933208</td>\n",
              "    </tr>\n",
              "    <tr>\n",
              "      <th>...</th>\n",
              "      <td>...</td>\n",
              "      <td>...</td>\n",
              "    </tr>\n",
              "    <tr>\n",
              "      <th>22390</th>\n",
              "      <td>47006237</td>\n",
              "      <td>7.495266</td>\n",
              "    </tr>\n",
              "    <tr>\n",
              "      <th>22391</th>\n",
              "      <td>47006258</td>\n",
              "      <td>7.443273</td>\n",
              "    </tr>\n",
              "    <tr>\n",
              "      <th>22392</th>\n",
              "      <td>47006316</td>\n",
              "      <td>7.363863</td>\n",
              "    </tr>\n",
              "    <tr>\n",
              "      <th>22393</th>\n",
              "      <td>47006474</td>\n",
              "      <td>7.376567</td>\n",
              "    </tr>\n",
              "    <tr>\n",
              "      <th>22394</th>\n",
              "      <td>47007577</td>\n",
              "      <td>7.625014</td>\n",
              "    </tr>\n",
              "  </tbody>\n",
              "</table>\n",
              "<p>22395 rows × 2 columns</p>\n",
              "</div>\n",
              "      <button class=\"colab-df-convert\" onclick=\"convertToInteractive('df-3c3bc910-90eb-4570-b66a-76bd84ce1bf8')\"\n",
              "              title=\"Convert this dataframe to an interactive table.\"\n",
              "              style=\"display:none;\">\n",
              "        \n",
              "  <svg xmlns=\"http://www.w3.org/2000/svg\" height=\"24px\"viewBox=\"0 0 24 24\"\n",
              "       width=\"24px\">\n",
              "    <path d=\"M0 0h24v24H0V0z\" fill=\"none\"/>\n",
              "    <path d=\"M18.56 5.44l.94 2.06.94-2.06 2.06-.94-2.06-.94-.94-2.06-.94 2.06-2.06.94zm-11 1L8.5 8.5l.94-2.06 2.06-.94-2.06-.94L8.5 2.5l-.94 2.06-2.06.94zm10 10l.94 2.06.94-2.06 2.06-.94-2.06-.94-.94-2.06-.94 2.06-2.06.94z\"/><path d=\"M17.41 7.96l-1.37-1.37c-.4-.4-.92-.59-1.43-.59-.52 0-1.04.2-1.43.59L10.3 9.45l-7.72 7.72c-.78.78-.78 2.05 0 2.83L4 21.41c.39.39.9.59 1.41.59.51 0 1.02-.2 1.41-.59l7.78-7.78 2.81-2.81c.8-.78.8-2.07 0-2.86zM5.41 20L4 18.59l7.72-7.72 1.47 1.35L5.41 20z\"/>\n",
              "  </svg>\n",
              "      </button>\n",
              "      \n",
              "  <style>\n",
              "    .colab-df-container {\n",
              "      display:flex;\n",
              "      flex-wrap:wrap;\n",
              "      gap: 12px;\n",
              "    }\n",
              "\n",
              "    .colab-df-convert {\n",
              "      background-color: #E8F0FE;\n",
              "      border: none;\n",
              "      border-radius: 50%;\n",
              "      cursor: pointer;\n",
              "      display: none;\n",
              "      fill: #1967D2;\n",
              "      height: 32px;\n",
              "      padding: 0 0 0 0;\n",
              "      width: 32px;\n",
              "    }\n",
              "\n",
              "    .colab-df-convert:hover {\n",
              "      background-color: #E2EBFA;\n",
              "      box-shadow: 0px 1px 2px rgba(60, 64, 67, 0.3), 0px 1px 3px 1px rgba(60, 64, 67, 0.15);\n",
              "      fill: #174EA6;\n",
              "    }\n",
              "\n",
              "    [theme=dark] .colab-df-convert {\n",
              "      background-color: #3B4455;\n",
              "      fill: #D2E3FC;\n",
              "    }\n",
              "\n",
              "    [theme=dark] .colab-df-convert:hover {\n",
              "      background-color: #434B5C;\n",
              "      box-shadow: 0px 1px 3px 1px rgba(0, 0, 0, 0.15);\n",
              "      filter: drop-shadow(0px 1px 2px rgba(0, 0, 0, 0.3));\n",
              "      fill: #FFFFFF;\n",
              "    }\n",
              "  </style>\n",
              "\n",
              "      <script>\n",
              "        const buttonEl =\n",
              "          document.querySelector('#df-3c3bc910-90eb-4570-b66a-76bd84ce1bf8 button.colab-df-convert');\n",
              "        buttonEl.style.display =\n",
              "          google.colab.kernel.accessAllowed ? 'block' : 'none';\n",
              "\n",
              "        async function convertToInteractive(key) {\n",
              "          const element = document.querySelector('#df-3c3bc910-90eb-4570-b66a-76bd84ce1bf8');\n",
              "          const dataTable =\n",
              "            await google.colab.kernel.invokeFunction('convertToInteractive',\n",
              "                                                     [key], {});\n",
              "          if (!dataTable) return;\n",
              "\n",
              "          const docLinkHtml = 'Like what you see? Visit the ' +\n",
              "            '<a target=\"_blank\" href=https://colab.research.google.com/notebooks/data_table.ipynb>data table notebook</a>'\n",
              "            + ' to learn more about interactive tables.';\n",
              "          element.innerHTML = '';\n",
              "          dataTable['output_type'] = 'display_data';\n",
              "          await google.colab.output.renderOutput(dataTable, element);\n",
              "          const docLink = document.createElement('div');\n",
              "          docLink.innerHTML = docLinkHtml;\n",
              "          element.appendChild(docLink);\n",
              "        }\n",
              "      </script>\n",
              "    </div>\n",
              "  </div>\n",
              "  "
            ],
            "text/plain": [
              "             ID  取引価格（総額）_log\n",
              "0       1000001      7.067838\n",
              "1       1000002      7.320210\n",
              "2       1000066      7.460405\n",
              "3       1000119      6.931960\n",
              "4       1000120      6.933208\n",
              "...         ...           ...\n",
              "22390  47006237      7.495266\n",
              "22391  47006258      7.443273\n",
              "22392  47006316      7.363863\n",
              "22393  47006474      7.376567\n",
              "22394  47007577      7.625014\n",
              "\n",
              "[22395 rows x 2 columns]"
            ]
          },
          "metadata": {},
          "execution_count": 59
        }
      ]
    },
    {
      "cell_type": "code",
      "metadata": {
        "id": "udqHdH9MpRgd"
      },
      "source": [
        "ID = 'ID'\n",
        "TARGET = '取引価格（総額）_log'\n",
        "rm_cols = []"
      ],
      "execution_count": 30,
      "outputs": []
    },
    {
      "cell_type": "markdown",
      "source": [
        "## 削除用項目を選定してtrainとtestデータから削除する"
      ],
      "metadata": {
        "id": "Ycf4YQOY2_xm"
      }
    },
    {
      "cell_type": "code",
      "metadata": {
        "id": "8FoGfIwxpRge",
        "colab": {
          "base_uri": "https://localhost:8080/"
        },
        "outputId": "89eaf4b3-b3e8-4daa-daaa-c1a9da7a6459"
      },
      "source": [
        "df = pd.concat([train_df, test_df])\n",
        "\n",
        "rm_cols += ['市区町村コード']\n",
        "for i,v in df.nunique().iteritems():\n",
        "    if v <= 1:\n",
        "        rm_cols.append(i)\n",
        "\n",
        "rm_cols"
      ],
      "execution_count": 31,
      "outputs": [
        {
          "output_type": "execute_result",
          "data": {
            "text/plain": [
              "['市区町村コード',\n",
              " '種類',\n",
              " '地域',\n",
              " '土地の形状',\n",
              " '間口',\n",
              " '延床面積（㎡）',\n",
              " '前面道路：方位',\n",
              " '前面道路：種類',\n",
              " '前面道路：幅員（ｍ）']"
            ]
          },
          "metadata": {},
          "execution_count": 31
        }
      ]
    },
    {
      "cell_type": "code",
      "metadata": {
        "id": "j1LZb8qMpRge",
        "colab": {
          "base_uri": "https://localhost:8080/"
        },
        "outputId": "f80b2e59-01be-41f1-fadb-fe4493119e4c"
      },
      "source": [
        "test_df[TARGET] = np.nan\n",
        "train_df.drop(rm_cols, axis=1, inplace=True)\n",
        "test_df.drop(rm_cols, axis=1, inplace=True)\n",
        "df = pd.concat([train_df, test_df])\n",
        "df.sort_values('取引時点', inplace=True)\n",
        "df.reset_index(drop=True, inplace=True)\n",
        "df.shape"
      ],
      "execution_count": 32,
      "outputs": [
        {
          "output_type": "execute_result",
          "data": {
            "text/plain": [
              "(715277, 19)"
            ]
          },
          "metadata": {},
          "execution_count": 32
        }
      ]
    },
    {
      "cell_type": "code",
      "metadata": {
        "colab": {
          "base_uri": "https://localhost:8080/"
        },
        "id": "6oqA6qIynMO2",
        "outputId": "8695aef2-420f-4125-f757-18df36c0800c"
      },
      "source": [
        "df['取引時点'].unique()"
      ],
      "execution_count": 33,
      "outputs": [
        {
          "output_type": "execute_result",
          "data": {
            "text/plain": [
              "array(['2005年第3四半期', '2005年第4四半期', '2006年第1四半期', '2006年第2四半期',\n",
              "       '2006年第3四半期', '2006年第4四半期', '2007年第1四半期', '2007年第2四半期',\n",
              "       '2007年第3四半期', '2007年第4四半期', '2008年第1四半期', '2008年第2四半期',\n",
              "       '2008年第3四半期', '2008年第4四半期', '2009年第1四半期', '2009年第2四半期',\n",
              "       '2009年第3四半期', '2009年第4四半期', '2010年第1四半期', '2010年第2四半期',\n",
              "       '2010年第3四半期', '2010年第4四半期', '2011年第1四半期', '2011年第2四半期',\n",
              "       '2011年第3四半期', '2011年第4四半期', '2012年第1四半期', '2012年第2四半期',\n",
              "       '2012年第3四半期', '2012年第4四半期', '2013年第1四半期', '2013年第2四半期',\n",
              "       '2013年第3四半期', '2013年第4四半期', '2014年第1四半期', '2014年第2四半期',\n",
              "       '2014年第3四半期', '2014年第4四半期', '2015年第1四半期', '2015年第2四半期',\n",
              "       '2015年第3四半期', '2015年第4四半期', '2016年第1四半期', '2016年第2四半期',\n",
              "       '2016年第3四半期', '2016年第4四半期', '2017年第1四半期', '2017年第2四半期',\n",
              "       '2017年第3四半期', '2017年第4四半期', '2018年第1四半期', '2018年第2四半期',\n",
              "       '2018年第3四半期', '2018年第4四半期', '2019年第1四半期', '2019年第2四半期',\n",
              "       '2019年第3四半期', '2019年第4四半期', '2020年第1四半期', '2020年第2四半期',\n",
              "       '2020年第3四半期', '2020年第4四半期', '2021年第1四半期', '2021年第2四半期'],\n",
              "      dtype=object)"
            ]
          },
          "metadata": {},
          "execution_count": 33
        }
      ]
    },
    {
      "cell_type": "code",
      "metadata": {
        "colab": {
          "base_uri": "https://localhost:8080/"
        },
        "id": "yJl_gacnvmCY",
        "outputId": "492aa534-55df-403d-9449-2e2a55c60cbf"
      },
      "source": [
        "val_min_idx = min(df[df['取引時点'].str.contains('2020年第3四半期|2020年第4四半期', regex=True)].index)\n",
        "test_min_idx = min(df[df['取引時点'].str.contains('2021年第1四半期|2021年第2四半期', regex=True)].index)\n",
        "val_min_idx, test_min_idx"
      ],
      "execution_count": 34,
      "outputs": [
        {
          "output_type": "execute_result",
          "data": {
            "text/plain": [
              "(663186, 692882)"
            ]
          },
          "metadata": {},
          "execution_count": 34
        }
      ]
    },
    {
      "cell_type": "code",
      "metadata": {
        "colab": {
          "base_uri": "https://localhost:8080/"
        },
        "id": "za_6BA5X-A_X",
        "outputId": "89787e38-7563-424c-abe3-e0985b360771"
      },
      "source": [
        "set(df.iloc[val_min_idx:test_min_idx, :]['取引時点'].values)"
      ],
      "execution_count": 35,
      "outputs": [
        {
          "output_type": "execute_result",
          "data": {
            "text/plain": [
              "{'2020年第3四半期', '2020年第4四半期'}"
            ]
          },
          "metadata": {},
          "execution_count": 35
        }
      ]
    },
    {
      "cell_type": "markdown",
      "metadata": {
        "id": "74WQqMxKpRge"
      },
      "source": [
        "## 特徴量生成"
      ]
    },
    {
      "cell_type": "code",
      "metadata": {
        "id": "U1-jbdrKpRgf"
      },
      "source": [
        "enc_dic = {}\n",
        "for i, e in enumerate(sorted(list(set(df['取引時点'].values)))):\n",
        "    enc_dic[e] = i\n",
        "df['取引時点_enc'] = df['取引時点'].map(enc_dic)"
      ],
      "execution_count": 36,
      "outputs": []
    },
    {
      "cell_type": "code",
      "metadata": {
        "id": "Pp70asTFpRgf",
        "colab": {
          "base_uri": "https://localhost:8080/"
        },
        "outputId": "09fe7780-45c6-4412-c922-f1a08eb4ca58"
      },
      "source": [
        "te_dic = {}\n",
        "time_col = '取引時点_enc'\n",
        "group_col = '都道府県名'\n",
        "\n",
        "for i in set(df[time_col].values):\n",
        "    tmp_df = df[df[time_col] < i]\n",
        "    te_dic[i] = tmp_df.groupby(group_col)[TARGET].agg('mean').to_dict()\n",
        "\n",
        "te_dic[50]"
      ],
      "execution_count": 37,
      "outputs": [
        {
          "output_type": "execute_result",
          "data": {
            "text/plain": [
              "{'三重県': 7.099989772836439,\n",
              " '京都府': 7.155935848555253,\n",
              " '佐賀県': 7.009937258263509,\n",
              " '兵庫県': 7.157742870483196,\n",
              " '北海道': 6.965967793677859,\n",
              " '千葉県': 7.155825324964995,\n",
              " '和歌山県': 7.022690210815773,\n",
              " '埼玉県': 7.1697442713966355,\n",
              " '大分県': 6.911537826573079,\n",
              " '大阪府': 7.158352973821201,\n",
              " '奈良県': 7.056884610234688,\n",
              " '宮城県': 7.0395442538048805,\n",
              " '宮崎県': 6.958678653711235,\n",
              " '富山県': 7.0469200713870155,\n",
              " '山口県': 7.045342730349803,\n",
              " '山形県': 7.087990602814902,\n",
              " '山梨県': 6.848839888686708,\n",
              " '岐阜県': 7.078095913486453,\n",
              " '岡山県': 7.03809073492747,\n",
              " '岩手県': 6.925002679060599,\n",
              " '島根県': 7.165376214700312,\n",
              " '広島県': 7.093449021655064,\n",
              " '徳島県': 6.912051981629745,\n",
              " '愛媛県': 6.966433011596662,\n",
              " '愛知県': 7.107301969238601,\n",
              " '新潟県': 6.913835156235044,\n",
              " '東京都': 7.377929204641064,\n",
              " '栃木県': 6.950636958071011,\n",
              " '沖縄県': 7.160046604428336,\n",
              " '滋賀県': 7.16602695816839,\n",
              " '熊本県': 6.970182251843263,\n",
              " '石川県': 6.929363348877185,\n",
              " '神奈川県': 7.2581182672098175,\n",
              " '福井県': 6.979575815840195,\n",
              " '福岡県': 6.992264905042226,\n",
              " '福島県': 6.9743805791401785,\n",
              " '秋田県': 6.94131374711264,\n",
              " '群馬県': 6.928069391036607,\n",
              " '茨城県': 7.075528163782812,\n",
              " '長崎県': 7.150784996001117,\n",
              " '長野県': 7.063121700154463,\n",
              " '青森県': 6.9556107539806185,\n",
              " '静岡県': 7.0170037911973155,\n",
              " '香川県': 6.903679020975967,\n",
              " '高知県': 6.98595825905006,\n",
              " '鳥取県': 6.940192902720598,\n",
              " '鹿児島県': 7.095567581694406}"
            ]
          },
          "metadata": {},
          "execution_count": 37
        }
      ]
    },
    {
      "cell_type": "code",
      "metadata": {
        "id": "rArMjGd7pRgf",
        "colab": {
          "base_uri": "https://localhost:8080/",
          "height": 278
        },
        "outputId": "c1e885fc-6328-4035-9ac9-1f2a44ce12dd"
      },
      "source": [
        "def calc_te(row):\n",
        "    if row[time_col] in te_dic and row[group_col] in te_dic[row[time_col]]:\n",
        "        return te_dic[row[time_col]][row[group_col]]\n",
        "    else:\n",
        "        return 0\n",
        "\n",
        "df[group_col+'_te'] = df.apply(calc_te, axis=1)\n",
        "df.head(2)"
      ],
      "execution_count": 38,
      "outputs": [
        {
          "output_type": "execute_result",
          "data": {
            "text/html": [
              "\n",
              "  <div id=\"df-1277e3b2-898c-41fd-8417-520168c2fc4a\">\n",
              "    <div class=\"colab-df-container\">\n",
              "      <div>\n",
              "<style scoped>\n",
              "    .dataframe tbody tr th:only-of-type {\n",
              "        vertical-align: middle;\n",
              "    }\n",
              "\n",
              "    .dataframe tbody tr th {\n",
              "        vertical-align: top;\n",
              "    }\n",
              "\n",
              "    .dataframe thead th {\n",
              "        text-align: right;\n",
              "    }\n",
              "</style>\n",
              "<table border=\"1\" class=\"dataframe\">\n",
              "  <thead>\n",
              "    <tr style=\"text-align: right;\">\n",
              "      <th></th>\n",
              "      <th>ID</th>\n",
              "      <th>都道府県名</th>\n",
              "      <th>市区町村名</th>\n",
              "      <th>地区名</th>\n",
              "      <th>最寄駅：名称</th>\n",
              "      <th>最寄駅：距離（分）</th>\n",
              "      <th>間取り</th>\n",
              "      <th>面積（㎡）</th>\n",
              "      <th>建築年</th>\n",
              "      <th>建物の構造</th>\n",
              "      <th>用途</th>\n",
              "      <th>今後の利用目的</th>\n",
              "      <th>都市計画</th>\n",
              "      <th>建ぺい率（％）</th>\n",
              "      <th>容積率（％）</th>\n",
              "      <th>取引時点</th>\n",
              "      <th>改装</th>\n",
              "      <th>取引の事情等</th>\n",
              "      <th>取引価格（総額）_log</th>\n",
              "      <th>取引時点_enc</th>\n",
              "      <th>都道府県名_te</th>\n",
              "    </tr>\n",
              "  </thead>\n",
              "  <tbody>\n",
              "    <tr>\n",
              "      <th>0</th>\n",
              "      <td>23197559</td>\n",
              "      <td>愛知県</td>\n",
              "      <td>名古屋市北区</td>\n",
              "      <td>鳩岡</td>\n",
              "      <td>黒川(愛知)</td>\n",
              "      <td>NaN</td>\n",
              "      <td>３ＬＤＫ</td>\n",
              "      <td>65</td>\n",
              "      <td>平成2年</td>\n",
              "      <td>ＲＣ</td>\n",
              "      <td>住宅</td>\n",
              "      <td>NaN</td>\n",
              "      <td>第１種住居地域</td>\n",
              "      <td>60.0</td>\n",
              "      <td>200.0</td>\n",
              "      <td>2005年第3四半期</td>\n",
              "      <td>改装済</td>\n",
              "      <td>NaN</td>\n",
              "      <td>7.113943</td>\n",
              "      <td>0</td>\n",
              "      <td>0.0</td>\n",
              "    </tr>\n",
              "    <tr>\n",
              "      <th>1</th>\n",
              "      <td>13338234</td>\n",
              "      <td>東京都</td>\n",
              "      <td>杉並区</td>\n",
              "      <td>和田</td>\n",
              "      <td>中野富士見町</td>\n",
              "      <td>3</td>\n",
              "      <td>１Ｋ</td>\n",
              "      <td>20</td>\n",
              "      <td>平成17年</td>\n",
              "      <td>ＲＣ</td>\n",
              "      <td>住宅</td>\n",
              "      <td>NaN</td>\n",
              "      <td>準工業地域</td>\n",
              "      <td>60.0</td>\n",
              "      <td>200.0</td>\n",
              "      <td>2005年第3四半期</td>\n",
              "      <td>未改装</td>\n",
              "      <td>NaN</td>\n",
              "      <td>7.322219</td>\n",
              "      <td>0</td>\n",
              "      <td>0.0</td>\n",
              "    </tr>\n",
              "  </tbody>\n",
              "</table>\n",
              "</div>\n",
              "      <button class=\"colab-df-convert\" onclick=\"convertToInteractive('df-1277e3b2-898c-41fd-8417-520168c2fc4a')\"\n",
              "              title=\"Convert this dataframe to an interactive table.\"\n",
              "              style=\"display:none;\">\n",
              "        \n",
              "  <svg xmlns=\"http://www.w3.org/2000/svg\" height=\"24px\"viewBox=\"0 0 24 24\"\n",
              "       width=\"24px\">\n",
              "    <path d=\"M0 0h24v24H0V0z\" fill=\"none\"/>\n",
              "    <path d=\"M18.56 5.44l.94 2.06.94-2.06 2.06-.94-2.06-.94-.94-2.06-.94 2.06-2.06.94zm-11 1L8.5 8.5l.94-2.06 2.06-.94-2.06-.94L8.5 2.5l-.94 2.06-2.06.94zm10 10l.94 2.06.94-2.06 2.06-.94-2.06-.94-.94-2.06-.94 2.06-2.06.94z\"/><path d=\"M17.41 7.96l-1.37-1.37c-.4-.4-.92-.59-1.43-.59-.52 0-1.04.2-1.43.59L10.3 9.45l-7.72 7.72c-.78.78-.78 2.05 0 2.83L4 21.41c.39.39.9.59 1.41.59.51 0 1.02-.2 1.41-.59l7.78-7.78 2.81-2.81c.8-.78.8-2.07 0-2.86zM5.41 20L4 18.59l7.72-7.72 1.47 1.35L5.41 20z\"/>\n",
              "  </svg>\n",
              "      </button>\n",
              "      \n",
              "  <style>\n",
              "    .colab-df-container {\n",
              "      display:flex;\n",
              "      flex-wrap:wrap;\n",
              "      gap: 12px;\n",
              "    }\n",
              "\n",
              "    .colab-df-convert {\n",
              "      background-color: #E8F0FE;\n",
              "      border: none;\n",
              "      border-radius: 50%;\n",
              "      cursor: pointer;\n",
              "      display: none;\n",
              "      fill: #1967D2;\n",
              "      height: 32px;\n",
              "      padding: 0 0 0 0;\n",
              "      width: 32px;\n",
              "    }\n",
              "\n",
              "    .colab-df-convert:hover {\n",
              "      background-color: #E2EBFA;\n",
              "      box-shadow: 0px 1px 2px rgba(60, 64, 67, 0.3), 0px 1px 3px 1px rgba(60, 64, 67, 0.15);\n",
              "      fill: #174EA6;\n",
              "    }\n",
              "\n",
              "    [theme=dark] .colab-df-convert {\n",
              "      background-color: #3B4455;\n",
              "      fill: #D2E3FC;\n",
              "    }\n",
              "\n",
              "    [theme=dark] .colab-df-convert:hover {\n",
              "      background-color: #434B5C;\n",
              "      box-shadow: 0px 1px 3px 1px rgba(0, 0, 0, 0.15);\n",
              "      filter: drop-shadow(0px 1px 2px rgba(0, 0, 0, 0.3));\n",
              "      fill: #FFFFFF;\n",
              "    }\n",
              "  </style>\n",
              "\n",
              "      <script>\n",
              "        const buttonEl =\n",
              "          document.querySelector('#df-1277e3b2-898c-41fd-8417-520168c2fc4a button.colab-df-convert');\n",
              "        buttonEl.style.display =\n",
              "          google.colab.kernel.accessAllowed ? 'block' : 'none';\n",
              "\n",
              "        async function convertToInteractive(key) {\n",
              "          const element = document.querySelector('#df-1277e3b2-898c-41fd-8417-520168c2fc4a');\n",
              "          const dataTable =\n",
              "            await google.colab.kernel.invokeFunction('convertToInteractive',\n",
              "                                                     [key], {});\n",
              "          if (!dataTable) return;\n",
              "\n",
              "          const docLinkHtml = 'Like what you see? Visit the ' +\n",
              "            '<a target=\"_blank\" href=https://colab.research.google.com/notebooks/data_table.ipynb>data table notebook</a>'\n",
              "            + ' to learn more about interactive tables.';\n",
              "          element.innerHTML = '';\n",
              "          dataTable['output_type'] = 'display_data';\n",
              "          await google.colab.output.renderOutput(dataTable, element);\n",
              "          const docLink = document.createElement('div');\n",
              "          docLink.innerHTML = docLinkHtml;\n",
              "          element.appendChild(docLink);\n",
              "        }\n",
              "      </script>\n",
              "    </div>\n",
              "  </div>\n",
              "  "
            ],
            "text/plain": [
              "         ID 都道府県名   市区町村名 地区名  ... 取引の事情等 取引価格（総額）_log 取引時点_enc 都道府県名_te\n",
              "0  23197559   愛知県  名古屋市北区  鳩岡  ...    NaN     7.113943        0      0.0\n",
              "1  13338234   東京都     杉並区  和田  ...    NaN     7.322219        0      0.0\n",
              "\n",
              "[2 rows x 21 columns]"
            ]
          },
          "metadata": {},
          "execution_count": 38
        }
      ]
    },
    {
      "cell_type": "code",
      "metadata": {
        "id": "BTrJ3EC_pRgf"
      },
      "source": [
        "df['取引時点_何年前'] = df['取引時点'].apply(lambda x: 2021-int(x[:4]))\n",
        "df.drop(['取引時点'], axis=1, inplace=True)\n",
        "df['建築年'] = df['建築年'].apply(lambda x: convert_wareki_to_seireki(x))\n",
        "df['面積（㎡）'] = df['面積（㎡）'].apply(lambda x: normalize_area(x))\n",
        "df['最寄駅：距離（分）'] = df['最寄駅：距離（分）'].apply(lambda x: normalize_moyori(x))"
      ],
      "execution_count": 39,
      "outputs": []
    },
    {
      "cell_type": "code",
      "metadata": {
        "id": "QYR7Sd8QpRgg",
        "colab": {
          "base_uri": "https://localhost:8080/",
          "height": 112
        },
        "outputId": "aa7335c8-0814-4e7f-e207-f10c88c0e69a"
      },
      "source": [
        "num_df = SelectNumerical().fit_transform(df)\n",
        "num_df.head(2)"
      ],
      "execution_count": 40,
      "outputs": [
        {
          "output_type": "execute_result",
          "data": {
            "text/html": [
              "\n",
              "  <div id=\"df-084f114e-8d73-48c6-96d1-62b604e23299\">\n",
              "    <div class=\"colab-df-container\">\n",
              "      <div>\n",
              "<style scoped>\n",
              "    .dataframe tbody tr th:only-of-type {\n",
              "        vertical-align: middle;\n",
              "    }\n",
              "\n",
              "    .dataframe tbody tr th {\n",
              "        vertical-align: top;\n",
              "    }\n",
              "\n",
              "    .dataframe thead th {\n",
              "        text-align: right;\n",
              "    }\n",
              "</style>\n",
              "<table border=\"1\" class=\"dataframe\">\n",
              "  <thead>\n",
              "    <tr style=\"text-align: right;\">\n",
              "      <th></th>\n",
              "      <th>ID</th>\n",
              "      <th>最寄駅：距離（分）</th>\n",
              "      <th>面積（㎡）</th>\n",
              "      <th>建築年</th>\n",
              "      <th>建ぺい率（％）</th>\n",
              "      <th>容積率（％）</th>\n",
              "      <th>取引価格（総額）_log</th>\n",
              "      <th>取引時点_enc</th>\n",
              "      <th>都道府県名_te</th>\n",
              "      <th>取引時点_何年前</th>\n",
              "    </tr>\n",
              "  </thead>\n",
              "  <tbody>\n",
              "    <tr>\n",
              "      <th>0</th>\n",
              "      <td>23197559</td>\n",
              "      <td>NaN</td>\n",
              "      <td>65</td>\n",
              "      <td>1990.0</td>\n",
              "      <td>60.0</td>\n",
              "      <td>200.0</td>\n",
              "      <td>7.113943</td>\n",
              "      <td>0</td>\n",
              "      <td>0.0</td>\n",
              "      <td>16</td>\n",
              "    </tr>\n",
              "    <tr>\n",
              "      <th>1</th>\n",
              "      <td>13338234</td>\n",
              "      <td>3.0</td>\n",
              "      <td>20</td>\n",
              "      <td>2005.0</td>\n",
              "      <td>60.0</td>\n",
              "      <td>200.0</td>\n",
              "      <td>7.322219</td>\n",
              "      <td>0</td>\n",
              "      <td>0.0</td>\n",
              "      <td>16</td>\n",
              "    </tr>\n",
              "  </tbody>\n",
              "</table>\n",
              "</div>\n",
              "      <button class=\"colab-df-convert\" onclick=\"convertToInteractive('df-084f114e-8d73-48c6-96d1-62b604e23299')\"\n",
              "              title=\"Convert this dataframe to an interactive table.\"\n",
              "              style=\"display:none;\">\n",
              "        \n",
              "  <svg xmlns=\"http://www.w3.org/2000/svg\" height=\"24px\"viewBox=\"0 0 24 24\"\n",
              "       width=\"24px\">\n",
              "    <path d=\"M0 0h24v24H0V0z\" fill=\"none\"/>\n",
              "    <path d=\"M18.56 5.44l.94 2.06.94-2.06 2.06-.94-2.06-.94-.94-2.06-.94 2.06-2.06.94zm-11 1L8.5 8.5l.94-2.06 2.06-.94-2.06-.94L8.5 2.5l-.94 2.06-2.06.94zm10 10l.94 2.06.94-2.06 2.06-.94-2.06-.94-.94-2.06-.94 2.06-2.06.94z\"/><path d=\"M17.41 7.96l-1.37-1.37c-.4-.4-.92-.59-1.43-.59-.52 0-1.04.2-1.43.59L10.3 9.45l-7.72 7.72c-.78.78-.78 2.05 0 2.83L4 21.41c.39.39.9.59 1.41.59.51 0 1.02-.2 1.41-.59l7.78-7.78 2.81-2.81c.8-.78.8-2.07 0-2.86zM5.41 20L4 18.59l7.72-7.72 1.47 1.35L5.41 20z\"/>\n",
              "  </svg>\n",
              "      </button>\n",
              "      \n",
              "  <style>\n",
              "    .colab-df-container {\n",
              "      display:flex;\n",
              "      flex-wrap:wrap;\n",
              "      gap: 12px;\n",
              "    }\n",
              "\n",
              "    .colab-df-convert {\n",
              "      background-color: #E8F0FE;\n",
              "      border: none;\n",
              "      border-radius: 50%;\n",
              "      cursor: pointer;\n",
              "      display: none;\n",
              "      fill: #1967D2;\n",
              "      height: 32px;\n",
              "      padding: 0 0 0 0;\n",
              "      width: 32px;\n",
              "    }\n",
              "\n",
              "    .colab-df-convert:hover {\n",
              "      background-color: #E2EBFA;\n",
              "      box-shadow: 0px 1px 2px rgba(60, 64, 67, 0.3), 0px 1px 3px 1px rgba(60, 64, 67, 0.15);\n",
              "      fill: #174EA6;\n",
              "    }\n",
              "\n",
              "    [theme=dark] .colab-df-convert {\n",
              "      background-color: #3B4455;\n",
              "      fill: #D2E3FC;\n",
              "    }\n",
              "\n",
              "    [theme=dark] .colab-df-convert:hover {\n",
              "      background-color: #434B5C;\n",
              "      box-shadow: 0px 1px 3px 1px rgba(0, 0, 0, 0.15);\n",
              "      filter: drop-shadow(0px 1px 2px rgba(0, 0, 0, 0.3));\n",
              "      fill: #FFFFFF;\n",
              "    }\n",
              "  </style>\n",
              "\n",
              "      <script>\n",
              "        const buttonEl =\n",
              "          document.querySelector('#df-084f114e-8d73-48c6-96d1-62b604e23299 button.colab-df-convert');\n",
              "        buttonEl.style.display =\n",
              "          google.colab.kernel.accessAllowed ? 'block' : 'none';\n",
              "\n",
              "        async function convertToInteractive(key) {\n",
              "          const element = document.querySelector('#df-084f114e-8d73-48c6-96d1-62b604e23299');\n",
              "          const dataTable =\n",
              "            await google.colab.kernel.invokeFunction('convertToInteractive',\n",
              "                                                     [key], {});\n",
              "          if (!dataTable) return;\n",
              "\n",
              "          const docLinkHtml = 'Like what you see? Visit the ' +\n",
              "            '<a target=\"_blank\" href=https://colab.research.google.com/notebooks/data_table.ipynb>data table notebook</a>'\n",
              "            + ' to learn more about interactive tables.';\n",
              "          element.innerHTML = '';\n",
              "          dataTable['output_type'] = 'display_data';\n",
              "          await google.colab.output.renderOutput(dataTable, element);\n",
              "          const docLink = document.createElement('div');\n",
              "          docLink.innerHTML = docLinkHtml;\n",
              "          element.appendChild(docLink);\n",
              "        }\n",
              "      </script>\n",
              "    </div>\n",
              "  </div>\n",
              "  "
            ],
            "text/plain": [
              "         ID  最寄駅：距離（分）  面積（㎡）  ...  取引時点_enc  都道府県名_te  取引時点_何年前\n",
              "0  23197559        NaN     65  ...         0       0.0        16\n",
              "1  13338234        3.0     20  ...         0       0.0        16\n",
              "\n",
              "[2 rows x 10 columns]"
            ]
          },
          "metadata": {},
          "execution_count": 40
        }
      ]
    },
    {
      "cell_type": "code",
      "metadata": {
        "id": "Bp_KYSA0pRgg",
        "colab": {
          "base_uri": "https://localhost:8080/",
          "height": 112
        },
        "outputId": "efe5d314-4d40-470b-e1ea-01a20e465a88"
      },
      "source": [
        "encoder = Pipeline([\n",
        "    SelectCategorical(),\n",
        "    LabelEncoder(output_suffix=\"\"),\n",
        "])\n",
        "\n",
        "le_df = encoder.fit_transform(df)\n",
        "le_df.head(2)"
      ],
      "execution_count": 41,
      "outputs": [
        {
          "output_type": "execute_result",
          "data": {
            "text/html": [
              "\n",
              "  <div id=\"df-287001f4-6a67-437e-8576-ba1848e2b533\">\n",
              "    <div class=\"colab-df-container\">\n",
              "      <div>\n",
              "<style scoped>\n",
              "    .dataframe tbody tr th:only-of-type {\n",
              "        vertical-align: middle;\n",
              "    }\n",
              "\n",
              "    .dataframe tbody tr th {\n",
              "        vertical-align: top;\n",
              "    }\n",
              "\n",
              "    .dataframe thead th {\n",
              "        text-align: right;\n",
              "    }\n",
              "</style>\n",
              "<table border=\"1\" class=\"dataframe\">\n",
              "  <thead>\n",
              "    <tr style=\"text-align: right;\">\n",
              "      <th></th>\n",
              "      <th>都道府県名</th>\n",
              "      <th>市区町村名</th>\n",
              "      <th>地区名</th>\n",
              "      <th>最寄駅：名称</th>\n",
              "      <th>間取り</th>\n",
              "      <th>建物の構造</th>\n",
              "      <th>用途</th>\n",
              "      <th>今後の利用目的</th>\n",
              "      <th>都市計画</th>\n",
              "      <th>改装</th>\n",
              "      <th>取引の事情等</th>\n",
              "    </tr>\n",
              "  </thead>\n",
              "  <tbody>\n",
              "    <tr>\n",
              "      <th>0</th>\n",
              "      <td>0</td>\n",
              "      <td>0</td>\n",
              "      <td>0</td>\n",
              "      <td>0</td>\n",
              "      <td>0</td>\n",
              "      <td>0</td>\n",
              "      <td>0</td>\n",
              "      <td>-1</td>\n",
              "      <td>0</td>\n",
              "      <td>0</td>\n",
              "      <td>-1</td>\n",
              "    </tr>\n",
              "    <tr>\n",
              "      <th>1</th>\n",
              "      <td>1</td>\n",
              "      <td>1</td>\n",
              "      <td>1</td>\n",
              "      <td>1</td>\n",
              "      <td>1</td>\n",
              "      <td>0</td>\n",
              "      <td>0</td>\n",
              "      <td>-1</td>\n",
              "      <td>1</td>\n",
              "      <td>1</td>\n",
              "      <td>-1</td>\n",
              "    </tr>\n",
              "  </tbody>\n",
              "</table>\n",
              "</div>\n",
              "      <button class=\"colab-df-convert\" onclick=\"convertToInteractive('df-287001f4-6a67-437e-8576-ba1848e2b533')\"\n",
              "              title=\"Convert this dataframe to an interactive table.\"\n",
              "              style=\"display:none;\">\n",
              "        \n",
              "  <svg xmlns=\"http://www.w3.org/2000/svg\" height=\"24px\"viewBox=\"0 0 24 24\"\n",
              "       width=\"24px\">\n",
              "    <path d=\"M0 0h24v24H0V0z\" fill=\"none\"/>\n",
              "    <path d=\"M18.56 5.44l.94 2.06.94-2.06 2.06-.94-2.06-.94-.94-2.06-.94 2.06-2.06.94zm-11 1L8.5 8.5l.94-2.06 2.06-.94-2.06-.94L8.5 2.5l-.94 2.06-2.06.94zm10 10l.94 2.06.94-2.06 2.06-.94-2.06-.94-.94-2.06-.94 2.06-2.06.94z\"/><path d=\"M17.41 7.96l-1.37-1.37c-.4-.4-.92-.59-1.43-.59-.52 0-1.04.2-1.43.59L10.3 9.45l-7.72 7.72c-.78.78-.78 2.05 0 2.83L4 21.41c.39.39.9.59 1.41.59.51 0 1.02-.2 1.41-.59l7.78-7.78 2.81-2.81c.8-.78.8-2.07 0-2.86zM5.41 20L4 18.59l7.72-7.72 1.47 1.35L5.41 20z\"/>\n",
              "  </svg>\n",
              "      </button>\n",
              "      \n",
              "  <style>\n",
              "    .colab-df-container {\n",
              "      display:flex;\n",
              "      flex-wrap:wrap;\n",
              "      gap: 12px;\n",
              "    }\n",
              "\n",
              "    .colab-df-convert {\n",
              "      background-color: #E8F0FE;\n",
              "      border: none;\n",
              "      border-radius: 50%;\n",
              "      cursor: pointer;\n",
              "      display: none;\n",
              "      fill: #1967D2;\n",
              "      height: 32px;\n",
              "      padding: 0 0 0 0;\n",
              "      width: 32px;\n",
              "    }\n",
              "\n",
              "    .colab-df-convert:hover {\n",
              "      background-color: #E2EBFA;\n",
              "      box-shadow: 0px 1px 2px rgba(60, 64, 67, 0.3), 0px 1px 3px 1px rgba(60, 64, 67, 0.15);\n",
              "      fill: #174EA6;\n",
              "    }\n",
              "\n",
              "    [theme=dark] .colab-df-convert {\n",
              "      background-color: #3B4455;\n",
              "      fill: #D2E3FC;\n",
              "    }\n",
              "\n",
              "    [theme=dark] .colab-df-convert:hover {\n",
              "      background-color: #434B5C;\n",
              "      box-shadow: 0px 1px 3px 1px rgba(0, 0, 0, 0.15);\n",
              "      filter: drop-shadow(0px 1px 2px rgba(0, 0, 0, 0.3));\n",
              "      fill: #FFFFFF;\n",
              "    }\n",
              "  </style>\n",
              "\n",
              "      <script>\n",
              "        const buttonEl =\n",
              "          document.querySelector('#df-287001f4-6a67-437e-8576-ba1848e2b533 button.colab-df-convert');\n",
              "        buttonEl.style.display =\n",
              "          google.colab.kernel.accessAllowed ? 'block' : 'none';\n",
              "\n",
              "        async function convertToInteractive(key) {\n",
              "          const element = document.querySelector('#df-287001f4-6a67-437e-8576-ba1848e2b533');\n",
              "          const dataTable =\n",
              "            await google.colab.kernel.invokeFunction('convertToInteractive',\n",
              "                                                     [key], {});\n",
              "          if (!dataTable) return;\n",
              "\n",
              "          const docLinkHtml = 'Like what you see? Visit the ' +\n",
              "            '<a target=\"_blank\" href=https://colab.research.google.com/notebooks/data_table.ipynb>data table notebook</a>'\n",
              "            + ' to learn more about interactive tables.';\n",
              "          element.innerHTML = '';\n",
              "          dataTable['output_type'] = 'display_data';\n",
              "          await google.colab.output.renderOutput(dataTable, element);\n",
              "          const docLink = document.createElement('div');\n",
              "          docLink.innerHTML = docLinkHtml;\n",
              "          element.appendChild(docLink);\n",
              "        }\n",
              "      </script>\n",
              "    </div>\n",
              "  </div>\n",
              "  "
            ],
            "text/plain": [
              "   都道府県名  市区町村名  地区名  最寄駅：名称  間取り  建物の構造  用途  今後の利用目的  都市計画  改装  取引の事情等\n",
              "0      0      0    0       0    0      0   0       -1     0   0      -1\n",
              "1      1      1    1       1    1      0   0       -1     1   1      -1"
            ]
          },
          "metadata": {},
          "execution_count": 41
        }
      ]
    },
    {
      "cell_type": "code",
      "metadata": {
        "id": "AuySwDN1pRgg",
        "colab": {
          "base_uri": "https://localhost:8080/",
          "height": 112
        },
        "outputId": "3d825622-e4ee-4341-c0ed-8069ea7ac592"
      },
      "source": [
        "encoder = Pipeline(\n",
        "    [\n",
        "        SelectNumerical(),\n",
        "        ArithmeticCombinations(\n",
        "            input_cols=[\"面積（㎡）\", \"容積率（％）\"], \n",
        "            drop_origin=True, \n",
        "            operator=\"*\", \n",
        "            r=2,\n",
        "        ),\n",
        "    ]\n",
        ")\n",
        "\n",
        "num_comb_df = encoder.fit_transform(df)/100\n",
        "num_comb_df.head(2)"
      ],
      "execution_count": 42,
      "outputs": [
        {
          "output_type": "execute_result",
          "data": {
            "text/html": [
              "\n",
              "  <div id=\"df-8a1d1d7e-b5b9-4590-a866-1e1d0f0e9de8\">\n",
              "    <div class=\"colab-df-container\">\n",
              "      <div>\n",
              "<style scoped>\n",
              "    .dataframe tbody tr th:only-of-type {\n",
              "        vertical-align: middle;\n",
              "    }\n",
              "\n",
              "    .dataframe tbody tr th {\n",
              "        vertical-align: top;\n",
              "    }\n",
              "\n",
              "    .dataframe thead th {\n",
              "        text-align: right;\n",
              "    }\n",
              "</style>\n",
              "<table border=\"1\" class=\"dataframe\">\n",
              "  <thead>\n",
              "    <tr style=\"text-align: right;\">\n",
              "      <th></th>\n",
              "      <th>面積（㎡）容積率（％）_combi</th>\n",
              "    </tr>\n",
              "  </thead>\n",
              "  <tbody>\n",
              "    <tr>\n",
              "      <th>0</th>\n",
              "      <td>130.0</td>\n",
              "    </tr>\n",
              "    <tr>\n",
              "      <th>1</th>\n",
              "      <td>40.0</td>\n",
              "    </tr>\n",
              "  </tbody>\n",
              "</table>\n",
              "</div>\n",
              "      <button class=\"colab-df-convert\" onclick=\"convertToInteractive('df-8a1d1d7e-b5b9-4590-a866-1e1d0f0e9de8')\"\n",
              "              title=\"Convert this dataframe to an interactive table.\"\n",
              "              style=\"display:none;\">\n",
              "        \n",
              "  <svg xmlns=\"http://www.w3.org/2000/svg\" height=\"24px\"viewBox=\"0 0 24 24\"\n",
              "       width=\"24px\">\n",
              "    <path d=\"M0 0h24v24H0V0z\" fill=\"none\"/>\n",
              "    <path d=\"M18.56 5.44l.94 2.06.94-2.06 2.06-.94-2.06-.94-.94-2.06-.94 2.06-2.06.94zm-11 1L8.5 8.5l.94-2.06 2.06-.94-2.06-.94L8.5 2.5l-.94 2.06-2.06.94zm10 10l.94 2.06.94-2.06 2.06-.94-2.06-.94-.94-2.06-.94 2.06-2.06.94z\"/><path d=\"M17.41 7.96l-1.37-1.37c-.4-.4-.92-.59-1.43-.59-.52 0-1.04.2-1.43.59L10.3 9.45l-7.72 7.72c-.78.78-.78 2.05 0 2.83L4 21.41c.39.39.9.59 1.41.59.51 0 1.02-.2 1.41-.59l7.78-7.78 2.81-2.81c.8-.78.8-2.07 0-2.86zM5.41 20L4 18.59l7.72-7.72 1.47 1.35L5.41 20z\"/>\n",
              "  </svg>\n",
              "      </button>\n",
              "      \n",
              "  <style>\n",
              "    .colab-df-container {\n",
              "      display:flex;\n",
              "      flex-wrap:wrap;\n",
              "      gap: 12px;\n",
              "    }\n",
              "\n",
              "    .colab-df-convert {\n",
              "      background-color: #E8F0FE;\n",
              "      border: none;\n",
              "      border-radius: 50%;\n",
              "      cursor: pointer;\n",
              "      display: none;\n",
              "      fill: #1967D2;\n",
              "      height: 32px;\n",
              "      padding: 0 0 0 0;\n",
              "      width: 32px;\n",
              "    }\n",
              "\n",
              "    .colab-df-convert:hover {\n",
              "      background-color: #E2EBFA;\n",
              "      box-shadow: 0px 1px 2px rgba(60, 64, 67, 0.3), 0px 1px 3px 1px rgba(60, 64, 67, 0.15);\n",
              "      fill: #174EA6;\n",
              "    }\n",
              "\n",
              "    [theme=dark] .colab-df-convert {\n",
              "      background-color: #3B4455;\n",
              "      fill: #D2E3FC;\n",
              "    }\n",
              "\n",
              "    [theme=dark] .colab-df-convert:hover {\n",
              "      background-color: #434B5C;\n",
              "      box-shadow: 0px 1px 3px 1px rgba(0, 0, 0, 0.15);\n",
              "      filter: drop-shadow(0px 1px 2px rgba(0, 0, 0, 0.3));\n",
              "      fill: #FFFFFF;\n",
              "    }\n",
              "  </style>\n",
              "\n",
              "      <script>\n",
              "        const buttonEl =\n",
              "          document.querySelector('#df-8a1d1d7e-b5b9-4590-a866-1e1d0f0e9de8 button.colab-df-convert');\n",
              "        buttonEl.style.display =\n",
              "          google.colab.kernel.accessAllowed ? 'block' : 'none';\n",
              "\n",
              "        async function convertToInteractive(key) {\n",
              "          const element = document.querySelector('#df-8a1d1d7e-b5b9-4590-a866-1e1d0f0e9de8');\n",
              "          const dataTable =\n",
              "            await google.colab.kernel.invokeFunction('convertToInteractive',\n",
              "                                                     [key], {});\n",
              "          if (!dataTable) return;\n",
              "\n",
              "          const docLinkHtml = 'Like what you see? Visit the ' +\n",
              "            '<a target=\"_blank\" href=https://colab.research.google.com/notebooks/data_table.ipynb>data table notebook</a>'\n",
              "            + ' to learn more about interactive tables.';\n",
              "          element.innerHTML = '';\n",
              "          dataTable['output_type'] = 'display_data';\n",
              "          await google.colab.output.renderOutput(dataTable, element);\n",
              "          const docLink = document.createElement('div');\n",
              "          docLink.innerHTML = docLinkHtml;\n",
              "          element.appendChild(docLink);\n",
              "        }\n",
              "      </script>\n",
              "    </div>\n",
              "  </div>\n",
              "  "
            ],
            "text/plain": [
              "   面積（㎡）容積率（％）_combi\n",
              "0              130.0\n",
              "1               40.0"
            ]
          },
          "metadata": {},
          "execution_count": 42
        }
      ]
    },
    {
      "cell_type": "code",
      "metadata": {
        "id": "L5GKKJT-pRgg",
        "colab": {
          "base_uri": "https://localhost:8080/",
          "height": 263
        },
        "outputId": "b4734602-ae49-4ac5-b069-cb0182da58f0"
      },
      "source": [
        "agg_dfs = []\n",
        "\n",
        "def get_agg_df(df, group_col):\n",
        "\n",
        "    agg_df, agg_cols = aggregation(df,\n",
        "                        group_key=group_col,\n",
        "                        group_values=['最寄駅：距離（分）', '面積（㎡）', '建ぺい率（％）', '容積率（％）'],\n",
        "                        agg_methods=['count', 'mean', 'min', 'max'],\n",
        "                        )\n",
        "\n",
        "    return agg_df[agg_cols]\n",
        "\n",
        "group_col = '市区町村名'\n",
        "agg_dfs.append(get_agg_df(df, group_col))\n",
        "agg_dfs[0].head(2)"
      ],
      "execution_count": 43,
      "outputs": [
        {
          "output_type": "execute_result",
          "data": {
            "text/html": [
              "\n",
              "  <div id=\"df-3d21f837-6f35-4d81-ad4d-399436863c74\">\n",
              "    <div class=\"colab-df-container\">\n",
              "      <div>\n",
              "<style scoped>\n",
              "    .dataframe tbody tr th:only-of-type {\n",
              "        vertical-align: middle;\n",
              "    }\n",
              "\n",
              "    .dataframe tbody tr th {\n",
              "        vertical-align: top;\n",
              "    }\n",
              "\n",
              "    .dataframe thead th {\n",
              "        text-align: right;\n",
              "    }\n",
              "</style>\n",
              "<table border=\"1\" class=\"dataframe\">\n",
              "  <thead>\n",
              "    <tr style=\"text-align: right;\">\n",
              "      <th></th>\n",
              "      <th>agg_count_最寄駅：距離（分）_grpby_市区町村名</th>\n",
              "      <th>agg_count_面積（㎡）_grpby_市区町村名</th>\n",
              "      <th>agg_count_建ぺい率（％）_grpby_市区町村名</th>\n",
              "      <th>agg_count_容積率（％）_grpby_市区町村名</th>\n",
              "      <th>agg_mean_最寄駅：距離（分）_grpby_市区町村名</th>\n",
              "      <th>agg_mean_面積（㎡）_grpby_市区町村名</th>\n",
              "      <th>agg_mean_建ぺい率（％）_grpby_市区町村名</th>\n",
              "      <th>agg_mean_容積率（％）_grpby_市区町村名</th>\n",
              "      <th>agg_min_最寄駅：距離（分）_grpby_市区町村名</th>\n",
              "      <th>agg_min_面積（㎡）_grpby_市区町村名</th>\n",
              "      <th>agg_min_建ぺい率（％）_grpby_市区町村名</th>\n",
              "      <th>agg_min_容積率（％）_grpby_市区町村名</th>\n",
              "      <th>agg_max_最寄駅：距離（分）_grpby_市区町村名</th>\n",
              "      <th>agg_max_面積（㎡）_grpby_市区町村名</th>\n",
              "      <th>agg_max_建ぺい率（％）_grpby_市区町村名</th>\n",
              "      <th>agg_max_容積率（％）_grpby_市区町村名</th>\n",
              "    </tr>\n",
              "  </thead>\n",
              "  <tbody>\n",
              "    <tr>\n",
              "      <th>0</th>\n",
              "      <td>1007</td>\n",
              "      <td>1069</td>\n",
              "      <td>1068</td>\n",
              "      <td>1068</td>\n",
              "      <td>11.051639</td>\n",
              "      <td>72.427502</td>\n",
              "      <td>66.292135</td>\n",
              "      <td>263.623596</td>\n",
              "      <td>1.0</td>\n",
              "      <td>20</td>\n",
              "      <td>60.0</td>\n",
              "      <td>150.0</td>\n",
              "      <td>45.0</td>\n",
              "      <td>165</td>\n",
              "      <td>80.0</td>\n",
              "      <td>600.0</td>\n",
              "    </tr>\n",
              "    <tr>\n",
              "      <th>1</th>\n",
              "      <td>7705</td>\n",
              "      <td>7946</td>\n",
              "      <td>7895</td>\n",
              "      <td>7895</td>\n",
              "      <td>7.127190</td>\n",
              "      <td>40.997357</td>\n",
              "      <td>69.022166</td>\n",
              "      <td>283.806206</td>\n",
              "      <td>0.0</td>\n",
              "      <td>10</td>\n",
              "      <td>30.0</td>\n",
              "      <td>60.0</td>\n",
              "      <td>120.0</td>\n",
              "      <td>470</td>\n",
              "      <td>80.0</td>\n",
              "      <td>600.0</td>\n",
              "    </tr>\n",
              "  </tbody>\n",
              "</table>\n",
              "</div>\n",
              "      <button class=\"colab-df-convert\" onclick=\"convertToInteractive('df-3d21f837-6f35-4d81-ad4d-399436863c74')\"\n",
              "              title=\"Convert this dataframe to an interactive table.\"\n",
              "              style=\"display:none;\">\n",
              "        \n",
              "  <svg xmlns=\"http://www.w3.org/2000/svg\" height=\"24px\"viewBox=\"0 0 24 24\"\n",
              "       width=\"24px\">\n",
              "    <path d=\"M0 0h24v24H0V0z\" fill=\"none\"/>\n",
              "    <path d=\"M18.56 5.44l.94 2.06.94-2.06 2.06-.94-2.06-.94-.94-2.06-.94 2.06-2.06.94zm-11 1L8.5 8.5l.94-2.06 2.06-.94-2.06-.94L8.5 2.5l-.94 2.06-2.06.94zm10 10l.94 2.06.94-2.06 2.06-.94-2.06-.94-.94-2.06-.94 2.06-2.06.94z\"/><path d=\"M17.41 7.96l-1.37-1.37c-.4-.4-.92-.59-1.43-.59-.52 0-1.04.2-1.43.59L10.3 9.45l-7.72 7.72c-.78.78-.78 2.05 0 2.83L4 21.41c.39.39.9.59 1.41.59.51 0 1.02-.2 1.41-.59l7.78-7.78 2.81-2.81c.8-.78.8-2.07 0-2.86zM5.41 20L4 18.59l7.72-7.72 1.47 1.35L5.41 20z\"/>\n",
              "  </svg>\n",
              "      </button>\n",
              "      \n",
              "  <style>\n",
              "    .colab-df-container {\n",
              "      display:flex;\n",
              "      flex-wrap:wrap;\n",
              "      gap: 12px;\n",
              "    }\n",
              "\n",
              "    .colab-df-convert {\n",
              "      background-color: #E8F0FE;\n",
              "      border: none;\n",
              "      border-radius: 50%;\n",
              "      cursor: pointer;\n",
              "      display: none;\n",
              "      fill: #1967D2;\n",
              "      height: 32px;\n",
              "      padding: 0 0 0 0;\n",
              "      width: 32px;\n",
              "    }\n",
              "\n",
              "    .colab-df-convert:hover {\n",
              "      background-color: #E2EBFA;\n",
              "      box-shadow: 0px 1px 2px rgba(60, 64, 67, 0.3), 0px 1px 3px 1px rgba(60, 64, 67, 0.15);\n",
              "      fill: #174EA6;\n",
              "    }\n",
              "\n",
              "    [theme=dark] .colab-df-convert {\n",
              "      background-color: #3B4455;\n",
              "      fill: #D2E3FC;\n",
              "    }\n",
              "\n",
              "    [theme=dark] .colab-df-convert:hover {\n",
              "      background-color: #434B5C;\n",
              "      box-shadow: 0px 1px 3px 1px rgba(0, 0, 0, 0.15);\n",
              "      filter: drop-shadow(0px 1px 2px rgba(0, 0, 0, 0.3));\n",
              "      fill: #FFFFFF;\n",
              "    }\n",
              "  </style>\n",
              "\n",
              "      <script>\n",
              "        const buttonEl =\n",
              "          document.querySelector('#df-3d21f837-6f35-4d81-ad4d-399436863c74 button.colab-df-convert');\n",
              "        buttonEl.style.display =\n",
              "          google.colab.kernel.accessAllowed ? 'block' : 'none';\n",
              "\n",
              "        async function convertToInteractive(key) {\n",
              "          const element = document.querySelector('#df-3d21f837-6f35-4d81-ad4d-399436863c74');\n",
              "          const dataTable =\n",
              "            await google.colab.kernel.invokeFunction('convertToInteractive',\n",
              "                                                     [key], {});\n",
              "          if (!dataTable) return;\n",
              "\n",
              "          const docLinkHtml = 'Like what you see? Visit the ' +\n",
              "            '<a target=\"_blank\" href=https://colab.research.google.com/notebooks/data_table.ipynb>data table notebook</a>'\n",
              "            + ' to learn more about interactive tables.';\n",
              "          element.innerHTML = '';\n",
              "          dataTable['output_type'] = 'display_data';\n",
              "          await google.colab.output.renderOutput(dataTable, element);\n",
              "          const docLink = document.createElement('div');\n",
              "          docLink.innerHTML = docLinkHtml;\n",
              "          element.appendChild(docLink);\n",
              "        }\n",
              "      </script>\n",
              "    </div>\n",
              "  </div>\n",
              "  "
            ],
            "text/plain": [
              "   agg_count_最寄駅：距離（分）_grpby_市区町村名  ...  agg_max_容積率（％）_grpby_市区町村名\n",
              "0                             1007  ...                       600.0\n",
              "1                             7705  ...                       600.0\n",
              "\n",
              "[2 rows x 16 columns]"
            ]
          },
          "metadata": {},
          "execution_count": 43
        }
      ]
    },
    {
      "cell_type": "code",
      "metadata": {
        "id": "SyT-F_j9pRgh",
        "colab": {
          "base_uri": "https://localhost:8080/"
        },
        "outputId": "694c6f1e-0317-4e3e-8e8b-224b9ac945ef"
      },
      "source": [
        "feat_df = pd.concat([num_df,le_df,num_comb_df]+agg_dfs, axis=1)\n",
        "print(feat_df.shape)"
      ],
      "execution_count": 44,
      "outputs": [
        {
          "output_type": "stream",
          "name": "stdout",
          "text": [
            "(715277, 38)\n"
          ]
        }
      ]
    },
    {
      "cell_type": "code",
      "metadata": {
        "id": "PBZeWFmVpRgh",
        "colab": {
          "base_uri": "https://localhost:8080/"
        },
        "outputId": "f03a7337-6718-4474-b4f9-5b0ec7f2de11"
      },
      "source": [
        "feat_df.dtypes"
      ],
      "execution_count": 45,
      "outputs": [
        {
          "output_type": "execute_result",
          "data": {
            "text/plain": [
              "ID                                   int64\n",
              "最寄駅：距離（分）                          float64\n",
              "面積（㎡）                                int64\n",
              "建築年                                float64\n",
              "建ぺい率（％）                            float64\n",
              "容積率（％）                             float64\n",
              "取引価格（総額）_log                       float64\n",
              "取引時点_enc                             int64\n",
              "都道府県名_te                           float64\n",
              "取引時点_何年前                             int64\n",
              "都道府県名                                int64\n",
              "市区町村名                                int64\n",
              "地区名                                  int64\n",
              "最寄駅：名称                               int64\n",
              "間取り                                  int64\n",
              "建物の構造                                int64\n",
              "用途                                   int64\n",
              "今後の利用目的                              int64\n",
              "都市計画                                 int64\n",
              "改装                                   int64\n",
              "取引の事情等                               int64\n",
              "面積（㎡）容積率（％）_combi                  float64\n",
              "agg_count_最寄駅：距離（分）_grpby_市区町村名      int64\n",
              "agg_count_面積（㎡）_grpby_市区町村名          int64\n",
              "agg_count_建ぺい率（％）_grpby_市区町村名        int64\n",
              "agg_count_容積率（％）_grpby_市区町村名         int64\n",
              "agg_mean_最寄駅：距離（分）_grpby_市区町村名     float64\n",
              "agg_mean_面積（㎡）_grpby_市区町村名         float64\n",
              "agg_mean_建ぺい率（％）_grpby_市区町村名       float64\n",
              "agg_mean_容積率（％）_grpby_市区町村名        float64\n",
              "agg_min_最寄駅：距離（分）_grpby_市区町村名      float64\n",
              "agg_min_面積（㎡）_grpby_市区町村名            int64\n",
              "agg_min_建ぺい率（％）_grpby_市区町村名        float64\n",
              "agg_min_容積率（％）_grpby_市区町村名         float64\n",
              "agg_max_最寄駅：距離（分）_grpby_市区町村名      float64\n",
              "agg_max_面積（㎡）_grpby_市区町村名            int64\n",
              "agg_max_建ぺい率（％）_grpby_市区町村名        float64\n",
              "agg_max_容積率（％）_grpby_市区町村名         float64\n",
              "dtype: object"
            ]
          },
          "metadata": {},
          "execution_count": 45
        }
      ]
    },
    {
      "cell_type": "markdown",
      "metadata": {
        "id": "gxbamqpbpRgh"
      },
      "source": [
        "## モデル構築"
      ]
    },
    {
      "cell_type": "code",
      "metadata": {
        "id": "ivwB08IrpRgh",
        "colab": {
          "base_uri": "https://localhost:8080/"
        },
        "outputId": "3719e991-32ea-4f67-8a28-7b2d34cca682"
      },
      "source": [
        "train_df = feat_df.iloc[:val_min_idx, :]\n",
        "val_df = feat_df.iloc[val_min_idx:test_min_idx, :]\n",
        "test_df = feat_df.iloc[test_min_idx:, :]\n",
        "print(train_df.shape, val_df.shape, test_df.shape)"
      ],
      "execution_count": 46,
      "outputs": [
        {
          "output_type": "stream",
          "name": "stdout",
          "text": [
            "(663186, 38) (29696, 38) (22395, 38)\n"
          ]
        }
      ]
    },
    {
      "cell_type": "code",
      "metadata": {
        "id": "QAQjmbAypRgi"
      },
      "source": [
        "feat_cols = [col for col in train_df.columns if col not in rm_cols+[ID, TARGET]]"
      ],
      "execution_count": 47,
      "outputs": []
    },
    {
      "cell_type": "code",
      "metadata": {
        "id": "7j7QCTotpRgi",
        "colab": {
          "base_uri": "https://localhost:8080/"
        },
        "outputId": "375eba23-3219-4087-b69b-fff86ace733a"
      },
      "source": [
        "cat_cols = list(le_df.columns) + ['取引時点_enc']\n",
        "cat_cols"
      ],
      "execution_count": 48,
      "outputs": [
        {
          "output_type": "execute_result",
          "data": {
            "text/plain": [
              "['都道府県名',\n",
              " '市区町村名',\n",
              " '地区名',\n",
              " '最寄駅：名称',\n",
              " '間取り',\n",
              " '建物の構造',\n",
              " '用途',\n",
              " '今後の利用目的',\n",
              " '都市計画',\n",
              " '改装',\n",
              " '取引の事情等',\n",
              " '取引時点_enc']"
            ]
          },
          "metadata": {},
          "execution_count": 48
        }
      ]
    },
    {
      "cell_type": "code",
      "metadata": {
        "id": "IRMpya2wpRgi"
      },
      "source": [
        "train_x = train_df[feat_cols]\n",
        "train_y = train_df[TARGET]\n",
        "val_x = val_df[feat_cols]\n",
        "val_y = val_df[TARGET]\n",
        "test_x = test_df[feat_cols]\n",
        "test_y = test_df[TARGET]"
      ],
      "execution_count": 49,
      "outputs": []
    },
    {
      "cell_type": "code",
      "metadata": {
        "id": "4Y5EH9v3pRgi",
        "colab": {
          "base_uri": "https://localhost:8080/"
        },
        "outputId": "03058057-2038-4087-9985-dd9e3ee264f0"
      },
      "source": [
        "SEED = 0\n",
        "\n",
        "params = {\n",
        "    'objective': 'regression',\n",
        "    'metric': 'mae',\n",
        "    'num_leaves': 42,\n",
        "    'max_depth': 7,\n",
        "    \"feature_fraction\": 0.8,\n",
        "    'subsample_freq': 1,\n",
        "    \"bagging_fraction\": 0.95,\n",
        "    'min_data_in_leaf': 2,\n",
        "    'learning_rate': 0.1,\n",
        "    \"boosting\": \"gbdt\",\n",
        "    \"lambda_l1\": 0.1,\n",
        "    \"lambda_l2\": 10,\n",
        "    \"verbosity\": -1,\n",
        "    \"random_state\": 42,\n",
        "    \"num_boost_round\": 50000,\n",
        "    \"early_stopping_rounds\": 100\n",
        "}\n",
        "\n",
        "train_data = lgb.Dataset(train_x, label=train_y)\n",
        "val_data = lgb.Dataset(val_x, label=val_y)\n",
        "\n",
        "model = lgb.train(\n",
        "    params,\n",
        "    train_data, \n",
        "    categorical_feature = cat_cols,\n",
        "    valid_names = ['train', 'valid'],\n",
        "    valid_sets =[train_data, val_data], \n",
        "    verbose_eval = 100,\n",
        ")\n",
        "\n",
        "val_pred = model.predict(val_x, num_iteration=model.best_iteration)\n",
        "score = mean_absolute_error(val_y, val_pred)\n",
        "\n",
        "pred_df = pd.DataFrame(sorted(zip(val_x.index, val_pred, val_y)), columns=['index', 'predict', 'actual'])\n",
        "\n",
        "feature_imp = pd.DataFrame(sorted(zip(model.feature_importance(), train_x.columns)), columns=['importance', 'feature'])\n",
        "\n",
        "print(f'score: {score:.4f}')"
      ],
      "execution_count": 50,
      "outputs": [
        {
          "output_type": "stream",
          "name": "stderr",
          "text": [
            "/usr/local/lib/python3.7/dist-packages/lightgbm/engine.py:118: UserWarning: Found `num_boost_round` in params. Will use it instead of argument\n",
            "  warnings.warn(\"Found `{}` in params. Will use it instead of argument\".format(alias))\n",
            "/usr/local/lib/python3.7/dist-packages/lightgbm/engine.py:123: UserWarning: Found `early_stopping_rounds` in params. Will use it instead of argument\n",
            "  warnings.warn(\"Found `{}` in params. Will use it instead of argument\".format(alias))\n",
            "/usr/local/lib/python3.7/dist-packages/lightgbm/basic.py:1209: UserWarning: categorical_feature in Dataset is overridden.\n",
            "New categorical_feature is ['今後の利用目的', '取引の事情等', '取引時点_enc', '地区名', '市区町村名', '建物の構造', '改装', '最寄駅：名称', '用途', '都市計画', '都道府県名', '間取り']\n",
            "  'New categorical_feature is {}'.format(sorted(list(categorical_feature))))\n",
            "/usr/local/lib/python3.7/dist-packages/lightgbm/basic.py:762: UserWarning: categorical_feature in param dict is overridden.\n",
            "  warnings.warn('categorical_feature in param dict is overridden.')\n"
          ]
        },
        {
          "output_type": "stream",
          "name": "stdout",
          "text": [
            "Training until validation scores don't improve for 100 rounds.\n",
            "[100]\ttrain's l1: 0.0804313\tvalid's l1: 0.0953498\n",
            "[200]\ttrain's l1: 0.0762025\tvalid's l1: 0.0915165\n",
            "[300]\ttrain's l1: 0.0740375\tvalid's l1: 0.089968\n",
            "[400]\ttrain's l1: 0.0726881\tvalid's l1: 0.089357\n",
            "[500]\ttrain's l1: 0.0715759\tvalid's l1: 0.0887866\n",
            "[600]\ttrain's l1: 0.0708292\tvalid's l1: 0.0884346\n",
            "[700]\ttrain's l1: 0.070197\tvalid's l1: 0.0881827\n",
            "[800]\ttrain's l1: 0.069616\tvalid's l1: 0.0880856\n",
            "[900]\ttrain's l1: 0.0690675\tvalid's l1: 0.0880131\n",
            "[1000]\ttrain's l1: 0.0685853\tvalid's l1: 0.0878942\n",
            "[1100]\ttrain's l1: 0.0680742\tvalid's l1: 0.0877496\n",
            "Early stopping, best iteration is:\n",
            "[1038]\ttrain's l1: 0.0683775\tvalid's l1: 0.0877196\n",
            "score: 0.0867\n"
          ]
        }
      ]
    },
    {
      "cell_type": "markdown",
      "source": [
        "## 変数重要度の可視化"
      ],
      "metadata": {
        "id": "dOv0sgt03wRS"
      }
    },
    {
      "cell_type": "code",
      "metadata": {
        "id": "kTPeagN2pRgi",
        "colab": {
          "base_uri": "https://localhost:8080/",
          "height": 581
        },
        "outputId": "4e56cfab-5606-48f6-92dc-1b33d27f529f"
      },
      "source": [
        "lgb.plot_importance(model, figsize=(12,8), max_num_features=50, importance_type='gain')\n",
        "plt.tight_layout()\n",
        "plt.savefig(BASE_PATH + 'output/feature_importance.png')\n",
        "plt.show()\n",
        "plt.close()"
      ],
      "execution_count": 51,
      "outputs": [
        {
          "output_type": "display_data",
          "data": {
            "image/png": "[encoded data removed]",
            "text/plain": [
              "<Figure size 864x576 with 1 Axes>"
            ]
          },
          "metadata": {}
        }
      ]
    },
    {
      "cell_type": "markdown",
      "source": [
        "## 予測実行"
      ],
      "metadata": {
        "id": "WhJYaWs04CAa"
      }
    },
    {
      "cell_type": "code",
      "metadata": {
        "id": "fGbXh6MLpRgj"
      },
      "source": [
        "test_pred = model.predict(test_x, num_iteration=model.best_iteration)"
      ],
      "execution_count": 52,
      "outputs": []
    },
    {
      "cell_type": "code",
      "metadata": {
        "id": "NLU97x851i2R",
        "colab": {
          "base_uri": "https://localhost:8080/"
        },
        "outputId": "58ea415f-5d92-4fa8-8ce0-5638b38f7677"
      },
      "source": [
        "test_df[TARGET] = test_pred"
      ],
      "execution_count": 53,
      "outputs": [
        {
          "output_type": "stream",
          "name": "stderr",
          "text": [
            "/usr/local/lib/python3.7/dist-packages/ipykernel_launcher.py:1: SettingWithCopyWarning: \n",
            "A value is trying to be set on a copy of a slice from a DataFrame.\n",
            "Try using .loc[row_indexer,col_indexer] = value instead\n",
            "\n",
            "See the caveats in the documentation: https://pandas.pydata.org/pandas-docs/stable/user_guide/indexing.html#returning-a-view-versus-a-copy\n",
            "  \"\"\"Entry point for launching an IPython kernel.\n"
          ]
        }
      ]
    },
    {
      "cell_type": "markdown",
      "source": [
        "##　提出用ファイルの作成"
      ],
      "metadata": {
        "id": "mi2lvbGk4TX3"
      }
    },
    {
      "cell_type": "code",
      "metadata": {
        "id": "1Uda2xkDpRgj"
      },
      "source": [
        "sub_df = pd.merge(sub_df[['ID']], test_df[['ID', TARGET]], on='ID')\n",
        "sub_df.to_csv(BASE_PATH + 'output/test_submission.csv', index=False)"
      ],
      "execution_count": 54,
      "outputs": []
    },
    {
      "cell_type": "code",
      "metadata": {
        "id": "EZmWl0a4nqx1"
      },
      "source": [
        ""
      ],
      "execution_count": null,
      "outputs": []
    }
  ]
}