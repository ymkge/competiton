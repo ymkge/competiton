{
  "nbformat": 4,
  "nbformat_minor": 0,
  "metadata": {
    "colab": {
      "name": "fakenews-pyspark-bert-train+infer.ipynb",
      "provenance": [],
      "collapsed_sections": [],
      "authorship_tag": "ABX9TyOjRdQ57yEBYnudBuPbZUBe",
      "include_colab_link": true
    },
    "kernelspec": {
      "name": "python3",
      "display_name": "Python 3"
    },
    "language_info": {
      "name": "python"
    }
  },
  "cells": [
    {
      "cell_type": "markdown",
      "metadata": {
        "id": "view-in-github",
        "colab_type": "text"
      },
      "source": [
        "<a href=\"https://colab.research.google.com/github/ymkge/competiton/blob/main/fakenews_pyspark_bert_train%2Binfer.ipynb\" target=\"_parent\"><img src=\"https://colab.research.google.com/assets/colab-badge.svg\" alt=\"Open In Colab\"/></a>"
      ]
    },
    {
      "cell_type": "code",
      "execution_count": null,
      "metadata": {
        "id": "iH22PYSg1uI5"
      },
      "outputs": [],
      "source": [
        ""
      ]
    },
    {
      "cell_type": "markdown",
      "source": [
        "# Colab Setup"
      ],
      "metadata": {
        "id": "4USlA5Qw12Hn"
      }
    },
    {
      "cell_type": "code",
      "source": [
        "! pip install -q pyspark==3.2.0 spark-nlp==3.4.2"
      ],
      "metadata": {
        "colab": {
          "base_uri": "https://localhost:8080/"
        },
        "id": "uH62eFnw13ej",
        "outputId": "5f6a7a71-6621-46eb-e272-4b480fa896f9"
      },
      "execution_count": 1,
      "outputs": [
        {
          "output_type": "stream",
          "name": "stdout",
          "text": [
            "\u001b[K     |████████████████████████████████| 281.3 MB 38 kB/s \n",
            "\u001b[K     |████████████████████████████████| 142 kB 16.4 MB/s \n",
            "\u001b[K     |████████████████████████████████| 198 kB 44.2 MB/s \n",
            "\u001b[?25h  Building wheel for pyspark (setup.py) ... \u001b[?25l\u001b[?25hdone\n"
          ]
        }
      ]
    },
    {
      "cell_type": "code",
      "source": [
        "import sparknlp\n",
        "\n",
        "spark = sparknlp.start(gpu = True, spark32=True) # for GPU training >> sparknlp.start(gpu = True) # for Spark 2.3 =>> sparknlp.start(spark23 = True)\n",
        "\n",
        "from sparknlp.base import *\n",
        "from sparknlp.annotator import *\n",
        "from pyspark.ml import Pipeline\n",
        "import pandas as pd\n",
        "import os\n",
        "\n",
        "print(\"Spark NLP version\", sparknlp.version())\n",
        "print(\"Apache Spark version:\", spark.version)\n",
        "\n",
        "spark"
      ],
      "metadata": {
        "colab": {
          "base_uri": "https://localhost:8080/",
          "height": 256
        },
        "id": "bDEJxCqs15R4",
        "outputId": "5dcc4d45-5c33-4794-9281-88a0107096c3"
      },
      "execution_count": 2,
      "outputs": [
        {
          "output_type": "stream",
          "name": "stdout",
          "text": [
            "Spark NLP version 3.4.2\n",
            "Apache Spark version: 3.2.0\n"
          ]
        },
        {
          "output_type": "execute_result",
          "data": {
            "text/plain": [
              "<pyspark.sql.session.SparkSession at 0x7ff7cda5d810>"
            ],
            "text/html": [
              "\n",
              "            <div>\n",
              "                <p><b>SparkSession - in-memory</b></p>\n",
              "                \n",
              "        <div>\n",
              "            <p><b>SparkContext</b></p>\n",
              "\n",
              "            <p><a href=\"http://956499504d40:4040\">Spark UI</a></p>\n",
              "\n",
              "            <dl>\n",
              "              <dt>Version</dt>\n",
              "                <dd><code>v3.2.0</code></dd>\n",
              "              <dt>Master</dt>\n",
              "                <dd><code>local[*]</code></dd>\n",
              "              <dt>AppName</dt>\n",
              "                <dd><code>Spark NLP</code></dd>\n",
              "            </dl>\n",
              "        </div>\n",
              "        \n",
              "            </div>\n",
              "        "
            ]
          },
          "metadata": {},
          "execution_count": 2
        }
      ]
    },
    {
      "cell_type": "code",
      "source": [
        "from google.colab import drive \n",
        "drive.mount('/content/drive')"
      ],
      "metadata": {
        "colab": {
          "base_uri": "https://localhost:8080/"
        },
        "id": "9ujGMkQP1_s3",
        "outputId": "be34d8c8-9f05-48d4-fb01-dd51450df611"
      },
      "execution_count": 3,
      "outputs": [
        {
          "output_type": "stream",
          "name": "stdout",
          "text": [
            "Mounted at /content/drive\n"
          ]
        }
      ]
    },
    {
      "cell_type": "markdown",
      "source": [
        "# Config"
      ],
      "metadata": {
        "id": "kNb3GrSK2Bh0"
      }
    },
    {
      "cell_type": "code",
      "source": [
        "class CFG:\n",
        "    # Globals #\n",
        "    EXP_ID = 'EXP_010' \n",
        "    seed = 111"
      ],
      "metadata": {
        "id": "Dr_krr8v2CC4"
      },
      "execution_count": 4,
      "outputs": []
    },
    {
      "cell_type": "code",
      "source": [
        "# Set Path\n",
        "import os\n",
        "\n",
        "ROOT =       '/content/drive/MyDrive/Notebooks/competition/fake_news_detection'\n",
        "CUR_DIR =    ROOT + '/01_code/'\n",
        "DATA_DIR =   ROOT + '/00_data/'\n",
        "MODEL_DIR =  ROOT + '/02_model/'\n",
        "LOG_DIR =    ROOT + f'/02_model/{CFG.EXP_ID}/log/'\n",
        "RESULT_DIR = ROOT + '/03_result/'\n",
        "\n",
        "if not os.path.exists(LOG_DIR):\n",
        "    os.makedirs(LOG_DIR)\n",
        "\n",
        "%cd $CUR_DIR"
      ],
      "metadata": {
        "colab": {
          "base_uri": "https://localhost:8080/"
        },
        "id": "WIzXfDmw2FRY",
        "outputId": "cf2b8693-5ecc-477a-b01a-dcd888b80e14"
      },
      "execution_count": 5,
      "outputs": [
        {
          "output_type": "stream",
          "name": "stdout",
          "text": [
            "/content/drive/MyDrive/Notebooks/competition/fake_news_detection/01_code\n"
          ]
        }
      ]
    },
    {
      "cell_type": "code",
      "source": [
        "!pwd"
      ],
      "metadata": {
        "colab": {
          "base_uri": "https://localhost:8080/"
        },
        "id": "wp_R-Gar3sK-",
        "outputId": "9e2a469f-a029-4787-e26d-3f7a67c93460"
      },
      "execution_count": 6,
      "outputs": [
        {
          "output_type": "stream",
          "name": "stdout",
          "text": [
            "/content/drive/MyDrive/Notebooks/competition/fake_news_detection/01_code\n"
          ]
        }
      ]
    },
    {
      "cell_type": "markdown",
      "source": [
        "# Load Dataset"
      ],
      "metadata": {
        "id": "Osf8UUdx2HAm"
      }
    },
    {
      "cell_type": "code",
      "source": [
        "trainDataset = spark.read.option(\"header\", True).csv(DATA_DIR + 'train.csv')\n",
        "holdout = spark.read.option(\"header\", True).csv(DATA_DIR + 'test.csv')\n",
        "sample = spark.read.option(\"header\", True).csv(DATA_DIR + 'sample_submission.csv')\n",
        "\n",
        "trainDataset.show(truncate=50)"
      ],
      "metadata": {
        "colab": {
          "base_uri": "https://localhost:8080/"
        },
        "id": "wx-B4EBK2HoQ",
        "outputId": "576804a1-0c19-443c-b43a-4bf336bfa139"
      },
      "execution_count": 7,
      "outputs": [
        {
          "output_type": "stream",
          "name": "stdout",
          "text": [
            "+----------+------+-------------------------------------------------------------------------------------------------+\n",
            "|        id|isFake|                                                                                             text|\n",
            "+----------+------+-------------------------------------------------------------------------------------------------+\n",
            "|d19828eb64|     1|       Cによると、アメリカの元大統領で、最長寿だったジョージ・ウォーカー・ブッシュ氏が27日(C-5...|\n",
            "|dfaab096bd|     0|    中日新聞によると、コナミカップ・プロ野球アジアシリーズ2007の決勝戦・日本の中日ドラゴンズ対...|\n",
            "|163504bf95|     1|      愛媛Cは、11月12日にリーグ準加盟の承認を受けて、来期リーグ加盟を目指す愛媛Cに対して、鈴木...|\n",
            "|ed3c9dc579|     0|         国民日報によると3日、7時50分（UTC+9、日本時間と同じ）大韓民国京畿道平沢市の西海岸（ソ...|\n",
            "|e06f88267f|     1|   共同通信によると、5日午後2時過ぎから東京都、神奈川県、千葉県の3都県の広い範囲の地域で停電が...|\n",
            "|2f5903a788|     0|                2005年12月31日の河北新報、日刊スポーツによると、同年12月30日深夜10時35分ごろ、...|\n",
            "|b2ca4f9386|     1|        日本経済新聞によると、日本バスケットボール協会は4月3日、2007年10月の開幕を目指す協会主...|\n",
            "|ea52aa5790|     0|          神奈川新聞によると30日(UTC+9)、横浜市北部に同市営地下鉄の新線「グリーンライン（4号線...|\n",
            "|a994696540|     0|     マイナビニュースとMdNによると、アイ・オー・データ機器より新モデルのネットワークカメラを20...|\n",
            "|cb6ea64e2e|     0|     朝日新聞によると、7月16日に起きた新潟県中越沖地震のため試合の開催を自粛している第89回全国...|\n",
            "|675b544c61|     1|  毎日新聞によると、サッカー日本代表の監督や、国際サッカー連盟副会長も努めた長沼健さんが6月2日...|\n",
            "|d70ada7579|     1|参議院本会議で郵政民営化法案が否決されたことを受け、自由民主党の石破茂幹事長は民主党・社民党を...|\n",
            "|a07cf27590|     0|              NHKによると、2011年4月に民放で、2012年1月にはEテレでも再編集して放送されたアニメ...|\n",
            "|b8dc2c143b|     0|  気象庁は30日午後、山口県を除いた中国・近畿・東海・北陸・関東甲信の各地方で梅雨明けしたとみら...|\n",
            "|2a50a99e1b|     1|   楽天株式会社は7月23日、同社運営のインターネットショッピングサイト「楽天市場」に出店している...|\n",
            "|f20d84bdd5|     1|     47によると、4月2日、川崎市多摩区のマンションで起きた女性襲撃と小学校3年生の男児の転落死事...|\n",
            "|43a0298ed7|     1|               朝日新聞によると、松下電器は、ブランドを「anasonic」から「ational」へ一本化する...|\n",
            "|94f2378317|     1|       産経新聞・読売新聞・朝日新聞などによると7月22日午後8時40分ごろ、東京都八王子市明神町3の...|\n",
            "|1e2ea2a0a8|     0|           ぷらっとホームは、同社取締役会長の本多弘男さんが6月6日 (UTC+9) に亡くなっていたこと...|\n",
            "|229d778e0f|     1|       によると、フランス南東部アン県で22日(現地時刻、C+2)、武装した集団が銃を乱射し、少なくと...|\n",
            "+----------+------+-------------------------------------------------------------------------------------------------+\n",
            "only showing top 20 rows\n",
            "\n"
          ]
        }
      ]
    },
    {
      "cell_type": "code",
      "source": [
        "from pyspark.sql.functions import col\n",
        "\n",
        "print(f\"Total {trainDataset.count()}\")\n",
        "\n",
        "trainDataset.groupBy(\"isFake\") \\\n",
        "    .count() \\\n",
        "    .orderBy(col(\"count\").desc()) \\\n",
        "    .show()"
      ],
      "metadata": {
        "colab": {
          "base_uri": "https://localhost:8080/"
        },
        "id": "2iO85Tfe3v-p",
        "outputId": "30948c50-b41c-4e2b-9b43-55a26c15f698"
      },
      "execution_count": 8,
      "outputs": [
        {
          "output_type": "stream",
          "name": "stdout",
          "text": [
            "Total 3781\n",
            "+------+-----+\n",
            "|isFake|count|\n",
            "+------+-----+\n",
            "|     1| 1937|\n",
            "|     0| 1844|\n",
            "+------+-----+\n",
            "\n"
          ]
        }
      ]
    },
    {
      "cell_type": "code",
      "source": [
        "# set seed for reproducibility\n",
        "(trainData, testData) = trainDataset.randomSplit([0.8, 0.2], seed = CFG.seed)\n",
        "print(\"Train Dataset Count: \" + str(trainData.count()))\n",
        "print(\"Test Dataset Count: \" + str(testData.count()))"
      ],
      "metadata": {
        "colab": {
          "base_uri": "https://localhost:8080/"
        },
        "id": "zChbmD9u31FP",
        "outputId": "926e40ee-64dd-4b63-9a59-b3edd2513530"
      },
      "execution_count": 9,
      "outputs": [
        {
          "output_type": "stream",
          "name": "stdout",
          "text": [
            "Train Dataset Count: 3031\n",
            "Test Dataset Count: 750\n"
          ]
        }
      ]
    },
    {
      "cell_type": "markdown",
      "source": [
        "# Model Pipeline"
      ],
      "metadata": {
        "id": "kcodTvj_359w"
      }
    },
    {
      "cell_type": "code",
      "source": [
        "document_assembler = DocumentAssembler() \\\n",
        "    .setInputCol(\"text\") \\\n",
        "    .setOutputCol(\"document\")\n",
        "\n",
        "word_segmenter = WordSegmenterModel.pretrained('wordseg_gsd_ud', 'ja')\\\n",
        "        .setInputCols([\"document\"])\\\n",
        "        .setOutputCol(\"token\") \n",
        "\n",
        "normalizer = Normalizer() \\\n",
        "    .setInputCols([\"token\"]) \\\n",
        "    .setOutputCol(\"normalized\")\n",
        "\n",
        "stopwords_cleaner = StopWordsCleaner.pretrained(\"stopwords_iso\", \"ja\")\\\n",
        "    .setInputCols(\"normalized\")\\\n",
        "    .setOutputCol(\"cleanTokens\")\\\n",
        "\n",
        "lemmatizer = LemmatizerModel.pretrained(\"lemma\", \"ja\") \\\n",
        "        .setInputCols([\"cleanTokens\"]) \\\n",
        "        .setOutputCol(\"lemma\")\n",
        "\n",
        "# bert_embeddings = BertEmbeddings().pretrained(name=\"bert_base_japanese\", lang=\"ja\") \\\n",
        "#     .setInputCols([\"document\",'cleanTokens'])\\\n",
        "#     .setOutputCol(\"embeddings\")\n",
        "\n",
        "### bert pretrained \n",
        "# name='small_bert_L4_256', lang='en'\n",
        "# name='sent_small_bert_L8_512', lang='en'\n",
        "# name='bert_embeddings_bert_base_ja_cased', lang='ja'\n",
        "# name=\"bert_base_japanese\", lang=\"ja\"\n",
        "\n",
        "\n",
        "albert_embeddings = AlbertEmbeddings.pretrained(\"albert_embeddings_albert_base_japanese_v1\",\"ja\") \\\n",
        "    .setInputCols([\"document\", \"lemma\"]) \\\n",
        "    .setOutputCol(\"embeddings\")\n",
        "\n",
        "embeddingsSentence = SentenceEmbeddings() \\\n",
        "    .setInputCols([\"document\", \"embeddings\"]) \\\n",
        "    .setOutputCol(\"sentence_embeddings\") \\\n",
        "    .setPoolingStrategy(\"AVERAGE\")\n",
        "\n",
        "classsifierdl = ClassifierDLApproach()\\\n",
        "    .setInputCols([\"sentence_embeddings\"])\\\n",
        "    .setOutputCol(\"class\")\\\n",
        "    .setLabelColumn(\"isFake\")\\\n",
        "    .setMaxEpochs(30)\\\n",
        "    .setLr(0.002)\\\n",
        "    .setDropout(0.5)\\\n",
        "    .setBatchSize(4)\\\n",
        "    .setEnableOutputLogs(True)\\\n",
        "    .setRandomSeed(CFG.seed)\\\n",
        "    .setOutputLogsPath(LOG_DIR)\n",
        "\n",
        "# ClassifierDLApproach(Default): lr=0.005, batchSize=64, dropou=0.5, maxEpochs=30\n",
        "\n",
        "bert_clf_pipeline = Pipeline(stages=[\n",
        "    document_assembler,\n",
        "    word_segmenter,\n",
        "    normalizer,\n",
        "    stopwords_cleaner,\n",
        "    lemmatizer,\n",
        "    albert_embeddings,\n",
        "    embeddingsSentence,\n",
        "    classsifierdl\n",
        "])"
      ],
      "metadata": {
        "colab": {
          "base_uri": "https://localhost:8080/"
        },
        "id": "0SedTRhL3330",
        "outputId": "71e14899-7e05-4b17-a863-c52b6a1b4369"
      },
      "execution_count": 10,
      "outputs": [
        {
          "output_type": "stream",
          "name": "stdout",
          "text": [
            "wordseg_gsd_ud download started this may take some time.\n",
            "Approximate size to download 979 KB\n",
            "[OK!]\n",
            "stopwords_iso download started this may take some time.\n",
            "Approximate size to download 1.8 KB\n",
            "[OK!]\n",
            "lemma download started this may take some time.\n",
            "Approximate size to download 3.4 MB\n",
            "[OK!]\n",
            "albert_embeddings_albert_base_japanese_v1 download started this may take some time.\n",
            "Approximate size to download 43.5 MB\n",
            "[OK!]\n"
          ]
        }
      ]
    },
    {
      "cell_type": "code",
      "source": [
        "# Transform \n",
        "\n",
        "finisher = Finisher() \\\n",
        "    .setInputCols([\"lemma\"]) \\\n",
        "    .setOutputCols([\"tokens\"]) \\\n",
        "    .setOutputAsArray(True) \\\n",
        "    .setCleanAnnotations(False)\n",
        "\n",
        "transform_pipeline = Pipeline(stages=[\n",
        "    document_assembler,\n",
        "    word_segmenter,\n",
        "    normalizer,\n",
        "    stopwords_cleaner,\n",
        "    lemmatizer, \n",
        "    finisher\n",
        "])\n",
        "\n",
        "transform_pipeline_run = transform_pipeline.fit(trainData)\n",
        "transform_df = transform_pipeline_run.transform(trainData)\n",
        "\n",
        "transform_df.show()"
      ],
      "metadata": {
        "colab": {
          "base_uri": "https://localhost:8080/"
        },
        "id": "K5hFKNgp3-OB",
        "outputId": "e8673700-93f7-4734-a89c-da80ad3fec56"
      },
      "execution_count": 11,
      "outputs": [
        {
          "output_type": "stream",
          "name": "stdout",
          "text": [
            "+----------+------+-------------------------------------+--------------------+----------------------+----------------------+----------------------+----------------------+-------------------------------+\n",
            "|        id|isFake|                                 text|            document|                 token|            normalized|           cleanTokens|                 lemma|                         tokens|\n",
            "+----------+------+-------------------------------------+--------------------+----------------------+----------------------+----------------------+----------------------+-------------------------------+\n",
            "|0013fa1710|     1|      スポーツ仲裁裁判所(C)が2月11...|[{document, 0, 38...|[{token, 0, 3, スポ...|[{token, 0, 3, スポ...|[{token, 0, 3, スポ...|[{token, 0, 3, スポ...|   [スポーツ, 仲, 裁, 裁, 判...|\n",
            "|0038263cc9|     0|」というクレジットのもとに「アメリ...|[{document, 0, 38...| [{token, 0, 0, 」,...| [{token, 1, 1, と,...|[{token, 4, 8, クレ...|[{token, 4, 8, クレ...|[クレジット, アメリカ, 国防,...|\n",
            "|00629d85f8|     0|     朝日放送によると、11月24日夜7...|[{document, 0, 77...|[{token, 0, 1, 朝日...|[{token, 0, 1, 朝日...|[{token, 0, 1, 朝日...|[{token, 0, 1, 朝日...|    [朝日, 放送, 月, 日, 夜,...|\n",
            "|0095046d02|     1|エジプトのシナイ半島での爆弾テロ事...|[{document, 0, 60...|[{token, 0, 3, エジ...|[{token, 0, 3, エジ...|[{token, 0, 3, エジ...|[{token, 0, 3, エジ...| [エジプト, シナイ, 半島, 爆...|\n",
            "|00a34678bb|     1|朝日新聞、共同通信によると、みずほ...|[{document, 0, 64...|[{token, 0, 1, 朝日...|[{token, 0, 1, 朝日...|[{token, 0, 1, 朝日...|[{token, 0, 1, 朝日...|   [朝日, 新聞, 共同, 通信, ...|\n",
            "|00c08d89fe|     0| 日刊スポーツによると、野球殿堂の2...|[{document, 0, 39...|[{token, 0, 1, 日刊...|[{token, 0, 1, 日刊...|[{token, 0, 1, 日刊...|[{token, 0, 1, 日刊...| [日刊, スポーツ, 野球, 殿堂...|\n",
            "|00cc75b3c3|     1|セイジ・オザワ松本フェスティバル実...|[{document, 0, 45...|[{token, 0, 2, セイ...|[{token, 0, 2, セイ...|[{token, 0, 2, セイ...|[{token, 0, 2, セイ...|   [セイジ, オザワ, 松, 本, ...|\n",
            "|00e2c609b4|     0|       宇宙航空研究開発機構 (JAXA)...|[{document, 0, 14...|[{token, 0, 1, 宇宙...|[{token, 0, 1, 宇宙...|[{token, 0, 1, 宇宙...|[{token, 0, 1, 宇宙...|   [宇宙, 航空, 研究, 開発, ...|\n",
            "|00e6b84936|     1|朝日新聞などが伝えたところによると...|[{document, 0, 39...|[{token, 0, 1, 朝日...|[{token, 0, 1, 朝日...|[{token, 0, 1, 朝日...|[{token, 0, 1, 朝日...|   [朝日, 新聞, 伝える, 年, ...|\n",
            "|00f7f5c26f|     0|       2016年5月25日に安倍晋三総理...|[{document, 0, 38...|  [{token, 0, 3, 20...| [{token, 4, 4, 年,...| [{token, 4, 4, 年,...| [{token, 4, 4, 年,...|     [年, 月, 日, 安倍, 晋, ...|\n",
            "|00fcb2d718|     1|産経新聞によると、ロッテ滋賀工場で...|[{document, 0, 48...|[{token, 0, 1, 産経...|[{token, 0, 1, 産経...|[{token, 0, 1, 産経...|[{token, 0, 1, 産経...|  [産経, 新聞, ロッテ, 滋賀,...|\n",
            "|010b9063e5|     0|     7日午後10時41分ごろ、千葉県北...|[{document, 0, 34...|  [{token, 0, 0, 7,...| [{token, 1, 1, 日,...| [{token, 1, 1, 日,...| [{token, 1, 1, 日,...|   [日, 午後, 時, 分ごろ, 千...|\n",
            "|011ba6714b|     0|  24日、ソニーの中川裕副社長が会見...|[{document, 0, 26...|  [{token, 0, 1, 24...| [{token, 2, 2, 日,...| [{token, 2, 2, 日,...| [{token, 2, 2, 日,...|   [日, ソニー, 中川, 裕, 副...|\n",
            "|012b946b10|     0|テレビゲーム周辺機器を開発している...|[{document, 0, 48...|[{token, 0, 2, テレ...|[{token, 0, 2, テレ...|[{token, 0, 2, テレ...|[{token, 0, 2, テレ...| [テレビ, ゲーム, 周辺, 機器...|\n",
            "|01375f5365|     1|毎日新聞によると、スーダン暫定政府...|[{document, 0, 31...|[{token, 0, 1, 毎日...|[{token, 0, 1, 毎日...|[{token, 0, 1, 毎日...|[{token, 0, 1, 毎日...| [毎日, 新聞, スーダン, 暫定...|\n",
            "|015dd044ee|     1|中日新聞によると、宮崎県の安藤忠恕...|[{document, 0, 50...|[{token, 0, 1, 中日...|[{token, 0, 1, 中日...|[{token, 0, 1, 中日...|[{token, 0, 1, 中日...|   [中日, 新聞, 宮崎, 県, 安...|\n",
            "|017ae98719|     0|   国際連合の総会は、13日午後3時（...|[{document, 0, 20...|[{token, 0, 1, 国際...|[{token, 0, 1, 国際...|[{token, 0, 1, 国際...|[{token, 0, 1, 国際...|   [国際, 連合, 総会, 日, 午...|\n",
            "|019209346a|     0|朝日新聞・読売新聞によると、広島と...|[{document, 0, 79...|[{token, 0, 1, 朝日...|[{token, 0, 1, 朝日...|[{token, 0, 1, 朝日...|[{token, 0, 1, 朝日...|   [朝日, 新聞, 読売, 新聞, ...|\n",
            "|01b1ae255c|     0|徳島新聞、読売新聞によると、日本の...|[{document, 0, 38...|[{token, 0, 1, 徳島...|[{token, 0, 1, 徳島...|[{token, 0, 1, 徳島...|[{token, 0, 1, 徳島...|   [徳島, 新聞, 読売, 新聞, ...|\n",
            "|01b23136ea|     0|       秋田魁新報、2005年9月27日の...|[{document, 0, 42...|[{token, 0, 1, 秋魁...|[{token, 0, 1, 秋魁...|[{token, 0, 1, 秋魁...|[{token, 0, 1, 秋魁...|    [秋魁, 田, 新報, 年, 月,...|\n",
            "+----------+------+-------------------------------------+--------------------+----------------------+----------------------+----------------------+----------------------+-------------------------------+\n",
            "only showing top 20 rows\n",
            "\n"
          ]
        }
      ]
    },
    {
      "cell_type": "markdown",
      "source": [
        "# Run"
      ],
      "metadata": {
        "id": "wZ7Mp6ZP4EKE"
      }
    },
    {
      "cell_type": "code",
      "source": [
        "# remove the existing logs\n",
        "\n",
        "! rm -r {LOG_DIR}"
      ],
      "metadata": {
        "id": "5ZJJ5fO04Elk"
      },
      "execution_count": 12,
      "outputs": []
    },
    {
      "cell_type": "code",
      "source": [
        "%%time\n",
        "# training will take some time due to Bert (use GPU runtime when possible)\n",
        "\n",
        "bert_clf_pipelineModel = bert_clf_pipeline.fit(trainData)"
      ],
      "metadata": {
        "colab": {
          "base_uri": "https://localhost:8080/"
        },
        "id": "yb-0cQ6c4I7W",
        "outputId": "d51e2f1a-2c60-47d1-c306-e51f7c35e743"
      },
      "execution_count": 13,
      "outputs": [
        {
          "output_type": "stream",
          "name": "stdout",
          "text": [
            "CPU times: user 18.3 s, sys: 2.23 s, total: 20.6 s\n",
            "Wall time: 56min 22s\n"
          ]
        }
      ]
    },
    {
      "cell_type": "code",
      "source": [
        "# Check log file\n",
        "\n",
        "log_files = os.listdir(f'{LOG_DIR}')\n",
        "log_files"
      ],
      "metadata": {
        "colab": {
          "base_uri": "https://localhost:8080/"
        },
        "id": "D_4c_vdh4K5U",
        "outputId": "086ec83d-3a9a-48fb-941a-ec99427c00ad"
      },
      "execution_count": 14,
      "outputs": [
        {
          "output_type": "execute_result",
          "data": {
            "text/plain": [
              "['ClassifierDLApproach_f3bccd0cfddb.log']"
            ]
          },
          "metadata": {},
          "execution_count": 14
        }
      ]
    },
    {
      "cell_type": "code",
      "source": [
        "# Read log file\n",
        "\n",
        "log_file_name = os.listdir(f'{LOG_DIR}')[0]\n",
        "\n",
        "with open(f'{LOG_DIR}{log_file_name}', \"r\") as log_file :\n",
        "    print(log_file.read())"
      ],
      "metadata": {
        "colab": {
          "base_uri": "https://localhost:8080/"
        },
        "id": "-QU3DieD4LO6",
        "outputId": "f62623a3-47f5-473d-ab0d-7aecc21016bd"
      },
      "execution_count": 15,
      "outputs": [
        {
          "output_type": "stream",
          "name": "stdout",
          "text": [
            "Training started - epochs: 30 - learning_rate: 0.002 - batch_size: 4 - training_examples: 3031 - classes: 2\n",
            "Epoch 0/30 - 6.08s - loss: 515.5552 - acc: 0.56693083 - batches: 758\n",
            "Epoch 1/30 - 5.89s - loss: 447.35828 - acc: 0.7211581 - batches: 758\n",
            "Epoch 2/30 - 5.59s - loss: 425.1427 - acc: 0.75187147 - batches: 758\n",
            "Epoch 3/30 - 5.27s - loss: 416.47974 - acc: 0.7664025 - batches: 758\n",
            "Epoch 4/30 - 5.46s - loss: 411.05182 - acc: 0.77597976 - batches: 758\n",
            "Epoch 5/30 - 5.24s - loss: 406.85495 - acc: 0.78324527 - batches: 758\n",
            "Epoch 6/30 - 5.32s - loss: 403.40692 - acc: 0.7878688 - batches: 758\n",
            "Epoch 7/30 - 5.55s - loss: 400.47174 - acc: 0.79051083 - batches: 758\n",
            "Epoch 8/30 - 5.19s - loss: 397.98895 - acc: 0.79216206 - batches: 758\n",
            "Epoch 9/30 - 5.41s - loss: 395.84747 - acc: 0.79711586 - batches: 758\n",
            "Epoch 10/30 - 5.28s - loss: 394.0145 - acc: 0.8033906 - batches: 758\n",
            "Epoch 11/30 - 5.24s - loss: 392.41235 - acc: 0.80702335 - batches: 758\n",
            "Epoch 12/30 - 5.35s - loss: 391.00766 - acc: 0.8073536 - batches: 758\n",
            "Epoch 13/30 - 5.17s - loss: 389.779 - acc: 0.80867463 - batches: 758\n",
            "Epoch 14/30 - 5.19s - loss: 388.66568 - acc: 0.81065613 - batches: 758\n",
            "Epoch 15/30 - 5.25s - loss: 387.64993 - acc: 0.8126376 - batches: 758\n",
            "Epoch 16/30 - 5.26s - loss: 386.7057 - acc: 0.81527966 - batches: 758\n",
            "Epoch 17/30 - 5.28s - loss: 385.82373 - acc: 0.81759137 - batches: 758\n",
            "Epoch 18/30 - 5.35s - loss: 385.01318 - acc: 0.81792164 - batches: 758\n",
            "Epoch 19/30 - 5.23s - loss: 384.24292 - acc: 0.8189124 - batches: 758\n",
            "Epoch 20/30 - 5.30s - loss: 383.5307 - acc: 0.81990314 - batches: 758\n",
            "Epoch 21/30 - 5.46s - loss: 382.85056 - acc: 0.8225452 - batches: 758\n",
            "Epoch 22/30 - 5.18s - loss: 382.21408 - acc: 0.82320565 - batches: 758\n",
            "Epoch 23/30 - 5.26s - loss: 381.6026 - acc: 0.82485694 - batches: 758\n",
            "Epoch 24/30 - 5.27s - loss: 381.02725 - acc: 0.8255174 - batches: 758\n",
            "Epoch 25/30 - 5.28s - loss: 380.48013 - acc: 0.82683843 - batches: 758\n",
            "Epoch 26/30 - 5.49s - loss: 379.95444 - acc: 0.8278292 - batches: 758\n",
            "Epoch 27/30 - 5.47s - loss: 379.4446 - acc: 0.82815945 - batches: 758\n",
            "Epoch 28/30 - 5.34s - loss: 378.95557 - acc: 0.8294804 - batches: 758\n",
            "Epoch 29/30 - 5.39s - loss: 378.48306 - acc: 0.83014095 - batches: 758\n",
            "\n"
          ]
        }
      ]
    },
    {
      "cell_type": "code",
      "source": [
        "preds = bert_clf_pipelineModel.transform(testData)\n",
        "preds_df = preds.select('isFake','text',\"class.result\").toPandas()\n",
        "\n",
        "print(preds_df)"
      ],
      "metadata": {
        "colab": {
          "base_uri": "https://localhost:8080/"
        },
        "id": "U0MPBdTV4LRx",
        "outputId": "fa503ccd-2e3d-448a-b107-cff94956ddb7"
      },
      "execution_count": 16,
      "outputs": [
        {
          "output_type": "stream",
          "name": "stdout",
          "text": [
            "    isFake                                               text result\n",
            "0        1  サウジアラビアのメッカで、将棋倒し事故があり、少なくとも717人が死亡、800人以上が負傷し...    [0]\n",
            "1        1  読売新聞など各報道機関の報道によると、北京オリンピック男子バレーボールに出場している日本代表...    [1]\n",
            "2        0  現地時間の23日早朝、エジプト・シナイ半島の紅海沿いの複数のリゾート地で少なくとも4つ、おそ...    [0]\n",
            "3        1  朝日新聞および日本経済新聞によると、ロシア出身の起業家であるホリ・ギレンバーグ氏が、現地時間...    [1]\n",
            "4        1  時事通信や毎日新聞などが伝えたところによれば、小泉純一郎首相の靖国神社参拝をめぐる違憲判断が...    [1]\n",
            "..     ...                                                ...    ...\n",
            "745      0  大相撲秋場所（両国国技館）初日の11日、大鵬以来史上2人目の6連覇を狙う朝青龍が、新小結の普...    [0]\n",
            "746      1  \".ローリングの新作、ハリー・ポッターシリーズの第6巻『ハリー・ポッターと混血の王子』(仮題...    [1]\n",
            "747      1  47と読売新聞によると、日本プロ野球・福岡ソフトバンクの王貞治監督(66歳)が胃の腫瘍のため...    [1]\n",
            "748      0  インドネシアで27日、先月に続き第2回のポリオワクチン全国一斉播種が行われた。5歳以下の児童...    [0]\n",
            "749      0  JR西日本の垣内剛社長は7月20日に開いた会見で、今年4月25日に発生した福知山線脱線事故を...    [1]\n",
            "\n",
            "[750 rows x 3 columns]\n"
          ]
        }
      ]
    },
    {
      "cell_type": "code",
      "source": [
        "# We are going to use sklearn to evalute the results on test dataset\n",
        "from sklearn.metrics import classification_report\n",
        "\n",
        "preds_df['result'] = preds_df['result'].apply(lambda x : x[0])\n",
        "\n",
        "print (classification_report(preds_df['result'], preds_df['isFake']))"
      ],
      "metadata": {
        "colab": {
          "base_uri": "https://localhost:8080/"
        },
        "id": "vo1XhAvO4PaJ",
        "outputId": "e5d4bd3b-6414-4c30-b719-436c3dcafada"
      },
      "execution_count": 17,
      "outputs": [
        {
          "output_type": "stream",
          "name": "stdout",
          "text": [
            "              precision    recall  f1-score   support\n",
            "\n",
            "           0       0.77      0.77      0.77       362\n",
            "           1       0.79      0.79      0.79       388\n",
            "\n",
            "    accuracy                           0.78       750\n",
            "   macro avg       0.78      0.78      0.78       750\n",
            "weighted avg       0.78      0.78      0.78       750\n",
            "\n"
          ]
        }
      ]
    },
    {
      "cell_type": "code",
      "source": [
        ""
      ],
      "metadata": {
        "id": "JojCQDay4PcL"
      },
      "execution_count": null,
      "outputs": []
    },
    {
      "cell_type": "markdown",
      "source": [
        "# Save Model"
      ],
      "metadata": {
        "id": "lZb2KlPR4TC8"
      }
    },
    {
      "cell_type": "code",
      "source": [
        "# Save a Spark NLP pipeline\n",
        "bert_clf_pipelineModel.save(f'{MODEL_DIR}{CFG.EXP_ID}/model')"
      ],
      "metadata": {
        "id": "b5c3s4nj4Pej"
      },
      "execution_count": 18,
      "outputs": []
    },
    {
      "cell_type": "markdown",
      "source": [
        "# Load Model"
      ],
      "metadata": {
        "id": "t_f70l4A4YY3"
      }
    },
    {
      "cell_type": "code",
      "source": [
        "# Setting (Colab Setup to Load Dataset)\n",
        "\n",
        "loaded_bert_clf_pipelineModel = PipelineModel.load(f'{MODEL_DIR}{CFG.EXP_ID}/model')"
      ],
      "metadata": {
        "id": "vmD_N-7F4ZV5"
      },
      "execution_count": 19,
      "outputs": []
    },
    {
      "cell_type": "code",
      "source": [
        ""
      ],
      "metadata": {
        "id": "NAQc6psd4VIj"
      },
      "execution_count": null,
      "outputs": []
    },
    {
      "cell_type": "markdown",
      "source": [
        "# Infer"
      ],
      "metadata": {
        "id": "VRcZLd0x4hdE"
      }
    },
    {
      "cell_type": "code",
      "source": [
        "# submission\n",
        "\n",
        "preds = loaded_bert_clf_pipelineModel.transform(holdout)\n",
        "\n",
        "preds_df = preds.select('id', 'text',\"class.result\").toPandas()\n",
        "\n",
        "print(preds_df)"
      ],
      "metadata": {
        "colab": {
          "base_uri": "https://localhost:8080/"
        },
        "id": "4PNEhN784VK1",
        "outputId": "00af10fe-a0a4-405f-e06a-cd2e6bb26fa1"
      },
      "execution_count": 20,
      "outputs": [
        {
          "output_type": "stream",
          "name": "stdout",
          "text": [
            "              id                                               text result\n",
            "0     d253d7b7ac  共同通信によると、ペルーの政党「シ・クンプレ」が、6日、中央選管である全国選挙評議会 (JN...    [1]\n",
            "1     fcfe44d0a0  自殺した川田亜子さんの元恋人とされる、映画監督で平和活動家のマット・テイラー氏が、川田さんが...    [1]\n",
            "2     213caf5cf5  沖縄タイムスによると、アメリカ軍の海兵隊・二等軍曹(38歳)が2月10日深夜、沖縄市の公園近...    [1]\n",
            "3     15aefc8374  動画投稿サイト「C2」に人気ドラマやバラエティ番組を投稿したとして、著作権法違反(公衆送信権...    [1]\n",
            "4     aded40e220  報道機関各社によると、12月1日、東京都内で日本プロ野球の2次ドラフトが初めて行われた。サン...    [1]\n",
            "...          ...                                                ...    ...\n",
            "3776  f87ff9f55f  スポーツニッポンによると、2015年9月12日に投票が行われることになっている(欧州サッカー...    [1]\n",
            "3777  f7bb120e80  朝日新聞・時事通信によると、大韓民国の仁川空港とソウル駅とを結ぶ空港鉄道（KORAIL空港鉄...    [0]\n",
            "3778  09cb71299e  気象庁によると、台風17号「ルンビア」(umbia)は、7日午前10時現在、南鳥島の南西約2...    [1]\n",
            "3779  ce8e47d692  中日新聞、朝日新聞、読売新聞、産経新聞、C、日本放送協会によると、インドネシアは27日、バン...    [1]\n",
            "3780  044c06ac12  25日、高校の一部科目の履修漏れが判明した問題で、26日までに35都道県の254校(内、私立...    [1]\n",
            "\n",
            "[3781 rows x 3 columns]\n"
          ]
        }
      ]
    },
    {
      "cell_type": "code",
      "source": [
        "# create submission_df\n",
        "submission_df = preds_df[['id', 'result']].copy()\n",
        "\n",
        "submission_df['result'] = submission_df['result'].str[0]\n",
        "submission_df = submission_df.rename(columns={\"result\": \"isFake\"})\n",
        "\n",
        "print(len(submission_df)) # Recheck 3781\n",
        "\n",
        "submission_df"
      ],
      "metadata": {
        "colab": {
          "base_uri": "https://localhost:8080/",
          "height": 442
        },
        "id": "IkULUM_Q4lUM",
        "outputId": "ea342028-4fc5-4424-e217-00d5b09819a1"
      },
      "execution_count": 21,
      "outputs": [
        {
          "output_type": "stream",
          "name": "stdout",
          "text": [
            "3781\n"
          ]
        },
        {
          "output_type": "execute_result",
          "data": {
            "text/plain": [
              "              id isFake\n",
              "0     d253d7b7ac      1\n",
              "1     fcfe44d0a0      1\n",
              "2     213caf5cf5      1\n",
              "3     15aefc8374      1\n",
              "4     aded40e220      1\n",
              "...          ...    ...\n",
              "3776  f87ff9f55f      1\n",
              "3777  f7bb120e80      0\n",
              "3778  09cb71299e      1\n",
              "3779  ce8e47d692      1\n",
              "3780  044c06ac12      1\n",
              "\n",
              "[3781 rows x 2 columns]"
            ],
            "text/html": [
              "\n",
              "  <div id=\"df-3c211ea1-3c84-40db-90a0-27e4b95dca37\">\n",
              "    <div class=\"colab-df-container\">\n",
              "      <div>\n",
              "<style scoped>\n",
              "    .dataframe tbody tr th:only-of-type {\n",
              "        vertical-align: middle;\n",
              "    }\n",
              "\n",
              "    .dataframe tbody tr th {\n",
              "        vertical-align: top;\n",
              "    }\n",
              "\n",
              "    .dataframe thead th {\n",
              "        text-align: right;\n",
              "    }\n",
              "</style>\n",
              "<table border=\"1\" class=\"dataframe\">\n",
              "  <thead>\n",
              "    <tr style=\"text-align: right;\">\n",
              "      <th></th>\n",
              "      <th>id</th>\n",
              "      <th>isFake</th>\n",
              "    </tr>\n",
              "  </thead>\n",
              "  <tbody>\n",
              "    <tr>\n",
              "      <th>0</th>\n",
              "      <td>d253d7b7ac</td>\n",
              "      <td>1</td>\n",
              "    </tr>\n",
              "    <tr>\n",
              "      <th>1</th>\n",
              "      <td>fcfe44d0a0</td>\n",
              "      <td>1</td>\n",
              "    </tr>\n",
              "    <tr>\n",
              "      <th>2</th>\n",
              "      <td>213caf5cf5</td>\n",
              "      <td>1</td>\n",
              "    </tr>\n",
              "    <tr>\n",
              "      <th>3</th>\n",
              "      <td>15aefc8374</td>\n",
              "      <td>1</td>\n",
              "    </tr>\n",
              "    <tr>\n",
              "      <th>4</th>\n",
              "      <td>aded40e220</td>\n",
              "      <td>1</td>\n",
              "    </tr>\n",
              "    <tr>\n",
              "      <th>...</th>\n",
              "      <td>...</td>\n",
              "      <td>...</td>\n",
              "    </tr>\n",
              "    <tr>\n",
              "      <th>3776</th>\n",
              "      <td>f87ff9f55f</td>\n",
              "      <td>1</td>\n",
              "    </tr>\n",
              "    <tr>\n",
              "      <th>3777</th>\n",
              "      <td>f7bb120e80</td>\n",
              "      <td>0</td>\n",
              "    </tr>\n",
              "    <tr>\n",
              "      <th>3778</th>\n",
              "      <td>09cb71299e</td>\n",
              "      <td>1</td>\n",
              "    </tr>\n",
              "    <tr>\n",
              "      <th>3779</th>\n",
              "      <td>ce8e47d692</td>\n",
              "      <td>1</td>\n",
              "    </tr>\n",
              "    <tr>\n",
              "      <th>3780</th>\n",
              "      <td>044c06ac12</td>\n",
              "      <td>1</td>\n",
              "    </tr>\n",
              "  </tbody>\n",
              "</table>\n",
              "<p>3781 rows × 2 columns</p>\n",
              "</div>\n",
              "      <button class=\"colab-df-convert\" onclick=\"convertToInteractive('df-3c211ea1-3c84-40db-90a0-27e4b95dca37')\"\n",
              "              title=\"Convert this dataframe to an interactive table.\"\n",
              "              style=\"display:none;\">\n",
              "        \n",
              "  <svg xmlns=\"http://www.w3.org/2000/svg\" height=\"24px\"viewBox=\"0 0 24 24\"\n",
              "       width=\"24px\">\n",
              "    <path d=\"M0 0h24v24H0V0z\" fill=\"none\"/>\n",
              "    <path d=\"M18.56 5.44l.94 2.06.94-2.06 2.06-.94-2.06-.94-.94-2.06-.94 2.06-2.06.94zm-11 1L8.5 8.5l.94-2.06 2.06-.94-2.06-.94L8.5 2.5l-.94 2.06-2.06.94zm10 10l.94 2.06.94-2.06 2.06-.94-2.06-.94-.94-2.06-.94 2.06-2.06.94z\"/><path d=\"M17.41 7.96l-1.37-1.37c-.4-.4-.92-.59-1.43-.59-.52 0-1.04.2-1.43.59L10.3 9.45l-7.72 7.72c-.78.78-.78 2.05 0 2.83L4 21.41c.39.39.9.59 1.41.59.51 0 1.02-.2 1.41-.59l7.78-7.78 2.81-2.81c.8-.78.8-2.07 0-2.86zM5.41 20L4 18.59l7.72-7.72 1.47 1.35L5.41 20z\"/>\n",
              "  </svg>\n",
              "      </button>\n",
              "      \n",
              "  <style>\n",
              "    .colab-df-container {\n",
              "      display:flex;\n",
              "      flex-wrap:wrap;\n",
              "      gap: 12px;\n",
              "    }\n",
              "\n",
              "    .colab-df-convert {\n",
              "      background-color: #E8F0FE;\n",
              "      border: none;\n",
              "      border-radius: 50%;\n",
              "      cursor: pointer;\n",
              "      display: none;\n",
              "      fill: #1967D2;\n",
              "      height: 32px;\n",
              "      padding: 0 0 0 0;\n",
              "      width: 32px;\n",
              "    }\n",
              "\n",
              "    .colab-df-convert:hover {\n",
              "      background-color: #E2EBFA;\n",
              "      box-shadow: 0px 1px 2px rgba(60, 64, 67, 0.3), 0px 1px 3px 1px rgba(60, 64, 67, 0.15);\n",
              "      fill: #174EA6;\n",
              "    }\n",
              "\n",
              "    [theme=dark] .colab-df-convert {\n",
              "      background-color: #3B4455;\n",
              "      fill: #D2E3FC;\n",
              "    }\n",
              "\n",
              "    [theme=dark] .colab-df-convert:hover {\n",
              "      background-color: #434B5C;\n",
              "      box-shadow: 0px 1px 3px 1px rgba(0, 0, 0, 0.15);\n",
              "      filter: drop-shadow(0px 1px 2px rgba(0, 0, 0, 0.3));\n",
              "      fill: #FFFFFF;\n",
              "    }\n",
              "  </style>\n",
              "\n",
              "      <script>\n",
              "        const buttonEl =\n",
              "          document.querySelector('#df-3c211ea1-3c84-40db-90a0-27e4b95dca37 button.colab-df-convert');\n",
              "        buttonEl.style.display =\n",
              "          google.colab.kernel.accessAllowed ? 'block' : 'none';\n",
              "\n",
              "        async function convertToInteractive(key) {\n",
              "          const element = document.querySelector('#df-3c211ea1-3c84-40db-90a0-27e4b95dca37');\n",
              "          const dataTable =\n",
              "            await google.colab.kernel.invokeFunction('convertToInteractive',\n",
              "                                                     [key], {});\n",
              "          if (!dataTable) return;\n",
              "\n",
              "          const docLinkHtml = 'Like what you see? Visit the ' +\n",
              "            '<a target=\"_blank\" href=https://colab.research.google.com/notebooks/data_table.ipynb>data table notebook</a>'\n",
              "            + ' to learn more about interactive tables.';\n",
              "          element.innerHTML = '';\n",
              "          dataTable['output_type'] = 'display_data';\n",
              "          await google.colab.output.renderOutput(dataTable, element);\n",
              "          const docLink = document.createElement('div');\n",
              "          docLink.innerHTML = docLinkHtml;\n",
              "          element.appendChild(docLink);\n",
              "        }\n",
              "      </script>\n",
              "    </div>\n",
              "  </div>\n",
              "  "
            ]
          },
          "metadata": {},
          "execution_count": 21
        }
      ]
    },
    {
      "cell_type": "code",
      "source": [
        "# Save file\n",
        "\n",
        "SAVE_DIR = RESULT_DIR + f'submission_{CFG.EXP_ID}.csv'\n",
        "submission_df.to_csv(SAVE_DIR, index=False)\n",
        "\n",
        "print(SAVE_DIR)"
      ],
      "metadata": {
        "colab": {
          "base_uri": "https://localhost:8080/"
        },
        "id": "kgOY_dX14qVR",
        "outputId": "c3d1516e-6c7f-4b19-994c-a5dd5dc4b479"
      },
      "execution_count": 22,
      "outputs": [
        {
          "output_type": "stream",
          "name": "stdout",
          "text": [
            "/content/drive/MyDrive/Notebooks/competition/fake_news_detection/03_result/submission_EXP_010.csv\n"
          ]
        }
      ]
    }
  ]
}