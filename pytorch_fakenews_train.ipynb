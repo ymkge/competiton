{
  "cells": [
    {
      "cell_type": "markdown",
      "metadata": {
        "id": "view-in-github",
        "colab_type": "text"
      },
      "source": [
        "<a href=\"https://colab.research.google.com/github/ymkge/competiton/blob/main/pytorch_fakenews_train.ipynb\" target=\"_parent\"><img src=\"https://colab.research.google.com/assets/colab-badge.svg\" alt=\"Open In Colab\"/></a>"
      ]
    },
    {
      "cell_type": "markdown",
      "source": [
        "### 参考notebook\n",
        "https://www.kaggle.com/code/debarshichanda/pytorch-w-b-jigsaw-starter"
      ],
      "metadata": {
        "id": "R_RfWTG-dDFx"
      }
    },
    {
      "cell_type": "code",
      "execution_count": null,
      "metadata": {
        "colab": {
          "base_uri": "https://localhost:8080/"
        },
        "id": "G0dF_KIu8_Nl",
        "outputId": "6fab914a-8e94-4d34-ce78-2424f484baac"
      },
      "outputs": [
        {
          "name": "stdout",
          "output_type": "stream",
          "text": [
            "Mon Mar 28 09:53:40 2022       \n",
            "+-----------------------------------------------------------------------------+\n",
            "| NVIDIA-SMI 460.32.03    Driver Version: 460.32.03    CUDA Version: 11.2     |\n",
            "|-------------------------------+----------------------+----------------------+\n",
            "| GPU  Name        Persistence-M| Bus-Id        Disp.A | Volatile Uncorr. ECC |\n",
            "| Fan  Temp  Perf  Pwr:Usage/Cap|         Memory-Usage | GPU-Util  Compute M. |\n",
            "|                               |                      |               MIG M. |\n",
            "|===============================+======================+======================|\n",
            "|   0  Tesla V100-SXM2...  Off  | 00000000:00:04.0 Off |                    0 |\n",
            "| N/A   32C    P0    25W / 300W |      0MiB / 16160MiB |      0%      Default |\n",
            "|                               |                      |                  N/A |\n",
            "+-------------------------------+----------------------+----------------------+\n",
            "                                                                               \n",
            "+-----------------------------------------------------------------------------+\n",
            "| Processes:                                                                  |\n",
            "|  GPU   GI   CI        PID   Type   Process name                  GPU Memory |\n",
            "|        ID   ID                                                   Usage      |\n",
            "|=============================================================================|\n",
            "|  No running processes found                                                 |\n",
            "+-----------------------------------------------------------------------------+\n"
          ]
        }
      ],
      "source": [
        "!nvidia-smi"
      ]
    },
    {
      "cell_type": "code",
      "execution_count": null,
      "metadata": {
        "colab": {
          "base_uri": "https://localhost:8080/"
        },
        "id": "kCQZrTWrlnhU",
        "outputId": "c3889801-7fb8-4840-a960-3718bf9ede18"
      },
      "outputs": [
        {
          "name": "stdout",
          "output_type": "stream",
          "text": [
            "Collecting wandb\n",
            "  Downloading wandb-0.12.11-py2.py3-none-any.whl (1.7 MB)\n",
            "\u001b[?25l\r\u001b[K     |▏                               | 10 kB 42.9 MB/s eta 0:00:01\r\u001b[K     |▍                               | 20 kB 35.9 MB/s eta 0:00:01\r\u001b[K     |▋                               | 30 kB 21.0 MB/s eta 0:00:01\r\u001b[K     |▊                               | 40 kB 17.5 MB/s eta 0:00:01\r\u001b[K     |█                               | 51 kB 12.9 MB/s eta 0:00:01\r\u001b[K     |█▏                              | 61 kB 15.1 MB/s eta 0:00:01\r\u001b[K     |█▎                              | 71 kB 15.9 MB/s eta 0:00:01\r\u001b[K     |█▌                              | 81 kB 15.9 MB/s eta 0:00:01\r\u001b[K     |█▊                              | 92 kB 17.5 MB/s eta 0:00:01\r\u001b[K     |█▉                              | 102 kB 15.2 MB/s eta 0:00:01\r\u001b[K     |██                              | 112 kB 15.2 MB/s eta 0:00:01\r\u001b[K     |██▎                             | 122 kB 15.2 MB/s eta 0:00:01\r\u001b[K     |██▍                             | 133 kB 15.2 MB/s eta 0:00:01\r\u001b[K     |██▋                             | 143 kB 15.2 MB/s eta 0:00:01\r\u001b[K     |██▉                             | 153 kB 15.2 MB/s eta 0:00:01\r\u001b[K     |███                             | 163 kB 15.2 MB/s eta 0:00:01\r\u001b[K     |███▏                            | 174 kB 15.2 MB/s eta 0:00:01\r\u001b[K     |███▍                            | 184 kB 15.2 MB/s eta 0:00:01\r\u001b[K     |███▋                            | 194 kB 15.2 MB/s eta 0:00:01\r\u001b[K     |███▊                            | 204 kB 15.2 MB/s eta 0:00:01\r\u001b[K     |████                            | 215 kB 15.2 MB/s eta 0:00:01\r\u001b[K     |████▏                           | 225 kB 15.2 MB/s eta 0:00:01\r\u001b[K     |████▎                           | 235 kB 15.2 MB/s eta 0:00:01\r\u001b[K     |████▌                           | 245 kB 15.2 MB/s eta 0:00:01\r\u001b[K     |████▊                           | 256 kB 15.2 MB/s eta 0:00:01\r\u001b[K     |████▉                           | 266 kB 15.2 MB/s eta 0:00:01\r\u001b[K     |█████                           | 276 kB 15.2 MB/s eta 0:00:01\r\u001b[K     |█████▎                          | 286 kB 15.2 MB/s eta 0:00:01\r\u001b[K     |█████▌                          | 296 kB 15.2 MB/s eta 0:00:01\r\u001b[K     |█████▋                          | 307 kB 15.2 MB/s eta 0:00:01\r\u001b[K     |█████▉                          | 317 kB 15.2 MB/s eta 0:00:01\r\u001b[K     |██████                          | 327 kB 15.2 MB/s eta 0:00:01\r\u001b[K     |██████▏                         | 337 kB 15.2 MB/s eta 0:00:01\r\u001b[K     |██████▍                         | 348 kB 15.2 MB/s eta 0:00:01\r\u001b[K     |██████▋                         | 358 kB 15.2 MB/s eta 0:00:01\r\u001b[K     |██████▊                         | 368 kB 15.2 MB/s eta 0:00:01\r\u001b[K     |███████                         | 378 kB 15.2 MB/s eta 0:00:01\r\u001b[K     |███████▏                        | 389 kB 15.2 MB/s eta 0:00:01\r\u001b[K     |███████▎                        | 399 kB 15.2 MB/s eta 0:00:01\r\u001b[K     |███████▌                        | 409 kB 15.2 MB/s eta 0:00:01\r\u001b[K     |███████▊                        | 419 kB 15.2 MB/s eta 0:00:01\r\u001b[K     |███████▉                        | 430 kB 15.2 MB/s eta 0:00:01\r\u001b[K     |████████                        | 440 kB 15.2 MB/s eta 0:00:01\r\u001b[K     |████████▎                       | 450 kB 15.2 MB/s eta 0:00:01\r\u001b[K     |████████▌                       | 460 kB 15.2 MB/s eta 0:00:01\r\u001b[K     |████████▋                       | 471 kB 15.2 MB/s eta 0:00:01\r\u001b[K     |████████▉                       | 481 kB 15.2 MB/s eta 0:00:01\r\u001b[K     |█████████                       | 491 kB 15.2 MB/s eta 0:00:01\r\u001b[K     |█████████▏                      | 501 kB 15.2 MB/s eta 0:00:01\r\u001b[K     |█████████▍                      | 512 kB 15.2 MB/s eta 0:00:01\r\u001b[K     |█████████▋                      | 522 kB 15.2 MB/s eta 0:00:01\r\u001b[K     |█████████▊                      | 532 kB 15.2 MB/s eta 0:00:01\r\u001b[K     |██████████                      | 542 kB 15.2 MB/s eta 0:00:01\r\u001b[K     |██████████▏                     | 552 kB 15.2 MB/s eta 0:00:01\r\u001b[K     |██████████▎                     | 563 kB 15.2 MB/s eta 0:00:01\r\u001b[K     |██████████▌                     | 573 kB 15.2 MB/s eta 0:00:01\r\u001b[K     |██████████▊                     | 583 kB 15.2 MB/s eta 0:00:01\r\u001b[K     |███████████                     | 593 kB 15.2 MB/s eta 0:00:01\r\u001b[K     |███████████                     | 604 kB 15.2 MB/s eta 0:00:01\r\u001b[K     |███████████▎                    | 614 kB 15.2 MB/s eta 0:00:01\r\u001b[K     |███████████▌                    | 624 kB 15.2 MB/s eta 0:00:01\r\u001b[K     |███████████▋                    | 634 kB 15.2 MB/s eta 0:00:01\r\u001b[K     |███████████▉                    | 645 kB 15.2 MB/s eta 0:00:01\r\u001b[K     |████████████                    | 655 kB 15.2 MB/s eta 0:00:01\r\u001b[K     |████████████▏                   | 665 kB 15.2 MB/s eta 0:00:01\r\u001b[K     |████████████▍                   | 675 kB 15.2 MB/s eta 0:00:01\r\u001b[K     |████████████▋                   | 686 kB 15.2 MB/s eta 0:00:01\r\u001b[K     |████████████▊                   | 696 kB 15.2 MB/s eta 0:00:01\r\u001b[K     |█████████████                   | 706 kB 15.2 MB/s eta 0:00:01\r\u001b[K     |█████████████▏                  | 716 kB 15.2 MB/s eta 0:00:01\r\u001b[K     |█████████████▍                  | 727 kB 15.2 MB/s eta 0:00:01\r\u001b[K     |█████████████▌                  | 737 kB 15.2 MB/s eta 0:00:01\r\u001b[K     |█████████████▊                  | 747 kB 15.2 MB/s eta 0:00:01\r\u001b[K     |██████████████                  | 757 kB 15.2 MB/s eta 0:00:01\r\u001b[K     |██████████████                  | 768 kB 15.2 MB/s eta 0:00:01\r\u001b[K     |██████████████▎                 | 778 kB 15.2 MB/s eta 0:00:01\r\u001b[K     |██████████████▌                 | 788 kB 15.2 MB/s eta 0:00:01\r\u001b[K     |██████████████▋                 | 798 kB 15.2 MB/s eta 0:00:01\r\u001b[K     |██████████████▉                 | 808 kB 15.2 MB/s eta 0:00:01\r\u001b[K     |███████████████                 | 819 kB 15.2 MB/s eta 0:00:01\r\u001b[K     |███████████████▏                | 829 kB 15.2 MB/s eta 0:00:01\r\u001b[K     |███████████████▍                | 839 kB 15.2 MB/s eta 0:00:01\r\u001b[K     |███████████████▋                | 849 kB 15.2 MB/s eta 0:00:01\r\u001b[K     |███████████████▊                | 860 kB 15.2 MB/s eta 0:00:01\r\u001b[K     |████████████████                | 870 kB 15.2 MB/s eta 0:00:01\r\u001b[K     |████████████████▏               | 880 kB 15.2 MB/s eta 0:00:01\r\u001b[K     |████████████████▍               | 890 kB 15.2 MB/s eta 0:00:01\r\u001b[K     |████████████████▌               | 901 kB 15.2 MB/s eta 0:00:01\r\u001b[K     |████████████████▊               | 911 kB 15.2 MB/s eta 0:00:01\r\u001b[K     |█████████████████               | 921 kB 15.2 MB/s eta 0:00:01\r\u001b[K     |█████████████████               | 931 kB 15.2 MB/s eta 0:00:01\r\u001b[K     |█████████████████▎              | 942 kB 15.2 MB/s eta 0:00:01\r\u001b[K     |█████████████████▌              | 952 kB 15.2 MB/s eta 0:00:01\r\u001b[K     |█████████████████▋              | 962 kB 15.2 MB/s eta 0:00:01\r\u001b[K     |█████████████████▉              | 972 kB 15.2 MB/s eta 0:00:01\r\u001b[K     |██████████████████              | 983 kB 15.2 MB/s eta 0:00:01\r\u001b[K     |██████████████████▏             | 993 kB 15.2 MB/s eta 0:00:01\r\u001b[K     |██████████████████▍             | 1.0 MB 15.2 MB/s eta 0:00:01\r\u001b[K     |██████████████████▋             | 1.0 MB 15.2 MB/s eta 0:00:01\r\u001b[K     |██████████████████▉             | 1.0 MB 15.2 MB/s eta 0:00:01\r\u001b[K     |███████████████████             | 1.0 MB 15.2 MB/s eta 0:00:01\r\u001b[K     |███████████████████▏            | 1.0 MB 15.2 MB/s eta 0:00:01\r\u001b[K     |███████████████████▍            | 1.1 MB 15.2 MB/s eta 0:00:01\r\u001b[K     |███████████████████▌            | 1.1 MB 15.2 MB/s eta 0:00:01\r\u001b[K     |███████████████████▊            | 1.1 MB 15.2 MB/s eta 0:00:01\r\u001b[K     |████████████████████            | 1.1 MB 15.2 MB/s eta 0:00:01\r\u001b[K     |████████████████████            | 1.1 MB 15.2 MB/s eta 0:00:01\r\u001b[K     |████████████████████▎           | 1.1 MB 15.2 MB/s eta 0:00:01\r\u001b[K     |████████████████████▌           | 1.1 MB 15.2 MB/s eta 0:00:01\r\u001b[K     |████████████████████▋           | 1.1 MB 15.2 MB/s eta 0:00:01\r\u001b[K     |████████████████████▉           | 1.1 MB 15.2 MB/s eta 0:00:01\r\u001b[K     |█████████████████████           | 1.1 MB 15.2 MB/s eta 0:00:01\r\u001b[K     |█████████████████████▏          | 1.2 MB 15.2 MB/s eta 0:00:01\r\u001b[K     |█████████████████████▍          | 1.2 MB 15.2 MB/s eta 0:00:01\r\u001b[K     |█████████████████████▋          | 1.2 MB 15.2 MB/s eta 0:00:01\r\u001b[K     |█████████████████████▉          | 1.2 MB 15.2 MB/s eta 0:00:01\r\u001b[K     |██████████████████████          | 1.2 MB 15.2 MB/s eta 0:00:01\r\u001b[K     |██████████████████████▏         | 1.2 MB 15.2 MB/s eta 0:00:01\r\u001b[K     |██████████████████████▍         | 1.2 MB 15.2 MB/s eta 0:00:01\r\u001b[K     |██████████████████████▌         | 1.2 MB 15.2 MB/s eta 0:00:01\r\u001b[K     |██████████████████████▊         | 1.2 MB 15.2 MB/s eta 0:00:01\r\u001b[K     |███████████████████████         | 1.2 MB 15.2 MB/s eta 0:00:01\r\u001b[K     |███████████████████████         | 1.3 MB 15.2 MB/s eta 0:00:01\r\u001b[K     |███████████████████████▎        | 1.3 MB 15.2 MB/s eta 0:00:01\r\u001b[K     |███████████████████████▌        | 1.3 MB 15.2 MB/s eta 0:00:01\r\u001b[K     |███████████████████████▋        | 1.3 MB 15.2 MB/s eta 0:00:01\r\u001b[K     |███████████████████████▉        | 1.3 MB 15.2 MB/s eta 0:00:01\r\u001b[K     |████████████████████████        | 1.3 MB 15.2 MB/s eta 0:00:01\r\u001b[K     |████████████████████████▎       | 1.3 MB 15.2 MB/s eta 0:00:01\r\u001b[K     |████████████████████████▍       | 1.3 MB 15.2 MB/s eta 0:00:01\r\u001b[K     |████████████████████████▋       | 1.3 MB 15.2 MB/s eta 0:00:01\r\u001b[K     |████████████████████████▉       | 1.4 MB 15.2 MB/s eta 0:00:01\r\u001b[K     |█████████████████████████       | 1.4 MB 15.2 MB/s eta 0:00:01\r\u001b[K     |█████████████████████████▏      | 1.4 MB 15.2 MB/s eta 0:00:01\r\u001b[K     |█████████████████████████▍      | 1.4 MB 15.2 MB/s eta 0:00:01\r\u001b[K     |█████████████████████████▌      | 1.4 MB 15.2 MB/s eta 0:00:01\r\u001b[K     |█████████████████████████▊      | 1.4 MB 15.2 MB/s eta 0:00:01\r\u001b[K     |██████████████████████████      | 1.4 MB 15.2 MB/s eta 0:00:01\r\u001b[K     |██████████████████████████      | 1.4 MB 15.2 MB/s eta 0:00:01\r\u001b[K     |██████████████████████████▎     | 1.4 MB 15.2 MB/s eta 0:00:01\r\u001b[K     |██████████████████████████▌     | 1.4 MB 15.2 MB/s eta 0:00:01\r\u001b[K     |██████████████████████████▊     | 1.5 MB 15.2 MB/s eta 0:00:01\r\u001b[K     |██████████████████████████▉     | 1.5 MB 15.2 MB/s eta 0:00:01\r\u001b[K     |███████████████████████████     | 1.5 MB 15.2 MB/s eta 0:00:01\r\u001b[K     |███████████████████████████▎    | 1.5 MB 15.2 MB/s eta 0:00:01\r\u001b[K     |███████████████████████████▍    | 1.5 MB 15.2 MB/s eta 0:00:01\r\u001b[K     |███████████████████████████▋    | 1.5 MB 15.2 MB/s eta 0:00:01\r\u001b[K     |███████████████████████████▉    | 1.5 MB 15.2 MB/s eta 0:00:01\r\u001b[K     |████████████████████████████    | 1.5 MB 15.2 MB/s eta 0:00:01\r\u001b[K     |████████████████████████████▏   | 1.5 MB 15.2 MB/s eta 0:00:01\r\u001b[K     |████████████████████████████▍   | 1.5 MB 15.2 MB/s eta 0:00:01\r\u001b[K     |████████████████████████████▌   | 1.6 MB 15.2 MB/s eta 0:00:01\r\u001b[K     |████████████████████████████▊   | 1.6 MB 15.2 MB/s eta 0:00:01\r\u001b[K     |█████████████████████████████   | 1.6 MB 15.2 MB/s eta 0:00:01\r\u001b[K     |█████████████████████████████   | 1.6 MB 15.2 MB/s eta 0:00:01\r\u001b[K     |█████████████████████████████▎  | 1.6 MB 15.2 MB/s eta 0:00:01\r\u001b[K     |█████████████████████████████▌  | 1.6 MB 15.2 MB/s eta 0:00:01\r\u001b[K     |█████████████████████████████▊  | 1.6 MB 15.2 MB/s eta 0:00:01\r\u001b[K     |█████████████████████████████▉  | 1.6 MB 15.2 MB/s eta 0:00:01\r\u001b[K     |██████████████████████████████  | 1.6 MB 15.2 MB/s eta 0:00:01\r\u001b[K     |██████████████████████████████▎ | 1.6 MB 15.2 MB/s eta 0:00:01\r\u001b[K     |██████████████████████████████▍ | 1.7 MB 15.2 MB/s eta 0:00:01\r\u001b[K     |██████████████████████████████▋ | 1.7 MB 15.2 MB/s eta 0:00:01\r\u001b[K     |██████████████████████████████▉ | 1.7 MB 15.2 MB/s eta 0:00:01\r\u001b[K     |███████████████████████████████ | 1.7 MB 15.2 MB/s eta 0:00:01\r\u001b[K     |███████████████████████████████▏| 1.7 MB 15.2 MB/s eta 0:00:01\r\u001b[K     |███████████████████████████████▍| 1.7 MB 15.2 MB/s eta 0:00:01\r\u001b[K     |███████████████████████████████▌| 1.7 MB 15.2 MB/s eta 0:00:01\r\u001b[K     |███████████████████████████████▊| 1.7 MB 15.2 MB/s eta 0:00:01\r\u001b[K     |████████████████████████████████| 1.7 MB 15.2 MB/s eta 0:00:01\r\u001b[K     |████████████████████████████████| 1.7 MB 15.2 MB/s \n",
            "\u001b[?25hRequirement already satisfied: PyYAML in /usr/local/lib/python3.7/dist-packages (from wandb) (3.13)\n",
            "Requirement already satisfied: python-dateutil>=2.6.1 in /usr/local/lib/python3.7/dist-packages (from wandb) (2.8.2)\n",
            "Requirement already satisfied: psutil>=5.0.0 in /usr/local/lib/python3.7/dist-packages (from wandb) (5.4.8)\n",
            "Collecting docker-pycreds>=0.4.0\n",
            "  Downloading docker_pycreds-0.4.0-py2.py3-none-any.whl (9.0 kB)\n",
            "Collecting shortuuid>=0.5.0\n",
            "  Downloading shortuuid-1.0.8-py3-none-any.whl (9.5 kB)\n",
            "Requirement already satisfied: requests<3,>=2.0.0 in /usr/local/lib/python3.7/dist-packages (from wandb) (2.23.0)\n",
            "Requirement already satisfied: six>=1.13.0 in /usr/local/lib/python3.7/dist-packages (from wandb) (1.15.0)\n",
            "Collecting setproctitle\n",
            "  Downloading setproctitle-1.2.2-cp37-cp37m-manylinux1_x86_64.whl (36 kB)\n",
            "Requirement already satisfied: protobuf>=3.12.0 in /usr/local/lib/python3.7/dist-packages (from wandb) (3.17.3)\n",
            "Collecting yaspin>=1.0.0\n",
            "  Downloading yaspin-2.1.0-py3-none-any.whl (18 kB)\n",
            "Collecting sentry-sdk>=1.0.0\n",
            "  Downloading sentry_sdk-1.5.8-py2.py3-none-any.whl (144 kB)\n",
            "\u001b[K     |████████████████████████████████| 144 kB 88.8 MB/s \n",
            "\u001b[?25hCollecting pathtools\n",
            "  Downloading pathtools-0.1.2.tar.gz (11 kB)\n",
            "Requirement already satisfied: Click!=8.0.0,>=7.0 in /usr/local/lib/python3.7/dist-packages (from wandb) (7.1.2)\n",
            "Collecting GitPython>=1.0.0\n",
            "  Downloading GitPython-3.1.27-py3-none-any.whl (181 kB)\n",
            "\u001b[K     |████████████████████████████████| 181 kB 83.1 MB/s \n",
            "\u001b[?25hRequirement already satisfied: promise<3,>=2.0 in /usr/local/lib/python3.7/dist-packages (from wandb) (2.3)\n",
            "Collecting gitdb<5,>=4.0.1\n",
            "  Downloading gitdb-4.0.9-py3-none-any.whl (63 kB)\n",
            "\u001b[K     |████████████████████████████████| 63 kB 2.1 MB/s \n",
            "\u001b[?25hRequirement already satisfied: typing-extensions>=3.7.4.3 in /usr/local/lib/python3.7/dist-packages (from GitPython>=1.0.0->wandb) (3.10.0.2)\n",
            "Collecting smmap<6,>=3.0.1\n",
            "  Downloading smmap-5.0.0-py3-none-any.whl (24 kB)\n",
            "Requirement already satisfied: chardet<4,>=3.0.2 in /usr/local/lib/python3.7/dist-packages (from requests<3,>=2.0.0->wandb) (3.0.4)\n",
            "Requirement already satisfied: urllib3!=1.25.0,!=1.25.1,<1.26,>=1.21.1 in /usr/local/lib/python3.7/dist-packages (from requests<3,>=2.0.0->wandb) (1.24.3)\n",
            "Requirement already satisfied: certifi>=2017.4.17 in /usr/local/lib/python3.7/dist-packages (from requests<3,>=2.0.0->wandb) (2021.10.8)\n",
            "Requirement already satisfied: idna<3,>=2.5 in /usr/local/lib/python3.7/dist-packages (from requests<3,>=2.0.0->wandb) (2.10)\n",
            "Requirement already satisfied: termcolor<2.0.0,>=1.1.0 in /usr/local/lib/python3.7/dist-packages (from yaspin>=1.0.0->wandb) (1.1.0)\n",
            "Building wheels for collected packages: pathtools\n",
            "  Building wheel for pathtools (setup.py) ... \u001b[?25l\u001b[?25hdone\n",
            "  Created wheel for pathtools: filename=pathtools-0.1.2-py3-none-any.whl size=8806 sha256=ffe2b439c9b86e85e1bd93729f9a030fe162eaacf16c3f93d94d789a40869adc\n",
            "  Stored in directory: /root/.cache/pip/wheels/3e/31/09/fa59cef12cdcfecc627b3d24273699f390e71828921b2cbba2\n",
            "Successfully built pathtools\n",
            "Installing collected packages: smmap, gitdb, yaspin, shortuuid, setproctitle, sentry-sdk, pathtools, GitPython, docker-pycreds, wandb\n",
            "Successfully installed GitPython-3.1.27 docker-pycreds-0.4.0 gitdb-4.0.9 pathtools-0.1.2 sentry-sdk-1.5.8 setproctitle-1.2.2 shortuuid-1.0.8 smmap-5.0.0 wandb-0.12.11 yaspin-2.1.0\n"
          ]
        }
      ],
      "source": [
        "!pip install --upgrade wandb"
      ]
    },
    {
      "cell_type": "code",
      "execution_count": null,
      "metadata": {
        "colab": {
          "base_uri": "https://localhost:8080/"
        },
        "id": "uDDFcC-Nl94y",
        "outputId": "a0c9dfeb-b2c2-4fd6-bfde-cffa78a44417"
      },
      "outputs": [
        {
          "name": "stdout",
          "output_type": "stream",
          "text": [
            "Collecting GPUtil\n",
            "  Downloading GPUtil-1.4.0.tar.gz (5.5 kB)\n",
            "Building wheels for collected packages: GPUtil\n",
            "  Building wheel for GPUtil (setup.py) ... \u001b[?25l\u001b[?25hdone\n",
            "  Created wheel for GPUtil: filename=GPUtil-1.4.0-py3-none-any.whl size=7411 sha256=b54a82fadadaf62f11348bb7087b45104d4e81ae7db6b25b82d09ba905c3df57\n",
            "  Stored in directory: /root/.cache/pip/wheels/6e/f8/83/534c52482d6da64622ddbf72cd93c35d2ef2881b78fd08ff0c\n",
            "Successfully built GPUtil\n",
            "Installing collected packages: GPUtil\n",
            "Successfully installed GPUtil-1.4.0\n",
            "Collecting transformers==4.12.2\n",
            "  Downloading transformers-4.12.2-py3-none-any.whl (3.1 MB)\n",
            "\u001b[K     |████████████████████████████████| 3.1 MB 14.1 MB/s \n",
            "\u001b[?25hRequirement already satisfied: importlib-metadata in /usr/local/lib/python3.7/dist-packages (from transformers==4.12.2) (4.11.3)\n",
            "Requirement already satisfied: regex!=2019.12.17 in /usr/local/lib/python3.7/dist-packages (from transformers==4.12.2) (2019.12.20)\n",
            "Requirement already satisfied: requests in /usr/local/lib/python3.7/dist-packages (from transformers==4.12.2) (2.23.0)\n",
            "Collecting tokenizers<0.11,>=0.10.1\n",
            "  Downloading tokenizers-0.10.3-cp37-cp37m-manylinux_2_5_x86_64.manylinux1_x86_64.manylinux_2_12_x86_64.manylinux2010_x86_64.whl (3.3 MB)\n",
            "\u001b[K     |████████████████████████████████| 3.3 MB 75.3 MB/s \n",
            "\u001b[?25hRequirement already satisfied: packaging>=20.0 in /usr/local/lib/python3.7/dist-packages (from transformers==4.12.2) (21.3)\n",
            "Requirement already satisfied: tqdm>=4.27 in /usr/local/lib/python3.7/dist-packages (from transformers==4.12.2) (4.63.0)\n",
            "Requirement already satisfied: filelock in /usr/local/lib/python3.7/dist-packages (from transformers==4.12.2) (3.6.0)\n",
            "Collecting pyyaml>=5.1\n",
            "  Downloading PyYAML-6.0-cp37-cp37m-manylinux_2_5_x86_64.manylinux1_x86_64.manylinux_2_12_x86_64.manylinux2010_x86_64.whl (596 kB)\n",
            "\u001b[K     |████████████████████████████████| 596 kB 83.1 MB/s \n",
            "\u001b[?25hCollecting sacremoses\n",
            "  Downloading sacremoses-0.0.49-py3-none-any.whl (895 kB)\n",
            "\u001b[K     |████████████████████████████████| 895 kB 72.7 MB/s \n",
            "\u001b[?25hRequirement already satisfied: numpy>=1.17 in /usr/local/lib/python3.7/dist-packages (from transformers==4.12.2) (1.21.5)\n",
            "Collecting huggingface-hub>=0.0.17\n",
            "  Downloading huggingface_hub-0.4.0-py3-none-any.whl (67 kB)\n",
            "\u001b[K     |████████████████████████████████| 67 kB 6.8 MB/s \n",
            "\u001b[?25hRequirement already satisfied: typing-extensions>=3.7.4.3 in /usr/local/lib/python3.7/dist-packages (from huggingface-hub>=0.0.17->transformers==4.12.2) (3.10.0.2)\n",
            "Requirement already satisfied: pyparsing!=3.0.5,>=2.0.2 in /usr/local/lib/python3.7/dist-packages (from packaging>=20.0->transformers==4.12.2) (3.0.7)\n",
            "Requirement already satisfied: zipp>=0.5 in /usr/local/lib/python3.7/dist-packages (from importlib-metadata->transformers==4.12.2) (3.7.0)\n",
            "Requirement already satisfied: chardet<4,>=3.0.2 in /usr/local/lib/python3.7/dist-packages (from requests->transformers==4.12.2) (3.0.4)\n",
            "Requirement already satisfied: urllib3!=1.25.0,!=1.25.1,<1.26,>=1.21.1 in /usr/local/lib/python3.7/dist-packages (from requests->transformers==4.12.2) (1.24.3)\n",
            "Requirement already satisfied: idna<3,>=2.5 in /usr/local/lib/python3.7/dist-packages (from requests->transformers==4.12.2) (2.10)\n",
            "Requirement already satisfied: certifi>=2017.4.17 in /usr/local/lib/python3.7/dist-packages (from requests->transformers==4.12.2) (2021.10.8)\n",
            "Requirement already satisfied: six in /usr/local/lib/python3.7/dist-packages (from sacremoses->transformers==4.12.2) (1.15.0)\n",
            "Requirement already satisfied: joblib in /usr/local/lib/python3.7/dist-packages (from sacremoses->transformers==4.12.2) (1.1.0)\n",
            "Requirement already satisfied: click in /usr/local/lib/python3.7/dist-packages (from sacremoses->transformers==4.12.2) (7.1.2)\n",
            "Installing collected packages: pyyaml, tokenizers, sacremoses, huggingface-hub, transformers\n",
            "  Attempting uninstall: pyyaml\n",
            "    Found existing installation: PyYAML 3.13\n",
            "    Uninstalling PyYAML-3.13:\n",
            "      Successfully uninstalled PyYAML-3.13\n",
            "Successfully installed huggingface-hub-0.4.0 pyyaml-6.0 sacremoses-0.0.49 tokenizers-0.10.3 transformers-4.12.2\n",
            "Collecting fugashi\n",
            "  Downloading fugashi-1.1.2-cp37-cp37m-manylinux_2_17_x86_64.manylinux2014_x86_64.whl (568 kB)\n",
            "\u001b[K     |████████████████████████████████| 568 kB 14.2 MB/s \n",
            "\u001b[?25hInstalling collected packages: fugashi\n",
            "Successfully installed fugashi-1.1.2\n",
            "Collecting mecab-python3\n",
            "  Downloading mecab_python3-1.0.5-cp37-cp37m-manylinux_2_17_x86_64.manylinux2014_x86_64.whl (574 kB)\n",
            "\u001b[K     |████████████████████████████████| 574 kB 14.5 MB/s \n",
            "\u001b[?25hInstalling collected packages: mecab-python3\n",
            "Successfully installed mecab-python3-1.0.5\n",
            "Collecting ipadic\n",
            "  Downloading ipadic-1.0.0.tar.gz (13.4 MB)\n",
            "\u001b[K     |████████████████████████████████| 13.4 MB 14.7 MB/s \n",
            "\u001b[?25hBuilding wheels for collected packages: ipadic\n",
            "  Building wheel for ipadic (setup.py) ... \u001b[?25l\u001b[?25hdone\n",
            "  Created wheel for ipadic: filename=ipadic-1.0.0-py3-none-any.whl size=13556723 sha256=0ca0dacdddcb2f72eefd7d5982a02246f53ead9afad30532f50829cfe56a3dbe\n",
            "  Stored in directory: /root/.cache/pip/wheels/33/8b/99/cf0d27191876637cd3639a560f93aa982d7855ce826c94348b\n",
            "Successfully built ipadic\n",
            "Installing collected packages: ipadic\n",
            "Successfully installed ipadic-1.0.0\n",
            "Collecting colorama\n",
            "  Downloading colorama-0.4.4-py2.py3-none-any.whl (16 kB)\n",
            "Installing collected packages: colorama\n",
            "Successfully installed colorama-0.4.4\n"
          ]
        }
      ],
      "source": [
        "!pip install GPUtil\n",
        "!pip install transformers==4.12.2\n",
        "!pip install fugashi\n",
        "!pip install mecab-python3\n",
        "!pip install ipadic\n",
        "\n",
        "!pip install colorama"
      ]
    },
    {
      "cell_type": "code",
      "execution_count": null,
      "metadata": {
        "id": "hcZfFjBplnhZ"
      },
      "outputs": [],
      "source": [
        "import os\n",
        "import gc\n",
        "import copy\n",
        "import time\n",
        "import random\n",
        "import string\n",
        "\n",
        "import datetime\n",
        "from datetime import datetime, timedelta, timezone\n",
        "\n",
        "# For data manipulation\n",
        "import numpy as np\n",
        "import pandas as pd\n",
        "\n",
        "# Pytorch Imports\n",
        "import torch.nn as nn\n",
        "import torch.optim as optim\n",
        "from torch.optim import lr_scheduler\n",
        "from torch.utils.data import Dataset, DataLoader\n",
        "import torch.nn.functional as F\n",
        "\n",
        "# Utils\n",
        "from tqdm import tqdm\n",
        "from collections import defaultdict\n",
        "\n",
        "# Sklearn Imports\n",
        "from sklearn.metrics import mean_squared_error\n",
        "from sklearn.model_selection import StratifiedKFold, KFold\n",
        "\n",
        "# For Transformer Models\n",
        "from transformers import AutoTokenizer, AutoModel, AdamW\n",
        "\n",
        "# For colored terminal text\n",
        "from colorama import Fore, Back, Style\n",
        "b_ = Fore.BLUE\n",
        "y_ = Fore.YELLOW\n",
        "sr_ = Style.RESET_ALL\n",
        "\n",
        "# Suppress warnings\n",
        "import warnings\n",
        "warnings.filterwarnings(\"ignore\")\n",
        "\n",
        "# For descriptive error messages\n",
        "os.environ['CUDA_LAUNCH_BLOCKING'] = \"1\"\n",
        "\n",
        "import pickle\n",
        "import re\n",
        "import unicodedata\n",
        "\n",
        "import GPUtil\n",
        "import regex\n",
        "import scipy as sp\n",
        "from sklearn.metrics import f1_score\n",
        "from sklearn.metrics import log_loss, accuracy_score\n",
        "from sklearn.model_selection import StratifiedKFold\n",
        "import torch\n",
        "from torch.utils.data import TensorDataset, random_split\n",
        "from torch.utils.data import DataLoader, RandomSampler, SequentialSampler\n",
        "from transformers import BertJapaneseTokenizer, BertForSequenceClassification, AdamW\n",
        "  \n",
        "warnings.filterwarnings('ignore')"
      ]
    },
    {
      "cell_type": "code",
      "execution_count": null,
      "metadata": {
        "colab": {
          "base_uri": "https://localhost:8080/",
          "height": 68
        },
        "id": "9jht-5r4mn-7",
        "outputId": "c12e3196-8f05-4ffe-ddd6-45e242fcade8"
      },
      "outputs": [
        {
          "data": {
            "application/javascript": [
              "\n",
              "        window._wandbApiKey = new Promise((resolve, reject) => {\n",
              "            function loadScript(url) {\n",
              "            return new Promise(function(resolve, reject) {\n",
              "                let newScript = document.createElement(\"script\");\n",
              "                newScript.onerror = reject;\n",
              "                newScript.onload = resolve;\n",
              "                document.body.appendChild(newScript);\n",
              "                newScript.src = url;\n",
              "            });\n",
              "            }\n",
              "            loadScript(\"https://cdn.jsdelivr.net/npm/postmate/build/postmate.min.js\").then(() => {\n",
              "            const iframe = document.createElement('iframe')\n",
              "            iframe.style.cssText = \"width:0;height:0;border:none\"\n",
              "            document.body.appendChild(iframe)\n",
              "            const handshake = new Postmate({\n",
              "                container: iframe,\n",
              "                url: 'https://wandb.ai/authorize'\n",
              "            });\n",
              "            const timeout = setTimeout(() => reject(\"Couldn't auto authenticate\"), 5000)\n",
              "            handshake.then(function(child) {\n",
              "                child.on('authorize', data => {\n",
              "                    clearTimeout(timeout)\n",
              "                    resolve(data)\n",
              "                });\n",
              "            });\n",
              "            })\n",
              "        });\n",
              "    "
            ],
            "text/plain": [
              "<IPython.core.display.Javascript object>"
            ]
          },
          "metadata": {},
          "output_type": "display_data"
        },
        {
          "name": "stderr",
          "output_type": "stream",
          "text": [
            "\u001b[34m\u001b[1mwandb\u001b[0m: Appending key for api.wandb.ai to your netrc file: /root/.netrc\n"
          ]
        },
        {
          "data": {
            "text/plain": [
              "True"
            ]
          },
          "execution_count": 5,
          "metadata": {},
          "output_type": "execute_result"
        }
      ],
      "source": [
        "import wandb\n",
        "wandb.login()"
      ]
    },
    {
      "cell_type": "code",
      "execution_count": null,
      "metadata": {
        "colab": {
          "base_uri": "https://localhost:8080/"
        },
        "id": "SJ8Ggd4glnhd",
        "outputId": "21bbc074-6b7e-460d-9a23-655b3bbec021"
      },
      "outputs": [
        {
          "name": "stdout",
          "output_type": "stream",
          "text": [
            "Fakenews-2022-03-28-18-54\n"
          ]
        }
      ],
      "source": [
        "def id_generator(size=12, chars=string.ascii_lowercase + string.digits):\n",
        "    return ''.join(random.SystemRandom().choice(chars) for _ in range(size))\n",
        "\n",
        "JST = timezone(timedelta(hours=+9), 'JST')\n",
        "now = datetime.now(JST)\n",
        "current_time = now.strftime(\"%Y-%m-%d-%H-%M\", )\n",
        "\n",
        "HASH_NAME = \"Fakenews-\"+current_time\n",
        "\n",
        "print(HASH_NAME)"
      ]
    },
    {
      "cell_type": "code",
      "execution_count": null,
      "metadata": {
        "colab": {
          "base_uri": "https://localhost:8080/"
        },
        "id": "YFPt-7ynyis9",
        "outputId": "cba687dc-0a3f-4fa5-ebbf-2f30a0228658"
      },
      "outputs": [
        {
          "name": "stdout",
          "output_type": "stream",
          "text": [
            "Mounted at /content/drive\n"
          ]
        }
      ],
      "source": [
        "from google.colab import drive \n",
        "drive.mount('/content/drive')"
      ]
    },
    {
      "cell_type": "code",
      "execution_count": null,
      "metadata": {
        "colab": {
          "base_uri": "https://localhost:8080/"
        },
        "id": "V4Leh9-Rx2O5",
        "outputId": "ac5db16e-41be-49a5-ca59-732adc1dc2fe"
      },
      "outputs": [
        {
          "name": "stdout",
          "output_type": "stream",
          "text": [
            "/content/drive/MyDrive/python/cpt-fakenews/baseline/code\n"
          ]
        }
      ],
      "source": [
        "ROOT = \"/content/drive/MyDrive/python/cpt-fakenews\"\n",
        "CUR_DIR = ROOT+\"/baseline/code\"\n",
        "%cd $CUR_DIR"
      ]
    },
    {
      "cell_type": "code",
      "execution_count": null,
      "metadata": {
        "colab": {
          "base_uri": "https://localhost:8080/",
          "height": 113,
          "referenced_widgets": [
            "3b48fd9b1454432db546728d7fda5fc4",
            "42098d552a174303bc9f3f9b13c78d32",
            "4fa676a1a8654f5eb9be274167594c93",
            "9b2aaeab5959463bb5969cc3ee78a9ea",
            "846f6d12249142539e8049226fbcd7aa",
            "27efb63b4f7245beab7f8a12f560e0ce",
            "76d94ee5eea14880bb74a8e021875936",
            "cd4b377aaaf8416fab97b3004c5a9855",
            "42c9d0b71d9442a3a958b4b4d03a43de",
            "c23b0b56c9d1466dbf1035dd0c88f44d",
            "2aa2def62f3c47ce978e5b0ea6d52fb8",
            "d7c320d662014b5e8c8abe39213a7117",
            "e0d5cfc03f894794afc80aae783a808f",
            "3345bfde67f341f5bcc8cb7fdb3ca36b",
            "1fd8b1f807f4471996e860f018272fcd",
            "37b47ec9120b47b7a3ef396b28fe88f4",
            "281774e43e5147e8ad0146f839659dae",
            "38ea52c547694f2792d286a93ea8ce82",
            "6c75ca6415794936835707093eb95027",
            "19d53a71d2094d23b9c60fcd6a7bb839",
            "88767bf84be141dea5255217d373de96",
            "d985b4f637a743d6bbdaa98dd2d04122",
            "6c493799d3084c62aecb36277fc8c6f3",
            "7e10bb91ad1e4ff1a7d3fccb835f047d",
            "739ab809f6934e4aa66c2ca5d7f8cf06",
            "308aa7c2a8384502a083d3e486536460",
            "f943a78de37948e9a36f246e9a2ea453",
            "36b885ddac6f4b5a965608681016fc21",
            "193fcc0ade3d423f94d8970b0b8826cb",
            "c9f820a514c642c0a2ec99a7f5acea78",
            "6b5bed1ecdc942b3bcc087c58706acfe",
            "78f915e07bc7421aa02b3298a3a96039",
            "1b97b65fc0cf4c35b204acacd6566c89"
          ]
        },
        "id": "a6l3rBD5lnhe",
        "outputId": "cbcea24c-dee6-4881-cd50-e4cf13e419e9"
      },
      "outputs": [
        {
          "data": {
            "application/vnd.jupyter.widget-view+json": {
              "model_id": "3b48fd9b1454432db546728d7fda5fc4",
              "version_major": 2,
              "version_minor": 0
            },
            "text/plain": [
              "Downloading:   0%|          | 0.00/110 [00:00<?, ?B/s]"
            ]
          },
          "metadata": {},
          "output_type": "display_data"
        },
        {
          "data": {
            "application/vnd.jupyter.widget-view+json": {
              "model_id": "d7c320d662014b5e8c8abe39213a7117",
              "version_major": 2,
              "version_minor": 0
            },
            "text/plain": [
              "Downloading:   0%|          | 0.00/479 [00:00<?, ?B/s]"
            ]
          },
          "metadata": {},
          "output_type": "display_data"
        },
        {
          "data": {
            "application/vnd.jupyter.widget-view+json": {
              "model_id": "6c493799d3084c62aecb36277fc8c6f3",
              "version_major": 2,
              "version_minor": 0
            },
            "text/plain": [
              "Downloading:   0%|          | 0.00/252k [00:00<?, ?B/s]"
            ]
          },
          "metadata": {},
          "output_type": "display_data"
        }
      ],
      "source": [
        "CONFIG = {\"seed\": 2022,\n",
        "          \"epochs\": 20,\n",
        "          \"model_name\": r'cl-tohoku/bert-base-japanese-whole-word-masking',  # r'cl-tohoku/bert-base-japanese-v2'\n",
        "          \"train_batch_size\": 32,\n",
        "          \"valid_batch_size\": 64,\n",
        "          \"max_length\": 128,\n",
        "          \"learning_rate\": 1e-6,\n",
        "          \"scheduler\": 'CosineAnnealingLR',\n",
        "          \"min_lr\": 1e-7,\n",
        "          \"T_max\": 500,\n",
        "          \"weight_decay\": 1e-6,\n",
        "          \"max_grad_norm\" :1.0,\n",
        "          \"n_accumulate\": 1,\n",
        "          \"num_classes\": 2,\n",
        "          \"n_fold\": 5,\n",
        "          \"device\": torch.device(\"cuda:0\" if torch.cuda.is_available() else \"cpu\"),\n",
        "          \"hash_name\": HASH_NAME,\n",
        "          \"hidden_size\" :768,\n",
        "          \"num_hidden_layers\": 24,    \n",
        "          \"dropout\" :0.2\n",
        "          }\n",
        "\n",
        "CONFIG[\"tokenizer\"] = AutoTokenizer.from_pretrained(CONFIG['model_name'])\n",
        "CONFIG['group'] = f'{HASH_NAME}-Baseline'"
      ]
    },
    {
      "cell_type": "code",
      "execution_count": null,
      "metadata": {
        "id": "6mjHrhnalnhf"
      },
      "outputs": [],
      "source": [
        "def set_seed(seed=42):\n",
        "    '''Sets the seed of the entire notebook so results are the same every time we run.\n",
        "    This is for REPRODUCIBILITY.'''\n",
        "    np.random.seed(seed)\n",
        "    torch.manual_seed(seed)\n",
        "    torch.cuda.manual_seed(seed)\n",
        "    # When running on the CuDNN backend, two further options must be set\n",
        "    torch.backends.cudnn.deterministic = True\n",
        "    torch.backends.cudnn.benchmark = False\n",
        "    # Set a fixed value for the hash seed\n",
        "    os.environ['PYTHONHASHSEED'] = str(seed)\n",
        "    \n",
        "set_seed(CONFIG['seed'])"
      ]
    },
    {
      "cell_type": "code",
      "execution_count": null,
      "metadata": {
        "colab": {
          "base_uri": "https://localhost:8080/",
          "height": 423
        },
        "id": "4OCPnCRdlnhf",
        "outputId": "910d7ab1-1eec-4c10-b31a-0c2e9805b30e"
      },
      "outputs": [
        {
          "data": {
            "text/html": [
              "\n",
              "  <div id=\"df-d6d6d906-fc67-44c2-985e-782367e89ee8\">\n",
              "    <div class=\"colab-df-container\">\n",
              "      <div>\n",
              "<style scoped>\n",
              "    .dataframe tbody tr th:only-of-type {\n",
              "        vertical-align: middle;\n",
              "    }\n",
              "\n",
              "    .dataframe tbody tr th {\n",
              "        vertical-align: top;\n",
              "    }\n",
              "\n",
              "    .dataframe thead th {\n",
              "        text-align: right;\n",
              "    }\n",
              "</style>\n",
              "<table border=\"1\" class=\"dataframe\">\n",
              "  <thead>\n",
              "    <tr style=\"text-align: right;\">\n",
              "      <th></th>\n",
              "      <th>id</th>\n",
              "      <th>isFake</th>\n",
              "      <th>text</th>\n",
              "    </tr>\n",
              "  </thead>\n",
              "  <tbody>\n",
              "    <tr>\n",
              "      <th>0</th>\n",
              "      <td>2877</td>\n",
              "      <td>0</td>\n",
              "      <td>サッカーJ2リーグの東京ヴェルディは6月28日（UTC+9 以下同）、東京ヴェルディホールデ...</td>\n",
              "    </tr>\n",
              "    <tr>\n",
              "      <th>1</th>\n",
              "      <td>6827</td>\n",
              "      <td>1</td>\n",
              "      <td>朝日新聞など各報道によると、イギリスに本拠を置く携帯電話世界最大手ボーダフォンの日本法人(ソ...</td>\n",
              "    </tr>\n",
              "    <tr>\n",
              "      <th>2</th>\n",
              "      <td>518</td>\n",
              "      <td>0</td>\n",
              "      <td>9月の総選挙の結果を受け、「大連立」を組んだドイツの二大会派、ドイツキリスト教民主同盟（CD...</td>\n",
              "    </tr>\n",
              "    <tr>\n",
              "      <th>3</th>\n",
              "      <td>1670</td>\n",
              "      <td>0</td>\n",
              "      <td>四国新聞によると、プロ野球選手だった野口二郎さんが5月21日、肺炎のため宝塚市の病院で死去し...</td>\n",
              "    </tr>\n",
              "    <tr>\n",
              "      <th>4</th>\n",
              "      <td>4710</td>\n",
              "      <td>1</td>\n",
              "      <td>ロイターなど各社の報道によると、タイ王国で21日(C+7)、元反政府活動家7人が政府の転覆を...</td>\n",
              "    </tr>\n",
              "    <tr>\n",
              "      <th>...</th>\n",
              "      <td>...</td>\n",
              "      <td>...</td>\n",
              "      <td>...</td>\n",
              "    </tr>\n",
              "    <tr>\n",
              "      <th>3776</th>\n",
              "      <td>3092</td>\n",
              "      <td>0</td>\n",
              "      <td>朝日放送によると、11月24日夜7:00から毎日放送・MBSテレビ局で放送する予定だった大阪...</td>\n",
              "    </tr>\n",
              "    <tr>\n",
              "      <th>3777</th>\n",
              "      <td>3772</td>\n",
              "      <td>1</td>\n",
              "      <td>毎日新聞と北海道新聞によると、民主党の北海道5区で立候補した民主党の山本広和被告(60歳)が...</td>\n",
              "    </tr>\n",
              "    <tr>\n",
              "      <th>3778</th>\n",
              "      <td>5191</td>\n",
              "      <td>1</td>\n",
              "      <td>朝日新聞によると、インドネシアで、10月1日からガソリンや灯油などが値上げされる。2009年...</td>\n",
              "    </tr>\n",
              "    <tr>\n",
              "      <th>3779</th>\n",
              "      <td>5226</td>\n",
              "      <td>1</td>\n",
              "      <td>朝日新聞によると、14日午後0時40分頃、大阪市北区梅田2丁目の阪神百貨店の『・(阪神・阪急...</td>\n",
              "    </tr>\n",
              "    <tr>\n",
              "      <th>3780</th>\n",
              "      <td>860</td>\n",
              "      <td>0</td>\n",
              "      <td>ウィキニュースも財団のプロジェクトのひとつであることにご注意ください。フリー百科事典ウィキペ...</td>\n",
              "    </tr>\n",
              "  </tbody>\n",
              "</table>\n",
              "<p>3781 rows × 3 columns</p>\n",
              "</div>\n",
              "      <button class=\"colab-df-convert\" onclick=\"convertToInteractive('df-d6d6d906-fc67-44c2-985e-782367e89ee8')\"\n",
              "              title=\"Convert this dataframe to an interactive table.\"\n",
              "              style=\"display:none;\">\n",
              "        \n",
              "  <svg xmlns=\"http://www.w3.org/2000/svg\" height=\"24px\"viewBox=\"0 0 24 24\"\n",
              "       width=\"24px\">\n",
              "    <path d=\"M0 0h24v24H0V0z\" fill=\"none\"/>\n",
              "    <path d=\"M18.56 5.44l.94 2.06.94-2.06 2.06-.94-2.06-.94-.94-2.06-.94 2.06-2.06.94zm-11 1L8.5 8.5l.94-2.06 2.06-.94-2.06-.94L8.5 2.5l-.94 2.06-2.06.94zm10 10l.94 2.06.94-2.06 2.06-.94-2.06-.94-.94-2.06-.94 2.06-2.06.94z\"/><path d=\"M17.41 7.96l-1.37-1.37c-.4-.4-.92-.59-1.43-.59-.52 0-1.04.2-1.43.59L10.3 9.45l-7.72 7.72c-.78.78-.78 2.05 0 2.83L4 21.41c.39.39.9.59 1.41.59.51 0 1.02-.2 1.41-.59l7.78-7.78 2.81-2.81c.8-.78.8-2.07 0-2.86zM5.41 20L4 18.59l7.72-7.72 1.47 1.35L5.41 20z\"/>\n",
              "  </svg>\n",
              "      </button>\n",
              "      \n",
              "  <style>\n",
              "    .colab-df-container {\n",
              "      display:flex;\n",
              "      flex-wrap:wrap;\n",
              "      gap: 12px;\n",
              "    }\n",
              "\n",
              "    .colab-df-convert {\n",
              "      background-color: #E8F0FE;\n",
              "      border: none;\n",
              "      border-radius: 50%;\n",
              "      cursor: pointer;\n",
              "      display: none;\n",
              "      fill: #1967D2;\n",
              "      height: 32px;\n",
              "      padding: 0 0 0 0;\n",
              "      width: 32px;\n",
              "    }\n",
              "\n",
              "    .colab-df-convert:hover {\n",
              "      background-color: #E2EBFA;\n",
              "      box-shadow: 0px 1px 2px rgba(60, 64, 67, 0.3), 0px 1px 3px 1px rgba(60, 64, 67, 0.15);\n",
              "      fill: #174EA6;\n",
              "    }\n",
              "\n",
              "    [theme=dark] .colab-df-convert {\n",
              "      background-color: #3B4455;\n",
              "      fill: #D2E3FC;\n",
              "    }\n",
              "\n",
              "    [theme=dark] .colab-df-convert:hover {\n",
              "      background-color: #434B5C;\n",
              "      box-shadow: 0px 1px 3px 1px rgba(0, 0, 0, 0.15);\n",
              "      filter: drop-shadow(0px 1px 2px rgba(0, 0, 0, 0.3));\n",
              "      fill: #FFFFFF;\n",
              "    }\n",
              "  </style>\n",
              "\n",
              "      <script>\n",
              "        const buttonEl =\n",
              "          document.querySelector('#df-d6d6d906-fc67-44c2-985e-782367e89ee8 button.colab-df-convert');\n",
              "        buttonEl.style.display =\n",
              "          google.colab.kernel.accessAllowed ? 'block' : 'none';\n",
              "\n",
              "        async function convertToInteractive(key) {\n",
              "          const element = document.querySelector('#df-d6d6d906-fc67-44c2-985e-782367e89ee8');\n",
              "          const dataTable =\n",
              "            await google.colab.kernel.invokeFunction('convertToInteractive',\n",
              "                                                     [key], {});\n",
              "          if (!dataTable) return;\n",
              "\n",
              "          const docLinkHtml = 'Like what you see? Visit the ' +\n",
              "            '<a target=\"_blank\" href=https://colab.research.google.com/notebooks/data_table.ipynb>data table notebook</a>'\n",
              "            + ' to learn more about interactive tables.';\n",
              "          element.innerHTML = '';\n",
              "          dataTable['output_type'] = 'display_data';\n",
              "          await google.colab.output.renderOutput(dataTable, element);\n",
              "          const docLink = document.createElement('div');\n",
              "          docLink.innerHTML = docLinkHtml;\n",
              "          element.appendChild(docLink);\n",
              "        }\n",
              "      </script>\n",
              "    </div>\n",
              "  </div>\n",
              "  "
            ],
            "text/plain": [
              "        id  isFake                                               text\n",
              "0     2877       0  サッカーJ2リーグの東京ヴェルディは6月28日（UTC+9 以下同）、東京ヴェルディホールデ...\n",
              "1     6827       1  朝日新聞など各報道によると、イギリスに本拠を置く携帯電話世界最大手ボーダフォンの日本法人(ソ...\n",
              "2      518       0  9月の総選挙の結果を受け、「大連立」を組んだドイツの二大会派、ドイツキリスト教民主同盟（CD...\n",
              "3     1670       0  四国新聞によると、プロ野球選手だった野口二郎さんが5月21日、肺炎のため宝塚市の病院で死去し...\n",
              "4     4710       1  ロイターなど各社の報道によると、タイ王国で21日(C+7)、元反政府活動家7人が政府の転覆を...\n",
              "...    ...     ...                                                ...\n",
              "3776  3092       0  朝日放送によると、11月24日夜7:00から毎日放送・MBSテレビ局で放送する予定だった大阪...\n",
              "3777  3772       1  毎日新聞と北海道新聞によると、民主党の北海道5区で立候補した民主党の山本広和被告(60歳)が...\n",
              "3778  5191       1  朝日新聞によると、インドネシアで、10月1日からガソリンや灯油などが値上げされる。2009年...\n",
              "3779  5226       1  朝日新聞によると、14日午後0時40分頃、大阪市北区梅田2丁目の阪神百貨店の『・(阪神・阪急...\n",
              "3780   860       0  ウィキニュースも財団のプロジェクトのひとつであることにご注意ください。フリー百科事典ウィキペ...\n",
              "\n",
              "[3781 rows x 3 columns]"
            ]
          },
          "execution_count": 12,
          "metadata": {},
          "output_type": "execute_result"
        }
      ],
      "source": [
        "df = pd.read_csv(ROOT+\"/data/train.csv\")\n",
        "df"
      ]
    },
    {
      "cell_type": "code",
      "execution_count": null,
      "metadata": {
        "colab": {
          "base_uri": "https://localhost:8080/"
        },
        "id": "kJ2dcAAZUmdZ",
        "outputId": "ad751725-655a-41ea-eda3-6d27bc0a9df3"
      },
      "outputs": [
        {
          "data": {
            "text/plain": [
              "1    1937\n",
              "0    1844\n",
              "Name: isFake, dtype: int64"
            ]
          },
          "execution_count": 13,
          "metadata": {},
          "output_type": "execute_result"
        }
      ],
      "source": [
        "df[\"isFake\"].value_counts()"
      ]
    },
    {
      "cell_type": "markdown",
      "metadata": {
        "id": "iHLeiku0lnhf"
      },
      "source": [
        "# <span><h1 style = \"font-family: garamond; font-size: 40px; font-style: normal; letter-spcaing: 3px; background-color: #f6f5f5; color :#fe346e; border-radius: 100px 100px; text-align:center\">Create Folds</h1></span>"
      ]
    },
    {
      "cell_type": "code",
      "execution_count": null,
      "metadata": {
        "colab": {
          "base_uri": "https://localhost:8080/",
          "height": 206
        },
        "id": "94kVsUK6lnhg",
        "outputId": "f0b6d36b-cbe9-417e-da57-cef2c5e420cc"
      },
      "outputs": [
        {
          "data": {
            "text/html": [
              "\n",
              "  <div id=\"df-30c51317-2bb0-464b-8634-a9aed8b1053a\">\n",
              "    <div class=\"colab-df-container\">\n",
              "      <div>\n",
              "<style scoped>\n",
              "    .dataframe tbody tr th:only-of-type {\n",
              "        vertical-align: middle;\n",
              "    }\n",
              "\n",
              "    .dataframe tbody tr th {\n",
              "        vertical-align: top;\n",
              "    }\n",
              "\n",
              "    .dataframe thead th {\n",
              "        text-align: right;\n",
              "    }\n",
              "</style>\n",
              "<table border=\"1\" class=\"dataframe\">\n",
              "  <thead>\n",
              "    <tr style=\"text-align: right;\">\n",
              "      <th></th>\n",
              "      <th>id</th>\n",
              "      <th>isFake</th>\n",
              "      <th>text</th>\n",
              "      <th>kfold</th>\n",
              "    </tr>\n",
              "  </thead>\n",
              "  <tbody>\n",
              "    <tr>\n",
              "      <th>0</th>\n",
              "      <td>2877</td>\n",
              "      <td>0</td>\n",
              "      <td>サッカーJ2リーグの東京ヴェルディは6月28日（UTC+9 以下同）、東京ヴェルディホールデ...</td>\n",
              "      <td>0</td>\n",
              "    </tr>\n",
              "    <tr>\n",
              "      <th>1</th>\n",
              "      <td>6827</td>\n",
              "      <td>1</td>\n",
              "      <td>朝日新聞など各報道によると、イギリスに本拠を置く携帯電話世界最大手ボーダフォンの日本法人(ソ...</td>\n",
              "      <td>3</td>\n",
              "    </tr>\n",
              "    <tr>\n",
              "      <th>2</th>\n",
              "      <td>518</td>\n",
              "      <td>0</td>\n",
              "      <td>9月の総選挙の結果を受け、「大連立」を組んだドイツの二大会派、ドイツキリスト教民主同盟（CD...</td>\n",
              "      <td>4</td>\n",
              "    </tr>\n",
              "    <tr>\n",
              "      <th>3</th>\n",
              "      <td>1670</td>\n",
              "      <td>0</td>\n",
              "      <td>四国新聞によると、プロ野球選手だった野口二郎さんが5月21日、肺炎のため宝塚市の病院で死去し...</td>\n",
              "      <td>3</td>\n",
              "    </tr>\n",
              "    <tr>\n",
              "      <th>4</th>\n",
              "      <td>4710</td>\n",
              "      <td>1</td>\n",
              "      <td>ロイターなど各社の報道によると、タイ王国で21日(C+7)、元反政府活動家7人が政府の転覆を...</td>\n",
              "      <td>1</td>\n",
              "    </tr>\n",
              "  </tbody>\n",
              "</table>\n",
              "</div>\n",
              "      <button class=\"colab-df-convert\" onclick=\"convertToInteractive('df-30c51317-2bb0-464b-8634-a9aed8b1053a')\"\n",
              "              title=\"Convert this dataframe to an interactive table.\"\n",
              "              style=\"display:none;\">\n",
              "        \n",
              "  <svg xmlns=\"http://www.w3.org/2000/svg\" height=\"24px\"viewBox=\"0 0 24 24\"\n",
              "       width=\"24px\">\n",
              "    <path d=\"M0 0h24v24H0V0z\" fill=\"none\"/>\n",
              "    <path d=\"M18.56 5.44l.94 2.06.94-2.06 2.06-.94-2.06-.94-.94-2.06-.94 2.06-2.06.94zm-11 1L8.5 8.5l.94-2.06 2.06-.94-2.06-.94L8.5 2.5l-.94 2.06-2.06.94zm10 10l.94 2.06.94-2.06 2.06-.94-2.06-.94-.94-2.06-.94 2.06-2.06.94z\"/><path d=\"M17.41 7.96l-1.37-1.37c-.4-.4-.92-.59-1.43-.59-.52 0-1.04.2-1.43.59L10.3 9.45l-7.72 7.72c-.78.78-.78 2.05 0 2.83L4 21.41c.39.39.9.59 1.41.59.51 0 1.02-.2 1.41-.59l7.78-7.78 2.81-2.81c.8-.78.8-2.07 0-2.86zM5.41 20L4 18.59l7.72-7.72 1.47 1.35L5.41 20z\"/>\n",
              "  </svg>\n",
              "      </button>\n",
              "      \n",
              "  <style>\n",
              "    .colab-df-container {\n",
              "      display:flex;\n",
              "      flex-wrap:wrap;\n",
              "      gap: 12px;\n",
              "    }\n",
              "\n",
              "    .colab-df-convert {\n",
              "      background-color: #E8F0FE;\n",
              "      border: none;\n",
              "      border-radius: 50%;\n",
              "      cursor: pointer;\n",
              "      display: none;\n",
              "      fill: #1967D2;\n",
              "      height: 32px;\n",
              "      padding: 0 0 0 0;\n",
              "      width: 32px;\n",
              "    }\n",
              "\n",
              "    .colab-df-convert:hover {\n",
              "      background-color: #E2EBFA;\n",
              "      box-shadow: 0px 1px 2px rgba(60, 64, 67, 0.3), 0px 1px 3px 1px rgba(60, 64, 67, 0.15);\n",
              "      fill: #174EA6;\n",
              "    }\n",
              "\n",
              "    [theme=dark] .colab-df-convert {\n",
              "      background-color: #3B4455;\n",
              "      fill: #D2E3FC;\n",
              "    }\n",
              "\n",
              "    [theme=dark] .colab-df-convert:hover {\n",
              "      background-color: #434B5C;\n",
              "      box-shadow: 0px 1px 3px 1px rgba(0, 0, 0, 0.15);\n",
              "      filter: drop-shadow(0px 1px 2px rgba(0, 0, 0, 0.3));\n",
              "      fill: #FFFFFF;\n",
              "    }\n",
              "  </style>\n",
              "\n",
              "      <script>\n",
              "        const buttonEl =\n",
              "          document.querySelector('#df-30c51317-2bb0-464b-8634-a9aed8b1053a button.colab-df-convert');\n",
              "        buttonEl.style.display =\n",
              "          google.colab.kernel.accessAllowed ? 'block' : 'none';\n",
              "\n",
              "        async function convertToInteractive(key) {\n",
              "          const element = document.querySelector('#df-30c51317-2bb0-464b-8634-a9aed8b1053a');\n",
              "          const dataTable =\n",
              "            await google.colab.kernel.invokeFunction('convertToInteractive',\n",
              "                                                     [key], {});\n",
              "          if (!dataTable) return;\n",
              "\n",
              "          const docLinkHtml = 'Like what you see? Visit the ' +\n",
              "            '<a target=\"_blank\" href=https://colab.research.google.com/notebooks/data_table.ipynb>data table notebook</a>'\n",
              "            + ' to learn more about interactive tables.';\n",
              "          element.innerHTML = '';\n",
              "          dataTable['output_type'] = 'display_data';\n",
              "          await google.colab.output.renderOutput(dataTable, element);\n",
              "          const docLink = document.createElement('div');\n",
              "          docLink.innerHTML = docLinkHtml;\n",
              "          element.appendChild(docLink);\n",
              "        }\n",
              "      </script>\n",
              "    </div>\n",
              "  </div>\n",
              "  "
            ],
            "text/plain": [
              "     id  isFake                                               text  kfold\n",
              "0  2877       0  サッカーJ2リーグの東京ヴェルディは6月28日（UTC+9 以下同）、東京ヴェルディホールデ...      0\n",
              "1  6827       1  朝日新聞など各報道によると、イギリスに本拠を置く携帯電話世界最大手ボーダフォンの日本法人(ソ...      3\n",
              "2   518       0  9月の総選挙の結果を受け、「大連立」を組んだドイツの二大会派、ドイツキリスト教民主同盟（CD...      4\n",
              "3  1670       0  四国新聞によると、プロ野球選手だった野口二郎さんが5月21日、肺炎のため宝塚市の病院で死去し...      3\n",
              "4  4710       1  ロイターなど各社の報道によると、タイ王国で21日(C+7)、元反政府活動家7人が政府の転覆を...      1"
            ]
          },
          "execution_count": 14,
          "metadata": {},
          "output_type": "execute_result"
        }
      ],
      "source": [
        "skf = StratifiedKFold(n_splits=CONFIG['n_fold'], shuffle=True, random_state=CONFIG['seed'])\n",
        "\n",
        "for fold, ( _, val_) in enumerate(skf.split(X=df, y=df[\"isFake\"])):\n",
        "    df.loc[val_ , \"kfold\"] = int(fold)\n",
        "    \n",
        "df[\"kfold\"] = df[\"kfold\"].astype(int)\n",
        "df.head()"
      ]
    },
    {
      "cell_type": "code",
      "execution_count": null,
      "metadata": {
        "id": "whkmsqBAlnhg"
      },
      "outputs": [],
      "source": [
        "class FakenewsDataset(Dataset):\n",
        "    def __init__(self, df, tokenizer, max_length):\n",
        "        self.df = df\n",
        "        self.max_len = max_length\n",
        "        self.tokenizer = tokenizer\n",
        "        self.text = df['text'].values\n",
        "        self.target = df['isFake'].values\n",
        "        \n",
        "    def __len__(self):\n",
        "        return len(self.df)\n",
        "    \n",
        "    def __getitem__(self, index):\n",
        "    \n",
        "        text = self.text[index]\n",
        "        inputs_text = self.tokenizer.encode_plus(\n",
        "                                text,\n",
        "                                truncation=True,\n",
        "                                add_special_tokens=True,\n",
        "                                max_length=self.max_len,\n",
        "                                padding='max_length'\n",
        "                            )\n",
        "    \n",
        "        target = self.target[index]\n",
        "        \n",
        "        onehot_t = np.zeros(CONFIG[\"num_classes\"], dtype=np.float32) + 0.0025 ### Label smoothing\n",
        "        onehot_t[target] = 0.995\n",
        "        \n",
        "        ids = inputs_text['input_ids']\n",
        "        mask = inputs_text['attention_mask']\n",
        "        \n",
        "        return {\n",
        "            'ids': torch.tensor(ids, dtype=torch.long),\n",
        "            'mask': torch.tensor(mask, dtype=torch.long),\n",
        "            'target': torch.tensor(onehot_t, dtype=torch.float)\n",
        "        }"
      ]
    },
    {
      "cell_type": "code",
      "execution_count": null,
      "metadata": {
        "id": "NfGgPn5Slnhh"
      },
      "outputs": [],
      "source": [
        "class FakenewsModel(nn.Module):\n",
        "    def __init__(self, model_name):\n",
        "        super(FakenewsModel, self).__init__()\n",
        "        self.model = AutoModel.from_pretrained(model_name)\n",
        "        self.drop = nn.Dropout(p=0.2)\n",
        "        self.fc = nn.Linear(768, CONFIG['num_classes'])\n",
        "        self.sigmoid = nn.Sigmoid()\n",
        "        \n",
        "    def forward(self, ids, mask):        \n",
        "        out = self.model(input_ids=ids,attention_mask=mask,\n",
        "                         output_hidden_states=False)\n",
        "        out = self.drop(out[1])\n",
        "        outputs = self.fc(out)\n",
        "        outputs = self.sigmoid(outputs)\n",
        "        \n",
        "        return outputs.squeeze()"
      ]
    },
    {
      "cell_type": "code",
      "execution_count": null,
      "metadata": {
        "id": "bcQxHzYUlnhh"
      },
      "outputs": [],
      "source": [
        "def criterion(outputs, targets):\n",
        "    loss_f = nn.BCELoss()\n",
        "    \"\"\"\n",
        "    print(\"output\",outputs.shape, 'targets',targets.shape)\n",
        "    print(outputs)\n",
        "    print(targets)\n",
        "    \"\"\"\n",
        "    return loss_f(outputs,targets)"
      ]
    },
    {
      "cell_type": "code",
      "execution_count": null,
      "metadata": {
        "id": "r-5Tn-H-lnhh"
      },
      "outputs": [],
      "source": [
        "def train_one_epoch(model, optimizer, scheduler, dataloader, device, epoch):\n",
        "    model.train()\n",
        "    \n",
        "    dataset_size = 0\n",
        "    running_loss = 0.0\n",
        "    \n",
        "    bar = tqdm(enumerate(dataloader), total=len(dataloader))\n",
        "    for step, data in bar:\n",
        "        ids = data['ids'].to(device, dtype = torch.long)\n",
        "        mask = data['mask'].to(device, dtype = torch.long)\n",
        "        targets = data['target'].to(device, dtype=torch.float)\n",
        "        \n",
        "        batch_size = ids.size(0)\n",
        "\n",
        "        outputs = model(ids, mask)\n",
        "        \n",
        "        loss = criterion(outputs, targets)\n",
        "        loss = loss / CONFIG['n_accumulate']\n",
        "        loss.backward()\n",
        "    \n",
        "        if (step + 1) % CONFIG['n_accumulate'] == 0:\n",
        "            optimizer.step()\n",
        "\n",
        "            # zero the parameter gradients\n",
        "            optimizer.zero_grad()\n",
        "\n",
        "            if scheduler is not None:\n",
        "                scheduler.step()\n",
        "                \n",
        "        running_loss += (loss.item() * batch_size)\n",
        "        dataset_size += batch_size\n",
        "        \n",
        "        epoch_loss = running_loss / dataset_size\n",
        "        \n",
        "        bar.set_postfix(Epoch=epoch, Train_Loss=epoch_loss,\n",
        "                        LR=optimizer.param_groups[0]['lr'])\n",
        "    gc.collect()\n",
        "    \n",
        "    return epoch_loss"
      ]
    },
    {
      "cell_type": "code",
      "execution_count": null,
      "metadata": {
        "id": "xXM7-V-Zlnhi"
      },
      "outputs": [],
      "source": [
        "@torch.no_grad()\n",
        "def valid_one_epoch(model, dataloader, device, epoch):\n",
        "    model.eval()\n",
        "    \n",
        "    dataset_size = 0\n",
        "    running_loss = 0.0\n",
        "    \n",
        "    bar = tqdm(enumerate(dataloader), total=len(dataloader))\n",
        "    for step, data in bar:        \n",
        "        ids = data['ids'].to(device, dtype = torch.long)\n",
        "        mask = data['mask'].to(device, dtype = torch.long)\n",
        "        targets = data['target'].to(device, dtype=torch.float)\n",
        "        \n",
        "        batch_size = ids.size(0)\n",
        "\n",
        "        outputs = model(ids, mask)\n",
        "        \n",
        "        loss = criterion(outputs, targets)\n",
        "        \n",
        "        running_loss += (loss.item() * batch_size)\n",
        "        dataset_size += batch_size\n",
        "        \n",
        "        epoch_loss = running_loss / dataset_size\n",
        "        \n",
        "        bar.set_postfix(Epoch=epoch, Valid_Loss=epoch_loss,\n",
        "                        LR=optimizer.param_groups[0]['lr'])   \n",
        "    \n",
        "    gc.collect()\n",
        "    \n",
        "    return epoch_loss"
      ]
    },
    {
      "cell_type": "code",
      "execution_count": null,
      "metadata": {
        "id": "GQU201Shlnhj"
      },
      "outputs": [],
      "source": [
        "def run_training(model, optimizer, scheduler, device, num_epochs, fold, savepath):\n",
        "    # To automatically log gradients\n",
        "    wandb.watch(model, log_freq=100)\n",
        "    \n",
        "    if torch.cuda.is_available():\n",
        "        print(\"[INFO] Using GPU: {}\\n\".format(torch.cuda.get_device_name()))\n",
        "    \n",
        "    start = time.time()\n",
        "    best_model_wts = copy.deepcopy(model.state_dict())\n",
        "    best_epoch_loss = np.inf\n",
        "    history = defaultdict(list)\n",
        "    \n",
        "    for epoch in range(1, num_epochs + 1): \n",
        "        gc.collect()\n",
        "        train_epoch_loss = train_one_epoch(model, optimizer, scheduler, \n",
        "                                           dataloader=train_loader, \n",
        "                                           device=CONFIG['device'], epoch=epoch)\n",
        "        \n",
        "        val_epoch_loss = valid_one_epoch(model, valid_loader, device=CONFIG['device'], \n",
        "                                         epoch=epoch)\n",
        "    \n",
        "        history['Train Loss'].append(train_epoch_loss)\n",
        "        history['Valid Loss'].append(val_epoch_loss)\n",
        "        \n",
        "        # Log the metrics\n",
        "        wandb.log({\"Train Loss\": train_epoch_loss})\n",
        "        wandb.log({\"Valid Loss\": val_epoch_loss})\n",
        "        \n",
        "        # deep copy the model\n",
        "        if val_epoch_loss <= best_epoch_loss:\n",
        "            print(f\"{b_}Validation Loss Improved ({best_epoch_loss} ---> {val_epoch_loss})\")\n",
        "            best_epoch_loss = val_epoch_loss\n",
        "            run.summary[\"Best Loss\"] = best_epoch_loss\n",
        "            best_model_wts = copy.deepcopy(model.state_dict())\n",
        "            #PATH = f\"Loss-Fold-{fold}.bin\"    ####ここのPATHは変えよう\n",
        "            PATH = savepath + f\"Loss-Fold-{fold}.bin\"\n",
        "            torch.save(model.state_dict(), PATH)\n",
        "            # Save a model file from the current directory\n",
        "            print(f\"Model Saved{sr_}\")\n",
        "            \n",
        "        print()\n",
        "    \n",
        "    end = time.time()\n",
        "    time_elapsed = end - start\n",
        "    print('Training complete in {:.0f}h {:.0f}m {:.0f}s'.format(\n",
        "        time_elapsed // 3600, (time_elapsed % 3600) // 60, (time_elapsed % 3600) % 60))\n",
        "    print(\"Best Loss: {:.4f}\".format(best_epoch_loss))\n",
        "    \n",
        "    # load best model weights\n",
        "    model.load_state_dict(best_model_wts)\n",
        "    \n",
        "    return model, history"
      ]
    },
    {
      "cell_type": "code",
      "execution_count": null,
      "metadata": {
        "id": "Tz8Hw7FBlnhj"
      },
      "outputs": [],
      "source": [
        "def prepare_loaders(fold):\n",
        "    df_train = df[df.kfold != fold].reset_index(drop=True)\n",
        "    df_valid = df[df.kfold == fold].reset_index(drop=True)\n",
        "    \n",
        "    train_dataset = FakenewsDataset(df_train, tokenizer=CONFIG['tokenizer'], max_length=CONFIG['max_length'])\n",
        "    valid_dataset = FakenewsDataset(df_valid, tokenizer=CONFIG['tokenizer'], max_length=CONFIG['max_length'])\n",
        "\n",
        "    train_loader = DataLoader(train_dataset, batch_size=CONFIG['train_batch_size'], \n",
        "                              num_workers=2, shuffle=True, pin_memory=True, drop_last=True)\n",
        "    valid_loader = DataLoader(valid_dataset, batch_size=CONFIG['valid_batch_size'], \n",
        "                              num_workers=2, shuffle=False, pin_memory=True)\n",
        "    \n",
        "    return train_loader, valid_loader"
      ]
    },
    {
      "cell_type": "code",
      "execution_count": null,
      "metadata": {
        "id": "rxP9I_a9lnhj"
      },
      "outputs": [],
      "source": [
        "def fetch_scheduler(optimizer):\n",
        "    if CONFIG['scheduler'] == 'CosineAnnealingLR':\n",
        "        scheduler = lr_scheduler.CosineAnnealingLR(optimizer,T_max=CONFIG['T_max'], \n",
        "                                                   eta_min=CONFIG['min_lr'])\n",
        "    elif CONFIG['scheduler'] == 'CosineAnnealingWarmRestarts':\n",
        "        scheduler = lr_scheduler.CosineAnnealingWarmRestarts(optimizer,T_0=CONFIG['T_0'], \n",
        "                                                             eta_min=CONFIG['min_lr'])\n",
        "    elif CONFIG['scheduler'] == None:\n",
        "        return None\n",
        "        \n",
        "    return scheduler"
      ]
    },
    {
      "cell_type": "code",
      "execution_count": null,
      "metadata": {
        "colab": {
          "background_save": true,
          "base_uri": "https://localhost:8080/",
          "height": 1000,
          "referenced_widgets": [
            "5c3ad8092ed14e1aac6b0f4fa757bb33",
            "d2836ee44b6845cea2b03ef681a4358b",
            "dd2c0fedff824f89b46c3527e5de409e",
            "3f1c5eabacf048ff9305552f94002a95",
            "4d5b459054d9416ebbbde05b87a6485b",
            "a4b02c3468794bc2a6b58d8c91e481bb",
            "294d2049b8474a2e8f41a5dbb5f6e1ba",
            "dbcd814dda5c4159af9394d156f9b738",
            "7ccca3a04c954a37bbe0275e08254b26",
            "674a09670cc448068b72b12e6d7659be",
            "bfcedc7fa6354871bef2159a50363755",
            "f156ba8363514d3eb925334a91dfb9b0",
            "d651acfa5eab439ca0dcae68d85ad59d",
            "28b9f636f58348bb9e8e5d86e7aad964",
            "eef2e346c83a414ea52e5fdcf123ee68",
            "9af7a22851c149ffbe007e7eb144a931"
          ]
        },
        "id": "Rm9ehtjSlnhj",
        "outputId": "37570e2f-b3e7-440b-9a0a-1972572e832f"
      },
      "outputs": [
        {
          "name": "stderr",
          "output_type": "stream",
          "text": [
            "\u001b[34m\u001b[1mwandb\u001b[0m: Currently logged in as: \u001b[33mchi_naka\u001b[0m (use `wandb login --relogin` to force relogin)\n"
          ]
        },
        {
          "name": "stdout",
          "output_type": "stream",
          "text": [
            "\u001b[33m====== Fold: 0 ======\u001b[0m\n"
          ]
        },
        {
          "data": {
            "text/html": [
              "Tracking run with wandb version 0.12.11"
            ],
            "text/plain": [
              "<IPython.core.display.HTML object>"
            ]
          },
          "metadata": {},
          "output_type": "display_data"
        },
        {
          "data": {
            "text/html": [
              "Run data is saved locally in <code>/content/drive/MyDrive/python/cpt-fakenews/baseline/code/wandb/run-20220328_095507-33hwwxtn</code>"
            ],
            "text/plain": [
              "<IPython.core.display.HTML object>"
            ]
          },
          "metadata": {},
          "output_type": "display_data"
        },
        {
          "data": {
            "text/html": [
              "Syncing run <strong><a href=\"https://wandb.ai/chi_naka/Fakenews/runs/33hwwxtn\" target=\"_blank\">Fakenews-2022-03-28-18-54-fold-0</a></strong> to <a href=\"https://wandb.ai/chi_naka/Fakenews\" target=\"_blank\">Weights & Biases</a> (<a href=\"https://wandb.me/run\" target=\"_blank\">docs</a>)<br/>"
            ],
            "text/plain": [
              "<IPython.core.display.HTML object>"
            ]
          },
          "metadata": {},
          "output_type": "display_data"
        },
        {
          "data": {
            "application/vnd.jupyter.widget-view+json": {
              "model_id": "5c3ad8092ed14e1aac6b0f4fa757bb33",
              "version_major": 2,
              "version_minor": 0
            },
            "text/plain": [
              "Downloading:   0%|          | 0.00/424M [00:00<?, ?B/s]"
            ]
          },
          "metadata": {},
          "output_type": "display_data"
        },
        {
          "name": "stderr",
          "output_type": "stream",
          "text": [
            "Some weights of the model checkpoint at cl-tohoku/bert-base-japanese-whole-word-masking were not used when initializing BertModel: ['cls.predictions.transform.LayerNorm.bias', 'cls.predictions.transform.LayerNorm.weight', 'cls.seq_relationship.bias', 'cls.seq_relationship.weight', 'cls.predictions.bias', 'cls.predictions.transform.dense.weight', 'cls.predictions.transform.dense.bias', 'cls.predictions.decoder.weight']\n",
            "- This IS expected if you are initializing BertModel from the checkpoint of a model trained on another task or with another architecture (e.g. initializing a BertForSequenceClassification model from a BertForPreTraining model).\n",
            "- This IS NOT expected if you are initializing BertModel from the checkpoint of a model that you expect to be exactly identical (initializing a BertForSequenceClassification model from a BertForSequenceClassification model).\n"
          ]
        },
        {
          "name": "stdout",
          "output_type": "stream",
          "text": [
            "[INFO] Using GPU: Tesla V100-SXM2-16GB\n",
            "\n"
          ]
        },
        {
          "name": "stderr",
          "output_type": "stream",
          "text": [
            "100%|██████████| 94/94 [00:26<00:00,  3.52it/s, Epoch=1, LR=9.24e-7, Train_Loss=0.688]\n",
            "100%|██████████| 12/12 [00:02<00:00,  5.88it/s, Epoch=1, LR=9.24e-7, Valid_Loss=0.669]\n"
          ]
        },
        {
          "name": "stdout",
          "output_type": "stream",
          "text": [
            "\u001b[34mValidation Loss Improved (inf ---> 0.6687366304183415)\n",
            "Model Saved\u001b[0m\n",
            "\n"
          ]
        },
        {
          "name": "stderr",
          "output_type": "stream",
          "text": [
            "100%|██████████| 94/94 [00:26<00:00,  3.51it/s, Epoch=2, LR=7.21e-7, Train_Loss=0.664]\n",
            "100%|██████████| 12/12 [00:02<00:00,  5.81it/s, Epoch=2, LR=7.21e-7, Valid_Loss=0.648]\n"
          ]
        },
        {
          "name": "stdout",
          "output_type": "stream",
          "text": [
            "\u001b[34mValidation Loss Improved (0.6687366304183415 ---> 0.6476684396931486)\n",
            "Model Saved\u001b[0m\n",
            "\n"
          ]
        },
        {
          "name": "stderr",
          "output_type": "stream",
          "text": [
            "100%|██████████| 94/94 [00:26<00:00,  3.50it/s, Epoch=3, LR=4.6e-7, Train_Loss=0.642]\n",
            "100%|██████████| 12/12 [00:02<00:00,  5.78it/s, Epoch=3, LR=4.6e-7, Valid_Loss=0.621]\n"
          ]
        },
        {
          "name": "stdout",
          "output_type": "stream",
          "text": [
            "\u001b[34mValidation Loss Improved (0.6476684396931486 ---> 0.6213598833216386)\n",
            "Model Saved\u001b[0m\n",
            "\n"
          ]
        },
        {
          "name": "stderr",
          "output_type": "stream",
          "text": [
            "100%|██████████| 94/94 [00:26<00:00,  3.49it/s, Epoch=4, LR=2.3e-7, Train_Loss=0.616]\n",
            "100%|██████████| 12/12 [00:02<00:00,  5.80it/s, Epoch=4, LR=2.3e-7, Valid_Loss=0.599]\n"
          ]
        },
        {
          "name": "stdout",
          "output_type": "stream",
          "text": [
            "\u001b[34mValidation Loss Improved (0.6213598833216386 ---> 0.5990827202481984)\n",
            "Model Saved\u001b[0m\n",
            "\n"
          ]
        },
        {
          "name": "stderr",
          "output_type": "stream",
          "text": [
            "100%|██████████| 94/94 [00:26<00:00,  3.50it/s, Epoch=5, LR=1.08e-7, Train_Loss=0.602]\n",
            "100%|██████████| 12/12 [00:02<00:00,  5.61it/s, Epoch=5, LR=1.08e-7, Valid_Loss=0.587]\n"
          ]
        },
        {
          "name": "stdout",
          "output_type": "stream",
          "text": [
            "\u001b[34mValidation Loss Improved (0.5990827202481984 ---> 0.5867900202737302)\n",
            "Model Saved\u001b[0m\n",
            "\n"
          ]
        },
        {
          "name": "stderr",
          "output_type": "stream",
          "text": [
            "100%|██████████| 94/94 [00:26<00:00,  3.50it/s, Epoch=6, LR=1.36e-7, Train_Loss=0.591]\n",
            "100%|██████████| 12/12 [00:02<00:00,  5.77it/s, Epoch=6, LR=1.36e-7, Valid_Loss=0.578]\n"
          ]
        },
        {
          "name": "stdout",
          "output_type": "stream",
          "text": [
            "\u001b[34mValidation Loss Improved (0.5867900202737302 ---> 0.5778907219358921)\n",
            "Model Saved\u001b[0m\n",
            "\n"
          ]
        },
        {
          "name": "stderr",
          "output_type": "stream",
          "text": [
            "100%|██████████| 94/94 [00:26<00:00,  3.50it/s, Epoch=7, LR=3.04e-7, Train_Loss=0.582]\n",
            "100%|██████████| 12/12 [00:02<00:00,  5.78it/s, Epoch=7, LR=3.04e-7, Valid_Loss=0.562]\n"
          ]
        },
        {
          "name": "stdout",
          "output_type": "stream",
          "text": [
            "\u001b[34mValidation Loss Improved (0.5778907219358921 ---> 0.5618412441904983)\n",
            "Model Saved\u001b[0m\n",
            "\n"
          ]
        },
        {
          "name": "stderr",
          "output_type": "stream",
          "text": [
            "100%|██████████| 94/94 [00:26<00:00,  3.50it/s, Epoch=8, LR=5.56e-7, Train_Loss=0.551]\n",
            "100%|██████████| 12/12 [00:02<00:00,  5.59it/s, Epoch=8, LR=5.56e-7, Valid_Loss=0.521]\n"
          ]
        },
        {
          "name": "stdout",
          "output_type": "stream",
          "text": [
            "\u001b[34mValidation Loss Improved (0.5618412441904983 ---> 0.5207802385603578)\n",
            "Model Saved\u001b[0m\n",
            "\n"
          ]
        },
        {
          "name": "stderr",
          "output_type": "stream",
          "text": [
            "100%|██████████| 94/94 [00:26<00:00,  3.50it/s, Epoch=9, LR=8.05e-7, Train_Loss=0.5]\n",
            "100%|██████████| 12/12 [00:02<00:00,  5.84it/s, Epoch=9, LR=8.05e-7, Valid_Loss=0.456]\n"
          ]
        },
        {
          "name": "stdout",
          "output_type": "stream",
          "text": [
            "\u001b[34mValidation Loss Improved (0.5207802385603578 ---> 0.45619849823267644)\n",
            "Model Saved\u001b[0m\n",
            "\n"
          ]
        },
        {
          "name": "stderr",
          "output_type": "stream",
          "text": [
            "100%|██████████| 94/94 [00:26<00:00,  3.50it/s, Epoch=10, LR=9.68e-7, Train_Loss=0.425]\n",
            "100%|██████████| 12/12 [00:02<00:00,  5.82it/s, Epoch=10, LR=9.68e-7, Valid_Loss=0.392]\n"
          ]
        },
        {
          "name": "stdout",
          "output_type": "stream",
          "text": [
            "\u001b[34mValidation Loss Improved (0.45619849823267644 ---> 0.39208674722177667)\n",
            "Model Saved\u001b[0m\n",
            "\n"
          ]
        },
        {
          "name": "stderr",
          "output_type": "stream",
          "text": [
            "100%|██████████| 94/94 [00:26<00:00,  3.49it/s, Epoch=11, LR=9.9e-7, Train_Loss=0.348]\n",
            "100%|██████████| 12/12 [00:02<00:00,  5.75it/s, Epoch=11, LR=9.9e-7, Valid_Loss=0.342]\n"
          ]
        },
        {
          "name": "stdout",
          "output_type": "stream",
          "text": [
            "\u001b[34mValidation Loss Improved (0.39208674722177667 ---> 0.3419416196043929)\n",
            "Model Saved\u001b[0m\n",
            "\n"
          ]
        },
        {
          "name": "stderr",
          "output_type": "stream",
          "text": [
            "100%|██████████| 94/94 [00:26<00:00,  3.50it/s, Epoch=12, LR=8.62e-7, Train_Loss=0.285]\n",
            "100%|██████████| 12/12 [00:02<00:00,  5.78it/s, Epoch=12, LR=8.62e-7, Valid_Loss=0.29]\n"
          ]
        },
        {
          "name": "stdout",
          "output_type": "stream",
          "text": [
            "\u001b[34mValidation Loss Improved (0.3419416196043929 ---> 0.2897595471088606)\n",
            "Model Saved\u001b[0m\n",
            "\n"
          ]
        },
        {
          "name": "stderr",
          "output_type": "stream",
          "text": [
            "100%|██████████| 94/94 [00:26<00:00,  3.49it/s, Epoch=13, LR=6.29e-7, Train_Loss=0.248]\n",
            "100%|██████████| 12/12 [00:02<00:00,  5.76it/s, Epoch=13, LR=6.29e-7, Valid_Loss=0.28]\n"
          ]
        },
        {
          "name": "stdout",
          "output_type": "stream",
          "text": [
            "\u001b[34mValidation Loss Improved (0.2897595471088606 ---> 0.279965609253004)\n",
            "Model Saved\u001b[0m\n",
            "\n"
          ]
        },
        {
          "name": "stderr",
          "output_type": "stream",
          "text": [
            "100%|██████████| 94/94 [00:26<00:00,  3.50it/s, Epoch=14, LR=3.69e-7, Train_Loss=0.215]\n",
            "100%|██████████| 12/12 [00:02<00:00,  5.78it/s, Epoch=14, LR=3.69e-7, Valid_Loss=0.258]\n"
          ]
        },
        {
          "name": "stdout",
          "output_type": "stream",
          "text": [
            "\u001b[34mValidation Loss Improved (0.279965609253004 ---> 0.25810581067751703)\n",
            "Model Saved\u001b[0m\n",
            "\n"
          ]
        },
        {
          "name": "stderr",
          "output_type": "stream",
          "text": [
            "100%|██████████| 94/94 [00:26<00:00,  3.50it/s, Epoch=15, LR=1.7e-7, Train_Loss=0.205]\n",
            "100%|██████████| 12/12 [00:02<00:00,  5.83it/s, Epoch=15, LR=1.7e-7, Valid_Loss=0.258]\n"
          ]
        },
        {
          "name": "stdout",
          "output_type": "stream",
          "text": [
            "\n"
          ]
        },
        {
          "name": "stderr",
          "output_type": "stream",
          "text": [
            "100%|██████████| 94/94 [00:26<00:00,  3.53it/s, Epoch=16, LR=1e-7, Train_Loss=0.203]\n",
            "100%|██████████| 12/12 [00:02<00:00,  5.82it/s, Epoch=16, LR=1e-7, Valid_Loss=0.256]\n"
          ]
        },
        {
          "name": "stdout",
          "output_type": "stream",
          "text": [
            "\u001b[34mValidation Loss Improved (0.25810581067751703 ---> 0.2560455448915653)\n",
            "Model Saved\u001b[0m\n",
            "\n"
          ]
        },
        {
          "name": "stderr",
          "output_type": "stream",
          "text": [
            "100%|██████████| 94/94 [00:26<00:00,  3.52it/s, Epoch=17, LR=1.83e-7, Train_Loss=0.198]\n",
            "100%|██████████| 12/12 [00:02<00:00,  5.62it/s, Epoch=17, LR=1.83e-7, Valid_Loss=0.256]\n"
          ]
        },
        {
          "name": "stdout",
          "output_type": "stream",
          "text": [
            "\u001b[34mValidation Loss Improved (0.2560455448915653 ---> 0.2560161293104114)\n",
            "Model Saved\u001b[0m\n",
            "\n"
          ]
        },
        {
          "name": "stderr",
          "output_type": "stream",
          "text": [
            "100%|██████████| 94/94 [00:27<00:00,  3.47it/s, Epoch=18, LR=3.9e-7, Train_Loss=0.192]\n",
            "100%|██████████| 12/12 [00:02<00:00,  5.71it/s, Epoch=18, LR=3.9e-7, Valid_Loss=0.252]\n"
          ]
        },
        {
          "name": "stdout",
          "output_type": "stream",
          "text": [
            "\u001b[34mValidation Loss Improved (0.2560161293104114 ---> 0.2519669645174334)\n",
            "Model Saved\u001b[0m\n",
            "\n"
          ]
        },
        {
          "name": "stderr",
          "output_type": "stream",
          "text": [
            "100%|██████████| 94/94 [00:26<00:00,  3.51it/s, Epoch=19, LR=6.51e-7, Train_Loss=0.185]\n",
            "100%|██████████| 12/12 [00:02<00:00,  5.63it/s, Epoch=19, LR=6.51e-7, Valid_Loss=0.24]\n"
          ]
        },
        {
          "name": "stdout",
          "output_type": "stream",
          "text": [
            "\u001b[34mValidation Loss Improved (0.2519669645174334 ---> 0.23982779492711453)\n",
            "Model Saved\u001b[0m\n",
            "\n"
          ]
        },
        {
          "name": "stderr",
          "output_type": "stream",
          "text": [
            "100%|██████████| 94/94 [00:26<00:00,  3.51it/s, Epoch=20, LR=8.78e-7, Train_Loss=0.169]\n",
            "100%|██████████| 12/12 [00:02<00:00,  5.85it/s, Epoch=20, LR=8.78e-7, Valid_Loss=0.227]\n"
          ]
        },
        {
          "name": "stdout",
          "output_type": "stream",
          "text": [
            "\u001b[34mValidation Loss Improved (0.23982779492711453 ---> 0.22715334111979646)\n",
            "Model Saved\u001b[0m\n",
            "\n",
            "Training complete in 0h 10m 14s\n",
            "Best Loss: 0.2272\n",
            "\n"
          ]
        },
        {
          "data": {
            "text/html": [
              "Waiting for W&B process to finish... <strong style=\"color:green\">(success).</strong>"
            ],
            "text/plain": [
              "<IPython.core.display.HTML object>"
            ]
          },
          "metadata": {},
          "output_type": "display_data"
        },
        {
          "data": {
            "application/vnd.jupyter.widget-view+json": {
              "model_id": "f156ba8363514d3eb925334a91dfb9b0",
              "version_major": 2,
              "version_minor": 0
            },
            "text/plain": [
              "VBox(children=(Label(value='0.001 MB of 0.001 MB uploaded (0.000 MB deduped)\\r'), FloatProgress(value=1.0, max…"
            ]
          },
          "metadata": {},
          "output_type": "display_data"
        },
        {
          "data": {
            "text/html": [
              "<style>\n",
              "    table.wandb td:nth-child(1) { padding: 0 10px; text-align: right }\n",
              "    .wandb-row { display: flex; flex-direction: row; flex-wrap: wrap; width: 100% }\n",
              "    .wandb-col { display: flex; flex-direction: column; flex-basis: 100%; flex: 1; padding: 10px; }\n",
              "    </style>\n",
              "<div class=\"wandb-row\"><div class=\"wandb-col\"><h3>Run history:</h3><br/><table class=\"wandb\"><tr><td>Train Loss</td><td>██▇▇▇▇▇▆▅▄▃▃▂▂▁▁▁▁▁▁</td></tr><tr><td>Valid Loss</td><td>██▇▇▇▇▆▆▅▄▃▂▂▁▁▁▁▁▁▁</td></tr></table><br/></div><div class=\"wandb-col\"><h3>Run summary:</h3><br/><table class=\"wandb\"><tr><td>Best Loss</td><td>0.22715</td></tr><tr><td>Train Loss</td><td>0.16943</td></tr><tr><td>Valid Loss</td><td>0.22715</td></tr></table><br/></div></div>"
            ],
            "text/plain": [
              "<IPython.core.display.HTML object>"
            ]
          },
          "metadata": {},
          "output_type": "display_data"
        },
        {
          "data": {
            "text/html": [
              "Synced <strong style=\"color:#cdcd00\">Fakenews-2022-03-28-18-54-fold-0</strong>: <a href=\"https://wandb.ai/chi_naka/Fakenews/runs/33hwwxtn\" target=\"_blank\">https://wandb.ai/chi_naka/Fakenews/runs/33hwwxtn</a><br/>Synced 5 W&B file(s), 0 media file(s), 0 artifact file(s) and 0 other file(s)"
            ],
            "text/plain": [
              "<IPython.core.display.HTML object>"
            ]
          },
          "metadata": {},
          "output_type": "display_data"
        },
        {
          "data": {
            "text/html": [
              "Find logs at: <code>./wandb/run-20220328_095507-33hwwxtn/logs</code>"
            ],
            "text/plain": [
              "<IPython.core.display.HTML object>"
            ]
          },
          "metadata": {},
          "output_type": "display_data"
        },
        {
          "name": "stdout",
          "output_type": "stream",
          "text": [
            "\n",
            "\u001b[33m====== Fold: 1 ======\u001b[0m\n"
          ]
        },
        {
          "data": {
            "text/html": [
              "Tracking run with wandb version 0.12.11"
            ],
            "text/plain": [
              "<IPython.core.display.HTML object>"
            ]
          },
          "metadata": {},
          "output_type": "display_data"
        },
        {
          "data": {
            "text/html": [
              "Run data is saved locally in <code>/content/drive/MyDrive/python/cpt-fakenews/baseline/code/wandb/run-20220328_100602-2msz1s33</code>"
            ],
            "text/plain": [
              "<IPython.core.display.HTML object>"
            ]
          },
          "metadata": {},
          "output_type": "display_data"
        },
        {
          "data": {
            "text/html": [
              "Syncing run <strong><a href=\"https://wandb.ai/chi_naka/Fakenews/runs/2msz1s33\" target=\"_blank\">Fakenews-2022-03-28-18-54-fold-1</a></strong> to <a href=\"https://wandb.ai/chi_naka/Fakenews\" target=\"_blank\">Weights & Biases</a> (<a href=\"https://wandb.me/run\" target=\"_blank\">docs</a>)<br/>"
            ],
            "text/plain": [
              "<IPython.core.display.HTML object>"
            ]
          },
          "metadata": {},
          "output_type": "display_data"
        },
        {
          "name": "stderr",
          "output_type": "stream",
          "text": [
            "Some weights of the model checkpoint at cl-tohoku/bert-base-japanese-whole-word-masking were not used when initializing BertModel: ['cls.predictions.transform.LayerNorm.bias', 'cls.predictions.transform.LayerNorm.weight', 'cls.seq_relationship.bias', 'cls.seq_relationship.weight', 'cls.predictions.bias', 'cls.predictions.transform.dense.weight', 'cls.predictions.transform.dense.bias', 'cls.predictions.decoder.weight']\n",
            "- This IS expected if you are initializing BertModel from the checkpoint of a model trained on another task or with another architecture (e.g. initializing a BertForSequenceClassification model from a BertForPreTraining model).\n",
            "- This IS NOT expected if you are initializing BertModel from the checkpoint of a model that you expect to be exactly identical (initializing a BertForSequenceClassification model from a BertForSequenceClassification model).\n"
          ]
        },
        {
          "name": "stdout",
          "output_type": "stream",
          "text": [
            "[INFO] Using GPU: Tesla V100-SXM2-16GB\n",
            "\n"
          ]
        },
        {
          "name": "stderr",
          "output_type": "stream",
          "text": [
            "100%|██████████| 94/94 [00:26<00:00,  3.55it/s, Epoch=1, LR=9.24e-7, Train_Loss=0.694]\n",
            "100%|██████████| 12/12 [00:02<00:00,  5.67it/s, Epoch=1, LR=9.24e-7, Valid_Loss=0.683]\n"
          ]
        },
        {
          "name": "stdout",
          "output_type": "stream",
          "text": [
            "\u001b[34mValidation Loss Improved (inf ---> 0.6828491851766273)\n",
            "Model Saved\u001b[0m\n",
            "\n"
          ]
        },
        {
          "name": "stderr",
          "output_type": "stream",
          "text": [
            "100%|██████████| 94/94 [00:26<00:00,  3.50it/s, Epoch=2, LR=7.21e-7, Train_Loss=0.682]\n",
            "100%|██████████| 12/12 [00:02<00:00,  5.61it/s, Epoch=2, LR=7.21e-7, Valid_Loss=0.671]\n"
          ]
        },
        {
          "name": "stdout",
          "output_type": "stream",
          "text": [
            "\u001b[34mValidation Loss Improved (0.6828491851766273 ---> 0.6709896695046198)\n",
            "Model Saved\u001b[0m\n",
            "\n"
          ]
        },
        {
          "name": "stderr",
          "output_type": "stream",
          "text": [
            "100%|██████████| 94/94 [00:26<00:00,  3.51it/s, Epoch=3, LR=4.6e-7, Train_Loss=0.666]\n",
            "100%|██████████| 12/12 [00:02<00:00,  5.65it/s, Epoch=3, LR=4.6e-7, Valid_Loss=0.657]\n"
          ]
        },
        {
          "name": "stdout",
          "output_type": "stream",
          "text": [
            "\u001b[34mValidation Loss Improved (0.6709896695046198 ---> 0.6568314347948346)\n",
            "Model Saved\u001b[0m\n",
            "\n"
          ]
        },
        {
          "name": "stderr",
          "output_type": "stream",
          "text": [
            "100%|██████████| 94/94 [00:26<00:00,  3.49it/s, Epoch=4, LR=2.3e-7, Train_Loss=0.655]\n",
            "100%|██████████| 12/12 [00:02<00:00,  5.62it/s, Epoch=4, LR=2.3e-7, Valid_Loss=0.644]\n"
          ]
        },
        {
          "name": "stdout",
          "output_type": "stream",
          "text": [
            "\u001b[34mValidation Loss Improved (0.6568314347948346 ---> 0.6441743853230956)\n",
            "Model Saved\u001b[0m\n",
            "\n"
          ]
        },
        {
          "name": "stderr",
          "output_type": "stream",
          "text": [
            "100%|██████████| 94/94 [00:26<00:00,  3.50it/s, Epoch=5, LR=1.08e-7, Train_Loss=0.645]\n",
            "100%|██████████| 12/12 [00:02<00:00,  5.65it/s, Epoch=5, LR=1.08e-7, Valid_Loss=0.636]\n"
          ]
        },
        {
          "name": "stdout",
          "output_type": "stream",
          "text": [
            "\u001b[34mValidation Loss Improved (0.6441743853230956 ---> 0.6360249919866128)\n",
            "Model Saved\u001b[0m\n",
            "\n"
          ]
        },
        {
          "name": "stderr",
          "output_type": "stream",
          "text": [
            "100%|██████████| 94/94 [00:26<00:00,  3.50it/s, Epoch=6, LR=1.36e-7, Train_Loss=0.638]\n",
            "100%|██████████| 12/12 [00:02<00:00,  5.65it/s, Epoch=6, LR=1.36e-7, Valid_Loss=0.63]\n"
          ]
        },
        {
          "name": "stdout",
          "output_type": "stream",
          "text": [
            "\u001b[34mValidation Loss Improved (0.6360249919866128 ---> 0.6299985533668881)\n",
            "Model Saved\u001b[0m\n",
            "\n"
          ]
        },
        {
          "name": "stderr",
          "output_type": "stream",
          "text": [
            "100%|██████████| 94/94 [00:26<00:00,  3.50it/s, Epoch=7, LR=3.04e-7, Train_Loss=0.629]\n",
            "100%|██████████| 12/12 [00:02<00:00,  5.64it/s, Epoch=7, LR=3.04e-7, Valid_Loss=0.618]\n"
          ]
        },
        {
          "name": "stdout",
          "output_type": "stream",
          "text": [
            "\u001b[34mValidation Loss Improved (0.6299985533668881 ---> 0.6183673386220578)\n",
            "Model Saved\u001b[0m\n",
            "\n"
          ]
        },
        {
          "name": "stderr",
          "output_type": "stream",
          "text": [
            "100%|██████████| 94/94 [00:26<00:00,  3.50it/s, Epoch=8, LR=5.56e-7, Train_Loss=0.609]\n",
            "100%|██████████| 12/12 [00:02<00:00,  5.66it/s, Epoch=8, LR=5.56e-7, Valid_Loss=0.587]\n"
          ]
        },
        {
          "name": "stdout",
          "output_type": "stream",
          "text": [
            "\u001b[34mValidation Loss Improved (0.6183673386220578 ---> 0.5874455533330403)\n",
            "Model Saved\u001b[0m\n",
            "\n"
          ]
        },
        {
          "name": "stderr",
          "output_type": "stream",
          "text": [
            "100%|██████████| 94/94 [00:26<00:00,  3.48it/s, Epoch=9, LR=8.05e-7, Train_Loss=0.565]\n",
            "100%|██████████| 12/12 [00:02<00:00,  5.65it/s, Epoch=9, LR=8.05e-7, Valid_Loss=0.523]\n"
          ]
        },
        {
          "name": "stdout",
          "output_type": "stream",
          "text": [
            "\u001b[34mValidation Loss Improved (0.5874455533330403 ---> 0.5231394329399028)\n",
            "Model Saved\u001b[0m\n",
            "\n"
          ]
        },
        {
          "name": "stderr",
          "output_type": "stream",
          "text": [
            "100%|██████████| 94/94 [00:26<00:00,  3.50it/s, Epoch=10, LR=9.68e-7, Train_Loss=0.48]\n",
            "100%|██████████| 12/12 [00:02<00:00,  5.63it/s, Epoch=10, LR=9.68e-7, Valid_Loss=0.421]\n"
          ]
        },
        {
          "name": "stdout",
          "output_type": "stream",
          "text": [
            "\u001b[34mValidation Loss Improved (0.5231394329399028 ---> 0.4211536398325017)\n",
            "Model Saved\u001b[0m\n",
            "\n"
          ]
        },
        {
          "name": "stderr",
          "output_type": "stream",
          "text": [
            "100%|██████████| 94/94 [00:26<00:00,  3.49it/s, Epoch=11, LR=9.9e-7, Train_Loss=0.371]\n",
            "100%|██████████| 12/12 [00:02<00:00,  5.67it/s, Epoch=11, LR=9.9e-7, Valid_Loss=0.336]\n"
          ]
        },
        {
          "name": "stdout",
          "output_type": "stream",
          "text": [
            "\u001b[34mValidation Loss Improved (0.4211536398325017 ---> 0.3359014576389676)\n",
            "Model Saved\u001b[0m\n",
            "\n"
          ]
        },
        {
          "name": "stderr",
          "output_type": "stream",
          "text": [
            "100%|██████████| 94/94 [00:26<00:00,  3.51it/s, Epoch=12, LR=8.62e-7, Train_Loss=0.287]\n",
            "100%|██████████| 12/12 [00:02<00:00,  5.62it/s, Epoch=12, LR=8.62e-7, Valid_Loss=0.299]\n"
          ]
        },
        {
          "name": "stdout",
          "output_type": "stream",
          "text": [
            "\u001b[34mValidation Loss Improved (0.3359014576389676 ---> 0.2989738832705866)\n",
            "Model Saved\u001b[0m\n",
            "\n"
          ]
        },
        {
          "name": "stderr",
          "output_type": "stream",
          "text": [
            "100%|██████████| 94/94 [00:26<00:00,  3.50it/s, Epoch=13, LR=6.29e-7, Train_Loss=0.234]\n",
            "100%|██████████| 12/12 [00:02<00:00,  5.59it/s, Epoch=13, LR=6.29e-7, Valid_Loss=0.278]\n"
          ]
        },
        {
          "name": "stdout",
          "output_type": "stream",
          "text": [
            "\u001b[34mValidation Loss Improved (0.2989738832705866 ---> 0.27813492100390175)\n",
            "Model Saved\u001b[0m\n",
            "\n"
          ]
        },
        {
          "name": "stderr",
          "output_type": "stream",
          "text": [
            "100%|██████████| 94/94 [00:26<00:00,  3.48it/s, Epoch=14, LR=3.69e-7, Train_Loss=0.207]\n",
            "100%|██████████| 12/12 [00:02<00:00,  5.60it/s, Epoch=14, LR=3.69e-7, Valid_Loss=0.279]\n"
          ]
        },
        {
          "name": "stdout",
          "output_type": "stream",
          "text": [
            "\n"
          ]
        },
        {
          "name": "stderr",
          "output_type": "stream",
          "text": [
            "100%|██████████| 94/94 [00:26<00:00,  3.50it/s, Epoch=15, LR=1.7e-7, Train_Loss=0.192]\n",
            "100%|██████████| 12/12 [00:02<00:00,  5.58it/s, Epoch=15, LR=1.7e-7, Valid_Loss=0.263]\n"
          ]
        },
        {
          "name": "stdout",
          "output_type": "stream",
          "text": [
            "\u001b[34mValidation Loss Improved (0.27813492100390175 ---> 0.26334899924104177)\n",
            "Model Saved\u001b[0m\n",
            "\n"
          ]
        },
        {
          "name": "stderr",
          "output_type": "stream",
          "text": [
            "100%|██████████| 94/94 [00:27<00:00,  3.46it/s, Epoch=16, LR=1e-7, Train_Loss=0.182]\n",
            "100%|██████████| 12/12 [00:02<00:00,  5.61it/s, Epoch=16, LR=1e-7, Valid_Loss=0.268]\n"
          ]
        },
        {
          "name": "stdout",
          "output_type": "stream",
          "text": [
            "\n"
          ]
        },
        {
          "name": "stderr",
          "output_type": "stream",
          "text": [
            "100%|██████████| 94/94 [00:26<00:00,  3.54it/s, Epoch=17, LR=1.83e-7, Train_Loss=0.177]\n",
            "100%|██████████| 12/12 [00:02<00:00,  5.63it/s, Epoch=17, LR=1.83e-7, Valid_Loss=0.256]\n"
          ]
        },
        {
          "name": "stdout",
          "output_type": "stream",
          "text": [
            "\u001b[34mValidation Loss Improved (0.26334899924104177 ---> 0.25614236870770735)\n",
            "Model Saved\u001b[0m\n",
            "\n"
          ]
        },
        {
          "name": "stderr",
          "output_type": "stream",
          "text": [
            "100%|██████████| 94/94 [00:26<00:00,  3.50it/s, Epoch=18, LR=3.9e-7, Train_Loss=0.174]\n",
            "100%|██████████| 12/12 [00:02<00:00,  5.70it/s, Epoch=18, LR=3.9e-7, Valid_Loss=0.265]"
          ]
        },
        {
          "name": "stdout",
          "output_type": "stream",
          "text": [
            "\n"
          ]
        },
        {
          "name": "stderr",
          "output_type": "stream",
          "text": [
            "\n",
            "100%|██████████| 94/94 [00:26<00:00,  3.51it/s, Epoch=19, LR=6.51e-7, Train_Loss=0.16]\n",
            "100%|██████████| 12/12 [00:02<00:00,  5.78it/s, Epoch=19, LR=6.51e-7, Valid_Loss=0.27]\n"
          ]
        },
        {
          "name": "stdout",
          "output_type": "stream",
          "text": [
            "\n"
          ]
        },
        {
          "name": "stderr",
          "output_type": "stream",
          "text": [
            "100%|██████████| 94/94 [00:26<00:00,  3.49it/s, Epoch=20, LR=8.78e-7, Train_Loss=0.155]\n",
            "100%|██████████| 12/12 [00:02<00:00,  5.66it/s, Epoch=20, LR=8.78e-7, Valid_Loss=0.242]\n"
          ]
        },
        {
          "name": "stdout",
          "output_type": "stream",
          "text": [
            "\u001b[34mValidation Loss Improved (0.25614236870770735 ---> 0.2424720427977345)\n",
            "Model Saved\u001b[0m\n",
            "\n",
            "Training complete in 0h 10m 12s\n",
            "Best Loss: 0.2425\n",
            "\n"
          ]
        },
        {
          "data": {
            "text/html": [
              "Waiting for W&B process to finish... <strong style=\"color:green\">(success).</strong>"
            ],
            "text/plain": [
              "<IPython.core.display.HTML object>"
            ]
          },
          "metadata": {},
          "output_type": "display_data"
        },
        {
          "data": {
            "application/vnd.jupyter.widget-view+json": {
              "model_id": "d651acfa5eab439ca0dcae68d85ad59d",
              "version_major": 2,
              "version_minor": 0
            },
            "text/plain": [
              "VBox(children=(Label(value='0.001 MB of 0.001 MB uploaded (0.000 MB deduped)\\r'), FloatProgress(value=1.0, max…"
            ]
          },
          "metadata": {},
          "output_type": "display_data"
        },
        {
          "data": {
            "text/html": [
              "<style>\n",
              "    table.wandb td:nth-child(1) { padding: 0 10px; text-align: right }\n",
              "    .wandb-row { display: flex; flex-direction: row; flex-wrap: wrap; width: 100% }\n",
              "    .wandb-col { display: flex; flex-direction: column; flex-basis: 100%; flex: 1; padding: 10px; }\n",
              "    </style>\n",
              "<div class=\"wandb-row\"><div class=\"wandb-col\"><h3>Run history:</h3><br/><table class=\"wandb\"><tr><td>Train Loss</td><td>███▇▇▇▇▇▆▅▄▃▂▂▁▁▁▁▁▁</td></tr><tr><td>Valid Loss</td><td>███▇▇▇▇▆▅▄▂▂▂▂▁▁▁▁▁▁</td></tr></table><br/></div><div class=\"wandb-col\"><h3>Run summary:</h3><br/><table class=\"wandb\"><tr><td>Best Loss</td><td>0.24247</td></tr><tr><td>Train Loss</td><td>0.15482</td></tr><tr><td>Valid Loss</td><td>0.24247</td></tr></table><br/></div></div>"
            ],
            "text/plain": [
              "<IPython.core.display.HTML object>"
            ]
          },
          "metadata": {},
          "output_type": "display_data"
        },
        {
          "data": {
            "text/html": [
              "Synced <strong style=\"color:#cdcd00\">Fakenews-2022-03-28-18-54-fold-1</strong>: <a href=\"https://wandb.ai/chi_naka/Fakenews/runs/2msz1s33\" target=\"_blank\">https://wandb.ai/chi_naka/Fakenews/runs/2msz1s33</a><br/>Synced 5 W&B file(s), 0 media file(s), 0 artifact file(s) and 0 other file(s)"
            ],
            "text/plain": [
              "<IPython.core.display.HTML object>"
            ]
          },
          "metadata": {},
          "output_type": "display_data"
        },
        {
          "data": {
            "text/html": [
              "Find logs at: <code>./wandb/run-20220328_100602-2msz1s33/logs</code>"
            ],
            "text/plain": [
              "<IPython.core.display.HTML object>"
            ]
          },
          "metadata": {},
          "output_type": "display_data"
        },
        {
          "name": "stdout",
          "output_type": "stream",
          "text": [
            "\n",
            "\u001b[33m====== Fold: 2 ======\u001b[0m\n"
          ]
        },
        {
          "data": {
            "text/html": [
              "Tracking run with wandb version 0.12.11"
            ],
            "text/plain": [
              "<IPython.core.display.HTML object>"
            ]
          },
          "metadata": {},
          "output_type": "display_data"
        },
        {
          "data": {
            "text/html": [
              "Run data is saved locally in <code>/content/drive/MyDrive/python/cpt-fakenews/baseline/code/wandb/run-20220328_101631-2yfet9vg</code>"
            ],
            "text/plain": [
              "<IPython.core.display.HTML object>"
            ]
          },
          "metadata": {},
          "output_type": "display_data"
        },
        {
          "data": {
            "text/html": [
              "Syncing run <strong><a href=\"https://wandb.ai/chi_naka/Fakenews/runs/2yfet9vg\" target=\"_blank\">Fakenews-2022-03-28-18-54-fold-2</a></strong> to <a href=\"https://wandb.ai/chi_naka/Fakenews\" target=\"_blank\">Weights & Biases</a> (<a href=\"https://wandb.me/run\" target=\"_blank\">docs</a>)<br/>"
            ],
            "text/plain": [
              "<IPython.core.display.HTML object>"
            ]
          },
          "metadata": {},
          "output_type": "display_data"
        },
        {
          "name": "stderr",
          "output_type": "stream",
          "text": [
            "Some weights of the model checkpoint at cl-tohoku/bert-base-japanese-whole-word-masking were not used when initializing BertModel: ['cls.predictions.transform.LayerNorm.bias', 'cls.predictions.transform.LayerNorm.weight', 'cls.seq_relationship.bias', 'cls.seq_relationship.weight', 'cls.predictions.bias', 'cls.predictions.transform.dense.weight', 'cls.predictions.transform.dense.bias', 'cls.predictions.decoder.weight']\n",
            "- This IS expected if you are initializing BertModel from the checkpoint of a model trained on another task or with another architecture (e.g. initializing a BertForSequenceClassification model from a BertForPreTraining model).\n",
            "- This IS NOT expected if you are initializing BertModel from the checkpoint of a model that you expect to be exactly identical (initializing a BertForSequenceClassification model from a BertForSequenceClassification model).\n"
          ]
        },
        {
          "name": "stdout",
          "output_type": "stream",
          "text": [
            "[INFO] Using GPU: Tesla V100-SXM2-16GB\n",
            "\n"
          ]
        },
        {
          "name": "stderr",
          "output_type": "stream",
          "text": [
            "100%|██████████| 94/94 [00:26<00:00,  3.50it/s, Epoch=1, LR=9.24e-7, Train_Loss=0.704]\n",
            "100%|██████████| 12/12 [00:02<00:00,  5.69it/s, Epoch=1, LR=9.24e-7, Valid_Loss=0.693]\n"
          ]
        },
        {
          "name": "stdout",
          "output_type": "stream",
          "text": [
            "\u001b[34mValidation Loss Improved (inf ---> 0.6932402193230927)\n",
            "Model Saved\u001b[0m\n",
            "\n"
          ]
        },
        {
          "name": "stderr",
          "output_type": "stream",
          "text": [
            "100%|██████████| 94/94 [00:27<00:00,  3.45it/s, Epoch=2, LR=7.21e-7, Train_Loss=0.694]\n",
            "100%|██████████| 12/12 [00:02<00:00,  5.71it/s, Epoch=2, LR=7.21e-7, Valid_Loss=0.684]\n"
          ]
        },
        {
          "name": "stdout",
          "output_type": "stream",
          "text": [
            "\u001b[34mValidation Loss Improved (0.6932402193230927 ---> 0.6844371938831592)\n",
            "Model Saved\u001b[0m\n",
            "\n"
          ]
        },
        {
          "name": "stderr",
          "output_type": "stream",
          "text": [
            "100%|██████████| 94/94 [00:27<00:00,  3.47it/s, Epoch=3, LR=4.6e-7, Train_Loss=0.683]\n",
            "100%|██████████| 12/12 [00:02<00:00,  5.79it/s, Epoch=3, LR=4.6e-7, Valid_Loss=0.676]\n"
          ]
        },
        {
          "name": "stdout",
          "output_type": "stream",
          "text": [
            "\u001b[34mValidation Loss Improved (0.6844371938831592 ---> 0.6758672806320998)\n",
            "Model Saved\u001b[0m\n",
            "\n"
          ]
        },
        {
          "name": "stderr",
          "output_type": "stream",
          "text": [
            "100%|██████████| 94/94 [00:27<00:00,  3.47it/s, Epoch=4, LR=2.3e-7, Train_Loss=0.678]\n",
            "100%|██████████| 12/12 [00:02<00:00,  5.59it/s, Epoch=4, LR=2.3e-7, Valid_Loss=0.669]\n"
          ]
        },
        {
          "name": "stdout",
          "output_type": "stream",
          "text": [
            "\u001b[34mValidation Loss Improved (0.6758672806320998 ---> 0.6686231093431907)\n",
            "Model Saved\u001b[0m\n",
            "\n"
          ]
        },
        {
          "name": "stderr",
          "output_type": "stream",
          "text": [
            "100%|██████████| 94/94 [00:26<00:00,  3.49it/s, Epoch=5, LR=1.08e-7, Train_Loss=0.671]\n",
            "100%|██████████| 12/12 [00:02<00:00,  5.62it/s, Epoch=5, LR=1.08e-7, Valid_Loss=0.664]\n"
          ]
        },
        {
          "name": "stdout",
          "output_type": "stream",
          "text": [
            "\u001b[34mValidation Loss Improved (0.6686231093431907 ---> 0.6643828090536531)\n",
            "Model Saved\u001b[0m\n",
            "\n"
          ]
        },
        {
          "name": "stderr",
          "output_type": "stream",
          "text": [
            "100%|██████████| 94/94 [00:26<00:00,  3.50it/s, Epoch=6, LR=1.36e-7, Train_Loss=0.667]\n",
            "100%|██████████| 12/12 [00:02<00:00,  5.59it/s, Epoch=6, LR=1.36e-7, Valid_Loss=0.661]\n"
          ]
        },
        {
          "name": "stdout",
          "output_type": "stream",
          "text": [
            "\u001b[34mValidation Loss Improved (0.6643828090536531 ---> 0.6610005551545077)\n",
            "Model Saved\u001b[0m\n",
            "\n"
          ]
        },
        {
          "name": "stderr",
          "output_type": "stream",
          "text": [
            "100%|██████████| 94/94 [00:26<00:00,  3.51it/s, Epoch=7, LR=3.04e-7, Train_Loss=0.664]\n",
            "100%|██████████| 12/12 [00:02<00:00,  5.79it/s, Epoch=7, LR=3.04e-7, Valid_Loss=0.653]\n"
          ]
        },
        {
          "name": "stdout",
          "output_type": "stream",
          "text": [
            "\u001b[34mValidation Loss Improved (0.6610005551545077 ---> 0.6534093842304572)\n",
            "Model Saved\u001b[0m\n",
            "\n"
          ]
        },
        {
          "name": "stderr",
          "output_type": "stream",
          "text": [
            "100%|██████████| 94/94 [00:26<00:00,  3.51it/s, Epoch=8, LR=5.56e-7, Train_Loss=0.652]\n",
            "100%|██████████| 12/12 [00:02<00:00,  5.65it/s, Epoch=8, LR=5.56e-7, Valid_Loss=0.631]\n"
          ]
        },
        {
          "name": "stdout",
          "output_type": "stream",
          "text": [
            "\u001b[34mValidation Loss Improved (0.6534093842304572 ---> 0.6308155286879766)\n",
            "Model Saved\u001b[0m\n",
            "\n"
          ]
        },
        {
          "name": "stderr",
          "output_type": "stream",
          "text": [
            "100%|██████████| 94/94 [00:26<00:00,  3.51it/s, Epoch=9, LR=8.05e-7, Train_Loss=0.616]\n",
            "100%|██████████| 12/12 [00:02<00:00,  5.81it/s, Epoch=9, LR=8.05e-7, Valid_Loss=0.561]\n"
          ]
        },
        {
          "name": "stdout",
          "output_type": "stream",
          "text": [
            "\u001b[34mValidation Loss Improved (0.6308155286879766 ---> 0.5607052382337984)\n",
            "Model Saved\u001b[0m\n",
            "\n"
          ]
        },
        {
          "name": "stderr",
          "output_type": "stream",
          "text": [
            "100%|██████████| 94/94 [00:26<00:00,  3.51it/s, Epoch=10, LR=9.68e-7, Train_Loss=0.523]\n",
            "100%|██████████| 12/12 [00:02<00:00,  5.71it/s, Epoch=10, LR=9.68e-7, Valid_Loss=0.453]\n"
          ]
        },
        {
          "name": "stdout",
          "output_type": "stream",
          "text": [
            "\u001b[34mValidation Loss Improved (0.5607052382337984 ---> 0.4533011310945743)\n",
            "Model Saved\u001b[0m\n",
            "\n"
          ]
        },
        {
          "name": "stderr",
          "output_type": "stream",
          "text": [
            "100%|██████████| 94/94 [00:26<00:00,  3.52it/s, Epoch=11, LR=9.9e-7, Train_Loss=0.413]\n",
            "100%|██████████| 12/12 [00:02<00:00,  5.66it/s, Epoch=11, LR=9.9e-7, Valid_Loss=0.399]\n"
          ]
        },
        {
          "name": "stdout",
          "output_type": "stream",
          "text": [
            "\u001b[34mValidation Loss Improved (0.4533011310945743 ---> 0.3994037929981474)\n",
            "Model Saved\u001b[0m\n",
            "\n"
          ]
        },
        {
          "name": "stderr",
          "output_type": "stream",
          "text": [
            "100%|██████████| 94/94 [00:26<00:00,  3.50it/s, Epoch=12, LR=8.62e-7, Train_Loss=0.331]\n",
            "100%|██████████| 12/12 [00:02<00:00,  5.71it/s, Epoch=12, LR=8.62e-7, Valid_Loss=0.311]\n"
          ]
        },
        {
          "name": "stdout",
          "output_type": "stream",
          "text": [
            "\u001b[34mValidation Loss Improved (0.3994037929981474 ---> 0.3111423085290919)\n",
            "Model Saved\u001b[0m\n",
            "\n"
          ]
        },
        {
          "name": "stderr",
          "output_type": "stream",
          "text": [
            "100%|██████████| 94/94 [00:26<00:00,  3.50it/s, Epoch=13, LR=6.29e-7, Train_Loss=0.272]\n",
            "100%|██████████| 12/12 [00:02<00:00,  5.67it/s, Epoch=13, LR=6.29e-7, Valid_Loss=0.283]\n"
          ]
        },
        {
          "name": "stdout",
          "output_type": "stream",
          "text": [
            "\u001b[34mValidation Loss Improved (0.3111423085290919 ---> 0.2833042841739756)\n",
            "Model Saved\u001b[0m\n",
            "\n"
          ]
        },
        {
          "name": "stderr",
          "output_type": "stream",
          "text": [
            "100%|██████████| 94/94 [00:26<00:00,  3.50it/s, Epoch=14, LR=3.69e-7, Train_Loss=0.242]\n",
            "100%|██████████| 12/12 [00:02<00:00,  5.80it/s, Epoch=14, LR=3.69e-7, Valid_Loss=0.26]\n"
          ]
        },
        {
          "name": "stdout",
          "output_type": "stream",
          "text": [
            "\u001b[34mValidation Loss Improved (0.2833042841739756 ---> 0.2597318883768465)\n",
            "Model Saved\u001b[0m\n",
            "\n"
          ]
        },
        {
          "name": "stderr",
          "output_type": "stream",
          "text": [
            "100%|██████████| 94/94 [00:26<00:00,  3.52it/s, Epoch=15, LR=1.7e-7, Train_Loss=0.225]\n",
            "100%|██████████| 12/12 [00:02<00:00,  5.69it/s, Epoch=15, LR=1.7e-7, Valid_Loss=0.272]\n"
          ]
        },
        {
          "name": "stdout",
          "output_type": "stream",
          "text": [
            "\n"
          ]
        },
        {
          "name": "stderr",
          "output_type": "stream",
          "text": [
            "100%|██████████| 94/94 [00:26<00:00,  3.54it/s, Epoch=16, LR=1e-7, Train_Loss=0.217]\n",
            "100%|██████████| 12/12 [00:02<00:00,  5.71it/s, Epoch=16, LR=1e-7, Valid_Loss=0.246]\n"
          ]
        },
        {
          "name": "stdout",
          "output_type": "stream",
          "text": [
            "\u001b[34mValidation Loss Improved (0.2597318883768465 ---> 0.24553313811935445)\n",
            "Model Saved\u001b[0m\n",
            "\n"
          ]
        },
        {
          "name": "stderr",
          "output_type": "stream",
          "text": [
            "100%|██████████| 94/94 [00:26<00:00,  3.51it/s, Epoch=17, LR=1.83e-7, Train_Loss=0.211]\n",
            "100%|██████████| 12/12 [00:02<00:00,  5.66it/s, Epoch=17, LR=1.83e-7, Valid_Loss=0.253]\n"
          ]
        },
        {
          "name": "stdout",
          "output_type": "stream",
          "text": [
            "\n"
          ]
        },
        {
          "name": "stderr",
          "output_type": "stream",
          "text": [
            "100%|██████████| 94/94 [00:26<00:00,  3.53it/s, Epoch=18, LR=3.9e-7, Train_Loss=0.198]\n",
            "100%|██████████| 12/12 [00:02<00:00,  5.77it/s, Epoch=18, LR=3.9e-7, Valid_Loss=0.254]\n"
          ]
        },
        {
          "name": "stdout",
          "output_type": "stream",
          "text": [
            "\n"
          ]
        },
        {
          "name": "stderr",
          "output_type": "stream",
          "text": [
            "100%|██████████| 94/94 [00:26<00:00,  3.53it/s, Epoch=19, LR=6.51e-7, Train_Loss=0.197]\n",
            "100%|██████████| 12/12 [00:02<00:00,  5.80it/s, Epoch=19, LR=6.51e-7, Valid_Loss=0.24]\n"
          ]
        },
        {
          "name": "stdout",
          "output_type": "stream",
          "text": [
            "\u001b[34mValidation Loss Improved (0.24553313811935445 ---> 0.23970316981197035)\n",
            "Model Saved\u001b[0m\n",
            "\n"
          ]
        },
        {
          "name": "stderr",
          "output_type": "stream",
          "text": [
            "100%|██████████| 94/94 [00:26<00:00,  3.50it/s, Epoch=20, LR=8.78e-7, Train_Loss=0.18]\n",
            "100%|██████████| 12/12 [00:02<00:00,  5.59it/s, Epoch=20, LR=8.78e-7, Valid_Loss=0.227]\n"
          ]
        },
        {
          "name": "stdout",
          "output_type": "stream",
          "text": [
            "\u001b[34mValidation Loss Improved (0.23970316981197035 ---> 0.22660593152361572)\n",
            "Model Saved\u001b[0m\n",
            "\n",
            "Training complete in 0h 10m 12s\n",
            "Best Loss: 0.2266\n",
            "\n"
          ]
        },
        {
          "data": {
            "text/html": [
              "Waiting for W&B process to finish... <strong style=\"color:green\">(success).</strong>"
            ],
            "text/plain": [
              "<IPython.core.display.HTML object>"
            ]
          },
          "metadata": {},
          "output_type": "display_data"
        },
        {
          "data": {
            "application/vnd.jupyter.widget-view+json": {
              "model_id": "28b9f636f58348bb9e8e5d86e7aad964",
              "version_major": 2,
              "version_minor": 0
            },
            "text/plain": [
              "VBox(children=(Label(value='0.001 MB of 0.001 MB uploaded (0.000 MB deduped)\\r'), FloatProgress(value=1.0, max…"
            ]
          },
          "metadata": {},
          "output_type": "display_data"
        },
        {
          "data": {
            "text/html": [
              "<style>\n",
              "    table.wandb td:nth-child(1) { padding: 0 10px; text-align: right }\n",
              "    .wandb-row { display: flex; flex-direction: row; flex-wrap: wrap; width: 100% }\n",
              "    .wandb-col { display: flex; flex-direction: column; flex-basis: 100%; flex: 1; padding: 10px; }\n",
              "    </style>\n",
              "<div class=\"wandb-row\"><div class=\"wandb-col\"><h3>Run history:</h3><br/><table class=\"wandb\"><tr><td>Train Loss</td><td>██████▇▇▇▆▄▃▂▂▂▁▁▁▁▁</td></tr><tr><td>Valid Loss</td><td>██████▇▇▆▄▄▂▂▁▂▁▁▁▁▁</td></tr></table><br/></div><div class=\"wandb-col\"><h3>Run summary:</h3><br/><table class=\"wandb\"><tr><td>Best Loss</td><td>0.22661</td></tr><tr><td>Train Loss</td><td>0.18048</td></tr><tr><td>Valid Loss</td><td>0.22661</td></tr></table><br/></div></div>"
            ],
            "text/plain": [
              "<IPython.core.display.HTML object>"
            ]
          },
          "metadata": {},
          "output_type": "display_data"
        },
        {
          "data": {
            "text/html": [
              "Synced <strong style=\"color:#cdcd00\">Fakenews-2022-03-28-18-54-fold-2</strong>: <a href=\"https://wandb.ai/chi_naka/Fakenews/runs/2yfet9vg\" target=\"_blank\">https://wandb.ai/chi_naka/Fakenews/runs/2yfet9vg</a><br/>Synced 5 W&B file(s), 0 media file(s), 0 artifact file(s) and 0 other file(s)"
            ],
            "text/plain": [
              "<IPython.core.display.HTML object>"
            ]
          },
          "metadata": {},
          "output_type": "display_data"
        },
        {
          "data": {
            "text/html": [
              "Find logs at: <code>./wandb/run-20220328_101631-2yfet9vg/logs</code>"
            ],
            "text/plain": [
              "<IPython.core.display.HTML object>"
            ]
          },
          "metadata": {},
          "output_type": "display_data"
        },
        {
          "name": "stdout",
          "output_type": "stream",
          "text": [
            "\n",
            "\u001b[33m====== Fold: 3 ======\u001b[0m\n"
          ]
        },
        {
          "data": {
            "text/html": [
              "Tracking run with wandb version 0.12.11"
            ],
            "text/plain": [
              "<IPython.core.display.HTML object>"
            ]
          },
          "metadata": {},
          "output_type": "display_data"
        },
        {
          "data": {
            "text/html": [
              "Run data is saved locally in <code>/content/drive/MyDrive/python/cpt-fakenews/baseline/code/wandb/run-20220328_102659-1vxo42b8</code>"
            ],
            "text/plain": [
              "<IPython.core.display.HTML object>"
            ]
          },
          "metadata": {},
          "output_type": "display_data"
        },
        {
          "data": {
            "text/html": [
              "Syncing run <strong><a href=\"https://wandb.ai/chi_naka/Fakenews/runs/1vxo42b8\" target=\"_blank\">Fakenews-2022-03-28-18-54-fold-3</a></strong> to <a href=\"https://wandb.ai/chi_naka/Fakenews\" target=\"_blank\">Weights & Biases</a> (<a href=\"https://wandb.me/run\" target=\"_blank\">docs</a>)<br/>"
            ],
            "text/plain": [
              "<IPython.core.display.HTML object>"
            ]
          },
          "metadata": {},
          "output_type": "display_data"
        },
        {
          "name": "stderr",
          "output_type": "stream",
          "text": [
            "Some weights of the model checkpoint at cl-tohoku/bert-base-japanese-whole-word-masking were not used when initializing BertModel: ['cls.predictions.transform.LayerNorm.bias', 'cls.predictions.transform.LayerNorm.weight', 'cls.seq_relationship.bias', 'cls.seq_relationship.weight', 'cls.predictions.bias', 'cls.predictions.transform.dense.weight', 'cls.predictions.transform.dense.bias', 'cls.predictions.decoder.weight']\n",
            "- This IS expected if you are initializing BertModel from the checkpoint of a model trained on another task or with another architecture (e.g. initializing a BertForSequenceClassification model from a BertForPreTraining model).\n",
            "- This IS NOT expected if you are initializing BertModel from the checkpoint of a model that you expect to be exactly identical (initializing a BertForSequenceClassification model from a BertForSequenceClassification model).\n"
          ]
        },
        {
          "name": "stdout",
          "output_type": "stream",
          "text": [
            "[INFO] Using GPU: Tesla V100-SXM2-16GB\n",
            "\n"
          ]
        },
        {
          "name": "stderr",
          "output_type": "stream",
          "text": [
            "100%|██████████| 94/94 [00:26<00:00,  3.55it/s, Epoch=1, LR=9.24e-7, Train_Loss=0.687]\n",
            "100%|██████████| 12/12 [00:02<00:00,  5.67it/s, Epoch=1, LR=9.24e-7, Valid_Loss=0.673]\n"
          ]
        },
        {
          "name": "stdout",
          "output_type": "stream",
          "text": [
            "\u001b[34mValidation Loss Improved (inf ---> 0.6729779795364097)\n",
            "Model Saved\u001b[0m\n",
            "\n"
          ]
        },
        {
          "name": "stderr",
          "output_type": "stream",
          "text": [
            "100%|██████████| 94/94 [00:26<00:00,  3.49it/s, Epoch=2, LR=7.21e-7, Train_Loss=0.67]\n",
            "100%|██████████| 12/12 [00:02<00:00,  5.80it/s, Epoch=2, LR=7.21e-7, Valid_Loss=0.655]\n"
          ]
        },
        {
          "name": "stdout",
          "output_type": "stream",
          "text": [
            "\u001b[34mValidation Loss Improved (0.6729779795364097 ---> 0.6548684419147552)\n",
            "Model Saved\u001b[0m\n",
            "\n"
          ]
        },
        {
          "name": "stderr",
          "output_type": "stream",
          "text": [
            "100%|██████████| 94/94 [00:26<00:00,  3.49it/s, Epoch=3, LR=4.6e-7, Train_Loss=0.648]\n",
            "100%|██████████| 12/12 [00:02<00:00,  5.79it/s, Epoch=3, LR=4.6e-7, Valid_Loss=0.627]\n"
          ]
        },
        {
          "name": "stdout",
          "output_type": "stream",
          "text": [
            "\u001b[34mValidation Loss Improved (0.6548684419147552 ---> 0.6274071092958804)\n",
            "Model Saved\u001b[0m\n",
            "\n"
          ]
        },
        {
          "name": "stderr",
          "output_type": "stream",
          "text": [
            "100%|██████████| 94/94 [00:26<00:00,  3.49it/s, Epoch=4, LR=2.3e-7, Train_Loss=0.619]\n",
            "100%|██████████| 12/12 [00:02<00:00,  5.77it/s, Epoch=4, LR=2.3e-7, Valid_Loss=0.601]\n"
          ]
        },
        {
          "name": "stdout",
          "output_type": "stream",
          "text": [
            "\u001b[34mValidation Loss Improved (0.6274071092958804 ---> 0.6011398273801046)\n",
            "Model Saved\u001b[0m\n",
            "\n"
          ]
        },
        {
          "name": "stderr",
          "output_type": "stream",
          "text": [
            "100%|██████████| 94/94 [00:26<00:00,  3.50it/s, Epoch=5, LR=1.08e-7, Train_Loss=0.6]\n",
            "100%|██████████| 12/12 [00:02<00:00,  5.83it/s, Epoch=5, LR=1.08e-7, Valid_Loss=0.587]\n"
          ]
        },
        {
          "name": "stdout",
          "output_type": "stream",
          "text": [
            "\u001b[34mValidation Loss Improved (0.6011398273801046 ---> 0.5873302237066642)\n",
            "Model Saved\u001b[0m\n",
            "\n"
          ]
        },
        {
          "name": "stderr",
          "output_type": "stream",
          "text": [
            "100%|██████████| 94/94 [00:26<00:00,  3.50it/s, Epoch=6, LR=1.36e-7, Train_Loss=0.589]\n",
            "100%|██████████| 12/12 [00:02<00:00,  5.74it/s, Epoch=6, LR=1.36e-7, Valid_Loss=0.578]\n"
          ]
        },
        {
          "name": "stdout",
          "output_type": "stream",
          "text": [
            "\u001b[34mValidation Loss Improved (0.5873302237066642 ---> 0.5776327637137559)\n",
            "Model Saved\u001b[0m\n",
            "\n"
          ]
        },
        {
          "name": "stderr",
          "output_type": "stream",
          "text": [
            "100%|██████████| 94/94 [00:26<00:00,  3.50it/s, Epoch=7, LR=3.04e-7, Train_Loss=0.576]\n",
            "100%|██████████| 12/12 [00:02<00:00,  5.77it/s, Epoch=7, LR=3.04e-7, Valid_Loss=0.559]\n"
          ]
        },
        {
          "name": "stdout",
          "output_type": "stream",
          "text": [
            "\u001b[34mValidation Loss Improved (0.5776327637137559 ---> 0.5594642998049499)\n",
            "Model Saved\u001b[0m\n",
            "\n"
          ]
        },
        {
          "name": "stderr",
          "output_type": "stream",
          "text": [
            "100%|██████████| 94/94 [00:26<00:00,  3.50it/s, Epoch=8, LR=5.56e-7, Train_Loss=0.551]\n",
            "100%|██████████| 12/12 [00:02<00:00,  5.74it/s, Epoch=8, LR=5.56e-7, Valid_Loss=0.524]\n"
          ]
        },
        {
          "name": "stdout",
          "output_type": "stream",
          "text": [
            "\u001b[34mValidation Loss Improved (0.5594642998049499 ---> 0.5238692120269492)\n",
            "Model Saved\u001b[0m\n",
            "\n"
          ]
        },
        {
          "name": "stderr",
          "output_type": "stream",
          "text": [
            "100%|██████████| 94/94 [00:26<00:00,  3.50it/s, Epoch=9, LR=8.05e-7, Train_Loss=0.509]\n",
            "100%|██████████| 12/12 [00:02<00:00,  5.74it/s, Epoch=9, LR=8.05e-7, Valid_Loss=0.466]\n"
          ]
        },
        {
          "name": "stdout",
          "output_type": "stream",
          "text": [
            "\u001b[34mValidation Loss Improved (0.5238692120269492 ---> 0.4660882964020684)\n",
            "Model Saved\u001b[0m\n",
            "\n"
          ]
        },
        {
          "name": "stderr",
          "output_type": "stream",
          "text": [
            "100%|██████████| 94/94 [00:26<00:00,  3.50it/s, Epoch=10, LR=9.68e-7, Train_Loss=0.442]\n",
            "100%|██████████| 12/12 [00:02<00:00,  5.71it/s, Epoch=10, LR=9.68e-7, Valid_Loss=0.402]\n"
          ]
        },
        {
          "name": "stdout",
          "output_type": "stream",
          "text": [
            "\u001b[34mValidation Loss Improved (0.4660882964020684 ---> 0.40201915335402916)\n",
            "Model Saved\u001b[0m\n",
            "\n"
          ]
        },
        {
          "name": "stderr",
          "output_type": "stream",
          "text": [
            "100%|██████████| 94/94 [00:26<00:00,  3.51it/s, Epoch=11, LR=9.9e-7, Train_Loss=0.374]\n",
            "100%|██████████| 12/12 [00:02<00:00,  5.71it/s, Epoch=11, LR=9.9e-7, Valid_Loss=0.37]\n"
          ]
        },
        {
          "name": "stdout",
          "output_type": "stream",
          "text": [
            "\u001b[34mValidation Loss Improved (0.40201915335402916 ---> 0.3697116133712587)\n",
            "Model Saved\u001b[0m\n",
            "\n"
          ]
        },
        {
          "name": "stderr",
          "output_type": "stream",
          "text": [
            "100%|██████████| 94/94 [00:26<00:00,  3.50it/s, Epoch=12, LR=8.62e-7, Train_Loss=0.326]\n",
            "100%|██████████| 12/12 [00:02<00:00,  5.73it/s, Epoch=12, LR=8.62e-7, Valid_Loss=0.329]\n"
          ]
        },
        {
          "name": "stdout",
          "output_type": "stream",
          "text": [
            "\u001b[34mValidation Loss Improved (0.3697116133712587 ---> 0.32925042998853815)\n",
            "Model Saved\u001b[0m\n",
            "\n"
          ]
        },
        {
          "name": "stderr",
          "output_type": "stream",
          "text": [
            "100%|██████████| 94/94 [00:26<00:00,  3.52it/s, Epoch=13, LR=6.29e-7, Train_Loss=0.277]\n",
            "100%|██████████| 12/12 [00:02<00:00,  5.77it/s, Epoch=13, LR=6.29e-7, Valid_Loss=0.305]\n"
          ]
        },
        {
          "name": "stdout",
          "output_type": "stream",
          "text": [
            "\u001b[34mValidation Loss Improved (0.32925042998853815 ---> 0.3052613964629552)\n",
            "Model Saved\u001b[0m\n",
            "\n"
          ]
        },
        {
          "name": "stderr",
          "output_type": "stream",
          "text": [
            "100%|██████████| 94/94 [00:26<00:00,  3.51it/s, Epoch=14, LR=3.69e-7, Train_Loss=0.254]\n",
            "100%|██████████| 12/12 [00:02<00:00,  5.67it/s, Epoch=14, LR=3.69e-7, Valid_Loss=0.284]\n"
          ]
        },
        {
          "name": "stdout",
          "output_type": "stream",
          "text": [
            "\u001b[34mValidation Loss Improved (0.3052613964629552 ---> 0.2843163330403585)\n",
            "Model Saved\u001b[0m\n",
            "\n"
          ]
        },
        {
          "name": "stderr",
          "output_type": "stream",
          "text": [
            "100%|██████████| 94/94 [00:26<00:00,  3.50it/s, Epoch=15, LR=1.7e-7, Train_Loss=0.243]\n",
            "100%|██████████| 12/12 [00:02<00:00,  5.75it/s, Epoch=15, LR=1.7e-7, Valid_Loss=0.287]\n"
          ]
        },
        {
          "name": "stdout",
          "output_type": "stream",
          "text": [
            "\n"
          ]
        },
        {
          "name": "stderr",
          "output_type": "stream",
          "text": [
            "100%|██████████| 94/94 [00:26<00:00,  3.55it/s, Epoch=16, LR=1e-7, Train_Loss=0.236]\n",
            "100%|██████████| 12/12 [00:02<00:00,  5.88it/s, Epoch=16, LR=1e-7, Valid_Loss=0.282]\n"
          ]
        },
        {
          "name": "stdout",
          "output_type": "stream",
          "text": [
            "\u001b[34mValidation Loss Improved (0.2843163330403585 ---> 0.2815213722999764)\n",
            "Model Saved\u001b[0m\n",
            "\n"
          ]
        },
        {
          "name": "stderr",
          "output_type": "stream",
          "text": [
            "100%|██████████| 94/94 [00:26<00:00,  3.54it/s, Epoch=17, LR=1.83e-7, Train_Loss=0.231]\n",
            "100%|██████████| 12/12 [00:02<00:00,  5.68it/s, Epoch=17, LR=1.83e-7, Valid_Loss=0.281]\n"
          ]
        },
        {
          "name": "stdout",
          "output_type": "stream",
          "text": [
            "\u001b[34mValidation Loss Improved (0.2815213722999764 ---> 0.2808238105483787)\n",
            "Model Saved\u001b[0m\n",
            "\n"
          ]
        },
        {
          "name": "stderr",
          "output_type": "stream",
          "text": [
            "100%|██████████| 94/94 [00:26<00:00,  3.50it/s, Epoch=18, LR=3.9e-7, Train_Loss=0.226]\n",
            "100%|██████████| 12/12 [00:02<00:00,  5.75it/s, Epoch=18, LR=3.9e-7, Valid_Loss=0.279]\n"
          ]
        },
        {
          "name": "stdout",
          "output_type": "stream",
          "text": [
            "\u001b[34mValidation Loss Improved (0.2808238105483787 ---> 0.2787997589382545)\n",
            "Model Saved\u001b[0m\n",
            "\n"
          ]
        },
        {
          "name": "stderr",
          "output_type": "stream",
          "text": [
            "100%|██████████| 94/94 [00:26<00:00,  3.51it/s, Epoch=19, LR=6.51e-7, Train_Loss=0.22]\n",
            "100%|██████████| 12/12 [00:02<00:00,  5.86it/s, Epoch=19, LR=6.51e-7, Valid_Loss=0.266]\n"
          ]
        },
        {
          "name": "stdout",
          "output_type": "stream",
          "text": [
            "\u001b[34mValidation Loss Improved (0.2787997589382545 ---> 0.2661746109604205)\n",
            "Model Saved\u001b[0m\n",
            "\n"
          ]
        },
        {
          "name": "stderr",
          "output_type": "stream",
          "text": [
            "100%|██████████| 94/94 [00:26<00:00,  3.51it/s, Epoch=20, LR=8.78e-7, Train_Loss=0.196]\n",
            "100%|██████████| 12/12 [00:02<00:00,  5.79it/s, Epoch=20, LR=8.78e-7, Valid_Loss=0.267]\n"
          ]
        },
        {
          "name": "stdout",
          "output_type": "stream",
          "text": [
            "\n",
            "Training complete in 0h 10m 12s\n",
            "Best Loss: 0.2662\n",
            "\n"
          ]
        },
        {
          "data": {
            "text/html": [
              "Waiting for W&B process to finish... <strong style=\"color:green\">(success).</strong>"
            ],
            "text/plain": [
              "<IPython.core.display.HTML object>"
            ]
          },
          "metadata": {},
          "output_type": "display_data"
        },
        {
          "data": {
            "application/vnd.jupyter.widget-view+json": {
              "model_id": "eef2e346c83a414ea52e5fdcf123ee68",
              "version_major": 2,
              "version_minor": 0
            },
            "text/plain": [
              "VBox(children=(Label(value='0.001 MB of 0.001 MB uploaded (0.000 MB deduped)\\r'), FloatProgress(value=1.0, max…"
            ]
          },
          "metadata": {},
          "output_type": "display_data"
        },
        {
          "data": {
            "text/html": [
              "<style>\n",
              "    table.wandb td:nth-child(1) { padding: 0 10px; text-align: right }\n",
              "    .wandb-row { display: flex; flex-direction: row; flex-wrap: wrap; width: 100% }\n",
              "    .wandb-col { display: flex; flex-direction: column; flex-basis: 100%; flex: 1; padding: 10px; }\n",
              "    </style>\n",
              "<div class=\"wandb-row\"><div class=\"wandb-col\"><h3>Run history:</h3><br/><table class=\"wandb\"><tr><td>Train Loss</td><td>██▇▇▇▇▆▆▅▅▄▃▂▂▂▂▁▁▁▁</td></tr><tr><td>Valid Loss</td><td>██▇▇▇▆▆▅▄▃▃▂▂▁▁▁▁▁▁▁</td></tr></table><br/></div><div class=\"wandb-col\"><h3>Run summary:</h3><br/><table class=\"wandb\"><tr><td>Best Loss</td><td>0.26617</td></tr><tr><td>Train Loss</td><td>0.19586</td></tr><tr><td>Valid Loss</td><td>0.26685</td></tr></table><br/></div></div>"
            ],
            "text/plain": [
              "<IPython.core.display.HTML object>"
            ]
          },
          "metadata": {},
          "output_type": "display_data"
        },
        {
          "data": {
            "text/html": [
              "Synced <strong style=\"color:#cdcd00\">Fakenews-2022-03-28-18-54-fold-3</strong>: <a href=\"https://wandb.ai/chi_naka/Fakenews/runs/1vxo42b8\" target=\"_blank\">https://wandb.ai/chi_naka/Fakenews/runs/1vxo42b8</a><br/>Synced 5 W&B file(s), 0 media file(s), 0 artifact file(s) and 0 other file(s)"
            ],
            "text/plain": [
              "<IPython.core.display.HTML object>"
            ]
          },
          "metadata": {},
          "output_type": "display_data"
        },
        {
          "data": {
            "text/html": [
              "Find logs at: <code>./wandb/run-20220328_102659-1vxo42b8/logs</code>"
            ],
            "text/plain": [
              "<IPython.core.display.HTML object>"
            ]
          },
          "metadata": {},
          "output_type": "display_data"
        },
        {
          "name": "stdout",
          "output_type": "stream",
          "text": [
            "\n",
            "\u001b[33m====== Fold: 4 ======\u001b[0m\n"
          ]
        },
        {
          "data": {
            "text/html": [
              "Tracking run with wandb version 0.12.11"
            ],
            "text/plain": [
              "<IPython.core.display.HTML object>"
            ]
          },
          "metadata": {},
          "output_type": "display_data"
        },
        {
          "data": {
            "text/html": [
              "Run data is saved locally in <code>/content/drive/MyDrive/python/cpt-fakenews/baseline/code/wandb/run-20220328_103728-cmtkqcff</code>"
            ],
            "text/plain": [
              "<IPython.core.display.HTML object>"
            ]
          },
          "metadata": {},
          "output_type": "display_data"
        },
        {
          "data": {
            "text/html": [
              "Syncing run <strong><a href=\"https://wandb.ai/chi_naka/Fakenews/runs/cmtkqcff\" target=\"_blank\">Fakenews-2022-03-28-18-54-fold-4</a></strong> to <a href=\"https://wandb.ai/chi_naka/Fakenews\" target=\"_blank\">Weights & Biases</a> (<a href=\"https://wandb.me/run\" target=\"_blank\">docs</a>)<br/>"
            ],
            "text/plain": [
              "<IPython.core.display.HTML object>"
            ]
          },
          "metadata": {},
          "output_type": "display_data"
        },
        {
          "name": "stderr",
          "output_type": "stream",
          "text": [
            "Some weights of the model checkpoint at cl-tohoku/bert-base-japanese-whole-word-masking were not used when initializing BertModel: ['cls.predictions.transform.LayerNorm.bias', 'cls.predictions.transform.LayerNorm.weight', 'cls.seq_relationship.bias', 'cls.seq_relationship.weight', 'cls.predictions.bias', 'cls.predictions.transform.dense.weight', 'cls.predictions.transform.dense.bias', 'cls.predictions.decoder.weight']\n",
            "- This IS expected if you are initializing BertModel from the checkpoint of a model trained on another task or with another architecture (e.g. initializing a BertForSequenceClassification model from a BertForPreTraining model).\n",
            "- This IS NOT expected if you are initializing BertModel from the checkpoint of a model that you expect to be exactly identical (initializing a BertForSequenceClassification model from a BertForSequenceClassification model).\n"
          ]
        },
        {
          "name": "stdout",
          "output_type": "stream",
          "text": [
            "[INFO] Using GPU: Tesla V100-SXM2-16GB\n",
            "\n"
          ]
        },
        {
          "name": "stderr",
          "output_type": "stream",
          "text": [
            "100%|██████████| 94/94 [00:26<00:00,  3.55it/s, Epoch=1, LR=9.24e-7, Train_Loss=0.696]\n",
            "100%|██████████| 12/12 [00:02<00:00,  5.60it/s, Epoch=1, LR=9.24e-7, Valid_Loss=0.685]\n"
          ]
        },
        {
          "name": "stdout",
          "output_type": "stream",
          "text": [
            "\u001b[34mValidation Loss Improved (inf ---> 0.6848969396459993)\n",
            "Model Saved\u001b[0m\n",
            "\n"
          ]
        },
        {
          "name": "stderr",
          "output_type": "stream",
          "text": [
            "100%|██████████| 94/94 [00:26<00:00,  3.49it/s, Epoch=2, LR=7.21e-7, Train_Loss=0.681]\n",
            "100%|██████████| 12/12 [00:02<00:00,  5.59it/s, Epoch=2, LR=7.21e-7, Valid_Loss=0.671]\n"
          ]
        },
        {
          "name": "stdout",
          "output_type": "stream",
          "text": [
            "\u001b[34mValidation Loss Improved (0.6848969396459993 ---> 0.6706037439366497)\n",
            "Model Saved\u001b[0m\n",
            "\n"
          ]
        },
        {
          "name": "stderr",
          "output_type": "stream",
          "text": [
            "100%|██████████| 94/94 [00:26<00:00,  3.51it/s, Epoch=3, LR=4.6e-7, Train_Loss=0.664]\n",
            "100%|██████████| 12/12 [00:02<00:00,  5.77it/s, Epoch=3, LR=4.6e-7, Valid_Loss=0.651]\n"
          ]
        },
        {
          "name": "stdout",
          "output_type": "stream",
          "text": [
            "\u001b[34mValidation Loss Improved (0.6706037439366497 ---> 0.6509920314506248)\n",
            "Model Saved\u001b[0m\n",
            "\n"
          ]
        },
        {
          "name": "stderr",
          "output_type": "stream",
          "text": [
            "100%|██████████| 94/94 [00:26<00:00,  3.50it/s, Epoch=4, LR=2.3e-7, Train_Loss=0.645]\n",
            "100%|██████████| 12/12 [00:02<00:00,  5.61it/s, Epoch=4, LR=2.3e-7, Valid_Loss=0.631]\n"
          ]
        },
        {
          "name": "stdout",
          "output_type": "stream",
          "text": [
            "\u001b[34mValidation Loss Improved (0.6509920314506248 ---> 0.6311787559241845)\n",
            "Model Saved\u001b[0m\n",
            "\n"
          ]
        },
        {
          "name": "stderr",
          "output_type": "stream",
          "text": [
            "100%|██████████| 94/94 [00:26<00:00,  3.50it/s, Epoch=5, LR=1.08e-7, Train_Loss=0.63]\n",
            "100%|██████████| 12/12 [00:02<00:00,  5.75it/s, Epoch=5, LR=1.08e-7, Valid_Loss=0.618]\n"
          ]
        },
        {
          "name": "stdout",
          "output_type": "stream",
          "text": [
            "\u001b[34mValidation Loss Improved (0.6311787559241845 ---> 0.618476252076487)\n",
            "Model Saved\u001b[0m\n",
            "\n"
          ]
        },
        {
          "name": "stderr",
          "output_type": "stream",
          "text": [
            "100%|██████████| 94/94 [00:26<00:00,  3.51it/s, Epoch=6, LR=1.36e-7, Train_Loss=0.62]\n",
            "100%|██████████| 12/12 [00:02<00:00,  5.60it/s, Epoch=6, LR=1.36e-7, Valid_Loss=0.609]\n"
          ]
        },
        {
          "name": "stdout",
          "output_type": "stream",
          "text": [
            "\u001b[34mValidation Loss Improved (0.618476252076487 ---> 0.6089097557875215)\n",
            "Model Saved\u001b[0m\n",
            "\n"
          ]
        },
        {
          "name": "stderr",
          "output_type": "stream",
          "text": [
            "100%|██████████| 94/94 [00:26<00:00,  3.51it/s, Epoch=7, LR=3.04e-7, Train_Loss=0.605]\n",
            "100%|██████████| 12/12 [00:02<00:00,  5.61it/s, Epoch=7, LR=3.04e-7, Valid_Loss=0.588]\n"
          ]
        },
        {
          "name": "stdout",
          "output_type": "stream",
          "text": [
            "\u001b[34mValidation Loss Improved (0.6089097557875215 ---> 0.5883921785329385)\n",
            "Model Saved\u001b[0m\n",
            "\n"
          ]
        },
        {
          "name": "stderr",
          "output_type": "stream",
          "text": [
            "100%|██████████| 94/94 [00:26<00:00,  3.51it/s, Epoch=8, LR=5.56e-7, Train_Loss=0.575]\n",
            "100%|██████████| 12/12 [00:02<00:00,  5.60it/s, Epoch=8, LR=5.56e-7, Valid_Loss=0.542]\n"
          ]
        },
        {
          "name": "stdout",
          "output_type": "stream",
          "text": [
            "\u001b[34mValidation Loss Improved (0.5883921785329385 ---> 0.5422304159119016)\n",
            "Model Saved\u001b[0m\n",
            "\n"
          ]
        },
        {
          "name": "stderr",
          "output_type": "stream",
          "text": [
            "100%|██████████| 94/94 [00:26<00:00,  3.52it/s, Epoch=9, LR=8.05e-7, Train_Loss=0.515]\n",
            "100%|██████████| 12/12 [00:02<00:00,  5.76it/s, Epoch=9, LR=8.05e-7, Valid_Loss=0.478]\n"
          ]
        },
        {
          "name": "stdout",
          "output_type": "stream",
          "text": [
            "\u001b[34mValidation Loss Improved (0.5422304159119016 ---> 0.47841539695149377)\n",
            "Model Saved\u001b[0m\n",
            "\n"
          ]
        },
        {
          "name": "stderr",
          "output_type": "stream",
          "text": [
            "100%|██████████| 94/94 [00:26<00:00,  3.52it/s, Epoch=10, LR=9.68e-7, Train_Loss=0.432]\n",
            "100%|██████████| 12/12 [00:02<00:00,  5.68it/s, Epoch=10, LR=9.68e-7, Valid_Loss=0.41]\n"
          ]
        },
        {
          "name": "stdout",
          "output_type": "stream",
          "text": [
            "\u001b[34mValidation Loss Improved (0.47841539695149377 ---> 0.40992553161565587)\n",
            "Model Saved\u001b[0m\n",
            "\n"
          ]
        },
        {
          "name": "stderr",
          "output_type": "stream",
          "text": [
            "100%|██████████| 94/94 [00:26<00:00,  3.51it/s, Epoch=11, LR=9.9e-7, Train_Loss=0.353]\n",
            "100%|██████████| 12/12 [00:02<00:00,  5.62it/s, Epoch=11, LR=9.9e-7, Valid_Loss=0.338]\n"
          ]
        },
        {
          "name": "stdout",
          "output_type": "stream",
          "text": [
            "\u001b[34mValidation Loss Improved (0.40992553161565587 ---> 0.33786571372753726)\n",
            "Model Saved\u001b[0m\n",
            "\n"
          ]
        },
        {
          "name": "stderr",
          "output_type": "stream",
          "text": [
            "100%|██████████| 94/94 [00:26<00:00,  3.50it/s, Epoch=12, LR=8.62e-7, Train_Loss=0.293]\n",
            "100%|██████████| 12/12 [00:02<00:00,  5.59it/s, Epoch=12, LR=8.62e-7, Valid_Loss=0.317]\n"
          ]
        },
        {
          "name": "stdout",
          "output_type": "stream",
          "text": [
            "\u001b[34mValidation Loss Improved (0.33786571372753726 ---> 0.3169031387599057)\n",
            "Model Saved\u001b[0m\n",
            "\n"
          ]
        },
        {
          "name": "stderr",
          "output_type": "stream",
          "text": [
            "100%|██████████| 94/94 [00:26<00:00,  3.51it/s, Epoch=13, LR=6.29e-7, Train_Loss=0.254]\n",
            "100%|██████████| 12/12 [00:02<00:00,  5.66it/s, Epoch=13, LR=6.29e-7, Valid_Loss=0.302]\n"
          ]
        },
        {
          "name": "stdout",
          "output_type": "stream",
          "text": [
            "\u001b[34mValidation Loss Improved (0.3169031387599057 ---> 0.301522925259575)\n",
            "Model Saved\u001b[0m\n",
            "\n"
          ]
        },
        {
          "name": "stderr",
          "output_type": "stream",
          "text": [
            "100%|██████████| 94/94 [00:26<00:00,  3.51it/s, Epoch=14, LR=3.69e-7, Train_Loss=0.227]\n",
            "100%|██████████| 12/12 [00:02<00:00,  5.63it/s, Epoch=14, LR=3.69e-7, Valid_Loss=0.28]\n"
          ]
        },
        {
          "name": "stdout",
          "output_type": "stream",
          "text": [
            "\u001b[34mValidation Loss Improved (0.301522925259575 ---> 0.27957306526325365)\n",
            "Model Saved\u001b[0m\n",
            "\n"
          ]
        },
        {
          "name": "stderr",
          "output_type": "stream",
          "text": [
            "100%|██████████| 94/94 [00:26<00:00,  3.51it/s, Epoch=15, LR=1.7e-7, Train_Loss=0.21]\n",
            "100%|██████████| 12/12 [00:02<00:00,  5.64it/s, Epoch=15, LR=1.7e-7, Valid_Loss=0.269]\n"
          ]
        },
        {
          "name": "stdout",
          "output_type": "stream",
          "text": [
            "\u001b[34mValidation Loss Improved (0.27957306526325365 ---> 0.2689171674705687)\n",
            "Model Saved\u001b[0m\n",
            "\n"
          ]
        },
        {
          "name": "stderr",
          "output_type": "stream",
          "text": [
            "100%|██████████| 94/94 [00:26<00:00,  3.50it/s, Epoch=16, LR=1e-7, Train_Loss=0.205]\n",
            "100%|██████████| 12/12 [00:02<00:00,  5.81it/s, Epoch=16, LR=1e-7, Valid_Loss=0.27]\n"
          ]
        },
        {
          "name": "stdout",
          "output_type": "stream",
          "text": [
            "\n"
          ]
        },
        {
          "name": "stderr",
          "output_type": "stream",
          "text": [
            "100%|██████████| 94/94 [00:26<00:00,  3.56it/s, Epoch=17, LR=1.83e-7, Train_Loss=0.208]\n",
            "100%|██████████| 12/12 [00:02<00:00,  5.75it/s, Epoch=17, LR=1.83e-7, Valid_Loss=0.271]\n"
          ]
        },
        {
          "name": "stdout",
          "output_type": "stream",
          "text": [
            "\n"
          ]
        },
        {
          "name": "stderr",
          "output_type": "stream",
          "text": [
            "100%|██████████| 94/94 [00:26<00:00,  3.52it/s, Epoch=18, LR=3.9e-7, Train_Loss=0.198]\n",
            "100%|██████████| 12/12 [00:02<00:00,  5.64it/s, Epoch=18, LR=3.9e-7, Valid_Loss=0.269]\n"
          ]
        },
        {
          "name": "stdout",
          "output_type": "stream",
          "text": [
            "\u001b[34mValidation Loss Improved (0.2689171674705687 ---> 0.2686579634272863)\n",
            "Model Saved\u001b[0m\n",
            "\n"
          ]
        },
        {
          "name": "stderr",
          "output_type": "stream",
          "text": [
            "100%|██████████| 94/94 [00:26<00:00,  3.50it/s, Epoch=19, LR=6.51e-7, Train_Loss=0.192]\n",
            "100%|██████████| 12/12 [00:02<00:00,  5.74it/s, Epoch=19, LR=6.51e-7, Valid_Loss=0.256]\n"
          ]
        },
        {
          "name": "stdout",
          "output_type": "stream",
          "text": [
            "\u001b[34mValidation Loss Improved (0.2686579634272863 ---> 0.25640144344990845)\n",
            "Model Saved\u001b[0m\n",
            "\n"
          ]
        },
        {
          "name": "stderr",
          "output_type": "stream",
          "text": [
            "100%|██████████| 94/94 [00:26<00:00,  3.50it/s, Epoch=20, LR=8.78e-7, Train_Loss=0.176]\n",
            "100%|██████████| 12/12 [00:02<00:00,  5.82it/s, Epoch=20, LR=8.78e-7, Valid_Loss=0.243]\n"
          ]
        },
        {
          "name": "stdout",
          "output_type": "stream",
          "text": [
            "\u001b[34mValidation Loss Improved (0.25640144344990845 ---> 0.24327793811994886)\n",
            "Model Saved\u001b[0m\n",
            "\n",
            "Training complete in 0h 10m 13s\n",
            "Best Loss: 0.2433\n",
            "\n"
          ]
        },
        {
          "data": {
            "text/html": [
              "Waiting for W&B process to finish... <strong style=\"color:green\">(success).</strong>"
            ],
            "text/plain": [
              "<IPython.core.display.HTML object>"
            ]
          },
          "metadata": {},
          "output_type": "display_data"
        },
        {
          "data": {
            "application/vnd.jupyter.widget-view+json": {
              "model_id": "9af7a22851c149ffbe007e7eb144a931",
              "version_major": 2,
              "version_minor": 0
            },
            "text/plain": [
              "VBox(children=(Label(value='0.001 MB of 0.001 MB uploaded (0.000 MB deduped)\\r'), FloatProgress(value=1.0, max…"
            ]
          },
          "metadata": {},
          "output_type": "display_data"
        },
        {
          "data": {
            "text/html": [
              "<style>\n",
              "    table.wandb td:nth-child(1) { padding: 0 10px; text-align: right }\n",
              "    .wandb-row { display: flex; flex-direction: row; flex-wrap: wrap; width: 100% }\n",
              "    .wandb-col { display: flex; flex-direction: column; flex-basis: 100%; flex: 1; padding: 10px; }\n",
              "    </style>\n",
              "<div class=\"wandb-row\"><div class=\"wandb-col\"><h3>Run history:</h3><br/><table class=\"wandb\"><tr><td>Train Loss</td><td>███▇▇▇▇▆▆▄▃▃▂▂▁▁▁▁▁▁</td></tr><tr><td>Valid Loss</td><td>██▇▇▇▇▆▆▅▄▂▂▂▂▁▁▁▁▁▁</td></tr></table><br/></div><div class=\"wandb-col\"><h3>Run summary:</h3><br/><table class=\"wandb\"><tr><td>Best Loss</td><td>0.24328</td></tr><tr><td>Train Loss</td><td>0.17619</td></tr><tr><td>Valid Loss</td><td>0.24328</td></tr></table><br/></div></div>"
            ],
            "text/plain": [
              "<IPython.core.display.HTML object>"
            ]
          },
          "metadata": {},
          "output_type": "display_data"
        },
        {
          "data": {
            "text/html": [
              "Synced <strong style=\"color:#cdcd00\">Fakenews-2022-03-28-18-54-fold-4</strong>: <a href=\"https://wandb.ai/chi_naka/Fakenews/runs/cmtkqcff\" target=\"_blank\">https://wandb.ai/chi_naka/Fakenews/runs/cmtkqcff</a><br/>Synced 5 W&B file(s), 0 media file(s), 0 artifact file(s) and 0 other file(s)"
            ],
            "text/plain": [
              "<IPython.core.display.HTML object>"
            ]
          },
          "metadata": {},
          "output_type": "display_data"
        },
        {
          "data": {
            "text/html": [
              "Find logs at: <code>./wandb/run-20220328_103728-cmtkqcff/logs</code>"
            ],
            "text/plain": [
              "<IPython.core.display.HTML object>"
            ]
          },
          "metadata": {},
          "output_type": "display_data"
        },
        {
          "name": "stdout",
          "output_type": "stream",
          "text": [
            "\n"
          ]
        }
      ],
      "source": [
        "\n",
        "modelpath = f\"{ROOT}/baseline/models/bert-{current_time}/\"  \n",
        "if not os.path.isdir(modelpath):\n",
        "    os.makedirs(modelpath)\n",
        "\n",
        "for fold in range(0, CONFIG['n_fold']):\n",
        "    print(f\"{y_}====== Fold: {fold} ======{sr_}\")\n",
        "    run = wandb.init(project='Fakenews', \n",
        "                     config=CONFIG,\n",
        "                     job_type='Train',\n",
        "                     group=CONFIG['group'],\n",
        "                     tags=['bert', f'{HASH_NAME}', 'bceloss'],\n",
        "                     name=f'{HASH_NAME}-fold-{fold}',\n",
        "                     anonymous='must')\n",
        "    \n",
        "    # Create Dataloaders\n",
        "    train_loader, valid_loader = prepare_loaders(fold=fold)\n",
        "    \n",
        "    model = FakenewsModel(CONFIG['model_name'])\n",
        "    model.to(CONFIG['device'])\n",
        "    \n",
        "    # Define Optimizer and Scheduler\n",
        "    optimizer = AdamW(model.parameters(), lr=CONFIG['learning_rate'], weight_decay=CONFIG['weight_decay'])\n",
        "    scheduler = fetch_scheduler(optimizer)\n",
        "    \n",
        "    model, history = run_training(model, optimizer, scheduler,\n",
        "                                  device=CONFIG['device'],\n",
        "                                  num_epochs=CONFIG['epochs'],\n",
        "                                  fold=fold,\n",
        "                                  savepath=modelpath)\n",
        "    \n",
        "    run.finish()\n",
        "    \n",
        "    del model, history, train_loader, valid_loader\n",
        "    _ = gc.collect()\n",
        "    print()"
      ]
    },
    {
      "cell_type": "markdown",
      "metadata": {
        "id": "YbsA9u-bb-Bk"
      },
      "source": [
        "## Validation"
      ]
    },
    {
      "cell_type": "code",
      "execution_count": null,
      "metadata": {
        "colab": {
          "background_save": true
        },
        "id": "9L4zZA4ii92A",
        "outputId": "b9756494-28c5-446a-c6ed-f73fc48e4f62"
      },
      "outputs": [
        {
          "name": "stdout",
          "output_type": "stream",
          "text": [
            "bert-2022-03-03-05-38  bert-2022-03-11-12-21  bert-2022-03-18-16-52\n",
            "bert-2022-03-11-00-10  bert-2022-03-18-15-22  bert-2022-03-28-18-54\n"
          ]
        }
      ],
      "source": [
        "!ls /content/drive/MyDrive/python/cpt-fakenews/baseline/models/"
      ]
    },
    {
      "cell_type": "code",
      "execution_count": null,
      "metadata": {
        "colab": {
          "background_save": true
        },
        "id": "DV-OR3HiU9ZM"
      },
      "outputs": [],
      "source": [
        "from glob import glob\n",
        "MODEL_PATHS = glob(f'{modelpath}/*.bin')\n",
        "MODEL_PATHS.sort()"
      ]
    },
    {
      "cell_type": "code",
      "execution_count": null,
      "metadata": {
        "colab": {
          "background_save": true
        },
        "id": "pCEE9aYfVLBe",
        "outputId": "5543c278-9b00-4623-b63c-594e1fe77761"
      },
      "outputs": [
        {
          "data": {
            "text/plain": [
              "['/content/drive/MyDrive/python/cpt-fakenews/baseline/models/bert-2022-03-28-18-54/Loss-Fold-0.bin',\n",
              " '/content/drive/MyDrive/python/cpt-fakenews/baseline/models/bert-2022-03-28-18-54/Loss-Fold-1.bin',\n",
              " '/content/drive/MyDrive/python/cpt-fakenews/baseline/models/bert-2022-03-28-18-54/Loss-Fold-2.bin',\n",
              " '/content/drive/MyDrive/python/cpt-fakenews/baseline/models/bert-2022-03-28-18-54/Loss-Fold-3.bin',\n",
              " '/content/drive/MyDrive/python/cpt-fakenews/baseline/models/bert-2022-03-28-18-54/Loss-Fold-4.bin']"
            ]
          },
          "execution_count": null,
          "metadata": {},
          "output_type": "execute_result"
        }
      ],
      "source": [
        "MODEL_PATHS"
      ]
    },
    {
      "cell_type": "code",
      "execution_count": null,
      "metadata": {
        "colab": {
          "background_save": true
        },
        "id": "ZZTXG08AU6rI"
      },
      "outputs": [],
      "source": [
        "@torch.no_grad()\n",
        "def valid_fn(model, dataloader, device):\n",
        "    model.eval()\n",
        "    \n",
        "    dataset_size = 0\n",
        "    running_loss = 0.0\n",
        "    \n",
        "    PREDS = []\n",
        "    \n",
        "    bar = tqdm(enumerate(dataloader), total=len(dataloader))\n",
        "    for step, data in bar:\n",
        "        ids = data['ids'].to(device, dtype = torch.long)\n",
        "        mask = data['mask'].to(device, dtype = torch.long)\n",
        "        \n",
        "        outputs = model(ids, mask)\n",
        "        \n",
        "        #PREDS.append(outputs.view(-1).cpu().detach().numpy()) \n",
        "        PREDS.append(outputs.cpu().detach().numpy()) \n",
        "\n",
        "    PREDS = np.concatenate(PREDS)\n",
        "    gc.collect()\n",
        "    \n",
        "    return PREDS"
      ]
    },
    {
      "cell_type": "code",
      "execution_count": null,
      "metadata": {
        "colab": {
          "background_save": true
        },
        "id": "93wlGYxUUn8F"
      },
      "outputs": [],
      "source": [
        "def inference(model_paths, dataloader, device):\n",
        "    final_preds = []\n",
        "    for i, path in enumerate(model_paths):\n",
        "        model = FakenewsModel(CONFIG['model_name'])\n",
        "        model.to(CONFIG['device'])\n",
        "        model.load_state_dict(torch.load(path))\n",
        "        \n",
        "        print(f\"Getting predictions for model {i+1}\")\n",
        "        preds = valid_fn(model, dataloader, device)\n",
        "        final_preds.append(preds)\n",
        "    \n",
        "    final_preds = np.array(final_preds)\n",
        "    final_preds = np.mean(final_preds, axis=0)\n",
        "    return final_preds"
      ]
    },
    {
      "cell_type": "code",
      "execution_count": null,
      "metadata": {
        "colab": {
          "background_save": true
        },
        "id": "WqiAQpJkjuTS"
      },
      "outputs": [],
      "source": [
        "def get_labels_frompred(out, multi=False):\n",
        "\n",
        "    print(out)\n",
        "    o = (-out).argsort(1) \n",
        "    preds = int(o[0][0].cpu().numpy())\n",
        "    print(preds)\n",
        "\n",
        "    return preds"
      ]
    },
    {
      "cell_type": "code",
      "execution_count": null,
      "metadata": {
        "colab": {
          "background_save": true
        },
        "id": "Ns51iO7EkZbC",
        "outputId": "cd37a957-6fde-48e2-bd3e-5b04c5bbb491"
      },
      "outputs": [
        {
          "name": "stdout",
          "output_type": "stream",
          "text": [
            "\u001b[33m====== Fold: 0 ======\u001b[0m\n"
          ]
        },
        {
          "name": "stderr",
          "output_type": "stream",
          "text": [
            "Some weights of the model checkpoint at cl-tohoku/bert-base-japanese-whole-word-masking were not used when initializing BertModel: ['cls.predictions.transform.LayerNorm.bias', 'cls.predictions.transform.LayerNorm.weight', 'cls.seq_relationship.bias', 'cls.seq_relationship.weight', 'cls.predictions.bias', 'cls.predictions.transform.dense.weight', 'cls.predictions.transform.dense.bias', 'cls.predictions.decoder.weight']\n",
            "- This IS expected if you are initializing BertModel from the checkpoint of a model trained on another task or with another architecture (e.g. initializing a BertForSequenceClassification model from a BertForPreTraining model).\n",
            "- This IS NOT expected if you are initializing BertModel from the checkpoint of a model that you expect to be exactly identical (initializing a BertForSequenceClassification model from a BertForSequenceClassification model).\n"
          ]
        },
        {
          "name": "stdout",
          "output_type": "stream",
          "text": [
            "Getting predictions for model 1\n"
          ]
        },
        {
          "name": "stderr",
          "output_type": "stream",
          "text": [
            "100%|██████████| 12/12 [00:02<00:00,  5.66it/s]\n"
          ]
        },
        {
          "name": "stdout",
          "output_type": "stream",
          "text": [
            "\u001b[33m====== Fold: 1 ======\u001b[0m\n"
          ]
        },
        {
          "name": "stderr",
          "output_type": "stream",
          "text": [
            "Some weights of the model checkpoint at cl-tohoku/bert-base-japanese-whole-word-masking were not used when initializing BertModel: ['cls.predictions.transform.LayerNorm.bias', 'cls.predictions.transform.LayerNorm.weight', 'cls.seq_relationship.bias', 'cls.seq_relationship.weight', 'cls.predictions.bias', 'cls.predictions.transform.dense.weight', 'cls.predictions.transform.dense.bias', 'cls.predictions.decoder.weight']\n",
            "- This IS expected if you are initializing BertModel from the checkpoint of a model trained on another task or with another architecture (e.g. initializing a BertForSequenceClassification model from a BertForPreTraining model).\n",
            "- This IS NOT expected if you are initializing BertModel from the checkpoint of a model that you expect to be exactly identical (initializing a BertForSequenceClassification model from a BertForSequenceClassification model).\n"
          ]
        },
        {
          "name": "stdout",
          "output_type": "stream",
          "text": [
            "Getting predictions for model 1\n"
          ]
        },
        {
          "name": "stderr",
          "output_type": "stream",
          "text": [
            "100%|██████████| 12/12 [00:02<00:00,  5.81it/s]\n"
          ]
        },
        {
          "name": "stdout",
          "output_type": "stream",
          "text": [
            "\u001b[33m====== Fold: 2 ======\u001b[0m\n"
          ]
        },
        {
          "name": "stderr",
          "output_type": "stream",
          "text": [
            "Some weights of the model checkpoint at cl-tohoku/bert-base-japanese-whole-word-masking were not used when initializing BertModel: ['cls.predictions.transform.LayerNorm.bias', 'cls.predictions.transform.LayerNorm.weight', 'cls.seq_relationship.bias', 'cls.seq_relationship.weight', 'cls.predictions.bias', 'cls.predictions.transform.dense.weight', 'cls.predictions.transform.dense.bias', 'cls.predictions.decoder.weight']\n",
            "- This IS expected if you are initializing BertModel from the checkpoint of a model trained on another task or with another architecture (e.g. initializing a BertForSequenceClassification model from a BertForPreTraining model).\n",
            "- This IS NOT expected if you are initializing BertModel from the checkpoint of a model that you expect to be exactly identical (initializing a BertForSequenceClassification model from a BertForSequenceClassification model).\n"
          ]
        },
        {
          "name": "stdout",
          "output_type": "stream",
          "text": [
            "Getting predictions for model 1\n"
          ]
        },
        {
          "name": "stderr",
          "output_type": "stream",
          "text": [
            "100%|██████████| 12/12 [00:02<00:00,  5.82it/s]\n"
          ]
        },
        {
          "name": "stdout",
          "output_type": "stream",
          "text": [
            "\u001b[33m====== Fold: 3 ======\u001b[0m\n"
          ]
        },
        {
          "name": "stderr",
          "output_type": "stream",
          "text": [
            "Some weights of the model checkpoint at cl-tohoku/bert-base-japanese-whole-word-masking were not used when initializing BertModel: ['cls.predictions.transform.LayerNorm.bias', 'cls.predictions.transform.LayerNorm.weight', 'cls.seq_relationship.bias', 'cls.seq_relationship.weight', 'cls.predictions.bias', 'cls.predictions.transform.dense.weight', 'cls.predictions.transform.dense.bias', 'cls.predictions.decoder.weight']\n",
            "- This IS expected if you are initializing BertModel from the checkpoint of a model trained on another task or with another architecture (e.g. initializing a BertForSequenceClassification model from a BertForPreTraining model).\n",
            "- This IS NOT expected if you are initializing BertModel from the checkpoint of a model that you expect to be exactly identical (initializing a BertForSequenceClassification model from a BertForSequenceClassification model).\n"
          ]
        },
        {
          "name": "stdout",
          "output_type": "stream",
          "text": [
            "Getting predictions for model 1\n"
          ]
        },
        {
          "name": "stderr",
          "output_type": "stream",
          "text": [
            "100%|██████████| 12/12 [00:01<00:00,  6.01it/s]\n"
          ]
        },
        {
          "name": "stdout",
          "output_type": "stream",
          "text": [
            "\u001b[33m====== Fold: 4 ======\u001b[0m\n"
          ]
        },
        {
          "name": "stderr",
          "output_type": "stream",
          "text": [
            "Some weights of the model checkpoint at cl-tohoku/bert-base-japanese-whole-word-masking were not used when initializing BertModel: ['cls.predictions.transform.LayerNorm.bias', 'cls.predictions.transform.LayerNorm.weight', 'cls.seq_relationship.bias', 'cls.seq_relationship.weight', 'cls.predictions.bias', 'cls.predictions.transform.dense.weight', 'cls.predictions.transform.dense.bias', 'cls.predictions.decoder.weight']\n",
            "- This IS expected if you are initializing BertModel from the checkpoint of a model trained on another task or with another architecture (e.g. initializing a BertForSequenceClassification model from a BertForPreTraining model).\n",
            "- This IS NOT expected if you are initializing BertModel from the checkpoint of a model that you expect to be exactly identical (initializing a BertForSequenceClassification model from a BertForSequenceClassification model).\n"
          ]
        },
        {
          "name": "stdout",
          "output_type": "stream",
          "text": [
            "Getting predictions for model 1\n"
          ]
        },
        {
          "name": "stderr",
          "output_type": "stream",
          "text": [
            "100%|██████████| 12/12 [00:02<00:00,  5.87it/s]\n"
          ]
        }
      ],
      "source": [
        "from sklearn.metrics import f1_score\n",
        "from sklearn.metrics import accuracy_score\n",
        "\n",
        "fold_f1scores = []\n",
        "fold_accuracyscores = []\n",
        "\n",
        "for fold in range(0, CONFIG['n_fold']):\n",
        "    print(f\"{y_}====== Fold: {fold} ======{sr_}\")\n",
        "    \n",
        "    train_loader, valid_loader = prepare_loaders(fold=fold)\n",
        "\n",
        "    valid = df[df[\"kfold\"]==fold]\n",
        "\n",
        "    out = inference([MODEL_PATHS[fold]], valid_loader, CONFIG['device'])\n",
        "\n",
        "    valid[\"preds\"] = np.argmax(out, axis=1)\n",
        "\n",
        "    fold_f1scores.append(f1_score(valid[\"isFake\"].values, valid[\"preds\"].values))\n",
        "    fold_accuracyscores.append(accuracy_score(valid[\"isFake\"].values, valid[\"preds\"].values))\n"
      ]
    },
    {
      "cell_type": "code",
      "execution_count": null,
      "metadata": {
        "colab": {
          "background_save": true
        },
        "id": "FsVkplCQ88r8",
        "outputId": "a9b6337c-7831-4b39-8fe4-b58dbb6e9170"
      },
      "outputs": [
        {
          "data": {
            "text/plain": [
              "[0.9278350515463918,\n",
              " 0.9046979865771811,\n",
              " 0.9174560216508795,\n",
              " 0.9090909090909091,\n",
              " 0.9171122994652405]"
            ]
          },
          "execution_count": null,
          "metadata": {},
          "output_type": "execute_result"
        }
      ],
      "source": [
        "fold_f1scores"
      ]
    },
    {
      "cell_type": "code",
      "execution_count": null,
      "metadata": {
        "colab": {
          "background_save": true
        },
        "id": "XwjzcFbh88Db",
        "outputId": "6004adf6-2cec-4199-e50b-c7b403043688"
      },
      "outputs": [
        {
          "data": {
            "text/plain": [
              "[0.9260237780713342,\n",
              " 0.906084656084656,\n",
              " 0.9193121693121693,\n",
              " 0.9087301587301587,\n",
              " 0.917989417989418]"
            ]
          },
          "execution_count": null,
          "metadata": {},
          "output_type": "execute_result"
        }
      ],
      "source": [
        "fold_accuracyscores"
      ]
    },
    {
      "cell_type": "code",
      "execution_count": null,
      "metadata": {
        "colab": {
          "background_save": true
        },
        "id": "uL8rqrUTZ1mX"
      },
      "outputs": [],
      "source": [
        ""
      ]
    }
  ],
  "metadata": {
    "accelerator": "GPU",
    "colab": {
      "collapsed_sections": [],
      "machine_shape": "hm",
      "name": "pytorch-fakenews-train.ipynb",
      "provenance": [],
      "include_colab_link": true
    },
    "kernelspec": {
      "display_name": "Python 3",
      "language": "python",
      "name": "python3"
    },
    "language_info": {
      "codemirror_mode": {
        "name": "ipython",
        "version": 3
      },
      "file_extension": ".py",
      "mimetype": "text/x-python",
      "name": "python",
      "nbconvert_exporter": "python",
      "pygments_lexer": "ipython3",
      "version": "3.7.10"
    },
    "widgets": {
      "application/vnd.jupyter.widget-state+json": {
        "193fcc0ade3d423f94d8970b0b8826cb": {
          "model_module": "@jupyter-widgets/controls",
          "model_module_version": "1.5.0",
          "model_name": "DescriptionStyleModel",
          "state": {
            "_model_module": "@jupyter-widgets/controls",
            "_model_module_version": "1.5.0",
            "_model_name": "DescriptionStyleModel",
            "_view_count": null,
            "_view_module": "@jupyter-widgets/base",
            "_view_module_version": "1.2.0",
            "_view_name": "StyleView",
            "description_width": ""
          }
        },
        "19d53a71d2094d23b9c60fcd6a7bb839": {
          "model_module": "@jupyter-widgets/controls",
          "model_module_version": "1.5.0",
          "model_name": "ProgressStyleModel",
          "state": {
            "_model_module": "@jupyter-widgets/controls",
            "_model_module_version": "1.5.0",
            "_model_name": "ProgressStyleModel",
            "_view_count": null,
            "_view_module": "@jupyter-widgets/base",
            "_view_module_version": "1.2.0",
            "_view_name": "StyleView",
            "bar_color": null,
            "description_width": ""
          }
        },
        "1b97b65fc0cf4c35b204acacd6566c89": {
          "model_module": "@jupyter-widgets/controls",
          "model_module_version": "1.5.0",
          "model_name": "DescriptionStyleModel",
          "state": {
            "_model_module": "@jupyter-widgets/controls",
            "_model_module_version": "1.5.0",
            "_model_name": "DescriptionStyleModel",
            "_view_count": null,
            "_view_module": "@jupyter-widgets/base",
            "_view_module_version": "1.2.0",
            "_view_name": "StyleView",
            "description_width": ""
          }
        },
        "1fd8b1f807f4471996e860f018272fcd": {
          "model_module": "@jupyter-widgets/controls",
          "model_module_version": "1.5.0",
          "model_name": "HTMLModel",
          "state": {
            "_dom_classes": [],
            "_model_module": "@jupyter-widgets/controls",
            "_model_module_version": "1.5.0",
            "_model_name": "HTMLModel",
            "_view_count": null,
            "_view_module": "@jupyter-widgets/controls",
            "_view_module_version": "1.5.0",
            "_view_name": "HTMLView",
            "description": "",
            "description_tooltip": null,
            "layout": "IPY_MODEL_88767bf84be141dea5255217d373de96",
            "placeholder": "​",
            "style": "IPY_MODEL_d985b4f637a743d6bbdaa98dd2d04122",
            "value": " 479/479 [00:00&lt;00:00, 18.6kB/s]"
          }
        },
        "27efb63b4f7245beab7f8a12f560e0ce": {
          "model_module": "@jupyter-widgets/base",
          "model_module_version": "1.2.0",
          "model_name": "LayoutModel",
          "state": {
            "_model_module": "@jupyter-widgets/base",
            "_model_module_version": "1.2.0",
            "_model_name": "LayoutModel",
            "_view_count": null,
            "_view_module": "@jupyter-widgets/base",
            "_view_module_version": "1.2.0",
            "_view_name": "LayoutView",
            "align_content": null,
            "align_items": null,
            "align_self": null,
            "border": null,
            "bottom": null,
            "display": null,
            "flex": null,
            "flex_flow": null,
            "grid_area": null,
            "grid_auto_columns": null,
            "grid_auto_flow": null,
            "grid_auto_rows": null,
            "grid_column": null,
            "grid_gap": null,
            "grid_row": null,
            "grid_template_areas": null,
            "grid_template_columns": null,
            "grid_template_rows": null,
            "height": null,
            "justify_content": null,
            "justify_items": null,
            "left": null,
            "margin": null,
            "max_height": null,
            "max_width": null,
            "min_height": null,
            "min_width": null,
            "object_fit": null,
            "object_position": null,
            "order": null,
            "overflow": null,
            "overflow_x": null,
            "overflow_y": null,
            "padding": null,
            "right": null,
            "top": null,
            "visibility": null,
            "width": null
          }
        },
        "281774e43e5147e8ad0146f839659dae": {
          "model_module": "@jupyter-widgets/base",
          "model_module_version": "1.2.0",
          "model_name": "LayoutModel",
          "state": {
            "_model_module": "@jupyter-widgets/base",
            "_model_module_version": "1.2.0",
            "_model_name": "LayoutModel",
            "_view_count": null,
            "_view_module": "@jupyter-widgets/base",
            "_view_module_version": "1.2.0",
            "_view_name": "LayoutView",
            "align_content": null,
            "align_items": null,
            "align_self": null,
            "border": null,
            "bottom": null,
            "display": null,
            "flex": null,
            "flex_flow": null,
            "grid_area": null,
            "grid_auto_columns": null,
            "grid_auto_flow": null,
            "grid_auto_rows": null,
            "grid_column": null,
            "grid_gap": null,
            "grid_row": null,
            "grid_template_areas": null,
            "grid_template_columns": null,
            "grid_template_rows": null,
            "height": null,
            "justify_content": null,
            "justify_items": null,
            "left": null,
            "margin": null,
            "max_height": null,
            "max_width": null,
            "min_height": null,
            "min_width": null,
            "object_fit": null,
            "object_position": null,
            "order": null,
            "overflow": null,
            "overflow_x": null,
            "overflow_y": null,
            "padding": null,
            "right": null,
            "top": null,
            "visibility": null,
            "width": null
          }
        },
        "294d2049b8474a2e8f41a5dbb5f6e1ba": {
          "model_module": "@jupyter-widgets/controls",
          "model_module_version": "1.5.0",
          "model_name": "DescriptionStyleModel",
          "state": {
            "_model_module": "@jupyter-widgets/controls",
            "_model_module_version": "1.5.0",
            "_model_name": "DescriptionStyleModel",
            "_view_count": null,
            "_view_module": "@jupyter-widgets/base",
            "_view_module_version": "1.2.0",
            "_view_name": "StyleView",
            "description_width": ""
          }
        },
        "2aa2def62f3c47ce978e5b0ea6d52fb8": {
          "model_module": "@jupyter-widgets/controls",
          "model_module_version": "1.5.0",
          "model_name": "DescriptionStyleModel",
          "state": {
            "_model_module": "@jupyter-widgets/controls",
            "_model_module_version": "1.5.0",
            "_model_name": "DescriptionStyleModel",
            "_view_count": null,
            "_view_module": "@jupyter-widgets/base",
            "_view_module_version": "1.2.0",
            "_view_name": "StyleView",
            "description_width": ""
          }
        },
        "308aa7c2a8384502a083d3e486536460": {
          "model_module": "@jupyter-widgets/controls",
          "model_module_version": "1.5.0",
          "model_name": "HTMLModel",
          "state": {
            "_dom_classes": [],
            "_model_module": "@jupyter-widgets/controls",
            "_model_module_version": "1.5.0",
            "_model_name": "HTMLModel",
            "_view_count": null,
            "_view_module": "@jupyter-widgets/controls",
            "_view_module_version": "1.5.0",
            "_view_name": "HTMLView",
            "description": "",
            "description_tooltip": null,
            "layout": "IPY_MODEL_78f915e07bc7421aa02b3298a3a96039",
            "placeholder": "​",
            "style": "IPY_MODEL_1b97b65fc0cf4c35b204acacd6566c89",
            "value": " 252k/252k [00:00&lt;00:00, 661kB/s]"
          }
        },
        "3345bfde67f341f5bcc8cb7fdb3ca36b": {
          "model_module": "@jupyter-widgets/controls",
          "model_module_version": "1.5.0",
          "model_name": "FloatProgressModel",
          "state": {
            "_dom_classes": [],
            "_model_module": "@jupyter-widgets/controls",
            "_model_module_version": "1.5.0",
            "_model_name": "FloatProgressModel",
            "_view_count": null,
            "_view_module": "@jupyter-widgets/controls",
            "_view_module_version": "1.5.0",
            "_view_name": "ProgressView",
            "bar_style": "success",
            "description": "",
            "description_tooltip": null,
            "layout": "IPY_MODEL_6c75ca6415794936835707093eb95027",
            "max": 479,
            "min": 0,
            "orientation": "horizontal",
            "style": "IPY_MODEL_19d53a71d2094d23b9c60fcd6a7bb839",
            "value": 479
          }
        },
        "36b885ddac6f4b5a965608681016fc21": {
          "model_module": "@jupyter-widgets/base",
          "model_module_version": "1.2.0",
          "model_name": "LayoutModel",
          "state": {
            "_model_module": "@jupyter-widgets/base",
            "_model_module_version": "1.2.0",
            "_model_name": "LayoutModel",
            "_view_count": null,
            "_view_module": "@jupyter-widgets/base",
            "_view_module_version": "1.2.0",
            "_view_name": "LayoutView",
            "align_content": null,
            "align_items": null,
            "align_self": null,
            "border": null,
            "bottom": null,
            "display": null,
            "flex": null,
            "flex_flow": null,
            "grid_area": null,
            "grid_auto_columns": null,
            "grid_auto_flow": null,
            "grid_auto_rows": null,
            "grid_column": null,
            "grid_gap": null,
            "grid_row": null,
            "grid_template_areas": null,
            "grid_template_columns": null,
            "grid_template_rows": null,
            "height": null,
            "justify_content": null,
            "justify_items": null,
            "left": null,
            "margin": null,
            "max_height": null,
            "max_width": null,
            "min_height": null,
            "min_width": null,
            "object_fit": null,
            "object_position": null,
            "order": null,
            "overflow": null,
            "overflow_x": null,
            "overflow_y": null,
            "padding": null,
            "right": null,
            "top": null,
            "visibility": null,
            "width": null
          }
        },
        "37b47ec9120b47b7a3ef396b28fe88f4": {
          "model_module": "@jupyter-widgets/base",
          "model_module_version": "1.2.0",
          "model_name": "LayoutModel",
          "state": {
            "_model_module": "@jupyter-widgets/base",
            "_model_module_version": "1.2.0",
            "_model_name": "LayoutModel",
            "_view_count": null,
            "_view_module": "@jupyter-widgets/base",
            "_view_module_version": "1.2.0",
            "_view_name": "LayoutView",
            "align_content": null,
            "align_items": null,
            "align_self": null,
            "border": null,
            "bottom": null,
            "display": null,
            "flex": null,
            "flex_flow": null,
            "grid_area": null,
            "grid_auto_columns": null,
            "grid_auto_flow": null,
            "grid_auto_rows": null,
            "grid_column": null,
            "grid_gap": null,
            "grid_row": null,
            "grid_template_areas": null,
            "grid_template_columns": null,
            "grid_template_rows": null,
            "height": null,
            "justify_content": null,
            "justify_items": null,
            "left": null,
            "margin": null,
            "max_height": null,
            "max_width": null,
            "min_height": null,
            "min_width": null,
            "object_fit": null,
            "object_position": null,
            "order": null,
            "overflow": null,
            "overflow_x": null,
            "overflow_y": null,
            "padding": null,
            "right": null,
            "top": null,
            "visibility": null,
            "width": null
          }
        },
        "38ea52c547694f2792d286a93ea8ce82": {
          "model_module": "@jupyter-widgets/controls",
          "model_module_version": "1.5.0",
          "model_name": "DescriptionStyleModel",
          "state": {
            "_model_module": "@jupyter-widgets/controls",
            "_model_module_version": "1.5.0",
            "_model_name": "DescriptionStyleModel",
            "_view_count": null,
            "_view_module": "@jupyter-widgets/base",
            "_view_module_version": "1.2.0",
            "_view_name": "StyleView",
            "description_width": ""
          }
        },
        "3b48fd9b1454432db546728d7fda5fc4": {
          "model_module": "@jupyter-widgets/controls",
          "model_module_version": "1.5.0",
          "model_name": "HBoxModel",
          "state": {
            "_dom_classes": [],
            "_model_module": "@jupyter-widgets/controls",
            "_model_module_version": "1.5.0",
            "_model_name": "HBoxModel",
            "_view_count": null,
            "_view_module": "@jupyter-widgets/controls",
            "_view_module_version": "1.5.0",
            "_view_name": "HBoxView",
            "box_style": "",
            "children": [
              "IPY_MODEL_42098d552a174303bc9f3f9b13c78d32",
              "IPY_MODEL_4fa676a1a8654f5eb9be274167594c93",
              "IPY_MODEL_9b2aaeab5959463bb5969cc3ee78a9ea"
            ],
            "layout": "IPY_MODEL_846f6d12249142539e8049226fbcd7aa"
          }
        },
        "3f1c5eabacf048ff9305552f94002a95": {
          "model_module": "@jupyter-widgets/controls",
          "model_module_version": "1.5.0",
          "model_name": "HTMLModel",
          "state": {
            "_dom_classes": [],
            "_model_module": "@jupyter-widgets/controls",
            "_model_module_version": "1.5.0",
            "_model_name": "HTMLModel",
            "_view_count": null,
            "_view_module": "@jupyter-widgets/controls",
            "_view_module_version": "1.5.0",
            "_view_name": "HTMLView",
            "description": "",
            "description_tooltip": null,
            "layout": "IPY_MODEL_674a09670cc448068b72b12e6d7659be",
            "placeholder": "​",
            "style": "IPY_MODEL_bfcedc7fa6354871bef2159a50363755",
            "value": " 424M/424M [00:07&lt;00:00, 63.8MB/s]"
          }
        },
        "42098d552a174303bc9f3f9b13c78d32": {
          "model_module": "@jupyter-widgets/controls",
          "model_module_version": "1.5.0",
          "model_name": "HTMLModel",
          "state": {
            "_dom_classes": [],
            "_model_module": "@jupyter-widgets/controls",
            "_model_module_version": "1.5.0",
            "_model_name": "HTMLModel",
            "_view_count": null,
            "_view_module": "@jupyter-widgets/controls",
            "_view_module_version": "1.5.0",
            "_view_name": "HTMLView",
            "description": "",
            "description_tooltip": null,
            "layout": "IPY_MODEL_27efb63b4f7245beab7f8a12f560e0ce",
            "placeholder": "​",
            "style": "IPY_MODEL_76d94ee5eea14880bb74a8e021875936",
            "value": "Downloading: 100%"
          }
        },
        "42c9d0b71d9442a3a958b4b4d03a43de": {
          "model_module": "@jupyter-widgets/controls",
          "model_module_version": "1.5.0",
          "model_name": "ProgressStyleModel",
          "state": {
            "_model_module": "@jupyter-widgets/controls",
            "_model_module_version": "1.5.0",
            "_model_name": "ProgressStyleModel",
            "_view_count": null,
            "_view_module": "@jupyter-widgets/base",
            "_view_module_version": "1.2.0",
            "_view_name": "StyleView",
            "bar_color": null,
            "description_width": ""
          }
        },
        "4d5b459054d9416ebbbde05b87a6485b": {
          "model_module": "@jupyter-widgets/base",
          "model_module_version": "1.2.0",
          "model_name": "LayoutModel",
          "state": {
            "_model_module": "@jupyter-widgets/base",
            "_model_module_version": "1.2.0",
            "_model_name": "LayoutModel",
            "_view_count": null,
            "_view_module": "@jupyter-widgets/base",
            "_view_module_version": "1.2.0",
            "_view_name": "LayoutView",
            "align_content": null,
            "align_items": null,
            "align_self": null,
            "border": null,
            "bottom": null,
            "display": null,
            "flex": null,
            "flex_flow": null,
            "grid_area": null,
            "grid_auto_columns": null,
            "grid_auto_flow": null,
            "grid_auto_rows": null,
            "grid_column": null,
            "grid_gap": null,
            "grid_row": null,
            "grid_template_areas": null,
            "grid_template_columns": null,
            "grid_template_rows": null,
            "height": null,
            "justify_content": null,
            "justify_items": null,
            "left": null,
            "margin": null,
            "max_height": null,
            "max_width": null,
            "min_height": null,
            "min_width": null,
            "object_fit": null,
            "object_position": null,
            "order": null,
            "overflow": null,
            "overflow_x": null,
            "overflow_y": null,
            "padding": null,
            "right": null,
            "top": null,
            "visibility": null,
            "width": null
          }
        },
        "4fa676a1a8654f5eb9be274167594c93": {
          "model_module": "@jupyter-widgets/controls",
          "model_module_version": "1.5.0",
          "model_name": "FloatProgressModel",
          "state": {
            "_dom_classes": [],
            "_model_module": "@jupyter-widgets/controls",
            "_model_module_version": "1.5.0",
            "_model_name": "FloatProgressModel",
            "_view_count": null,
            "_view_module": "@jupyter-widgets/controls",
            "_view_module_version": "1.5.0",
            "_view_name": "ProgressView",
            "bar_style": "success",
            "description": "",
            "description_tooltip": null,
            "layout": "IPY_MODEL_cd4b377aaaf8416fab97b3004c5a9855",
            "max": 110,
            "min": 0,
            "orientation": "horizontal",
            "style": "IPY_MODEL_42c9d0b71d9442a3a958b4b4d03a43de",
            "value": 110
          }
        },
        "5c3ad8092ed14e1aac6b0f4fa757bb33": {
          "model_module": "@jupyter-widgets/controls",
          "model_module_version": "1.5.0",
          "model_name": "HBoxModel",
          "state": {
            "_dom_classes": [],
            "_model_module": "@jupyter-widgets/controls",
            "_model_module_version": "1.5.0",
            "_model_name": "HBoxModel",
            "_view_count": null,
            "_view_module": "@jupyter-widgets/controls",
            "_view_module_version": "1.5.0",
            "_view_name": "HBoxView",
            "box_style": "",
            "children": [
              "IPY_MODEL_d2836ee44b6845cea2b03ef681a4358b",
              "IPY_MODEL_dd2c0fedff824f89b46c3527e5de409e",
              "IPY_MODEL_3f1c5eabacf048ff9305552f94002a95"
            ],
            "layout": "IPY_MODEL_4d5b459054d9416ebbbde05b87a6485b"
          }
        },
        "674a09670cc448068b72b12e6d7659be": {
          "model_module": "@jupyter-widgets/base",
          "model_module_version": "1.2.0",
          "model_name": "LayoutModel",
          "state": {
            "_model_module": "@jupyter-widgets/base",
            "_model_module_version": "1.2.0",
            "_model_name": "LayoutModel",
            "_view_count": null,
            "_view_module": "@jupyter-widgets/base",
            "_view_module_version": "1.2.0",
            "_view_name": "LayoutView",
            "align_content": null,
            "align_items": null,
            "align_self": null,
            "border": null,
            "bottom": null,
            "display": null,
            "flex": null,
            "flex_flow": null,
            "grid_area": null,
            "grid_auto_columns": null,
            "grid_auto_flow": null,
            "grid_auto_rows": null,
            "grid_column": null,
            "grid_gap": null,
            "grid_row": null,
            "grid_template_areas": null,
            "grid_template_columns": null,
            "grid_template_rows": null,
            "height": null,
            "justify_content": null,
            "justify_items": null,
            "left": null,
            "margin": null,
            "max_height": null,
            "max_width": null,
            "min_height": null,
            "min_width": null,
            "object_fit": null,
            "object_position": null,
            "order": null,
            "overflow": null,
            "overflow_x": null,
            "overflow_y": null,
            "padding": null,
            "right": null,
            "top": null,
            "visibility": null,
            "width": null
          }
        },
        "6b5bed1ecdc942b3bcc087c58706acfe": {
          "model_module": "@jupyter-widgets/controls",
          "model_module_version": "1.5.0",
          "model_name": "ProgressStyleModel",
          "state": {
            "_model_module": "@jupyter-widgets/controls",
            "_model_module_version": "1.5.0",
            "_model_name": "ProgressStyleModel",
            "_view_count": null,
            "_view_module": "@jupyter-widgets/base",
            "_view_module_version": "1.2.0",
            "_view_name": "StyleView",
            "bar_color": null,
            "description_width": ""
          }
        },
        "6c493799d3084c62aecb36277fc8c6f3": {
          "model_module": "@jupyter-widgets/controls",
          "model_module_version": "1.5.0",
          "model_name": "HBoxModel",
          "state": {
            "_dom_classes": [],
            "_model_module": "@jupyter-widgets/controls",
            "_model_module_version": "1.5.0",
            "_model_name": "HBoxModel",
            "_view_count": null,
            "_view_module": "@jupyter-widgets/controls",
            "_view_module_version": "1.5.0",
            "_view_name": "HBoxView",
            "box_style": "",
            "children": [
              "IPY_MODEL_7e10bb91ad1e4ff1a7d3fccb835f047d",
              "IPY_MODEL_739ab809f6934e4aa66c2ca5d7f8cf06",
              "IPY_MODEL_308aa7c2a8384502a083d3e486536460"
            ],
            "layout": "IPY_MODEL_f943a78de37948e9a36f246e9a2ea453"
          }
        },
        "6c75ca6415794936835707093eb95027": {
          "model_module": "@jupyter-widgets/base",
          "model_module_version": "1.2.0",
          "model_name": "LayoutModel",
          "state": {
            "_model_module": "@jupyter-widgets/base",
            "_model_module_version": "1.2.0",
            "_model_name": "LayoutModel",
            "_view_count": null,
            "_view_module": "@jupyter-widgets/base",
            "_view_module_version": "1.2.0",
            "_view_name": "LayoutView",
            "align_content": null,
            "align_items": null,
            "align_self": null,
            "border": null,
            "bottom": null,
            "display": null,
            "flex": null,
            "flex_flow": null,
            "grid_area": null,
            "grid_auto_columns": null,
            "grid_auto_flow": null,
            "grid_auto_rows": null,
            "grid_column": null,
            "grid_gap": null,
            "grid_row": null,
            "grid_template_areas": null,
            "grid_template_columns": null,
            "grid_template_rows": null,
            "height": null,
            "justify_content": null,
            "justify_items": null,
            "left": null,
            "margin": null,
            "max_height": null,
            "max_width": null,
            "min_height": null,
            "min_width": null,
            "object_fit": null,
            "object_position": null,
            "order": null,
            "overflow": null,
            "overflow_x": null,
            "overflow_y": null,
            "padding": null,
            "right": null,
            "top": null,
            "visibility": null,
            "width": null
          }
        },
        "739ab809f6934e4aa66c2ca5d7f8cf06": {
          "model_module": "@jupyter-widgets/controls",
          "model_module_version": "1.5.0",
          "model_name": "FloatProgressModel",
          "state": {
            "_dom_classes": [],
            "_model_module": "@jupyter-widgets/controls",
            "_model_module_version": "1.5.0",
            "_model_name": "FloatProgressModel",
            "_view_count": null,
            "_view_module": "@jupyter-widgets/controls",
            "_view_module_version": "1.5.0",
            "_view_name": "ProgressView",
            "bar_style": "success",
            "description": "",
            "description_tooltip": null,
            "layout": "IPY_MODEL_c9f820a514c642c0a2ec99a7f5acea78",
            "max": 257706,
            "min": 0,
            "orientation": "horizontal",
            "style": "IPY_MODEL_6b5bed1ecdc942b3bcc087c58706acfe",
            "value": 257706
          }
        },
        "76d94ee5eea14880bb74a8e021875936": {
          "model_module": "@jupyter-widgets/controls",
          "model_module_version": "1.5.0",
          "model_name": "DescriptionStyleModel",
          "state": {
            "_model_module": "@jupyter-widgets/controls",
            "_model_module_version": "1.5.0",
            "_model_name": "DescriptionStyleModel",
            "_view_count": null,
            "_view_module": "@jupyter-widgets/base",
            "_view_module_version": "1.2.0",
            "_view_name": "StyleView",
            "description_width": ""
          }
        },
        "78f915e07bc7421aa02b3298a3a96039": {
          "model_module": "@jupyter-widgets/base",
          "model_module_version": "1.2.0",
          "model_name": "LayoutModel",
          "state": {
            "_model_module": "@jupyter-widgets/base",
            "_model_module_version": "1.2.0",
            "_model_name": "LayoutModel",
            "_view_count": null,
            "_view_module": "@jupyter-widgets/base",
            "_view_module_version": "1.2.0",
            "_view_name": "LayoutView",
            "align_content": null,
            "align_items": null,
            "align_self": null,
            "border": null,
            "bottom": null,
            "display": null,
            "flex": null,
            "flex_flow": null,
            "grid_area": null,
            "grid_auto_columns": null,
            "grid_auto_flow": null,
            "grid_auto_rows": null,
            "grid_column": null,
            "grid_gap": null,
            "grid_row": null,
            "grid_template_areas": null,
            "grid_template_columns": null,
            "grid_template_rows": null,
            "height": null,
            "justify_content": null,
            "justify_items": null,
            "left": null,
            "margin": null,
            "max_height": null,
            "max_width": null,
            "min_height": null,
            "min_width": null,
            "object_fit": null,
            "object_position": null,
            "order": null,
            "overflow": null,
            "overflow_x": null,
            "overflow_y": null,
            "padding": null,
            "right": null,
            "top": null,
            "visibility": null,
            "width": null
          }
        },
        "7ccca3a04c954a37bbe0275e08254b26": {
          "model_module": "@jupyter-widgets/controls",
          "model_module_version": "1.5.0",
          "model_name": "ProgressStyleModel",
          "state": {
            "_model_module": "@jupyter-widgets/controls",
            "_model_module_version": "1.5.0",
            "_model_name": "ProgressStyleModel",
            "_view_count": null,
            "_view_module": "@jupyter-widgets/base",
            "_view_module_version": "1.2.0",
            "_view_name": "StyleView",
            "bar_color": null,
            "description_width": ""
          }
        },
        "7e10bb91ad1e4ff1a7d3fccb835f047d": {
          "model_module": "@jupyter-widgets/controls",
          "model_module_version": "1.5.0",
          "model_name": "HTMLModel",
          "state": {
            "_dom_classes": [],
            "_model_module": "@jupyter-widgets/controls",
            "_model_module_version": "1.5.0",
            "_model_name": "HTMLModel",
            "_view_count": null,
            "_view_module": "@jupyter-widgets/controls",
            "_view_module_version": "1.5.0",
            "_view_name": "HTMLView",
            "description": "",
            "description_tooltip": null,
            "layout": "IPY_MODEL_36b885ddac6f4b5a965608681016fc21",
            "placeholder": "​",
            "style": "IPY_MODEL_193fcc0ade3d423f94d8970b0b8826cb",
            "value": "Downloading: 100%"
          }
        },
        "846f6d12249142539e8049226fbcd7aa": {
          "model_module": "@jupyter-widgets/base",
          "model_module_version": "1.2.0",
          "model_name": "LayoutModel",
          "state": {
            "_model_module": "@jupyter-widgets/base",
            "_model_module_version": "1.2.0",
            "_model_name": "LayoutModel",
            "_view_count": null,
            "_view_module": "@jupyter-widgets/base",
            "_view_module_version": "1.2.0",
            "_view_name": "LayoutView",
            "align_content": null,
            "align_items": null,
            "align_self": null,
            "border": null,
            "bottom": null,
            "display": null,
            "flex": null,
            "flex_flow": null,
            "grid_area": null,
            "grid_auto_columns": null,
            "grid_auto_flow": null,
            "grid_auto_rows": null,
            "grid_column": null,
            "grid_gap": null,
            "grid_row": null,
            "grid_template_areas": null,
            "grid_template_columns": null,
            "grid_template_rows": null,
            "height": null,
            "justify_content": null,
            "justify_items": null,
            "left": null,
            "margin": null,
            "max_height": null,
            "max_width": null,
            "min_height": null,
            "min_width": null,
            "object_fit": null,
            "object_position": null,
            "order": null,
            "overflow": null,
            "overflow_x": null,
            "overflow_y": null,
            "padding": null,
            "right": null,
            "top": null,
            "visibility": null,
            "width": null
          }
        },
        "88767bf84be141dea5255217d373de96": {
          "model_module": "@jupyter-widgets/base",
          "model_module_version": "1.2.0",
          "model_name": "LayoutModel",
          "state": {
            "_model_module": "@jupyter-widgets/base",
            "_model_module_version": "1.2.0",
            "_model_name": "LayoutModel",
            "_view_count": null,
            "_view_module": "@jupyter-widgets/base",
            "_view_module_version": "1.2.0",
            "_view_name": "LayoutView",
            "align_content": null,
            "align_items": null,
            "align_self": null,
            "border": null,
            "bottom": null,
            "display": null,
            "flex": null,
            "flex_flow": null,
            "grid_area": null,
            "grid_auto_columns": null,
            "grid_auto_flow": null,
            "grid_auto_rows": null,
            "grid_column": null,
            "grid_gap": null,
            "grid_row": null,
            "grid_template_areas": null,
            "grid_template_columns": null,
            "grid_template_rows": null,
            "height": null,
            "justify_content": null,
            "justify_items": null,
            "left": null,
            "margin": null,
            "max_height": null,
            "max_width": null,
            "min_height": null,
            "min_width": null,
            "object_fit": null,
            "object_position": null,
            "order": null,
            "overflow": null,
            "overflow_x": null,
            "overflow_y": null,
            "padding": null,
            "right": null,
            "top": null,
            "visibility": null,
            "width": null
          }
        },
        "9b2aaeab5959463bb5969cc3ee78a9ea": {
          "model_module": "@jupyter-widgets/controls",
          "model_module_version": "1.5.0",
          "model_name": "HTMLModel",
          "state": {
            "_dom_classes": [],
            "_model_module": "@jupyter-widgets/controls",
            "_model_module_version": "1.5.0",
            "_model_name": "HTMLModel",
            "_view_count": null,
            "_view_module": "@jupyter-widgets/controls",
            "_view_module_version": "1.5.0",
            "_view_name": "HTMLView",
            "description": "",
            "description_tooltip": null,
            "layout": "IPY_MODEL_c23b0b56c9d1466dbf1035dd0c88f44d",
            "placeholder": "​",
            "style": "IPY_MODEL_2aa2def62f3c47ce978e5b0ea6d52fb8",
            "value": " 110/110 [00:00&lt;00:00, 4.21kB/s]"
          }
        },
        "a4b02c3468794bc2a6b58d8c91e481bb": {
          "model_module": "@jupyter-widgets/base",
          "model_module_version": "1.2.0",
          "model_name": "LayoutModel",
          "state": {
            "_model_module": "@jupyter-widgets/base",
            "_model_module_version": "1.2.0",
            "_model_name": "LayoutModel",
            "_view_count": null,
            "_view_module": "@jupyter-widgets/base",
            "_view_module_version": "1.2.0",
            "_view_name": "LayoutView",
            "align_content": null,
            "align_items": null,
            "align_self": null,
            "border": null,
            "bottom": null,
            "display": null,
            "flex": null,
            "flex_flow": null,
            "grid_area": null,
            "grid_auto_columns": null,
            "grid_auto_flow": null,
            "grid_auto_rows": null,
            "grid_column": null,
            "grid_gap": null,
            "grid_row": null,
            "grid_template_areas": null,
            "grid_template_columns": null,
            "grid_template_rows": null,
            "height": null,
            "justify_content": null,
            "justify_items": null,
            "left": null,
            "margin": null,
            "max_height": null,
            "max_width": null,
            "min_height": null,
            "min_width": null,
            "object_fit": null,
            "object_position": null,
            "order": null,
            "overflow": null,
            "overflow_x": null,
            "overflow_y": null,
            "padding": null,
            "right": null,
            "top": null,
            "visibility": null,
            "width": null
          }
        },
        "bfcedc7fa6354871bef2159a50363755": {
          "model_module": "@jupyter-widgets/controls",
          "model_module_version": "1.5.0",
          "model_name": "DescriptionStyleModel",
          "state": {
            "_model_module": "@jupyter-widgets/controls",
            "_model_module_version": "1.5.0",
            "_model_name": "DescriptionStyleModel",
            "_view_count": null,
            "_view_module": "@jupyter-widgets/base",
            "_view_module_version": "1.2.0",
            "_view_name": "StyleView",
            "description_width": ""
          }
        },
        "c23b0b56c9d1466dbf1035dd0c88f44d": {
          "model_module": "@jupyter-widgets/base",
          "model_module_version": "1.2.0",
          "model_name": "LayoutModel",
          "state": {
            "_model_module": "@jupyter-widgets/base",
            "_model_module_version": "1.2.0",
            "_model_name": "LayoutModel",
            "_view_count": null,
            "_view_module": "@jupyter-widgets/base",
            "_view_module_version": "1.2.0",
            "_view_name": "LayoutView",
            "align_content": null,
            "align_items": null,
            "align_self": null,
            "border": null,
            "bottom": null,
            "display": null,
            "flex": null,
            "flex_flow": null,
            "grid_area": null,
            "grid_auto_columns": null,
            "grid_auto_flow": null,
            "grid_auto_rows": null,
            "grid_column": null,
            "grid_gap": null,
            "grid_row": null,
            "grid_template_areas": null,
            "grid_template_columns": null,
            "grid_template_rows": null,
            "height": null,
            "justify_content": null,
            "justify_items": null,
            "left": null,
            "margin": null,
            "max_height": null,
            "max_width": null,
            "min_height": null,
            "min_width": null,
            "object_fit": null,
            "object_position": null,
            "order": null,
            "overflow": null,
            "overflow_x": null,
            "overflow_y": null,
            "padding": null,
            "right": null,
            "top": null,
            "visibility": null,
            "width": null
          }
        },
        "c9f820a514c642c0a2ec99a7f5acea78": {
          "model_module": "@jupyter-widgets/base",
          "model_module_version": "1.2.0",
          "model_name": "LayoutModel",
          "state": {
            "_model_module": "@jupyter-widgets/base",
            "_model_module_version": "1.2.0",
            "_model_name": "LayoutModel",
            "_view_count": null,
            "_view_module": "@jupyter-widgets/base",
            "_view_module_version": "1.2.0",
            "_view_name": "LayoutView",
            "align_content": null,
            "align_items": null,
            "align_self": null,
            "border": null,
            "bottom": null,
            "display": null,
            "flex": null,
            "flex_flow": null,
            "grid_area": null,
            "grid_auto_columns": null,
            "grid_auto_flow": null,
            "grid_auto_rows": null,
            "grid_column": null,
            "grid_gap": null,
            "grid_row": null,
            "grid_template_areas": null,
            "grid_template_columns": null,
            "grid_template_rows": null,
            "height": null,
            "justify_content": null,
            "justify_items": null,
            "left": null,
            "margin": null,
            "max_height": null,
            "max_width": null,
            "min_height": null,
            "min_width": null,
            "object_fit": null,
            "object_position": null,
            "order": null,
            "overflow": null,
            "overflow_x": null,
            "overflow_y": null,
            "padding": null,
            "right": null,
            "top": null,
            "visibility": null,
            "width": null
          }
        },
        "cd4b377aaaf8416fab97b3004c5a9855": {
          "model_module": "@jupyter-widgets/base",
          "model_module_version": "1.2.0",
          "model_name": "LayoutModel",
          "state": {
            "_model_module": "@jupyter-widgets/base",
            "_model_module_version": "1.2.0",
            "_model_name": "LayoutModel",
            "_view_count": null,
            "_view_module": "@jupyter-widgets/base",
            "_view_module_version": "1.2.0",
            "_view_name": "LayoutView",
            "align_content": null,
            "align_items": null,
            "align_self": null,
            "border": null,
            "bottom": null,
            "display": null,
            "flex": null,
            "flex_flow": null,
            "grid_area": null,
            "grid_auto_columns": null,
            "grid_auto_flow": null,
            "grid_auto_rows": null,
            "grid_column": null,
            "grid_gap": null,
            "grid_row": null,
            "grid_template_areas": null,
            "grid_template_columns": null,
            "grid_template_rows": null,
            "height": null,
            "justify_content": null,
            "justify_items": null,
            "left": null,
            "margin": null,
            "max_height": null,
            "max_width": null,
            "min_height": null,
            "min_width": null,
            "object_fit": null,
            "object_position": null,
            "order": null,
            "overflow": null,
            "overflow_x": null,
            "overflow_y": null,
            "padding": null,
            "right": null,
            "top": null,
            "visibility": null,
            "width": null
          }
        },
        "d2836ee44b6845cea2b03ef681a4358b": {
          "model_module": "@jupyter-widgets/controls",
          "model_module_version": "1.5.0",
          "model_name": "HTMLModel",
          "state": {
            "_dom_classes": [],
            "_model_module": "@jupyter-widgets/controls",
            "_model_module_version": "1.5.0",
            "_model_name": "HTMLModel",
            "_view_count": null,
            "_view_module": "@jupyter-widgets/controls",
            "_view_module_version": "1.5.0",
            "_view_name": "HTMLView",
            "description": "",
            "description_tooltip": null,
            "layout": "IPY_MODEL_a4b02c3468794bc2a6b58d8c91e481bb",
            "placeholder": "​",
            "style": "IPY_MODEL_294d2049b8474a2e8f41a5dbb5f6e1ba",
            "value": "Downloading: 100%"
          }
        },
        "d7c320d662014b5e8c8abe39213a7117": {
          "model_module": "@jupyter-widgets/controls",
          "model_module_version": "1.5.0",
          "model_name": "HBoxModel",
          "state": {
            "_dom_classes": [],
            "_model_module": "@jupyter-widgets/controls",
            "_model_module_version": "1.5.0",
            "_model_name": "HBoxModel",
            "_view_count": null,
            "_view_module": "@jupyter-widgets/controls",
            "_view_module_version": "1.5.0",
            "_view_name": "HBoxView",
            "box_style": "",
            "children": [
              "IPY_MODEL_e0d5cfc03f894794afc80aae783a808f",
              "IPY_MODEL_3345bfde67f341f5bcc8cb7fdb3ca36b",
              "IPY_MODEL_1fd8b1f807f4471996e860f018272fcd"
            ],
            "layout": "IPY_MODEL_37b47ec9120b47b7a3ef396b28fe88f4"
          }
        },
        "d985b4f637a743d6bbdaa98dd2d04122": {
          "model_module": "@jupyter-widgets/controls",
          "model_module_version": "1.5.0",
          "model_name": "DescriptionStyleModel",
          "state": {
            "_model_module": "@jupyter-widgets/controls",
            "_model_module_version": "1.5.0",
            "_model_name": "DescriptionStyleModel",
            "_view_count": null,
            "_view_module": "@jupyter-widgets/base",
            "_view_module_version": "1.2.0",
            "_view_name": "StyleView",
            "description_width": ""
          }
        },
        "dbcd814dda5c4159af9394d156f9b738": {
          "model_module": "@jupyter-widgets/base",
          "model_module_version": "1.2.0",
          "model_name": "LayoutModel",
          "state": {
            "_model_module": "@jupyter-widgets/base",
            "_model_module_version": "1.2.0",
            "_model_name": "LayoutModel",
            "_view_count": null,
            "_view_module": "@jupyter-widgets/base",
            "_view_module_version": "1.2.0",
            "_view_name": "LayoutView",
            "align_content": null,
            "align_items": null,
            "align_self": null,
            "border": null,
            "bottom": null,
            "display": null,
            "flex": null,
            "flex_flow": null,
            "grid_area": null,
            "grid_auto_columns": null,
            "grid_auto_flow": null,
            "grid_auto_rows": null,
            "grid_column": null,
            "grid_gap": null,
            "grid_row": null,
            "grid_template_areas": null,
            "grid_template_columns": null,
            "grid_template_rows": null,
            "height": null,
            "justify_content": null,
            "justify_items": null,
            "left": null,
            "margin": null,
            "max_height": null,
            "max_width": null,
            "min_height": null,
            "min_width": null,
            "object_fit": null,
            "object_position": null,
            "order": null,
            "overflow": null,
            "overflow_x": null,
            "overflow_y": null,
            "padding": null,
            "right": null,
            "top": null,
            "visibility": null,
            "width": null
          }
        },
        "dd2c0fedff824f89b46c3527e5de409e": {
          "model_module": "@jupyter-widgets/controls",
          "model_module_version": "1.5.0",
          "model_name": "FloatProgressModel",
          "state": {
            "_dom_classes": [],
            "_model_module": "@jupyter-widgets/controls",
            "_model_module_version": "1.5.0",
            "_model_name": "FloatProgressModel",
            "_view_count": null,
            "_view_module": "@jupyter-widgets/controls",
            "_view_module_version": "1.5.0",
            "_view_name": "ProgressView",
            "bar_style": "success",
            "description": "",
            "description_tooltip": null,
            "layout": "IPY_MODEL_dbcd814dda5c4159af9394d156f9b738",
            "max": 445021143,
            "min": 0,
            "orientation": "horizontal",
            "style": "IPY_MODEL_7ccca3a04c954a37bbe0275e08254b26",
            "value": 445021143
          }
        },
        "e0d5cfc03f894794afc80aae783a808f": {
          "model_module": "@jupyter-widgets/controls",
          "model_module_version": "1.5.0",
          "model_name": "HTMLModel",
          "state": {
            "_dom_classes": [],
            "_model_module": "@jupyter-widgets/controls",
            "_model_module_version": "1.5.0",
            "_model_name": "HTMLModel",
            "_view_count": null,
            "_view_module": "@jupyter-widgets/controls",
            "_view_module_version": "1.5.0",
            "_view_name": "HTMLView",
            "description": "",
            "description_tooltip": null,
            "layout": "IPY_MODEL_281774e43e5147e8ad0146f839659dae",
            "placeholder": "​",
            "style": "IPY_MODEL_38ea52c547694f2792d286a93ea8ce82",
            "value": "Downloading: 100%"
          }
        },
        "f943a78de37948e9a36f246e9a2ea453": {
          "model_module": "@jupyter-widgets/base",
          "model_module_version": "1.2.0",
          "model_name": "LayoutModel",
          "state": {
            "_model_module": "@jupyter-widgets/base",
            "_model_module_version": "1.2.0",
            "_model_name": "LayoutModel",
            "_view_count": null,
            "_view_module": "@jupyter-widgets/base",
            "_view_module_version": "1.2.0",
            "_view_name": "LayoutView",
            "align_content": null,
            "align_items": null,
            "align_self": null,
            "border": null,
            "bottom": null,
            "display": null,
            "flex": null,
            "flex_flow": null,
            "grid_area": null,
            "grid_auto_columns": null,
            "grid_auto_flow": null,
            "grid_auto_rows": null,
            "grid_column": null,
            "grid_gap": null,
            "grid_row": null,
            "grid_template_areas": null,
            "grid_template_columns": null,
            "grid_template_rows": null,
            "height": null,
            "justify_content": null,
            "justify_items": null,
            "left": null,
            "margin": null,
            "max_height": null,
            "max_width": null,
            "min_height": null,
            "min_width": null,
            "object_fit": null,
            "object_position": null,
            "order": null,
            "overflow": null,
            "overflow_x": null,
            "overflow_y": null,
            "padding": null,
            "right": null,
            "top": null,
            "visibility": null,
            "width": null
          }
        }
      }
    }
  },
  "nbformat": 4,
  "nbformat_minor": 0
}